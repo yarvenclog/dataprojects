{
 "cells": [
  {
   "cell_type": "code",
   "execution_count": 3,
   "id": "cb2b147a-8056-4d60-915a-b7c8d2cd14d3",
   "metadata": {},
   "outputs": [],
   "source": [
    "import pandas as pd\n",
    "import numpy as np"
   ]
  },
  {
   "cell_type": "code",
   "execution_count": 4,
   "id": "239041a9-be9d-43cc-a731-648a80cb074e",
   "metadata": {},
   "outputs": [],
   "source": [
    "filenames = ['case note - unformatted',\n",
    "            'Class and Testing History - unformatted',\n",
    "            'Client Community Activity - unformatted',\n",
    "            'Client information (demographics and assessment) - unformatted',\n",
    "            'DDA Case info - unformatted','Employer contact history - unformatted',\n",
    "            'Employer placement hours - unformatted',\n",
    "            'Employer placement record - unformatted',\n",
    "            'Funding - unformatted',\n",
    "            'guardianship information - unformatted',\n",
    "            'individual work schedule (eval) - unformatted',\n",
    "            'Intake Wizard (intake application) - unformatted','Mentor availability - unformatted',\n",
    "            'outcome activity (case note) - unformatted',\n",
    "            'outcome area (case notes) - unformatted',\n",
    "            'outcome goal (goals) - unformatted',\n",
    "            'people - unformatted',\n",
    "            'profiles - unformatted',\n",
    "            'profiles - users - unformatted',\n",
    "            'Relationships (contacts) - unformatted',\n",
    "            'contacts - unformatted']"
   ]
  },
  {
   "cell_type": "code",
   "execution_count": 13,
   "id": "1b7fafc2-280c-4c42-ad6b-b78147839726",
   "metadata": {},
   "outputs": [],
   "source": [
    "pd.set_option('display.max_columns', None)\n",
    "# pd.set_option('display.max_rows', None)"
   ]
  },
  {
   "cell_type": "code",
   "execution_count": 159,
   "id": "9d77bbce-e83b-4b3f-9e5b-c8f78af31421",
   "metadata": {},
   "outputs": [],
   "source": [
    "pd.reset_option('display.max_columns', None)\n",
    "pd.reset_option('display.max_rows', None)"
   ]
  },
  {
   "cell_type": "markdown",
   "id": "edec1aed-bcdc-4b7a-8aec-d139ac9e3d0c",
   "metadata": {},
   "source": [
    "people is the highest source of truth for participants the ID associated with people is the id used in the individual\n",
    "\n",
    "people also holds contacts, the individual is the type for participants"
   ]
  },
  {
   "cell_type": "markdown",
   "id": "4b1e70ce-aa95-4328-a8ef-01c625577537",
   "metadata": {},
   "source": [
    "### This is the start of merging the individual people information into one big spreadsheet"
   ]
  },
  {
   "cell_type": "code",
   "execution_count": 5,
   "id": "d1e34f3e-d120-42f4-bdae-b0bf45f8f766",
   "metadata": {},
   "outputs": [],
   "source": [
    "file1 = pd.read_excel(r'redacted file path\\people - unformatted.xlsx')\n",
    "file1 = file1.add_prefix('people_')\n",
    "file2 = pd.read_excel(r'redacted file path\\Client information (demographics and assessment) - unformatted.xlsx')\n",
    "file2 = file2.add_prefix('demo_')"
   ]
  },
  {
   "cell_type": "code",
   "execution_count": 279,
   "id": "ecca3b0c-63d6-4712-8e90-ba13a2cde29d",
   "metadata": {},
   "outputs": [
    {
     "data": {
      "text/plain": [
       "Index(['people_ID', 'people_First Name', 'people_Full Name', 'people_Title',\n",
       "       'people_Forms Dropdowns', 'people_Created', 'people_Created By',\n",
       "       'people_Content Type', 'people_E-Mail', 'people_E-mail 2',\n",
       "       'people_Phone', 'people_Mobile Number', 'people_Professional Type',\n",
       "       'people_Comments', 'people_Filter', 'people_Folder Child Count',\n",
       "       'people_Item Child Count', 'people_Last Name', 'people_Modified',\n",
       "       'people_Modified By', 'people_Item Type', 'people_Path'],\n",
       "      dtype='object')"
      ]
     },
     "execution_count": 279,
     "metadata": {},
     "output_type": "execute_result"
    }
   ],
   "source": [
    "file1.columns"
   ]
  },
  {
   "cell_type": "code",
   "execution_count": 6,
   "id": "1e392005-9761-4ed6-9675-b42a7a1b1ee1",
   "metadata": {},
   "outputs": [],
   "source": [
    "merge1 = file1.merge(file2,how='left',left_on='people_Full Name',right_on='demo_Individual')\n",
    "merge2 = merge1[merge1['people_Forms Dropdowns']=='Individual']"
   ]
  },
  {
   "cell_type": "code",
   "execution_count": 7,
   "id": "032c1bd6-dc07-4ad6-bea3-e56abe06be84",
   "metadata": {},
   "outputs": [],
   "source": [
    "# merge2.to_excel(r'redacted file path\\people merge.xlsx')"
   ]
  },
  {
   "cell_type": "code",
   "execution_count": 8,
   "id": "164c98ae-de63-446f-bcce-fdd44dcb5fa8",
   "metadata": {},
   "outputs": [],
   "source": [
    "file3 = pd.read_excel(r'redacted file path\\profiles - unformatted.xlsx')\n",
    "file3 = file3.add_prefix('prof_')\n",
    "file4 = pd.read_excel(r'redacted file path\\Intake Wizard (intake application) - unformatted.xlsx')\n",
    "file4 = file4.add_prefix('intake_')"
   ]
  },
  {
   "cell_type": "code",
   "execution_count": 9,
   "id": "345395fd-9f51-469c-b1b1-16d19fe017da",
   "metadata": {
    "scrolled": true
   },
   "outputs": [],
   "source": [
    "merge3 = merge2.merge(file3,how='left',left_on='people_Full Name',right_on='prof_Person')\n",
    "# merge3 = merge3.drop(columns=['ID_x','Title','Forms Dropdowns','Created By','Content Type_x','ID_y','Content Type_y','View_x','View_y','Item Type_x','Item Type_y','Path','Path_x','Path_y','Item Type','Created_x','Created By_x','E-Mail_x'])\n",
    "# merge3.head(2)"
   ]
  },
  {
   "cell_type": "code",
   "execution_count": 10,
   "id": "62ad7308-5ae4-41d5-a7a9-08178ac8da80",
   "metadata": {
    "scrolled": true
   },
   "outputs": [],
   "source": [
    "# merge3.columns"
   ]
  },
  {
   "cell_type": "code",
   "execution_count": 11,
   "id": "c7dc2a85-c481-4e8c-acf2-2e29b8da10a6",
   "metadata": {
    "scrolled": true
   },
   "outputs": [
    {
     "name": "stdout",
     "output_type": "stream",
     "text": [
      "<class 'pandas.core.frame.DataFrame'>\n",
      "RangeIndex: 1532 entries, 0 to 1531\n",
      "Columns: 257 entries, people_ID to intake_Path\n",
      "dtypes: datetime64[ns](20), float64(47), int64(3), object(187)\n",
      "memory usage: 3.0+ MB\n"
     ]
    }
   ],
   "source": [
    "merge4 = merge3.merge(file4,how='left',left_on='people_Full Name',right_on='intake_Full Name')\n",
    "merge4.info()"
   ]
  },
  {
   "cell_type": "code",
   "execution_count": 12,
   "id": "1daca770-cfa8-46a5-bc3e-0f213ea8e9fb",
   "metadata": {},
   "outputs": [],
   "source": [
    "# add in dda information to the df\n",
    "\n",
    "ddacase = pd.read_excel(r'redacted file path\\DDA Case info - unformatted.xlsx')\n",
    "ddacase = ddacase.add_prefix('dda_')\n",
    "\n",
    "merge5 = merge4.merge(ddacase,how='left',left_on='intake_Client',right_on='dda_Individual')"
   ]
  },
  {
   "cell_type": "code",
   "execution_count": 13,
   "id": "3f2b3fd4-77c7-40a0-bf94-279f234f76ef",
   "metadata": {},
   "outputs": [],
   "source": [
    "# remove duplicates\n",
    "\n",
    "merge5 = merge5.drop_duplicates(subset=['people_First Name','people_Last Name'])"
   ]
  },
  {
   "cell_type": "code",
   "execution_count": 14,
   "id": "a3ba44f7-4915-4269-a797-22c55ddff5ff",
   "metadata": {},
   "outputs": [],
   "source": [
    "# remove any text (within parethesis) to standardize names\n",
    "\n",
    "merge5['people_First Name'] = merge5['people_First Name'].replace(r'\\(.*?\\)','',regex=True).str.strip()\n",
    "merge5['people_Last Name'] = merge5['people_Last Name'].replace(r'\\(.*?\\)','',regex=True).str.strip()\n",
    "\n",
    "merge5['people_First Name'] = merge5['people_First Name'].replace(r'\\\".*?\\\"','',regex=True).str.strip()\n",
    "merge5['people_Last Name'] = merge5['people_Last Name'].replace(r'\\\".*?\\\"','',regex=True).str.strip()"
   ]
  },
  {
   "cell_type": "code",
   "execution_count": 15,
   "id": "7ccfe497-1b76-44e9-8101-e7ca4688bfa0",
   "metadata": {},
   "outputs": [],
   "source": [
    "merge6 = merge5[~merge5['people_Full Name'].str.contains('test', case=False, na=False)].copy()"
   ]
  },
  {
   "cell_type": "code",
   "execution_count": 19,
   "id": "ebaa65e4-cad6-4432-8741-46f21d637b91",
   "metadata": {},
   "outputs": [],
   "source": [
    "from datetime import datetime"
   ]
  },
  {
   "cell_type": "code",
   "execution_count": 20,
   "id": "35c6f82a-9559-46fc-9bb5-8906f58a3872",
   "metadata": {
    "scrolled": true
   },
   "outputs": [],
   "source": [
    "merge6 = merge6[merge6['people_Modified'] >= datetime(2023,1,1)].copy()\n"
   ]
  },
  {
   "cell_type": "code",
   "execution_count": 307,
   "id": "20556de0-d6ec-42a2-88f7-d89b6d26a10b",
   "metadata": {},
   "outputs": [],
   "source": [
    "merge6.to_excel(r'redacted file path\\exports\\real people_merge2.xlsx')"
   ]
  },
  {
   "cell_type": "markdown",
   "id": "1bc5b165-ac1f-4636-a753-a55c6f16d9bc",
   "metadata": {},
   "source": [
    "#### Merge6 was changed to add in additional people"
   ]
  },
  {
   "cell_type": "code",
   "execution_count": 21,
   "id": "f6767e5d-9bf4-4835-b176-3951c006e6d2",
   "metadata": {},
   "outputs": [],
   "source": [
    "# added missing people to the merge6\n",
    "\n",
    "merge6 = pd.read_excel(r'redacted file path\\exports\\real people_merge2.xlsx')"
   ]
  },
  {
   "cell_type": "markdown",
   "id": "d644d996-1987-4ffe-a0ab-a61a54e9921d",
   "metadata": {},
   "source": [
    "#### Individual profile start"
   ]
  },
  {
   "cell_type": "code",
   "execution_count": 22,
   "id": "3c8f2674-f7eb-4231-a973-d14952d2960a",
   "metadata": {},
   "outputs": [
    {
     "name": "stdout",
     "output_type": "stream",
     "text": [
      "<class 'pandas.core.frame.DataFrame'>\n",
      "RangeIndex: 528 entries, 0 to 527\n",
      "Columns: 276 entries, people_ID to dda_Path\n",
      "dtypes: bool(1), datetime64[ns](22), float64(98), int64(6), object(149)\n",
      "memory usage: 1.1+ MB\n"
     ]
    }
   ],
   "source": [
    "merge6.info()"
   ]
  },
  {
   "cell_type": "code",
   "execution_count": 23,
   "id": "a6aeb7a1-073a-422a-86ec-3dc13de8a793",
   "metadata": {},
   "outputs": [],
   "source": [
    "# create a pseudo individual profiles import sheet\n",
    "\n",
    "individual = merge6[[\n",
    "    'people_First Name',\n",
    "    'people_Last Name',\n",
    "    'demo_Date of Birth',\n",
    "    'intake_Nickname',\n",
    "    'intake_Phone',\n",
    "    'intake_Email',\n",
    "    'intake_Address',\n",
    "    'intake_City',\n",
    "    'intake_State',\n",
    "    'intake_Zip Code:County',\n",
    "    'intake_Zip Code',\n",
    "    'intake_Guardian:',\n",
    "    'intake_Guardian: email',\n",
    "    'intake_Guardian: First Name',\n",
    "    'intake_Guardian: Last Name',\n",
    "    'intake_Guardian: Mobile Phone',\n",
    "    'intake_Guardian: Phone',\n",
    "    'intake_Guardian: Status',\n",
    "    'dda_DDA Case File Number',\n",
    "    'dda_Funding Code',\n",
    "    'dda_Acuity Level',\n",
    "    'intake_Orion Location'\n",
    "]]"
   ]
  },
  {
   "cell_type": "code",
   "execution_count": 24,
   "id": "0c40ed3e-2df1-42af-82eb-3b2b3ae092bd",
   "metadata": {},
   "outputs": [],
   "source": [
    "# format the individual profile \n",
    "individual = individual.copy()\n",
    "individual['Guardian info'] = individual['intake_Guardian: email']+' '+individual['intake_Guardian: First Name']+' '+individual['intake_Guardian: Last Name']+' '+individual['intake_Guardian: Phone']+' '+individual['intake_Guardian: Mobile Phone']+' '+individual['intake_Guardian: Status']\n",
    "\n",
    "individual2 = individual.drop(columns=['intake_Guardian: email','intake_Guardian: First Name','intake_Guardian: Last Name','intake_Guardian: Phone','intake_Guardian: Mobile Phone','intake_Guardian: Status']).copy()\n",
    "individual2['intake_Orion Location'] = individual2['intake_Orion Location'].replace('Auburn',1174)\n",
    "individual2['intake_Orion Location'] = individual2['intake_Orion Location'].replace('Mukilteo',2870)\n",
    "\n",
    "individual2['migrationID'] = range(1,len(individual) + 1)"
   ]
  },
  {
   "cell_type": "code",
   "execution_count": 25,
   "id": "d884e9af-3c49-4650-bb9f-4ac7ce99ed6e",
   "metadata": {},
   "outputs": [],
   "source": [
    "# from datetime import datetime\n",
    "\n",
    "individual2['demo_Date of Birth'] = individual2['demo_Date of Birth'].fillna('1/1/1800')"
   ]
  },
  {
   "cell_type": "code",
   "execution_count": 393,
   "id": "2920dc7f-06ea-4e05-88fd-d45711566339",
   "metadata": {},
   "outputs": [
    {
     "name": "stdout",
     "output_type": "stream",
     "text": [
      "<class 'pandas.core.frame.DataFrame'>\n",
      "RangeIndex: 528 entries, 0 to 527\n",
      "Data columns (total 18 columns):\n",
      " #   Column                    Non-Null Count  Dtype  \n",
      "---  ------                    --------------  -----  \n",
      " 0   people_First Name         528 non-null    object \n",
      " 1   people_Last Name          528 non-null    object \n",
      " 2   demo_Date of Birth        528 non-null    object \n",
      " 3   intake_Nickname           75 non-null     object \n",
      " 4   intake_Phone              438 non-null    object \n",
      " 5   intake_Email              389 non-null    object \n",
      " 6   intake_Address            438 non-null    object \n",
      " 7   intake_City               444 non-null    object \n",
      " 8   intake_State              456 non-null    object \n",
      " 9   intake_Zip Code:County    417 non-null    object \n",
      " 10  intake_Zip Code           428 non-null    float64\n",
      " 11  intake_Guardian:          456 non-null    float64\n",
      " 12  dda_DDA Case File Number  34 non-null     float64\n",
      " 13  dda_Funding Code          32 non-null     object \n",
      " 14  dda_Acuity Level          25 non-null     object \n",
      " 15  intake_Orion Location     456 non-null    float64\n",
      " 16  Guardian info             3 non-null      object \n",
      " 17  migrationID               528 non-null    int64  \n",
      "dtypes: float64(4), int64(1), object(13)\n",
      "memory usage: 74.4+ KB\n"
     ]
    }
   ],
   "source": [
    "individual2.info()"
   ]
  },
  {
   "cell_type": "code",
   "execution_count": 394,
   "id": "011b95c8-f532-41c4-930a-83237eb98caa",
   "metadata": {},
   "outputs": [],
   "source": [
    "individual2.to_excel(r'redacted file path\\exports\\real individual profile2.xlsx')"
   ]
  },
  {
   "cell_type": "markdown",
   "id": "145a549f-4ef4-4050-b786-8a6f91bfca6d",
   "metadata": {},
   "source": [
    "#### individual done"
   ]
  },
  {
   "cell_type": "markdown",
   "id": "f244193a-177b-41c9-93a1-4a0d16c86fa5",
   "metadata": {},
   "source": [
    "#### demographics start"
   ]
  },
  {
   "cell_type": "code",
   "execution_count": 26,
   "id": "802d0d89-a4bb-4b5b-bd45-fb0882d1da7f",
   "metadata": {},
   "outputs": [],
   "source": [
    "demo = merge6[[\n",
    "    'people_First Name',\n",
    "    'people_Last Name',\n",
    "    'demo_Date of Birth',\n",
    "    'prof_Created',\n",
    "    'demo_Gender',\n",
    "    'demo_Ethnicity',\n",
    "    'demo_Language Primary',\n",
    "    'demo_Language Spoken',\n",
    "    'demo_Marital Status',\n",
    "    'demo_Veteran Status',\n",
    "    'demo_Head Of Household',\n",
    "    'demo_Living Situation',\n",
    "    'demo_Immigrant and Refugee Status',\n",
    "    'intake_Orion Location'\n",
    "]].copy()\n",
    "\n",
    "demo['intake_Orion Location'] = demo['intake_Orion Location'].replace('Auburn',1174)\n",
    "demo['intake_Orion Location'] = demo['intake_Orion Location'].replace('Mukilteo',2870)"
   ]
  },
  {
   "cell_type": "code",
   "execution_count": 27,
   "id": "285df2db-ac9c-4e4d-bee8-1f0a24672065",
   "metadata": {},
   "outputs": [
    {
     "data": {
      "text/plain": [
       "demo_Gender\n",
       "Male       335\n",
       "Female     171\n",
       "Trans        6\n",
       "Other        2\n",
       "Unknown      1\n",
       "Name: count, dtype: int64"
      ]
     },
     "execution_count": 27,
     "metadata": {},
     "output_type": "execute_result"
    }
   ],
   "source": [
    "demo['demo_Gender'].value_counts()"
   ]
  },
  {
   "cell_type": "code",
   "execution_count": 28,
   "id": "9b0e707b-3a49-4a5d-badf-f5961aa6d2a0",
   "metadata": {},
   "outputs": [],
   "source": [
    "demo.loc[:,'demo_Gender'] = demo['demo_Gender'].str.replace('Trans','Transgender')"
   ]
  },
  {
   "cell_type": "code",
   "execution_count": 29,
   "id": "4840a820-fc52-4fca-b3e4-f3e875f1cd9c",
   "metadata": {},
   "outputs": [],
   "source": [
    "demo.loc[:,'demo_Ethnicity'] = demo['demo_Ethnicity'].replace(r';#\\d{2}','|',regex=True)\n",
    "demo.loc[:,'demo_Ethnicity'] = demo['demo_Ethnicity'].str.rstrip('|')\n",
    "demo.loc[:,'demo_Ethnicity'] = demo['demo_Ethnicity'].str.replace(';#','')"
   ]
  },
  {
   "cell_type": "code",
   "execution_count": 30,
   "id": "6c4bde67-6c7b-4c33-8051-945839c7f2c6",
   "metadata": {},
   "outputs": [],
   "source": [
    "demo.loc[:,'demo_Ethnicity'] = demo['demo_Ethnicity'].str.replace('Hawaiin','Hawaiian')\n",
    "demo.loc[:,'demo_Ethnicity'] = demo['demo_Ethnicity'].str.replace('African American / Black','Black / African American')\n",
    "demo.loc[:,'demo_Ethnicity'] = demo['demo_Ethnicity'].str.replace('Multi-Racial','Other')"
   ]
  },
  {
   "cell_type": "code",
   "execution_count": 31,
   "id": "a912cec5-6539-4566-bd0d-6a5b83af88ce",
   "metadata": {},
   "outputs": [],
   "source": [
    "demo['demo_Language Primary'] = demo['demo_Language Primary'].str.replace('Other (please specify)','Other')"
   ]
  },
  {
   "cell_type": "code",
   "execution_count": 32,
   "id": "a9281ab5-86a0-4274-9a57-7143b0b4248a",
   "metadata": {},
   "outputs": [],
   "source": [
    "mar_rep = {'Divorced':'Single','Separated':'Single','Widowed':'Single'}\n",
    "\n",
    "demo['demo_Marital Status'] = demo['demo_Marital Status'].replace(mar_rep)"
   ]
  },
  {
   "cell_type": "code",
   "execution_count": 33,
   "id": "7748ca48-3c02-4cdd-a00a-12c714a36d77",
   "metadata": {},
   "outputs": [],
   "source": [
    "vet_rep = {\n",
    "    'Current Active Duty, Guard, Reserves or Veteran':'Currently AD, Guard, Reserves or Veteran',\n",
    "    'Veteran - Present or Past ':'Currently AD, Guard, Reserves or Veteran',\n",
    "    'Partner or Spouse of Active Service Member':'Partner or Spouse of Active Service Member/Veteran',\n",
    "    'Minor Dependent of Active Service Member':'None'\n",
    "}\n",
    "\n",
    "demo['demo_Veteran Status'] = demo['demo_Veteran Status'].replace(vet_rep)\n",
    "demo['demo_Veteran Status'] = demo['demo_Veteran Status'].fillna('None')"
   ]
  },
  {
   "cell_type": "code",
   "execution_count": 34,
   "id": "5e12427e-f113-44f2-b8fd-dc9cc9f7a237",
   "metadata": {},
   "outputs": [],
   "source": [
    "head_rep = {\n",
    "    False:'No',\n",
    "    True:'Yes'\n",
    "}\n",
    "\n",
    "demo['demo_Head Of Household'] = demo['demo_Head Of Household'].replace(head_rep)\n",
    "demo['demo_Head Of Household'] = demo['demo_Head Of Household'].fillna('Unknown')"
   ]
  },
  {
   "cell_type": "code",
   "execution_count": 35,
   "id": "71ba1cf4-7203-458b-ad10-ca48692092c8",
   "metadata": {},
   "outputs": [],
   "source": [
    "im_rep = {\n",
    "    'Immigrant':'Immigrant status',\n",
    "    'Refugee':'Refugee Status',\n",
    "    'Unknown;#None':'Neither'\n",
    "}\n",
    "\n",
    "demo['demo_Immigrant and Refugee Status'] = demo['demo_Immigrant and Refugee Status'].replace(im_rep)\n",
    "demo['demo_Immigrant and Refugee Status'] = demo['demo_Immigrant and Refugee Status'].fillna('Neither')"
   ]
  },
  {
   "cell_type": "code",
   "execution_count": 36,
   "id": "c6dd04b0-af84-4ec6-a3d8-d281f513119d",
   "metadata": {},
   "outputs": [],
   "source": [
    "liverep = {\n",
    "    'Homeless':'Homeless / Unhoused',\n",
    "    'Independently / with Spouse or Partner':'Alone or with Spouse / Partner',\n",
    "    'Other permanent housing (CSBG data)':'Other',\n",
    "    'Own (CSBG data)':'Alone or with Spouse / Partner',\n",
    "    'Rent (CSBG data)':'Alone or with Spouse / Partner',\n",
    "    'Transitional / Temporary Housing':'Temporary/Transitional Housing',\n",
    "    'With Parents':'With Parents or other/extended family',\n",
    "    'With Extended Family':'With Parents or other/extended family'\n",
    "}\n",
    "\n",
    "demo['demo_Living Situation'] = demo['demo_Living Situation'].replace(liverep)\n",
    "demo['demo_Living Situation'] = demo['demo_Living Situation'].fillna('Unknown')"
   ]
  },
  {
   "cell_type": "code",
   "execution_count": 37,
   "id": "c65f2af7-b161-4403-b5ac-9f33928e9f45",
   "metadata": {},
   "outputs": [
    {
     "data": {
      "text/plain": [
       "demo_Head Of Household\n",
       "0.0        479\n",
       "1.0         39\n",
       "Unknown     10\n",
       "Name: count, dtype: int64"
      ]
     },
     "execution_count": 37,
     "metadata": {},
     "output_type": "execute_result"
    }
   ],
   "source": [
    "demo['demo_Head Of Household'].value_counts()"
   ]
  },
  {
   "cell_type": "code",
   "execution_count": 38,
   "id": "f943c28b-1c87-4482-b042-88d59d170c1f",
   "metadata": {
    "scrolled": true
   },
   "outputs": [],
   "source": [
    "headrep = {\n",
    "    0:'No',\n",
    "    1:'Yes'\n",
    "}\n",
    "\n",
    "demo['demo_Head Of Household'] = demo['demo_Head Of Household'].replace(headrep)"
   ]
  },
  {
   "cell_type": "code",
   "execution_count": 39,
   "id": "3a97ddd6-76d9-49f7-ad4a-617c7da38eaa",
   "metadata": {},
   "outputs": [],
   "source": [
    "demo['migrationID'] = range(1,len(demo) + 1)"
   ]
  },
  {
   "cell_type": "code",
   "execution_count": 409,
   "id": "4cd67c5e-dadf-47ab-bec4-027a704e7999",
   "metadata": {},
   "outputs": [],
   "source": [
    "demo.to_excel(r'redacted file path\\exports\\real demographics2.xlsx')"
   ]
  },
  {
   "cell_type": "code",
   "execution_count": null,
   "id": "2c80d397-c4f9-499f-ae55-0be0a1bbbe80",
   "metadata": {},
   "outputs": [],
   "source": []
  },
  {
   "cell_type": "markdown",
   "id": "6ad8186b-8d67-445c-b117-60f3317e41af",
   "metadata": {},
   "source": [
    "#### Demographics done"
   ]
  },
  {
   "cell_type": "markdown",
   "id": "e26a61bf-a166-44d5-bafc-e984896acb84",
   "metadata": {},
   "source": [
    "#### Intake Assessment start"
   ]
  },
  {
   "cell_type": "code",
   "execution_count": 41,
   "id": "2f8d39af-cc99-459a-a3fa-8a098ff85428",
   "metadata": {},
   "outputs": [
    {
     "name": "stdout",
     "output_type": "stream",
     "text": [
      "people_ID\n",
      "people_First Name\n",
      "people_Full Name\n",
      "people_Title\n",
      "people_Forms Dropdowns\n",
      "people_Created\n",
      "people_Created By\n",
      "people_Content Type\n",
      "people_E-Mail\n",
      "people_E-mail 2\n",
      "people_Phone\n",
      "people_Mobile Number\n",
      "people_Professional Type\n",
      "people_Comments\n",
      "people_Filter\n",
      "people_Folder Child Count\n",
      "people_Item Child Count\n",
      "people_Last Name\n",
      "people_Modified\n",
      "people_Modified By\n",
      "people_Item Type\n",
      "people_Path\n",
      "demo_ID\n",
      "demo_Individual\n",
      "demo_Preferred Names\n",
      "demo_Date of Birth\n",
      "demo_Gender\n",
      "demo_Disability - Primary\n",
      "demo_Disabilities - Additional\n",
      "demo_Disability / Barrier Notes:\n",
      "demo_Date of Last Employment\n",
      "demo_Smoker?\n",
      "demo_Veteran - Discharge Date and Disposition\n",
      "demo_If homeless, for how long?\n",
      "demo_If homeless, last city of residence\n",
      "demo_Emergency Contact Name\n",
      "demo_Emergency Contact Number\n",
      "demo_Emergency Contact Relationship\n",
      "demo_Household Size\n",
      "demo_Household Type\n",
      "demo_Health Insurance\n",
      "demo_Aboriginal Status\n",
      "demo_Agency Exit Date\n",
      "demo_Agency Intake Date\n",
      "demo_Allergies\n",
      "demo_Alt. Telephone Number\n",
      "demo_Benefits\n",
      "demo_Bladder & Bowel Functions\n",
      "demo_City\n",
      "demo_Clothing (Last Seen Wearing)\n",
      "demo_Communication Level\n",
      "demo_Communication Support\n",
      "demo_Content Type\n",
      "demo_Coordinator\n",
      "demo_Coordinator's Cell Number\n",
      "demo_Country\n",
      "demo_Created\n",
      "demo_Created By\n",
      "demo_Criminal History\n",
      "demo_Daily Living Support\n",
      "demo_DDA Case File Number (if applicable)\n",
      "demo_Diet/Nutrition\n",
      "demo_Education Level\n",
      "demo_E-mail Address\n",
      "demo_Ethnicity\n",
      "demo_Eye Colour\n",
      "demo_Folder Child Count\n",
      "demo_Hair Colour\n",
      "demo_Head Of Household\n",
      "demo_Health Care Plan Number\n",
      "demo_Health Concerns\n",
      "demo_Height\n",
      "demo_Household Income\n",
      "demo_If clean and sober housing, how long?\n",
      "demo_Immigrant and Refugee Status\n",
      "demo_Item Child Count\n",
      "demo_Language Primary\n",
      "demo_Language Spoken\n",
      "demo_Living Situation\n",
      "demo_Marital Status\n",
      "demo_Medications and Conditions\n",
      "demo_MISSING PERSON POSTER\n",
      "demo_Mobility Aids\n",
      "demo_Modified\n",
      "demo_Modified By\n",
      "demo_Number of Dependents\n",
      "demo_Office Number\n",
      "demo_Orion ID Number\n",
      "demo_Other I.D. Numbers\n",
      "demo_Personal Hygiene\n",
      "demo_Pertinent Information\n",
      "demo_Photo\n",
      "demo_Postal Code\n",
      "demo_Province\n",
      "demo_Safety Requirement\n",
      "demo_Sleep Patterns\n",
      "demo_Social Insurance Number\n",
      "demo_Special Characteristics\n",
      "demo_Special Education History\n",
      "demo_Street Address\n",
      "demo_Telephone Number\n",
      "demo_Transportation\n",
      "demo_Veteran Status\n",
      "demo_View\n",
      "demo_Visual/Hearing Aids\n",
      "demo_Weight\n",
      "demo_Work Restrictions\n",
      "demo_Work Restrictions Details\n",
      "demo_Item Type\n",
      "demo_Path\n",
      "prof_ID\n",
      "prof_Person\n",
      "prof_Content Type\n",
      "prof_Programs\n",
      "prof_Organization\n",
      "prof_State\n",
      "prof_City\n",
      "prof_ZIP Code\n",
      "prof_Active\n",
      "prof_Address\n",
      "prof_Anonymous\n",
      "prof_Became Donor On\n",
      "prof_Board Position\n",
      "prof_Case Worker\n",
      "prof_Charitable Interest\n",
      "prof_Checkbox Column 1\n",
      "prof_Checkbox Column 2\n",
      "prof_Choice Column 1\n",
      "prof_Choice Column 2\n",
      "prof_Choice Column 3\n",
      "prof_Choice Column 4\n",
      "prof_Choice Column 5\n",
      "prof_Comments\n",
      "prof_Comments Column 1\n",
      "prof_Comments Column 2\n",
      "prof_Country\n",
      "prof_Created\n",
      "prof_Created By\n",
      "prof_Date Column 1\n",
      "prof_Date Column 2\n",
      "prof_Donor Motivation\n",
      "prof_E-Mail\n",
      "prof_Email Lists\n",
      "prof_Folder Child Count\n",
      "prof_Item Child Count\n",
      "prof_Job Title\n",
      "prof_Link Column 1\n",
      "prof_Link Column 2\n",
      "prof_Mailing Address\n",
      "prof_Mailing City\n",
      "prof_Mailing Country\n",
      "prof_Mailing Lists\n",
      "prof_Mailing State\n",
      "prof_Mailing ZIP Code\n",
      "prof_Membership Type\n",
      "prof_Mobile Phone\n",
      "prof_Modified\n",
      "prof_Modified By\n",
      "prof_Number Column 1\n",
      "prof_Number Column 2\n",
      "prof_Permissions Set\n",
      "prof_Personal Interest\n",
      "prof_Phone\n",
      "prof_Phone 2\n",
      "prof_Photo\n",
      "prof_Professional Type\n",
      "prof_Residence\n",
      "prof_Set Show Programs and Residences - disabled\n",
      "prof_Show Programs\n",
      "prof_Show Residence\n",
      "prof_Text Column 1\n",
      "prof_Text Column 3\n",
      "prof_Text Column 4\n",
      "prof_Text Column 5\n",
      "prof_View\n",
      "prof_Volunteer Position\n",
      "prof_Web Page\n",
      "prof_Item Type\n",
      "prof_Path\n",
      "intake_Client\n",
      "intake_Full Name\n",
      "intake_Nickname\n",
      "intake_Address\n",
      "intake_Phone\n",
      "intake_City\n",
      "intake_Orion Location\n",
      "intake_Start Date\n",
      "intake_Referral Details: Service\n",
      "intake_Complete Client Intake Process\n",
      "intake_IntakeWizardCompleted\n",
      "intake_Processing details: Completed Winning Traits\n",
      "intake_Processing details: Funding and Project Eligibility\n",
      "intake_Status of Intake\n",
      "intake_T&E staff assignment\n",
      "intake_Processing Details: Date Completed Winning Traits (if applicable)\n",
      "intake_Processing details: If no, is there a funding source?\n",
      "intake_Referral details: Referral Source\n",
      "intake_Assigned to Venue\n",
      "intake_Content Type\n",
      "intake_Created\n",
      "intake_Created By\n",
      "intake_Date of Intake\n",
      "intake_Date of Referral\n",
      "intake_Date of Tour\n",
      "intake_Email\n",
      "intake_First Name\n",
      "intake_Folder Child Count\n",
      "intake_Guardian:\n",
      "intake_Guardian: email\n",
      "intake_Guardian: First Name\n",
      "intake_Guardian: Last Name\n",
      "intake_Guardian: Mobile Phone\n",
      "intake_Guardian: Name\n",
      "intake_Guardian: Phone\n",
      "intake_Guardian: Status\n",
      "intake_Header  - Administration Only\n",
      "intake_Header - Admin complete process\n",
      "intake_Header - fill in Guardian details\n",
      "intake_Header - Guardianship Details\n",
      "intake_Header - Referral Details\n",
      "intake_Header Guardian 1\n",
      "intake_Header Processing Details\n",
      "intake_Header Section - Add client\n",
      "intake_Heading - personal info\n",
      "intake_ID\n",
      "intake_Intake Admin Notes\n",
      "intake_Intake Program\n",
      "intake_Item Child Count\n",
      "intake_Last Name\n",
      "intake_Modified\n",
      "intake_Modified By\n",
      "intake_Preferred Shifts\n",
      "intake_Processing details:\n",
      "intake_Processing details: Closed\n",
      "intake_Processing details: Criminal History Check\n",
      "intake_Processing details: Date Closed\n",
      "intake_Processing details: Date of Approval\n",
      "intake_Processing details: Drug Screen Date\n",
      "intake_Processing details: Drug Screen Results\n",
      "intake_Processing details: Funding Source Same as Referral Source?\n",
      "intake_Processing details: notes\n",
      "intake_Processing details: Staff\n",
      "intake_Referral Contact:First Name\n",
      "intake_Referral Contact:Last Name\n",
      "intake_Referral details:\n",
      "intake_Referral details: Contact\n",
      "intake_Referral details: Information Received\n",
      "intake_Shift\n",
      "intake_Shift Notes\n",
      "intake_State\n",
      "intake_Title\n",
      "intake_Venues\n",
      "intake_Zip Code\n",
      "intake_Zip Code:City\n",
      "intake_Zip Code:County\n",
      "intake_Item Type\n",
      "intake_Path\n",
      "dda_Individual\n",
      "dda_Date\n",
      "dda_DDA Case File Number\n",
      "dda_Funding Code\n",
      "dda_Acuity Level\n",
      "dda_End Date\n",
      "dda_Date of Annual Plan\n",
      "dda_6 Month Review Due Date\n",
      "dda_Content Type\n",
      "dda_Created\n",
      "dda_Created By\n",
      "dda_Folder Child Count\n",
      "dda_ID\n",
      "dda_Item Child Count\n",
      "dda_Modified\n",
      "dda_Modified By\n",
      "dda_Title\n",
      "dda_Item Type\n",
      "dda_Path\n"
     ]
    }
   ],
   "source": [
    "for row in merge6:\n",
    "    print(row)"
   ]
  },
  {
   "cell_type": "code",
   "execution_count": 43,
   "id": "8602a09c-cc83-4444-be47-26fa047658c9",
   "metadata": {},
   "outputs": [],
   "source": [
    "intassess = merge6[[\n",
    "    'people_First Name',\n",
    "    'people_Last Name',\n",
    "    'demo_Date of Birth',\n",
    "    'demo_Education Level',\n",
    "    'demo_Special Education History',\n",
    "    'demo_Transportation',\n",
    "    'demo_Allergies',\n",
    "    'demo_Disability - Primary',\n",
    "    'demo_Disabilities - Additional',\n",
    "    'demo_Medications and Conditions',\n",
    "    'demo_Criminal History',\n",
    "    'demo_Smoker?',\n",
    "    'demo_Household Income',\n",
    "    'demo_Benefits',\n",
    "    'demo_Health Insurance',\n",
    "    'intake_Orion Location'\n",
    "]].copy()\n",
    "\n",
    "intassess['intake_Orion Location'] = intassess['intake_Orion Location'].replace('Auburn',1174)\n",
    "intassess['intake_Orion Location'] = intassess['intake_Orion Location'].replace('Mukilteo',2870)"
   ]
  },
  {
   "cell_type": "markdown",
   "id": "920719e3-cf34-4a06-9d1a-dbb5065a1935",
   "metadata": {},
   "source": [
    "steps to do:\n",
    "\n",
    "- yes/no for allergies\n",
    "- yes/no for each mental disability\n",
    "- yes/no for criminal history\n",
    "- yes/no for household income"
   ]
  },
  {
   "cell_type": "code",
   "execution_count": 44,
   "id": "913686ce-753f-4b52-9886-409bfeda613f",
   "metadata": {},
   "outputs": [],
   "source": [
    "# create a column of disabilities and combine them together\n",
    "\n",
    "intassess['disabilities'] = intassess['demo_Disability - Primary'] +' '+ intassess['demo_Disabilities - Additional']\n",
    "intassess['disabilities'] = intassess['disabilities'].astype(str)"
   ]
  },
  {
   "cell_type": "code",
   "execution_count": 45,
   "id": "ba56fb14-3ff9-416b-9455-5e56841292d2",
   "metadata": {},
   "outputs": [],
   "source": [
    "# add in a column for yes/no if they have a disability\n",
    "\n",
    "mentallist = ['Depression','Anxiety','PTSD','ADHD','Substance Abuse','Learning Disability']\n",
    "\n",
    "for i in mentallist:\n",
    "    intassess[i] = intassess['disabilities'].apply(lambda x: 'Yes' if i in x else 'No')"
   ]
  },
  {
   "cell_type": "code",
   "execution_count": 46,
   "id": "b06719cc-3de0-4cfb-8d0f-76cdb011ffb7",
   "metadata": {},
   "outputs": [],
   "source": [
    "edurep = {\n",
    "    'No High School Diploma / GED':'No HS Diploma - Under 12th grade education',\n",
    "    'In High School':'HS Diploma',\n",
    "    'High School Diploma':'HS Diploma',\n",
    "    'Graduated - In High School':'HS Diploma',\n",
    "    'Some College / Technical School (no certificate / diploma)':'Some post high school',\n",
    "    'Masters (or beyond)':'Masters and above',\n",
    "    'Certificate':'Certificate - 2 years or less'\n",
    "}\n",
    "\n",
    "intassess['demo_Education Level'] = intassess['demo_Education Level'].replace(edurep)"
   ]
  },
  {
   "cell_type": "code",
   "execution_count": 47,
   "id": "294ecbbb-eafe-44c9-8fa1-56570cc28056",
   "metadata": {},
   "outputs": [
    {
     "data": {
      "text/plain": [
       "demo_Transportation\n",
       "Car               208\n",
       "Public Transit    171\n",
       "Para-transit       39\n",
       "Ride               28\n",
       "Other              14\n",
       "School Bus         10\n",
       "Unknown             4\n",
       "Bike                3\n",
       "Name: count, dtype: int64"
      ]
     },
     "execution_count": 47,
     "metadata": {},
     "output_type": "execute_result"
    }
   ],
   "source": [
    "intassess['demo_Transportation'].value_counts()"
   ]
  },
  {
   "cell_type": "code",
   "execution_count": 48,
   "id": "3957dbe7-de03-422b-9ca8-ef3dd97572d0",
   "metadata": {},
   "outputs": [],
   "source": [
    "transrep = {\n",
    "    'Car':'Driving Myself',\n",
    "    'Public Transit':'Public Transportation',\n",
    "    'Para-transit':'Paratransit',\n",
    "    'Unknown':'Other'\n",
    "}\n",
    "\n",
    "intassess['demo_Transportation'] = intassess['demo_Transportation'].replace(transrep)"
   ]
  },
  {
   "cell_type": "markdown",
   "id": "df50d3b9-1e5f-42a0-9ee4-ab209a203067",
   "metadata": {},
   "source": [
    "#### Intake Assessment done"
   ]
  },
  {
   "cell_type": "markdown",
   "id": "bd369d5d-ad6c-4b3b-84b8-9b09f274d1d4",
   "metadata": {},
   "source": [
    "### Start of people index "
   ]
  },
  {
   "cell_type": "code",
   "execution_count": 49,
   "id": "f891cf53-94fa-43b1-bda9-be0a1ac6da91",
   "metadata": {
    "scrolled": true
   },
   "outputs": [],
   "source": [
    "peeps = pd.read_csv(r'redacted file path\\for import\\IndividualProfile import1 reviewed.csv')\n",
    "peeps = peeps.drop(index=0)\n",
    "peeps2 = peeps[['field_3436_first','field_3436_middle','field_3436_last','field_3195']].copy()\n",
    "sep=','\n",
    "peeps2['Individual'] = peeps['field_3436_last'].astype(str)+ sep + peeps['field_3436_first'].astype(str)"
   ]
  },
  {
   "cell_type": "code",
   "execution_count": 50,
   "id": "af8b1b60-80dd-4e73-8db2-b77e4479d360",
   "metadata": {
    "scrolled": true
   },
   "outputs": [],
   "source": [
    "peeps3 = peeps2.drop_duplicates(subset=['field_3436_first','field_3436_middle','field_3436_last','field_3195'])"
   ]
  },
  {
   "cell_type": "markdown",
   "id": "8732377c-0bdb-4f41-833c-e2039a2daa91",
   "metadata": {},
   "source": [
    "### Evaluation Merge"
   ]
  },
  {
   "cell_type": "code",
   "execution_count": 51,
   "id": "d60b5a43-148b-48d0-8c07-f64d1a35ab23",
   "metadata": {},
   "outputs": [],
   "source": [
    "eval_list = ['eval - clampblock - unformatted', \n",
    "             'eval - custodial - unformatted', \n",
    "             'eval - finish - unformatted',  \n",
    "             'eval - front desk - unformatted',\n",
    "             'eval - grommets - unformatted',\n",
    "             'eval - HBU - unformatted',\n",
    "             'eval - machining cell - unformatted',\n",
    "             'eval - Manufacturing office - unformatted',\n",
    "             'eval - mechanical assembly - unformatted',\n",
    "             'eval - mukilteo assembly - unformatted',\n",
    "             'eval - mukilteo shipping and recieving - unformatted',\n",
    "             'eval - mukilteo wires - unformatted',\n",
    "             # 'eval - office skills - unformatted',\n",
    "             'eval - QA - unformatted',\n",
    "             'eval - sheet metal- unformatted',\n",
    "             'eval - shipping and recieving - unformatted'#,\n",
    "             # 'eval - soft skills - unformatted'\n",
    "]\n"
   ]
  },
  {
   "cell_type": "code",
   "execution_count": 52,
   "id": "cd938e6d-30b6-4593-bf6f-8471b21850c5",
   "metadata": {},
   "outputs": [
    {
     "name": "stdout",
     "output_type": "stream",
     "text": [
      "eval - clampblock - unformatted has ID\n",
      "eval - custodial - unformatted has ID\n",
      "eval - finish - unformatted has ID\n",
      "eval - front desk - unformatted has ID\n",
      "eval - grommets - unformatted has ID\n",
      "eval - HBU - unformatted has ID\n",
      "eval - machining cell - unformatted has ID\n",
      "eval - Manufacturing office - unformatted has ID\n",
      "eval - mechanical assembly - unformatted has ID\n",
      "eval - mukilteo assembly - unformatted has ID\n",
      "eval - mukilteo shipping and recieving - unformatted has ID\n",
      "eval - mukilteo wires - unformatted has ID\n",
      "eval - QA - unformatted has ID\n",
      "eval - sheet metal- unformatted has ID\n",
      "eval - shipping and recieving - unformatted has ID\n"
     ]
    }
   ],
   "source": [
    "for i in eval_list:\n",
    "    # establish the file path and file name\n",
    "    path = 'redacted file path/'+i+'.xlsx'\n",
    "    \n",
    "    # set the dataframe to a list to access later\n",
    "    df = pd.read_excel(path)\n",
    "\n",
    "    if 'EvaluationSoftSkillsID' in df.columns:\n",
    "        print(i+' has ID')\n",
    "    else:\n",
    "        print(i+' no ID')"
   ]
  },
  {
   "cell_type": "code",
   "execution_count": 53,
   "id": "5a2f2d60-5234-455a-b923-5f23055b2189",
   "metadata": {
    "scrolled": true
   },
   "outputs": [],
   "source": [
    "# set all evals to a list to iterat through later\n",
    "\n",
    "eval_df = pd.DataFrame()\n",
    "\n",
    "softskills = pd.read_excel('redacted file path/eval - soft skills - unformatted.xlsx')\n",
    "softskills = softskills.add_suffix('_soft')\n",
    "\n",
    "for i in eval_list:\n",
    "    \n",
    "    # establish the file path and file name\n",
    "    path = 'redacted file path/'+i+'.xlsx'\n",
    "    \n",
    "    # set the dataframe to a list to access later\n",
    "    df = pd.read_excel(path)\n",
    "\n",
    "    # remove repetitive columns\n",
    "    df = df.drop(columns=['Title','Item Type','Path','Folder Child Count','Created By','Content Type',])\n",
    "    \n",
    "    # remove the (###) from the individual name\n",
    "    df.loc[:,'Individual'] = df['Individual'].replace(r'\\b\\d{1,4};#','',regex=True)\n",
    "\n",
    "    # remove test case rows\n",
    "    df = df[~df['Individual'].str.contains('test', case=False, na=False)].copy()\n",
    "\n",
    "    # remove any text (within parethesis) to standardize names\n",
    "    df.loc[:,'Individual'] = df['Individual'].replace(r'\\(.*?\\)','',regex=True).str.strip()\n",
    "\n",
    "    df = df.merge(softskills,how='left',left_on=['EvaluationSoftSkillsID','Individual','Venue','Mentor'],right_on=['ID_soft','Individual_soft','Venue_soft','Mentor_soft'])\n",
    "    \n",
    "    eval_df = pd.concat([eval_df,df], ignore_index=True)\n",
    "\n",
    "office = pd.read_excel('redacted file path/eval - office skills - unformatted.xlsx')\n",
    "eval_df = pd.concat([eval_df,office])"
   ]
  },
  {
   "cell_type": "code",
   "execution_count": 54,
   "id": "92680dda-04fd-4e1d-ac82-bdfafa8491d7",
   "metadata": {
    "scrolled": true
   },
   "outputs": [],
   "source": [
    "eval_df2 = eval_df.copy()\n",
    "eval_df2 = eval_df2.reset_index()"
   ]
  },
  {
   "cell_type": "code",
   "execution_count": 55,
   "id": "4adc3400-7b68-44df-836c-44859ae87c6f",
   "metadata": {
    "scrolled": true
   },
   "outputs": [],
   "source": [
    "# remove space on the individual to allow for merging\n",
    "eval_df2.loc[:,'Individual'] = eval_df2['Individual'].str.replace(', ',',')\n",
    "\n",
    "# remove test case rows\n",
    "eval_df2 = eval_df2[~eval_df2['Individual'].str.contains('test', case=False, na=False)].copy()\n",
    "\n",
    "# remove any text (within parethesis) to standardize names\n",
    "eval_df2['Individual'] = eval_df2['Individual'].replace(r'\\(.*?\\)','',regex=True).str.strip()\n",
    "\n",
    "eval_df2['Individual'] = eval_df2['Individual'].replace(r'\\\".*?\\\"','',regex=True).str.strip()\n",
    "\n",
    "eval_df2['Final Due Date'] = eval_df2['Due Date_soft'].combine_first(eval_df2['Evaluation Due Date'])\n",
    "eval_df2 = eval_df2.drop(columns=['Evaluation Due Date','Due Date_soft'])"
   ]
  },
  {
   "cell_type": "code",
   "execution_count": 56,
   "id": "540c9a42-45fa-4e3a-803b-a8d0730ed3e4",
   "metadata": {
    "scrolled": true
   },
   "outputs": [],
   "source": [
    "# change evaluation text to standardized text\n",
    "eval_df2 = eval_df2.replace('Exemplary','Proficient',regex=True)\n",
    "eval_df2 = eval_df2.replace('Unsatisfactory','Not Competitive',regex=True)\n",
    "eval_df2 = eval_df2.replace('Inconsistent','Not Competitive',regex=True)\n",
    "eval_df2 = eval_df2.replace('Did Not Train N/A','N/A',regex=True)\n",
    "eval_df2 = eval_df2.replace('Did Not Train (N/A)','N/A',regex=False)"
   ]
  },
  {
   "cell_type": "code",
   "execution_count": 57,
   "id": "1daeb706-2032-4d16-933e-6f8566b6733d",
   "metadata": {},
   "outputs": [],
   "source": [
    "peepsmerge = merge6[[\n",
    "    'people_First Name',\n",
    "    'people_Last Name',\n",
    "    'demo_Date of Birth',\n",
    "    'people_Full Name'\n",
    "]].copy()\n",
    "\n",
    "peepsmerge['people_Full Name'] = peepsmerge['people_Full Name'].str.replace(', ',',')\n",
    "peepsmerge['demo_Date of Birth'] = peepsmerge['demo_Date of Birth'].fillna('1/1/1800')"
   ]
  },
  {
   "cell_type": "code",
   "execution_count": 58,
   "id": "c9645c65-c77b-4082-84d7-7df9b2de527e",
   "metadata": {},
   "outputs": [
    {
     "name": "stdout",
     "output_type": "stream",
     "text": [
      "<class 'pandas.core.frame.DataFrame'>\n",
      "RangeIndex: 5639 entries, 0 to 5638\n",
      "Columns: 1014 entries, index to people_Full Name\n",
      "dtypes: datetime64[ns](9), float64(25), object(980)\n",
      "memory usage: 43.6+ MB\n"
     ]
    }
   ],
   "source": [
    "eval_df2 = eval_df2.merge(peepsmerge, how='right',left_on='Individual',right_on='people_Full Name')\n",
    "eval_df2.info()"
   ]
  },
  {
   "cell_type": "code",
   "execution_count": 220,
   "id": "faeb034f-53a7-403b-95b7-59316016d569",
   "metadata": {},
   "outputs": [],
   "source": [
    "eval_df2.to_excel(r'redacted file path\\exports\\eval check1.xlsx')"
   ]
  },
  {
   "cell_type": "code",
   "execution_count": 59,
   "id": "edca0c49-44cb-4f7f-965f-51987f50c5f2",
   "metadata": {
    "scrolled": true
   },
   "outputs": [],
   "source": [
    "eval_df2['location code'] = np.where(eval_df2['Venue'].str.contains('Auburn'),1174,2870)"
   ]
  },
  {
   "cell_type": "code",
   "execution_count": 60,
   "id": "775d46ab-d9b8-442d-be94-fc8230c2f8bf",
   "metadata": {},
   "outputs": [],
   "source": [
    "eval_df3 = eval_df2.copy()"
   ]
  },
  {
   "cell_type": "code",
   "execution_count": 61,
   "id": "267525c7-63d1-45aa-aedc-eb4666a41178",
   "metadata": {},
   "outputs": [],
   "source": [
    "eval_df3['Work Cell'] = np.where(eval_df3['Venue'].str.contains('Auburn'),'Auburn '+eval_df3['Work Cell'],'Mukilteo '+eval_df3['Work Cell'])"
   ]
  },
  {
   "cell_type": "code",
   "execution_count": 62,
   "id": "81f276c5-47e9-4e44-bce2-ac1420ce47c7",
   "metadata": {},
   "outputs": [
    {
     "data": {
      "text/plain": [
       "Work Cell\n",
       "Auburn Clamp Block Issuing                1423\n",
       "Auburn Sheet Metal                         673\n",
       "Mukilteo Wire Assembly                     575\n",
       "Auburn Racking / Unracking; Paint Prep     563\n",
       "Auburn Mills                               475\n",
       "Auburn Mechanical Assembly                 396\n",
       "Auburn Shipping and Receiving              247\n",
       "Auburn Machining                           211\n",
       "Mukilteo Assembly                          204\n",
       "Mukilteo Shipping & Receiving              135\n",
       "Auburn Office (Manufacturing)              122\n",
       "Mukilteo Mechanical Assembly               116\n",
       "Auburn HBU                                 108\n",
       "Auburn Custodial                            65\n",
       "Auburn Contact Center                       56\n",
       "Auburn QA                                   29\n",
       "Mukilteo Machining                           8\n",
       "Auburn Assembly                              2\n",
       "Name: count, dtype: int64"
      ]
     },
     "execution_count": 62,
     "metadata": {},
     "output_type": "execute_result"
    }
   ],
   "source": [
    "# change work cell names to match apricot names\n",
    "\n",
    "eval_df3['Work Cell'] = eval_df3['Work Cell'].str.replace('Auburn Clamp Block','Auburn Clamp Block Issuing')\n",
    "eval_df3['Work Cell'] = eval_df3['Work Cell'].str.replace('Auburn Finish','Auburn Racking / Unracking; Paint Prep')\n",
    "### eval_df3['Work Cell'] = eval_df3['Work Cell'].str.replace('Auburn Sheet Metal','')\n",
    "### eval_df3['Work Cell'] = eval_df3['Work Cell'].str.replace('Auburn Shipping and Recieving','Auburn Shipping')\n",
    "eval_df3['Work Cell'] = eval_df3['Work Cell'].str.replace('Mukilteo Wire','Mukilteo Wire Assembly')\n",
    "### eval_df3['Work Cell'] = eval_df3['Work Cell'].str.replace('Auburn Machining','')\n",
    "### eval_df3['Work Cell'] = eval_df3['Work Cell'].str.replace('Auburn Office (Manufacturing)','')\n",
    "### eval_df3['Work Cell'] = eval_df3['Work Cell'].str.replace('Mukilteo Assembly','')\n",
    "### eval_df3['Work Cell'] = eval_df3['Work Cell'].str.replace('Auburn Contact Center','Auburn Clerical Customer Service')\n",
    "eval_df3['Work Cell'] = eval_df3['Work Cell'].str.replace('Mukilteo Shipping and Receiving','Mukilteo Shipping & Receiving')\n",
    "eval_df3['Work Cell'] = eval_df3['Work Cell'].str.replace('Auburn Quality Assurance','Auburn QA')\n",
    "### eval_df3['Work Cell'] = eval_df3['Work Cell'].str.replace('Mukilteo Machining','')\n",
    "\n",
    "eval_df3['Work Cell'].value_counts()"
   ]
  },
  {
   "cell_type": "code",
   "execution_count": 226,
   "id": "9cc9254e-2465-47c4-a77b-bc8ffe400813",
   "metadata": {},
   "outputs": [],
   "source": [
    "eval_df3.to_excel(r'redacted file path\\exports\\eval merge 5.xlsx')"
   ]
  },
  {
   "cell_type": "code",
   "execution_count": 229,
   "id": "af7138bf-e28f-4cc1-8698-0754e374f051",
   "metadata": {
    "scrolled": true
   },
   "outputs": [
    {
     "name": "stdout",
     "output_type": "stream",
     "text": [
      "index\n",
      "Venue\n",
      "Mentor\n",
      "Individual\n",
      "Work Cell\n",
      "Work Center\n",
      "Grommets:\n",
      "Modified\n",
      "Packaging & Part Mark:\n",
      "Assembly:\n",
      "Assembly: Accurately faces the blocks the same way in the box\n",
      "Assembly: Accurately measures screws and spacers using calipers\n",
      "Assembly: Accurately verifies parts with paperwork\n",
      "Assembly: Comments for Basic Manufacturing Task List SectionFilter\n",
      "Assembly: Comments on Advanced Manufacturing Tasks List SectionFilter\n",
      "Assembly: Demonstrates ability to locate correct part when pulling standards\n",
      "Assembly: Demonstrates ability to place jobs on correct spot of warehouse shelf\n",
      "Assembly: Demonstrating the ability to properly restock inventory to correct area\n",
      "Assembly: Follows posted assembly instructions accurately\n",
      "Assembly: Independent ability to accurately read the details of a blueprint\n",
      "Assembly: Independent ability to build a clamp block correctly\n",
      "Assembly: Independent ability to locate blueprint for the job\n",
      "Assembly: Properly lays out the blocks for building\n",
      "Assembly: Replacing paperwork in glassines correctly\n",
      "CHAKU:\n",
      "CHAKU: Ability to accurately read the details of blueprints and drawings\n",
      "CHAKU: Able to identify necessary information from work order and drawing\n",
      "CHAKU: Able to identify tools and equipment used for each job\n",
      "CHAKU: Accurate usage of precision measuring equipment\n",
      "CHAKU: Comments for Basic Manufacturing Task List Section\n",
      "CHAKU: Comments on Advanced Manufacturing Tasks List Section\n",
      "CHAKU: Conformance to tolerance allowance\n",
      "CHAKU: Correct loading of program on CNC Mill\n",
      "CHAKU: For all machines in area: ability to start and complete job independently\n",
      "CHAKU: Independence with locating and verifying work package\n",
      "CHAKU: Independent ability to identify correct material for each job\n",
      "CHAKU: Independent ability to identify correct material to use with specific punch press\n",
      "CHAKU: Independent machine set up of PUNCH PRESS\n",
      "CHAKU: Independent machine set up of SAW\n",
      "CHAKU: Meets productivity expectations for work tasks performed\n",
      "CHAKU: Operation of CNC Mill\n",
      "CHAKU: Operation of countersink\n",
      "CHAKU: Operation of deburr\n",
      "CHAKU: Operation of punch press\n",
      "CHAKU: Operation of saw\n",
      "CHAKU: Perform set up of machine independently (COUNTERSINK)\n",
      "CHAKU: Perform set up of machine independently (DEBURR)\n",
      "Clamp Block Inventory:\n",
      "Clamp Block Inventory: Comments for Basic Manufacturing Task List Section\n",
      "Clamp Block Inventory: Comments on Advanced Manufacturing Task List Section\n",
      "Clamp Block Inventory: Creates labels for job boxes\n",
      "Clamp Block Inventory: Ensures that counts in inventory match what is posted for cycle count\n",
      "Clamp Block Inventory: For each part pulled from inventory, records correct lot # and qty to work order\n",
      "Clamp Block Inventory: For parts pulled out of inventory, verifies correct part #'s from work order\n",
      "Clamp Block Inventory: Has clear and legible handwriting\n",
      "Clamp Block Inventory: Issues parts with computer using Inventory Transaction in VMFG\n",
      "Clamp Block Inventory: Properly completes paperwork for operation\n",
      "Clamp Block Inventory: Properly rotates inventory when kitting up jobs\n",
      "Clamp Block Inventory: Removes labels from boxes before use\n",
      "Clamp Block Inventory: Verifies all numbers when putting away inventory (blocks/channels)\n",
      "Created\n",
      "EvaluationSoftSkillsID\n",
      "General Employment:\n",
      "General Employment: Accurate counting and inspection of parts; verifies quantity and quality of parts with paperwork\n",
      "General Employment: Accurately follows all instructions\n",
      "General Employment: Actively participates in clean up activities\n",
      "General Employment: Comments\n",
      "General Employment: Finds additional work to do when completed with assigned tasks\n",
      "General Employment: Independent ability to utilize computer to clock in/out, log on/off jobs\n",
      "General Employment: Keeps a clean and organized workspace; cleans equipment/area to reduce FOD\n",
      "General Employment: Meets productivity expectations of the work area and for work tasks performed\n",
      "General Employment: Properly completes paperwork\n",
      "General Employment: Understands quality standards; on all work tasks performed, meets quality standards\n",
      "Grommets: Ability to accurately repair holes\n",
      "Grommets: Ability to foresee and fix potential problems\n",
      "Grommets: Ability to identify holes in grommet\n",
      "Grommets: Comments for Basic Manufacturing Task List Section\n",
      "Grommets: Comments on Advanced Manufacturing Tasks List Section\n",
      "Grommets: Correct trimming of doubler and center tube\n",
      "Grommets: Demonstrates ability to cut tabs\n",
      "Grommets: Demonstrates ability to kiss cut washers\n",
      "Grommets: Demonstrates ability to lay down / prepping material\n",
      "Grommets: Demonstrates ability to visually differentiate between materials (ex. F material from J or H material)\n",
      "Grommets: Independent ability to accurately load a jig\n",
      "Grommets: Independent ability to correctly assemble a grommet\n",
      "Grommets: Independent ability to utilize work order to identify material\n",
      "Grommets: Productivity level: 1 part / 2 minutes while maintaining quality\n",
      "Grommets: Productivity level: 15-20 parts / hr., while maintaining quality\n",
      "Grommets: Utilizes work order to differentiate between grommet shape\n",
      "Grommets: Utilizes work order to identify and utilize correct jig for building\n",
      "ID\n",
      "Item Child Count\n",
      "Modified By\n",
      "Packaging & Part Mark: Ability to accurately explain processes of area to others\n",
      "Packaging & Part Mark: Ability to accurately locate incoming jobs and next job to be completed in the queue\n",
      "Packaging & Part Mark: Ability to correctly judge what size bag to package parts in\n",
      "Packaging & Part Mark: Ability to correctly package multiple parts that will meet inspection standards\n",
      "Packaging & Part Mark: Ability to identify part and location of part mark on blueprint\n",
      "Packaging & Part Mark: Ability to independently select proper size for part mark\n",
      "Packaging & Part Mark: Applies overcoat precisely, with desired thickness\n",
      "Packaging & Part Mark: Comments for Basic Manufacturing Task List Section\n",
      "Packaging & Part Mark: Comments on Advanced Manufacturing Tasks List Section\n",
      "Packaging & Part Mark: Correct operation of bag sealer\n",
      "Packaging & Part Mark: Independent ability to assess part mark for quality and redo as needed\n",
      "Packaging & Part Mark: Independent ability to locate work order and proper location of part mark\n",
      "Packaging & Part Mark: Independent ability to package, part mark and overcoat\n",
      "Packaging & Part Mark: Independent inputting of part mark data on the computer\n",
      "Packaging & Part Mark: Independent set up and operation of part mark machine, including inputting of data\n",
      "Packaging & Part Mark: Perform a job from beginning to end independently\n",
      "Packaging & Part Mark: Places part mark in correct location\n",
      "Packaging & Part Mark: Proper set up for part mark\n",
      "Packaging & Part Mark: Replaces paperwork in glassines correctly\n",
      "Packaging & Part Mark: Verifies counts of product with paperwork\n",
      "ID_soft\n",
      "Mentor_soft\n",
      "Venue_soft\n",
      "Individual_soft\n",
      "Work Cell_soft\n",
      "Work Center_soft\n",
      "For the Week of:_soft\n",
      "Mentor Evaluation Status_soft\n",
      "Auditor Quality Status_soft\n",
      "Auditor Comments_soft\n",
      "Auditor Status_soft\n",
      "Mentor Completed Timeliness_soft\n",
      "Conflict Mitigation_soft\n",
      "Follow through on Feedback / Instruction_soft\n",
      "Are Person's Soft Skills / General Employment Traits Competitive?_soft\n",
      "Attendance (Please note number of full days missed. If no days were missed, fill in 0)_soft\n",
      "Content Type_soft\n",
      "Cooperation & Teamwork_soft\n",
      "Created_soft\n",
      "Created By_soft\n",
      "Date Completed by Mentor_soft\n",
      "Demeanor & Attitude_soft\n",
      "EvaluationItemID_soft\n",
      "EvaluationListGUID_soft\n",
      "Folder Child Count_soft\n",
      "Follows all Safety Rules & Policies?_soft\n",
      "Grooming & Hygiene_soft\n",
      "Interpersonal Communication Style_soft\n",
      "Item Child Count_soft\n",
      "Learning Style_soft\n",
      "Modified_soft\n",
      "Modified By_soft\n",
      "Note Any Inappropriate Behaviors Observed during Evaluation Period (if no inappropriate behaviors observed, mark that choice)_soft\n",
      "Organization_soft\n",
      "Punctuality_soft\n",
      "Response to Feedback / Instruction_soft\n",
      "Re-submit_soft\n",
      "Soft Skills Comments_soft\n",
      "Title_soft\n",
      "Work Effort & Initiative_soft\n",
      "Work Tolerance & Stamina_soft\n",
      "Workplace Appearance & Attire_soft\n",
      "Item Type_soft\n",
      "Path_soft\n",
      "Custodial:\n",
      "Custodial: Accurately follows verbal instructions\n",
      "Custodial: Accurately follows written instructions\n",
      "Custodial: Appropriately checks appliances and light fixtures\n",
      "Custodial: Assisted with other maintenance tasks (note what tasks and proficiency level)\n",
      "Custodial: Comments\n",
      "Custodial: Correctly uses hand tools\n",
      "Custodial: Escalates concerns in the appropriate manner\n",
      "Custodial: Follows proper procedure when dusting\n",
      "Custodial: Follows proper procedure when vacuuming carpeted floors\n",
      "Custodial: Follows proper procedure when washing windows and doors\n",
      "Custodial: Follows proper procedure when wiping down desks and tables\n",
      "Custodial: Follows proper procedures when cleaning offices, corridors, meeting and common spaces\n",
      "Custodial: Follows proper procedures when cleaning windows\n",
      "Custodial: Follows proper procedures when taking out recycling\n",
      "Custodial: Follows proper procedures when taking out trash\n",
      "Custodial: Follows proper procedures when working with chemicals\n",
      "Custodial: Follows proper restroom cleaning sequence that meets quality standards\n",
      "Custodial: Independent ability to clock in/out for work\n",
      "Custodial: Independent ability to correctly prioritize work\n",
      "Custodial: Independent ability to properly mix cleaning solutions\n",
      "Custodial: Independently able to find SDS information\n",
      "Custodial: Independently changes light bulbs as needed\n",
      "Custodial: Independently uses auto scrubber to clean floor\n",
      "Custodial: Meets productivity expectations of the work area and for work tasks performed\n",
      "Custodial: Proper grounds maintenance (including picking up trash outside)\n",
      "Custodial: Properly completes paperwork\n",
      "Custodial: Properly inspects building to prevent hazards (ex. turned up rug)\n",
      "Custodial: Wears appropriate clothing and safety gear\n",
      "Packaging:\n",
      "Packaging: Ability to correctly judge what size bag to package parts in\n",
      "Packaging: Able to accurately explain all processes of area to others\n",
      "Packaging: Comments for Basic Manufacturing Task List Section\n",
      "Packaging: Comments on Advanced Manufacturing Tasks List Section\n",
      "Packaging: Correctly packages multiple parts that meet inspection standards\n",
      "Packaging: Correctly performs packaging methods for specific customers\n",
      "Packaging: Proper operation of bag sealer\n",
      "Packaging: Properly prepares packaging/bagging material\n",
      "Part Mark:\n",
      "Part Mark: Ability to accurately locate next job to be completed in the queue\n",
      "Part Mark: Ability to identify and locate the correct part on the blueprint\n",
      "Part Mark: Application of part marks by using ink dauber\n",
      "Part Mark: Assesses and sorts parts with defects\n",
      "Part Mark: Assesses part mark for quality and redo as needed\n",
      "Part Mark: Comments for Basic Manufacturing Task List Section\n",
      "Part Mark: Comments on Advanced Manufacturing Tasks List Section\n",
      "Part Mark: Identify part mark location defined by drawing\n",
      "Part Mark: Independent data entry of part mark on the A200 machine\n",
      "Part Mark: Independently upload part mark onto a dauber sheet\n",
      "Part Mark: Independently utilize A320i machine's \"print delay\" function\n",
      "Part Mark: Independently utilize the A320i vendor options for data entry of part mark\n",
      "Part Mark: Places part mark in correct location\n",
      "Part Mark: Properly get a \"buy-off\" before marking parts\n",
      "Part Mark: Properly identifies the correct \"call out\" for part mark codes\n",
      "Part Mark: Replaces paperwork in glossins correctly\n",
      "Part Mark: Verifies counts of product with paperwork\n",
      "Racking / Unracking; Paint Prep:\n",
      "Racking / Unracking; Paint Prep: Able to identify if rack needs stripping\n",
      "Racking / Unracking; Paint Prep: Able to properly layout parts on paint screen\n",
      "Racking / Unracking; Paint Prep: Acceptable removal of masking (tape or plugs)\n",
      "Racking / Unracking; Paint Prep: Acceptable stripping paint using sandblaster\n",
      "Racking / Unracking; Paint Prep: Acceptable touch-up of painted parts\n",
      "Racking / Unracking; Paint Prep: Acceptable transportation of parts in between processes\n",
      "Racking / Unracking; Paint Prep: Acceptable un-racking of parts post-processing\n",
      "Racking / Unracking; Paint Prep: Accurate usage of precision measuring equiment\n",
      "Racking / Unracking; Paint Prep: Accurately creates identification tags for jobs travelling through processes\n",
      "Racking / Unracking; Paint Prep: Assesses and sorts parts with defects\n",
      "Racking / Unracking; Paint Prep: Builds usable paint screens\n",
      "Racking / Unracking; Paint Prep: Comments on Advanced Skills task list section above\n",
      "Racking / Unracking; Paint Prep: Comments on Basic Skills task list section above\n",
      "Racking / Unracking; Paint Prep: Correctly color codes each job with corresponding sticker\n",
      "Racking / Unracking; Paint Prep: Flips parts properly between applications of paint\n",
      "Racking / Unracking; Paint Prep: Independent & correct \"paint & cure coordination\" (oven cycles)\n",
      "Racking / Unracking; Paint Prep: Independent ability to obtain process information from work order traveler\n",
      "Racking / Unracking; Paint Prep: Independently & appropriately places each job on \"ready to run\" rack\n",
      "Racking / Unracking; Paint Prep: Independently reads blueprint to decipher areas needing masking\n",
      "Racking / Unracking; Paint Prep: Picks appropriate rack or basket to use for each job\n",
      "Racking / Unracking; Paint Prep: Pre-cleans parts by removing ink or excessive oils\n",
      "Racking / Unracking; Paint Prep: Proper masking of parts using plugs\n",
      "Racking / Unracking; Paint Prep: Proper masking of parts using tape\n",
      "Racking / Unracking; Paint Prep: Proper preparation and packaging of finished parts for transport to next operation\n",
      "Racking / Unracking; Paint Prep: Racks parts appropriately\n",
      "Answers telephon in friendly and engaging manner\n",
      "Assures that mail is checked daily\n",
      "Comments\n",
      "Date Completed:\n",
      "Exercises critical thinking and problem solving skills\n",
      "Follows proper procedure for assisting customer with purpose of visit\n",
      "Follows proper procedure when answering telephone\n",
      "For the Week of:\n",
      "General Admin Clerk:\n",
      "General Admin Clerk: Comments\n",
      "General Admin Clerk: Correctly and independently able to log into computer and/or computer profiles\n",
      "General Admin Clerk: Correctly and independently matches invoices for accounting\n",
      "General Admin Clerk: Correctly creates paperwork packets (ex. packets for on-boarding, orientation, etc.)\n",
      "General Admin Clerk: Correctly sorts and files hard copy documents numerically and/or alphabetically\n",
      "General Admin Clerk: Demonstrates proficiency with keyboarding and data entry (typing and 10-key skills)\n",
      "General Admin Clerk: Exercises critical thinking and problem-solving skills (troubleshoots problems and ask questions if needed)\n",
      "General Admin Clerk: Independent with the mail run (grabs mail from mailbox, sorts and delivers to appropriate parties)\n",
      "General Admin Clerk: Independently obtains correct pack slips from 2 designated areas on mfg shop floor for accounting\n",
      "General Admin Clerk: Meets productivity expectations for work tasks performed\n",
      "General Admin Clerk: Note any additional skills taught or assisted with in other departments and proficiency with those skills\n",
      "General Admin Clerk: Proficiency with Excel - especially utilizing calculator function and entering information into spreadsheets\n",
      "General Admin Clerk: Proficiency with Microsoft Office Suite - comfort level with computers is acceptable for this type of position\n",
      "General Admin Clerk: Proficiency with Word and typing documents\n",
      "General Admin Clerk: Provides excellent customer service\n",
      "General Admin Clerk: Saving documents/files in the appropriate location on the computer\n",
      "General Admin Clerk: Scanning documents and correctly renaming them\n",
      "General Admin Clerk: Uses office machinery to photocopy documents correctly (ex. single vs. double sided, collated, stapled, etc.)\n",
      "Greets visitors in friendly and engaging manner\n",
      "Independent with mail run\n",
      "Inventory office supplies and equipment\n",
      "Inventory printer supplies\n",
      "Maintains appearance and cleanliness of break rooms & conference rooms\n",
      "Other skills trained on during this evaluation period\n",
      "Properly handles all inbound directory calls\n",
      "Properly handles customer questions or issues requiring follow-up\n",
      "Grommets: Accurate counting of parts\n",
      "Grommets: Accurately follows all directions\n",
      "Grommets: Comments for General Employment Task List Section\n",
      "Grommets: Demonstrates ability to visually differentiate F material from J or H material\n",
      "Grommets: Demonstration of safe work practices\n",
      "Grommets: Finds additional work to do when completed with assigned tasks\n",
      "Grommets: Independent ability to assemble a grommet\n",
      "Grommets: Independent ability to clock in/out\n",
      "Grommets: Meets productivity expectations for the work task / area\n",
      "Grommets: On all work tasks performed, meets quality standards\n",
      "HBU - assembly:\n",
      "HBU - assembly: Accurately builds parts while being shadowed by mentor/technician\n",
      "HBU - assembly: Comments\n",
      "HBU - assembly: Computer literacy and navigation skills (including Exostar)\n",
      "HBU - assembly: Identification of call outs, flag notes and locations for parts on blueprints\n",
      "HBU - assembly: Independently and accurately identifies correct tools for the job\n",
      "HBU - assembly: Keeps a clean and organized workspace; mindful of FOD\n",
      "HBU - assembly: Proper inspection of parts\n",
      "HBU - assembly: Receives certifications (note in comments which certifications)\n",
      "HBU - assembly: Recognizes views and orientation of parts on blueprints\n",
      "HBU - assembly: Safe and proper handling of tools\n",
      "HBU - assembly: Verifies inventory per the paperwork\n",
      "HBU:\n",
      "HBU: Accurate counting of parts\n",
      "HBU: Accurately follow all directions\n",
      "HBU: Comments for Basic Manufacturing Task List Section\n",
      "HBU: Comments for General Employment Task List Section\n",
      "HBU: Comments on Advanced Manufacturing Task List Section\n",
      "HBU: Completes component maintenance tasks, such as cleaning and preparing for disposal\n",
      "HBU: Completion of job shadow of an assembly technician\n",
      "HBU: Effective use of time and time management\n",
      "HBU: Finds additional work to do when completed with assigned tasks\n",
      "HBU: Independence with identifying and applying part mark in correct location\n",
      "HBU: Independent ability enter program and perform test runs on part mark machine\n",
      "HBU: Independent ability to determine appropriate amount of overcoat\n",
      "HBU: Independent ability to identify pertinent information on work orders\n",
      "HBU: Independent ability to log on and off jobs\n",
      "HBU: Independent ability to utilize proper ratio of mixtures to make overcoat\n",
      "HBU: Independently completes over coating operations\n",
      "HBU: Meets productivity expectations within HBU area\n",
      "HBU: On all work tasks performed, meets quality standards\n",
      "HBU: Separates and discards items for appropriate waste disposal and / or recycling\n",
      "HBU: Utilizes part mark machine accurately to apply part mark\n",
      "HBU: Wears proper protection when using solvents and chemicals\n",
      "Conventional:\n",
      "Conventional: Accurate measuring utilizing precision measuring tools (ex. calipers)\n",
      "Conventional: Comments for Basic Manufacturing Task List Section\n",
      "Conventional: Comments on Advanced Manufacturing Tasks List Section\n",
      "Conventional: Correctly deburrs parts\n",
      "Conventional: Independent ability to identify a burr\n",
      "Conventional: Independent ability to locate proper tooling and material for each job\n",
      "Conventional: Independent set up of drill press\n",
      "Conventional: Independent set up of punch press\n",
      "Conventional: Independent, acceptable operation of drill press\n",
      "Conventional: Independent, acceptable operation of NC Mill\n",
      "Conventional: Independent, acceptable operation of pneumatic hand tools\n",
      "Conventional: Independent, acceptable operation of punch press\n",
      "Conventional: Proper cleaning of tools and machinery\n",
      "Conventional: Proper loading and unloading of material\n",
      "Conventional: Proper lubrication of tools\n",
      "Conventional: Utilizes and interprets work orders\n",
      "Mills Tool Crib:\n",
      "Mills Tool Crib: Ability to order products via supplier website\n",
      "Mills Tool Crib: Ability to recognize the different types of cutters used\n",
      "Mills Tool Crib: Accurately breaks down returned tools\n",
      "Mills Tool Crib: Accurately pulls tools\n",
      "Mills Tool Crib: Accurately sets up tools\n",
      "Mills Tool Crib: Accurately verifies paperwork\n",
      "Mills Tool Crib: Assists other work areas with scheduling of jobs\n",
      "Mills Tool Crib: Comments for Advanced Manufacturing task list section\n",
      "Mills Tool Crib: Comments for Basic Manufacturing task list section\n",
      "Mills Tool Crib: Follows all safety measures and procedures\n",
      "Mills Tool Crib: Independent ability with determining schedule for each job and add job to queue\n",
      "Mills Tool Crib: Independent computer navigation - Excel and internet\n",
      "Mills Tool Crib: Independent use of Visual to ensure previous operations are closed out\n",
      "Mills Tool Crib: Independent, accurate reading of set up sheets\n",
      "Mills Tool Crib: Meets productivity expectations for work performed\n",
      "Mills Tool Crib: Proficient navigation of Mastercam\n",
      "Mills Tool Crib: Proficient use of Excel for issuing and returning purposes\n",
      "Mills Tool Crib: Proper inventory of cutters, jaws\n",
      "Mills Tool Crib: Verifies items ordered and picked up from Receiving area are correct\n",
      "Mills:\n",
      "Mills: Able to identify feature tolerances and ensure parts meet expectations\n",
      "Mills: Able to understand and explain concept of X, Y, Z coordinate system\n",
      "Mills: Accurate usage of precision measuring equipment\n",
      "Mills: Basic blueprint reading and understanding of drawings\n",
      "Mills: Comments for Basic Manufacturing Task List Section\n",
      "Mills: Comments on Advanced Manufacturing Tasks List Section\n",
      "Mills: Independent ability to deburr parts correctly\n",
      "Mills: Independent ability to determine if part is \"as shown\" or \"opposite\" on blueprint\n",
      "Mills: Independent ability to identify and verify correct material for each job\n",
      "Mills: Independent ability to identify burrs\n",
      "Mills: Independent ability to load and unload tools from holders and spindle\n",
      "Mills: Independent ability to locate and verify work package\n",
      "Mills: Independent ability to monitor and operate machine\n",
      "Mills: Independent ability to properly load and unload part into fixtures for machining\n",
      "Mills: Independent ability to turn on and off coolant\n",
      "Mills: Independent ability to upload and view programs from controller\n",
      "Mills: Independent ability to verify quantity of parts with issued material\n",
      "Mills: Understands control panel displays\n",
      "Saws:\n",
      "Saws: Ability to read protractors to identify whether parts measure correctly\n",
      "Saws: Accurate measuring utilizing precision measuring equipment\n",
      "Saws: Comments for Basic Manufacturing Task List Section\n",
      "Saws: Comments on Advanced Manufacturing Tasks List Section\n",
      "Saws: Correct use of hand tools to deburr parts\n",
      "Saws: Correctly identifies and sets stops in correct location\n",
      "Saws: Demonstrates ability and understanding with tolerances in parts production\n",
      "Saws: Independent ability to utilize and interpret work orders\n",
      "Saws: Independent operation of Chop Saw\n",
      "Saws: Independent operation of Table Saw\n",
      "Saws: Independent, accurate ability to identify burrs\n",
      "Saws: Independent, accurate use of Alpha Numeric filing system\n",
      "Saws: Independently performs all tasks of Saw Area\n",
      "Saws: Performs proper math functions to ensure there is enough material to perform job\n",
      "Saws: Properly affixes manual or pneumatic clamps\n",
      "Saws: Understands and properly utilizes PCM (Photo Copy Master) and tooling\n",
      "Vibraburr:\n",
      "Vibraburr: Accurate completion of work order information (badge # and date)\n",
      "Vibraburr: Accurate counting of parts (as they're loaded in and out of tumbler)\n",
      "Vibraburr: Checks parts for flaws (scratches / dents / dings)\n",
      "Vibraburr: Comments for Advanced Skills task list section above\n",
      "Vibraburr: Comments for Basic Skills task list section above\n",
      "Vibraburr: Gets 1st part buy off for each job\n",
      "Vibraburr: Independent ability to accurately load and unload parts to tumbler\n",
      "Vibraburr: Independent ability to clean machine as needed (ex. change water)\n",
      "Vibraburr: Independent ability to identify & locate next appropriate job\n",
      "Vibraburr: Independent ability to identify a burr\n",
      "Vibraburr: Independent ability to identify and separate parts with defects\n",
      "Vibraburr: Independent ability to identify length of time & quantity of parts to run for each job\n",
      "Vibraburr: Independent ability to run Burr Kings machine\n",
      "Vibraburr: Independent ability to run Cement Mixer machine\n",
      "Vibraburr: Independent ability to run multiple machines at the same time\n",
      "Vibraburr: Independent ability to run Roto machine\n",
      "Vibraburr: Independent ability to run Vibrodyne machine\n",
      "Vibraburr: Independent ability to turn water / soap on & off as needed\n",
      "Vibraburr: Independent ability to use scale for counting\n",
      "Vibraburr: Independently keeps track of each run time\n",
      "Vibraburr: Properly rinses, dries and stacks parts removed from tumbler\n",
      "Vibraburr: Wears ear protection at all times\n",
      "Planning: Correctly logs onto Epicor profile\n",
      "Planning: Correctly logs onto Epicor Engineering Work Bench profile\n",
      "Planning: Correctly logs onto Windows profile\n",
      "Planning: Correctly opens Planning window within Epicor & inputs data into correct fields\n",
      "Planning: Demonstrates proficiency with keyboarding (typing & 10-key)\n",
      "Planning: Keeps a clean and organized work area\n",
      "Planning: Meets productivity expectations for work tasks performed\n",
      "Planning: On all tasks performed, meets quality standards\n",
      "Planning: Proficient with locating drives and file folders on the computer\n",
      "Planning: Proficient with Microsoft Office applications\n",
      "Planning: Additional skills trained on during the evaluation period\n",
      "Planning: Comments\n",
      "Commercial Work Order Processing:\n",
      "Commercial Work Order Processing: Accurately follows all directions\n",
      "Commercial Work Order Processing: Additional skills taught during the evaluation period\n",
      "Commercial Work Order Processing: Comments\n",
      "Commercial Work Order Processing: Distributes work orders to proper areas for processing\n",
      "Commercial Work Order Processing: IDs and stamps military export controlled work orders\n",
      "Commercial Work Order Processing: Keeps a clean and organized work area\n",
      "Commercial Work Order Processing: Meets productivity expectations with tasks\n",
      "Commercial Work Order Processing: Proficient with locating drives and file folders on computer\n",
      "Commercial Work Order Processing: Properly IDs work orders with non-recurring operation\n",
      "Commercial Work Order Processing: Records customer and order ID # on front page of work order\n",
      "Commercial Work Order Processing: Revision deviations or discrepancies are routed to Planning for final review\n",
      "Commercial Work Order Processing: Sort, staple and confirms documents are in order\n",
      "Commercial Work Order Processing: Verifies revision levels listed on work order are current\n",
      "Estimating Training Evaluation:\n",
      "Estimating Training Evaluation: Accurately follows all directions\n",
      "Estimating Training Evaluation: Additional skills trained on during the evaluation period\n",
      "Estimating Training Evaluation: Blueprint reading knowledge\n",
      "Estimating Training Evaluation: Comments\n",
      "Estimating Training Evaluation: Correctly logs onto Boeing portal\n",
      "Estimating Training Evaluation: Correctly logs onto Visual profile\n",
      "Estimating Training Evaluation: Correctly logs onto Windows profile\n",
      "Estimating Training Evaluation: Correctly opens EID page, selects & downloads correct drawings on Boeing Portal\n",
      "Estimating Training Evaluation: Correctly opens Estimating window within Visual & inputs data into correct fields\n",
      "Estimating Training Evaluation: Correctly prints and collates engineering drawings\n",
      "Estimating Training Evaluation: Demonstrates proficiency with keyboarding (typing & 10-key)\n",
      "Estimating Training Evaluation: Keeps a clean and organized work area\n",
      "Estimating Training Evaluation: Meets productivity expectations for work tasks performed\n",
      "Estimating Training Evaluation: On all tasks performed, meets quality standards\n",
      "Estimating Training Evaluation: Proficient with locating drives and file folders on the computer\n",
      "Estimating Training Evaluation: Proficient with Microsoft Office applications\n",
      "Planning:\n",
      "Planning: Accurately follows all directions\n",
      "Sales:\n",
      "Sales: Accurately downloads searches to designated quote folders\n",
      "Sales: Accurately follows all directions\n",
      "Sales: Accurately records customer and customer order ID # on front page of PO\n",
      "Sales: Additional tasks performed during the evaluation period\n",
      "Sales: Advanced skills - independent ability to accurately perform printing/reviewing/entering/filing of PO's and POC's with customers other than Boeing\n",
      "Sales: Comments\n",
      "Sales: Conducts accurate part number searches\n",
      "Sales: Copy and pasting part numbers / nomenclature / part quantities into the designated fields within the estimation window\n",
      "Sales: Correctly and independently able to log into computer and computer profiles (ie. Boeing Portal and Estimation Window)\n",
      "Sales: Demonstrates proficiency with keyboarding and data entry (typing and 10-key skills)\n",
      "Sales: Demonstrates proficiency with locating drives and file folders on computer\n",
      "Sales: Files drawings electronically to the appropriate quote folders\n",
      "Sales: Independent and accurate ability to run material requirement planning in Visual to update the part number and its subordinate details/standards with the correct changes after a PO or POC has been through entire print/review/enter/file process\n",
      "Sales: Independent and accurate entering of POC's into system\n",
      "Sales: Independent and accurate entering of PO's into system\n",
      "Sales: Independent and accurate filing of PO's/POC's\n",
      "Sales: Independent and accurate printing of PO's/POC's\n",
      "Sales: Independent and accurate reviewing of PO's\n",
      "Sales: Keeps a clean and organized work area\n",
      "Sales: Meets productivity expectations for work tasks performed\n",
      "Sales: On all tasks performed, meets quality standards\n",
      "Sales: Proficiency creating line items within specific quote records\n",
      "Sales: Proficiency with Adobe Acrobat\n",
      "Sales: Proficiency with Microsoft Excel\n",
      "Sales: Proficiency with using and navigating Visual Estimation Window\n",
      "Sales: Proficiency with working in Boeing Supplier Portal in REDARS\n",
      "Sales: Pulls appropriate drawings from customer file share sites\n",
      "Sales: Saves files to the appropriate location on the computer\n",
      "Sales: Sort, staple and confirms documents are in proper order\n",
      "Sales: Verifies that revision levels listed on work order are current (sources of reference may include Boeing REDARS and customer purchase order notes)\n",
      "General Employment: Asks questions as needed\n",
      "General Employment: Comments for General Employment Task List Section\n",
      "Mechanical Assembly - Inventory:\n",
      "Mechanical Assembly - Inventory: Accurate creation of labels for standards\n",
      "Mechanical Assembly - Inventory: Comments for Advanced Manufacturing task list section\n",
      "Mechanical Assembly - Inventory: Comments for Basic Manufacturing task list section\n",
      "Mechanical Assembly - Inventory: Correctly puts away inventory\n",
      "Mechanical Assembly - Inventory: Ensures that counts per bag match what is posted on front of boxes\n",
      "Mechanical Assembly - Inventory: Ensures the counts in inventory match cycle count numbers\n",
      "Mechanical Assembly - Inventory: For each part pulled from inventory, records correct lot # and qty to work order\n",
      "Mechanical Assembly - Inventory: For parts pulled out of inventory, verifies correct part #'s from work order\n",
      "Mechanical Assembly - Inventory: Has clear and legible handwriting\n",
      "Mechanical Assembly - Inventory: Issues parts with computer using Inventory Transaction in VMFG\n",
      "Mechanical Assembly - Inventory: Places kitted jobs on \"ready to work\" shelves by due date\n",
      "Mechanical Assembly - Inventory: Proper run of 2 bag system\n",
      "Mechanical Assembly - Inventory: Properly and accurately uses calipers to check standards\n",
      "Mechanical Assembly - Inventory: Properly receives incoming standards\n",
      "Mechanical Assembly - Inventory: Properly rotates inventory when kitting up jobs\n",
      "Mechanical Assembly - Inventory: Verifies correct sizes of rivets and nutplates\n",
      "Mechanical Assembly - Inventory: Verifies the standards are correct (ex. threaded, no scratches/blemishes, etc.)\n",
      "Mechanical Assembly - QA:\n",
      "Mechanical Assembly - QA: Accurate verification of counts and part numbers\n",
      "Mechanical Assembly - QA: Accurate verification of part mark per drawing\n",
      "Mechanical Assembly - QA: Basic computer navigation skills\n",
      "Mechanical Assembly - QA: Comments\n",
      "Mechanical Assembly - QA: Independent & correct delivery of job to next appropriate staging area\n",
      "Mechanical Assembly - QA: Independent ability to locate Epicor MES and Paylocity in computer\n",
      "Mechanical Assembly - QA: Independently verifies all paperwork and procedures\n",
      "Mechanical Assembly - QA: Sort, segregate and prioritize jobs by due date\n",
      "Mechanical Assembly - QA: Verifies orientation of bond strip per drawing\n",
      "Mechanical Assembly - QA: Work order scanning and filing\n",
      "Mechanical Assembly :\n",
      "Mechanical Assembly : Ability to identify details (parts per work order and drawing)\n",
      "Mechanical Assembly : Ability to interpret blueprint \"as shown\" and \"opposite view\" drawing\n",
      "Mechanical Assembly : Ability to use correct tooling for each job\n",
      "Mechanical Assembly : Assembly of wiggle plates\n",
      "Mechanical Assembly : Blueprint reading and understanding of drawings\n",
      "Mechanical Assembly : Comments for Basic Manufacturing Task List Section\n",
      "Mechanical Assembly : Comments on Advanced Manufacturing Tasks List Section\n",
      "Mechanical Assembly : Deburring parts\n",
      "Mechanical Assembly : Finds tooling for jobs independently\n",
      "Mechanical Assembly : Follow through on countersink machine tasks with minimal supervision\n",
      "Mechanical Assembly : Independent ability to verify job and count #\n",
      "Mechanical Assembly : Independent operation of countersink\n",
      "Mechanical Assembly : Independent operation of drill press\n",
      "Mechanical Assembly : Independent operation of riveter/squeeze\n",
      "Mechanical Assembly : Independent set up and operation of riveter\n",
      "Mechanical Assembly : Independent set up and operation of squeeze machine\n",
      "Mechanical Assembly : Independent set-up of minor jobs (nut plate, wiggle plate, countersink machine)\n",
      "Mechanical Assembly : Independently performs jobs from beginning to end\n",
      "Mechanical Assembly : Prepare parts for rivet squeezing\n",
      "Mechanical Assembly : Proficient with BAC specifications of job task\n",
      "Mechanical Assembly : Proper identification of drill bits and countersink size\n",
      "Mechanical Assembly : Understands different rivet codes used on drawings\n",
      "Mechanical Assembly : Usage of precision measuring equipment to measure dimensions of finished part\n",
      "Mechanical Assembly : Utilizes proper procedure for bonding tasks\n",
      "Bond:\n",
      "Bond: Able to identify correct jig to use\n",
      "Bond: Application of bond and adherence of waffle or strips to orifice\n",
      "Bond: Careful placement of weights on waffle orifices\n",
      "Bond: Comments for advanced task list section above\n",
      "Bond: Comments for basic task list section above\n",
      "Bond: Independent ability to read drawing and set up each job correctly\n",
      "Bond: Independent ability to read work order / paperwork and identify details (parts per work order and drawing)\n",
      "Bond: Independent and accurate use of measuring tools\n",
      "Bond: Independent visual inspection of each part to ensure quality\n",
      "Bond: Independent, accurate calculation of cure time for bond\n",
      "Bond: Independently able to complete both waffle orifice jobs and non-waffle orifice strip jobs with high level of quality and productivity\n",
      "Bond: Independently identifies and obtains correct tools and materials for each job and properly preps them\n",
      "Bond: Other basic skills taught this week with proficiency rating\n",
      "Bond: Other more advanced skills taught this week with proficiency rating\n",
      "General Employment: Actively participates in clean-up activities\n",
      "General Employment: Consistently obtains set-up and 1st part buy offs\n",
      "General Employment: Keeps a clean and organized workspace; cleans equipment and area to reduce FOD\n",
      "General Employment: Safe transportation of parts to next designated area\n",
      "Mechanical Assembly:\n",
      "Mechanical Assembly: Ability to identify details (part per work order and drawing)\n",
      "Mechanical Assembly: Able to identify correct jig to use\n",
      "Mechanical Assembly: Applies part mark utilize ink dauber on the correct location of part\n",
      "Mechanical Assembly: Comments for advanced task list section above\n",
      "Mechanical Assembly: Comments for basic task list section above\n",
      "Mechanical Assembly: Independent ability to find and utilize correct tooling and jigs for each job\n",
      "Mechanical Assembly: Independent ability to identify part mark location as defined by drawing and job file\n",
      "Mechanical Assembly: Independent ability to read paperwork and drawings to locate pertinent information\n",
      "Mechanical Assembly: Independent data entry of part mark information into computer\n",
      "Mechanical Assembly: Independent deburring of parts\n",
      "Mechanical Assembly: Independent operation of countersink\n",
      "Mechanical Assembly: Independent operation of drill press\n",
      "Mechanical Assembly: Independent operation of riveter / squeeze\n",
      "Mechanical Assembly: Independent preparation of parts for rivet squeezing\n",
      "Mechanical Assembly: Independent set-up of countersink machine\n",
      "Mechanical Assembly: Independent set-up of drill press\n",
      "Mechanical Assembly: Independent set-up of riveter / squeeze\n",
      "Mechanical Assembly: Independent, accurate usage of precision measuring equipment\n",
      "Mechanical Assembly: Other basic skills taught this week with proficiency rating\n",
      "Mechanical Assembly: Other more advanced skills taught this week with proficiency rating\n",
      "Mechanical Assembly: Proficient with BAC specifications of job task\n",
      "Manufacturing Offices:\n",
      "Manufacturing Offices: Accurately follows all instructions\n",
      "Manufacturing Offices: Independent ability to utilize and navigate computer applications\n",
      "Manufacturing Offices: Understands quality standards - meets quality standards on tasks performed\n",
      "Manufacturing Offices: Meets productivity expectations of the work area and for work tasks performed\n",
      "Manufacturing Offices: Finds additional work to do when completed with assigned tasks\n",
      "Manufacturing Offices: Proficient with office machinery\n",
      "Manufacturing Offices: Sends professional emails to external customers\n",
      "Manufacturing Offices: Correctly logs into various computer portals/profiles and accesses and downloads correct information\n",
      "Manufacturing Offices: Gathers correct data from internal lists and makes correct decisions based on this informaton\n",
      "Manufacturing Offices: Accurately verifies documents in job traveler packets\n",
      "Manufacturing Offices: Independently creates Purchase Orders\n",
      "Manufacturing Offices: Independently creates Labor Estimates\n",
      "Manufacturing Offices: Drawing and blueprint reading knowledge\n",
      "Manufacturing Offices: Independently creates Quotes\n",
      "Manufacturing Offices: Updates internal documents and logs with correct information\n",
      "Manufacturing Offices: Accurate locating and saving of documents to correct files, folders and drives on computer\n",
      "Manufacturing Offices: Comments\n",
      "Manufacturing Offices: Greets customers pleasantly and professionally\n",
      "Manufacturing Offices: Please list additional skills taught during this timeframe and proficiency rating\n",
      "General Employment: Ability to identify useful information on documents\n",
      "General Employment: Safe transportation of parts to next designated staging area\n",
      "General Employment: Sort, segregate and prioritize jobs by due date and shipping date\n",
      "General Employment: Unpacking, re-packing and proper handling of parts\n",
      "Shipping & Receiving:\n",
      "Shipping & Receiving:  Comments for advanced task list section above\n",
      "Shipping & Receiving: Ability to differentiate betweent \"spares\" and \"EDI\" jobs\n",
      "Shipping & Receiving: Accurate entering of information into Boeing Portal\n",
      "Shipping & Receiving: Comments for basic task list section above\n",
      "Shipping & Receiving: Independence with preparing jobs for shipment and performing tasks in shipping work area\n",
      "Shipping & Receiving: Independence with receiving materials and performing tasks in receiving work area\n",
      "Shipping & Receiving: Independent creation of internal work order\n",
      "Shipping & Receiving: Other basic skills taught this week and proficiency rating\n",
      "Shipping & Receiving: Other more advanced skills taught this week with proficiency rating\n",
      "General Employment: Consistently obtains set-up and 1st part buy-offs\n",
      "General Employment: Independent & accurate completion of paperwork\n",
      "General Employment: Independent & accurate usage of measuring tools\n",
      "General Employment: Independent ability to identify correct tool(s) & materials to use and properly uses them\n",
      "General Employment: Keeps a clean & organized workspace in order to reduce FOD\n",
      "General Employment: Safe handling & transportation of parts to next designated area (Quality shelf)\n",
      "Inventory:\n",
      "Inventory: Accurately checks inventory utilizing MIE tracking\n",
      "Inventory: Adheres correct label(s) to bag\n",
      "Inventory: Comments for Advanced Skills task section\n",
      "Inventory: Comments for Basic Skills task list section\n",
      "Inventory: Ensures that counts in inventory match what is posted for cycle counts\n",
      "Inventory: Ensures that counts per bag match what is posted on front of boxes\n",
      "Inventory: for parts pulled from inventory, correctly records log # & qty amount of work order\n",
      "Inventory: for parts pulled out of inventory, verifies correct part #'s on work order\n",
      "Inventory: Has clear and legible handwriting\n",
      "Inventory: Independently & accurately puts jobs on hold if there isn't enough inventory; accurately creates orange tag & notes job on hold board\n",
      "Inventory: Independently able to identify pertinent information when reading parts list page / bill of materials\n",
      "Inventory: Independently able to pick next job by looking at closest due date\n",
      "Inventory: Independently finds correct location when picking parts from inventory\n",
      "Inventory: independently places jobs in the next designated area or \"ready to work\" shelves by due date\n",
      "Inventory: Issues parts in computer using Inventory Transaction in MIE\n",
      "Inventory: Other advanced skills taught this week with proficiency rating\n",
      "Inventory: other basic tasks taugh this week and proficiency rating\n",
      "Inventory: Proper run of 2 bag system\n",
      "Laser Marking:\n",
      "Laser Marking: Comments for advanced task list section above\n",
      "Laser Marking: Comments for task list section listed above\n",
      "Laser Marking: Correctly identifies appropriate job to work on\n",
      "Laser Marking: Follows proper procedure to access laser marking information on flash drive/computer\n",
      "Laser Marking: Independently and accurately completes documentation\n",
      "Laser Marking: Independently and accurately loads and threads wire through de-reeler\n",
      "Laser Marking: Independently and properly unracks wire spool and returns to its correct location\n",
      "Laser Marking: Independently identifies and obtains correct wire for each job\n",
      "Laser Marking: Independently identifies customer and quantity on work order\n",
      "Laser Marking: Other skills taught this week, with proficiency rating\n",
      "Laser Marking: Writes legibly\n",
      "Wire Assembly:\n",
      "Wire Assembly: Application of contacts, terminal lugs, splices, etc.\n",
      "Wire Assembly: comments for advanced task list section\n",
      "Wire Assembly: Comments for basic task list section\n",
      "Wire Assembly: Independent and accurate calculation of cure time as required\n",
      "Wire Assembly: Independent visual inspection and measurement of each part\n",
      "Wire Assembly: Independently able to complete assemblies while achieving a high level of quality & productivity\n",
      "Wire Assembly: Independently able to read drawing and set up each job correctly\n",
      "Wire Assembly: other advanced skills taught this week, with proficiency rating\n",
      "Wire Assembly: Other skills taught this week, with proficiency rating\n",
      "Wire QA:\n",
      "Wire QA: Accurate inspection and verification of wire lengths\n",
      "Wire QA: Accurate inspection and verification of wire part marks\n",
      "Wire QA: Additional advanced skills taught this week, with proficiency rating\n",
      "Wire QA: Basic computer navigation skills\n",
      "Wire QA: Comments for advanced task list section\n",
      "Wire QA: Comments for basic task list section\n",
      "Wire QA: Independent & correct delivery of job to next appropriate staging area\n",
      "Wire QA: Independent ability to locate MIE kiosk and MIE trak in computer\n",
      "Wire QA: Independently able to perform all QA duties of the area\n",
      "Wire QA: Independently verifies all paperwork and procedures\n",
      "Wire QA: Other basic skills taught this week with proficiency rating\n",
      "Wire QA: Sort, segregate and prioritize jobs by due date\n",
      "Wire QA: Work order scanning and filing\n",
      "QA:\n",
      "QA: Ability to determine drawings required and current revisions\n",
      "QA: Ability to identify useful information on the work order\n",
      "QA: Ability to process orders in Visual\n",
      "QA: Accurate data entry on computer\n",
      "QA: Accurately follows all directions\n",
      "QA: Actively participates in clean up activities\n",
      "QA: Comments on skills learned\n",
      "QA: Correctly identifies standard inspection equipment\n",
      "QA: Finds additional work to do when completed with assigned tasks\n",
      "QA: Independent ability to utilize computer to clock in/out\n",
      "QA: Independently & correctly determines when outside process certifications are required\n",
      "QA: Keeps a clean and organized workspace\n",
      "QA: Meets productivity expectations for work tasks performed\n",
      "QA: On all work tasks performed, meets quality standards\n",
      "QA: Other skills learned during this week\n",
      "QA: Properly completes inspection operations on work order\n",
      "QA: Verify that inspection equipment has current calibration\n",
      "Comments for General Employment Task List Section\n",
      "Blanking Press: Independent ability to identify a burr\n",
      "Blanking Press: Correctly deburrs parts\n",
      "Blanking Press: Ability to locate correct material for each job\n",
      "Blanking Press: Accurate usage of precision measuring equipment\n",
      "Blanking Press: Ability to accurately read the details of blueprints and drawings\n",
      "Blanking Press: Take down and putting away of tool\n",
      "Blanking Press: Loading material onto blanking press\n",
      "Blanking Press: Proper lubrication of material\n",
      "Blanking Press: Acceptable operation of blanking press\n",
      "Blanking Press: Proper removal of parts produced\n",
      "Blanking Press: Proper loading of material with appropriate amount of spacing\n",
      "Blanking Press: Proper cleaning of tools and machinery\n",
      "Blanking Press: Properly loads program into Amada\n",
      "Blanking Press: Ensures that tools are in the right station (Amada)\n",
      "Blanking Press: Ensures that the tooling station matches the program (Amada)\n",
      "Blanking Press: Comments on Basic Skills task list section above\n",
      "Blanking Press: Ability to locate proper tooling for each job\n",
      "Blanking Press: Independent set up and take down of tooling\n",
      "Blanking Press: Ability to properly lubricate tools\n",
      "Blanking Press: Independent, accurate completion of all jobs of area\n",
      "Blanking Press: Comments on Advanced Skills task list section above\n",
      "Amada: Properly loads program into Amada\n",
      "Amada: Ensures that tools are in the right station (Amada)\n",
      "Amada: Ensures that the tooling station matches the program (Amada)\n",
      "Amada: Proper operation of Amada\n",
      "General Employment: Keeps a neat and clean work area\n",
      "Brake Form: Operation of brake form in Mylar cutting\n",
      "Brake Form: Accuracy in measuring with a measuring tape, scale and calipers\n",
      "Brake Form: Ability to read protractors\n",
      "Brake Form: Independent ability to interpret work orders\n",
      "Brake Form: Identifies needed tooling for Mylar cuts\n",
      "Brake Form: Independent ability to set up and center Mylar cutting tool\n",
      "Brake Form: Correctly chooses tooling\n",
      "Brake Form: Accurately setting the stop\n",
      "Brake Form: Independently performing jobs from set up to take down\n",
      "Brake Form: Comments for Basic Manufacturing Task List Section\n",
      "Brake Form: Comments on Advanced Manufacturing Tasks List Section\n",
      "Brake Form: Independent ability to choose correct tool off of the rack\n",
      "Brake Form: Finds additional work to do when completed with assigned tasks\n",
      "Brake Form: Independent ability to identify a burr\n",
      "Brake Form: Correctly deburrs parts\n",
      "Brake Form: Correctly reads paperwork and takes job to next operation area\n",
      "Brake Form: Locates correct material based on paperwork\n",
      "Brake Form: Independent usage of CEMCO wet sander\n",
      "Brake Form: Ability to identify material thickness and set gauge of wet sander\n",
      "Brake Form: Independent operation of brake form in the bending of parts\n",
      "Brake Form: Installation of tooling\n",
      "Brake Form: Demonstrates steady hand eye coordination\n",
      "Routers: Independent and proper setup of clamps\n",
      "Routers: Independent ability to properly load and unload material\n",
      "Routers: Independent ability to identify and locate correct material for each job\n",
      "Routers: Independent ability to identify and locate tooling for each job\n",
      "Routers: Independent ability to locate a file and vacuum plate offset within the computer program\n",
      "Routers: Correctly inputs necessary information in computer\n",
      "Routers: Independent ability to locate and verify work package\n",
      "Routers: Ability to accurately read the details of blueprints and drawings\n",
      "Routers: Accurate usage of precision measuring equipment\n",
      "Routers: Independent ability to setup and change tooling plates\n",
      "Routers: Ability to accurately read PCM\n",
      "Routers: Accurate operation of CNC Router\n",
      "Routers: Accurate operation of Mill\n",
      "Routers: Correctly turns on and off vacuum\n",
      "Routers: Correct usage of air hose to blow debris away\n",
      "Routers: Independent ability to identify a burr\n",
      "Routers: Correctly deburrs parts\n",
      "Routers: Performs correct procedure on computer to start machine operation\n",
      "Routers: Independent input of correct x, y, z coordinates into computer\n",
      "Routers: Correct usage and input of Z heights\n",
      "Routers: Ability to start and complete job independently on all machines of the work area\n",
      "Routers: Comments on Advanced Manufacturing Tasks List Section\n",
      "Routers: Comments for Basic Manufacturing Task List Section\n",
      "Shears: Demonstrates understanding of Receiving and Shears processes\n",
      "Shears: Independent ability to differentiate between Boeing and Commercial work orders\n",
      "Shears: Independent ability to verify Boeing work orders\n",
      "Shears: Independent ability to verify commercial work orders\n",
      "Shears: Independent ability to locate correct material for each job\n",
      "Shears: Ability to locate correct tools and templates used for Boeing work orders\n",
      "Shears: Independent and accurate usage of precision measuring equipment\n",
      "Shears: Accurate usage of math to determine amount of material necessary for each job\n",
      "Shears: Demonstrates understanding of the best direction to cut material\n",
      "Shears: Demonstrates understanding of how to maximize material for job\n",
      "Shears: Ability to read and understand basic blueprints and drawings\n",
      "Shears: Accurate cutting of non-metallic material\n",
      "Shears: Accurate operation of Shear\n",
      "Shears: Comments for Basic Manufacturing Task List Section\n",
      "Shears: Independent ability to enter correct data on computer\n",
      "Shears: Independent ability to locate, print and verify correct cert\n",
      "Shears: Ability to predict sufficient amount of material necessary for next job\n",
      "Shears: Independent ability to set up machine\n",
      "Shears: Independent ability to start and complete job\n",
      "Shears: Comments on Advanced Manufacturing Tasks List Section\n",
      "Waterjet: Understands and demonstrates proper machine operation and computer inputs\n",
      "Waterjet: Independent ability to identify burrs\n",
      "Waterjet: Utilize hand tools to deburr parts\n",
      "Waterjet: Proper loading of material on equipment\n",
      "Waterjet: Proper removal of parts produced\n",
      "Waterjet: Ability to locate correct next job in queue\n",
      "Waterjet: Verifies work order, material and part #\n",
      "Waterjet: Navigating and following proper sequences for computer program to operate Water Jet\n",
      "Waterjet: Uses correct math procedures to ensure that there is enough material for the number of parts required\n",
      "Waterjet: Foresees and partakes in necessary maintenance of the Water Jet\n",
      "Waterjet: Loads pre-set program in computer and follows proper procedure to run Water Jet\n",
      "Waterjet: Able to differentiate between Automatic Start and Manual Start procedure and when each would be used\n",
      "Waterjet: Comments for Basic Manufacturing Task List Section\n",
      "Waterjet: Independent ability to draw up programs and program machine to operate\n",
      "Waterjet: Accurate reading of all drawings\n",
      "Waterjet: Independent setup and machine operation of Water Jet\n",
      "Waterjet: Comments on Advanced Manufacturing Tasks List Section\n",
      "Blanking Press:\n",
      "Amada:\n",
      "Brake Form:\n",
      "Routers:\n",
      "Shears:\n",
      "Waterjet:\n",
      "Amada: Comments on task list section above\n",
      "Saws: Understands and properly uses PCM (Photo Copy Master) and tooling\n",
      "Saws: Comments for Basic Manufacturing Task List Section above\n",
      "Saws: Independently performs all tasks of Saw work area\n",
      "Saws: Additional tasks trained on during the week\n",
      "Saws: Comments on Advanced Manufacturing Task List Section above\n",
      "Deburr: Independent and proper usage of orbital sander\n",
      "Deburr: Independent and proper usage of jitter bug sander\n",
      "Deburr: Independent and proper usage of grind wheel\n",
      "Deburr: Independent and proper usage of deburr hand tools\n",
      "Deburr: properly deburrs with scotch brite or sand paper\n",
      "Deburr: Cleans parts thoroughly with alcohol\n",
      "Deburr: Inventories and restocks deburr materials\n",
      "Deburr: Able to independently identify burrs (visually or by feeling)\n",
      "Deburr: Independently able to identify which deburr tool to use on certain materials\n",
      "Deburr: Follows protocol for excess parts\n",
      "Deburr: Comments on Basic Skills task list section above\n",
      "Deburr: Independent and proper usage of Time Saver Machine\n",
      "Deburr: Comments on Advanced Skills task list section above\n",
      "Deburr: Other skills taught this week, with proficiency rating\n",
      "Deburr:\n",
      "Waterjet: Satisfactory washing & rinsing of clamp blocks cut on the waterjet\n",
      "Commercial Shipping:\n",
      "Commercial Shipping: Accurate counting of parts\n",
      "Commercial Shipping: Accurate inspection of Pack List for commercial customers\n",
      "Commercial Shipping: Accurately follows all directions\n",
      "Commercial Shipping: Comments for Basic Manufacturing Task List Section\n",
      "Commercial Shipping: Comments for General Employment Task List Section\n",
      "Commercial Shipping: Comments on Advanced Manufacturing Tasks List Section\n",
      "Commercial Shipping: Completion of forklift training\n",
      "Commercial Shipping: Create company and content labels\n",
      "Commercial Shipping: Demonstrates ability to ship correctly to all customers\n",
      "Commercial Shipping: File completed work orders, with signed purchase order documentation, in proper bin\n",
      "Commercial Shipping: Finds additional work to do when completed with assigned tasks\n",
      "Commercial Shipping: Independent ability to prioritize work load as required\n",
      "Commercial Shipping: Independent ability to utilize computer to clock in/out\n",
      "Commercial Shipping: Independent, accurate reading of packing list\n",
      "Commercial Shipping: Meets productivity expectations of the work area and for work tasks performed\n",
      "Commercial Shipping: On all work tasks performed, meets quality standards\n",
      "Commercial Shipping: Palletizing product and ensuring correct parts go to correct customer\n",
      "Commercial Shipping: Prepare and box parts according to customer's specifications\n",
      "Commercial Shipping: Process Packages/shipments via FedEx Portal\n",
      "Commercial Shipping: Process Packages/shipments via UPS Portal\n",
      "Commercial Shipping: Sort and segregate completed orders depending on end route\n",
      "Commercial Shipping: Sort, segregate and prioritize verified work order by due date and shipping date\n",
      "Commercial Shipping: Understands and able to identify useful information on selected documents\n",
      "Commercial Shipping: Verifies pull ticket, ensuring part number and counts match\n",
      "HBU Packing in Shipping:\n",
      "HBU Packing in Shipping: Accurately follows packaging instructions\n",
      "HBU Packing in Shipping: Assess parts for quality\n",
      "HBU Packing in Shipping: Comments for Basic Manufacturing Task List Section\n",
      "HBU Packing in Shipping: Comments for General Employment Task List Section\n",
      "HBU Packing in Shipping: Comments on Advanced Manufacturing Tasks List SectionFilter\n",
      "HBU Packing in Shipping: Completion of forklift training\n",
      "HBU Packing in Shipping: Demonstration of safe work practices\n",
      "HBU Packing in Shipping: Finds additional work to do when completed with assigned tasks\n",
      "HBU Packing in Shipping: Independence reading pack slips\n",
      "HBU Packing in Shipping: Independent ability to clock in and out on work orders\n",
      "HBU Packing in Shipping: Independent ability to identify useful information on work order\n",
      "HBU Packing in Shipping: Independent ability to perform all receiving and shipping tasks with minimal supervision\n",
      "HBU Packing in Shipping: Independent and correct packaging of product\n",
      "HBU Packing in Shipping: Independent completion of end of day checklist, preparing work area for next day\n",
      "HBU Packing in Shipping: Independent operation of Instapak machine\n",
      "HBU Packing in Shipping: Knowledge of one day lead times in shipping process\n",
      "HBU Packing in Shipping: Meets productivity expectations for work tasks performed\n",
      "HBU Packing in Shipping: On all work performed, meets quality standards\n",
      "HBU Packing in Shipping: Operation of electric pallet and jack\n",
      "HBU Packing in Shipping: Operation of labor ticket, entering part quantities and employee #\n",
      "HBU Packing in Shipping: Palletizing product and ensuring correct parts go to correct customer\n",
      "HBU Packing in Shipping: Properly completes paperwork\n",
      "HBU Packing in Shipping: Put away (FIFO)\n",
      "HBU Packing in Shipping: Stocking of shipping supplies\n",
      "HBU Packing in Shipping: Trash and recycle\n",
      "OSP & CMP Shipping:\n",
      "OSP & CMP Shipping: Accurate counting and inspection of parts\n",
      "OSP & CMP Shipping: Accurate creation of Pack List for commercial customers\n",
      "OSP & CMP Shipping: Accurately follows all directions\n",
      "OSP & CMP Shipping: Comments for Basic Manufacturing Task List Section\n",
      "OSP & CMP Shipping: Comments for General Employment Task List Section\n",
      "OSP & CMP Shipping: Comments on Advanced Manufacturing Tasks List Section\n",
      "OSP & CMP Shipping: Completion of forklift training\n",
      "OSP & CMP Shipping: Copy selected documents (ie. work order and pack list details)\n",
      "OSP & CMP Shipping: Create company and content labels\n",
      "OSP & CMP Shipping: Demonstrates ability to ship correctly to all customers\n",
      "OSP & CMP Shipping: Finds additional work to do when completed with assigned tasks\n",
      "OSP & CMP Shipping: Independent ability to prioritize work load as required\n",
      "OSP & CMP Shipping: Independent ability to utilize computer to clock in/out\n",
      "OSP & CMP Shipping: Independent, accurate reading of pull ticket COC (certificate of conformance)\n",
      "OSP & CMP Shipping: Meets productivity expectations of the work area and for work tasks performed\n",
      "OSP & CMP Shipping: On all work tasks performed, meets quality standards\n",
      "OSP & CMP Shipping: Palletizing product and ensuring correct parts go to correct customer\n",
      "OSP & CMP Shipping: Prepare and box parts according to Orion's specifications\n",
      "OSP & CMP Shipping: Process Packages/shipments via FedEx Portal\n",
      "OSP & CMP Shipping: Process Packages/shipments via UPS Portal\n",
      "OSP & CMP Shipping: Understands and able to identify useful information on work order\n",
      "OSP & CMP Shipping: Verifies pull ticket, ensuring part number and counts match\n",
      "Receiving:\n",
      "Receiving: Ability to prepare a purchase receipt entry form on the computer\n",
      "Receiving: Ability to utilize bar code reader technology in receiving\n",
      "Receiving: Able to differentiate between Boeing and non-Boeing work\n",
      "Receiving: Accurate counting of parts\n",
      "Receiving: Accurately follows all directions\n",
      "Receiving: Actively participants in clean up\n",
      "Receiving: Assembly of traveler paperwork upon completion of receiving\n",
      "Receiving: Assesses parts for quality of sub-finish\n",
      "Receiving: Comments for Basic Manufacturing Task List Section\n",
      "Receiving: Comments for General Employment Task List Section\n",
      "Receiving: Comments on Advanced Manufacturing Tasks List Section\n",
      "Receiving: Communication of what operations have been performed\n",
      "Receiving: Completion of forklift training\n",
      "Receiving: Entering specific operation information on the traveler\n",
      "Receiving: For all work tasks performed, meets quality standards\n",
      "Receiving: Independence and proper use of scale to count channels\n",
      "Receiving: Independence with pulling Orion work orders\n",
      "Receiving: Independence with receiving materials and performing tasks in Receiving work area\n",
      "Receiving: Independent ability to utilize computer to clock in/out\n",
      "Receiving: Independent and proper handling of parts, unpacking and repacking of parts\n",
      "Receiving: Independent utilization of pallet jack\n",
      "Receiving: Independent, accurate reading of work orders for pertinent information\n",
      "Receiving: Label creation for boxes for each job\n",
      "Receiving: Meets productivity expectations for work tasks performed\n",
      "Receiving: Properly completes paperwork\n",
      "Receiving: Use of Manual Labor to enter information regarding received jobs\n",
      "Receiving: Verification of received materials by reviewing certification form and purchase order\n",
      "Program\n",
      "Evaluation Start Date\n",
      "10 Key Score\n",
      "10 Key with Decimal Score\n",
      "Additional Comments\n",
      "Attendance & Punctuality: Arrived on time for class\n",
      "Attendance & Punctuality: Comments\n",
      "Attendance & Punctuality: Completed time off request form\n",
      "Attendance & Punctuality: Dates and minutes late\n",
      "Attendance & Punctuality: Dates missed\n",
      "Attendance & Punctuality: Followed call in procedure\n",
      "Attendance & Punctuality: Took and returned from break on time\n",
      "Attendance & Punctuality: Wrapped up in a timely manner at the end of the day\n",
      "Attitude: Accepting of Tasks and/or Instruction\n",
      "Attitude: Comments\n",
      "Attitude: Perceived Effort\n",
      "Attitude: Pleasant and Respectful with CI / Staff\n",
      "Attitude: Pleasant and respectful with classmates\n",
      "Attitude: Positive Attitude\n",
      "Attitude: Receptive to Feedback\n",
      "Attitude: Stress Management\n",
      "Character: Applies Knowledge to Work\n",
      "Character: Comments\n",
      "Character: Honest - Statements made are Truthful; Actions Match Words / Promises Made\n",
      "Character: Uses Feedback to Make Improvements or Adjustments\n",
      "Character: Willingness to Learn\n",
      "Clerical Customer Service  \n",
      "Communication: Comments\n",
      "Communication: Communication with CI / Staff is Clear, Effective and Appropriate\n",
      "Communication: Demonstrates Active Listening with CI / Staff\n",
      "Communication: Demonstrates Active Listening with Peers\n",
      "Communication: Demonstrates Open Body Language and Eye Contact\n",
      "Communication: Discussion Comments are on Topic and Relevant\n",
      "Communication: Expresses Ideas so Peers Understand\n",
      "Communication: Handwriting is Neat and Readable\n",
      "Communication: Professional Writing Style\n",
      "Communication: Uses Appropriately Language and Topics with Peers\n",
      "Computer tutorials worked on\n",
      "Content Type\n",
      "Created By\n",
      "Date Completed\n",
      "Folder Child Count\n",
      "Organization: Arrives ready to work\n",
      "Organization: Comments\n",
      "Organization: Remembers and is Punctual to Scheduled Appointments\n",
      "Physical Adaptation: Comments\n",
      "Respect: Comments\n",
      "Respect: Communication About Self is Health and Realistic; Expresses Confidence in Self and Ability to Perform Tasks\n",
      "Respect: Treats Others with Kindness and Consideration\n",
      "Teamwork: Comments\n",
      "Teamwork: Cooperates with Others / Contributes in Group Endeavors\n",
      "Teamwork: Deals Appropriately with Interpersonal Conflict\n",
      "Time Management: Comments\n",
      "Time Management: Meets Hard Due Dates\n",
      "Time Management: Remains on Task / Looks for Things to Do\n",
      "Time Management: Uses Resources and Asks for Help Appropriately\n",
      "Time Management: Works on all Assigned Tasks\n",
      "Title\n",
      "Typing Score\n",
      "Workplace Appearance: Attire; Dresses appropriately for position and duties\n",
      "Workplace Appearance: Comments\n",
      "Workplace Appearance: Hygiene and Grooming\n",
      "Workplace Performance: Assignments are Completed in their Entirety\n",
      "Workplace Performance: Comments\n",
      "Workplace Performance: Daily Assignments are Accurate\n",
      "Workplace Performance: Follows Directions and Rules of the Classroom/Orion\n",
      "Workplace Performance: Progress on Tutorials\n",
      "Workplace Performance: Weekly Logs are Turned In - Neat, Completed and Detailed\n",
      "Item Type\n",
      "Path\n",
      "Final Due Date\n",
      "people_First Name\n",
      "people_Last Name\n",
      "demo_Date of Birth\n",
      "people_Full Name\n",
      "location code\n"
     ]
    }
   ],
   "source": [
    "for i in eval_df3.columns:\n",
    "    print(i)"
   ]
  },
  {
   "cell_type": "code",
   "execution_count": 63,
   "id": "c2ef1a71-ebc1-4dd7-8c71-8987fc10cee5",
   "metadata": {},
   "outputs": [],
   "source": [
    "eval_df3 = eval_df3.replace(';#','|',regex=True)"
   ]
  },
  {
   "cell_type": "code",
   "execution_count": 64,
   "id": "dfc07ddb-45e5-45f5-822d-646e37d35e98",
   "metadata": {},
   "outputs": [],
   "source": [
    "evaldf = eval_df3[[\n",
    "    'people_First Name',\n",
    "    'people_Last Name',\n",
    "    'demo_Date of Birth',\n",
    "    'Mentor',\n",
    "    'Work Cell',\n",
    "    'For the Week of:_soft',\n",
    "    'Final Due Date',\n",
    "    'Attendance (Please note number of full days missed. If no days were missed, fill in 0)_soft',\n",
    "    'Punctuality_soft',\n",
    "    'Demeanor & Attitude_soft',\n",
    "    'Workplace Appearance & Attire_soft',\n",
    "    'Grooming & Hygiene_soft',\n",
    "    'Cooperation & Teamwork_soft',\n",
    "    'Interpersonal Communication Style_soft',\n",
    "    'Response to Feedback / Instruction_soft',\n",
    "    'Organization_soft',\n",
    "    'Work Effort & Initiative_soft',\n",
    "    'Work Tolerance & Stamina_soft',\n",
    "    'Learning Style_soft',\n",
    "    'Follows all Safety Rules & Policies?_soft',\n",
    "    'Note Any Inappropriate Behaviors Observed during Evaluation Period (if no inappropriate behaviors observed, mark that choice)_soft',\n",
    "    \"Are Person's Soft Skills / General Employment Traits Competitive?_soft\",\n",
    "    'Soft Skills Comments_soft',\n",
    "    # general employment\n",
    "    'General Employment: Keeps a clean & organized workspace in order to reduce FOD',\n",
    "    # Utilizes pictures/blueprint to produce clamp block assembly\n",
    "    'Assembly: Independent ability to accurately read the details of a blueprint',\n",
    "    # Lays out blocks for building correctly\n",
    "    'Assembly: Properly lays out the blocks for building',\n",
    "    # Places jobs on correct location on shelves|Returns excess pieces to inventory\n",
    "    'Assembly: Demonstrates ability to place jobs on correct spot of warehouse shelf',\n",
    "    #Sets up for part mark, including part mark location and selecting proper size for part mark\n",
    "    'Packaging & Part Mark: Proper set up for part mark',\n",
    "    #Assesses part mark for quality and redo as needed|Applies overcoat\n",
    "    'Packaging & Part Mark: Applies overcoat precisely, with desired thickness',\n",
    "    #Judges size of bag to package parts|Packages multiple parts that will meet inspection standards|Operates bag sealer\n",
    "    'Packaging & Part Mark: Correct operation of bag sealer',\n",
    "    #Removes labels from boxes before use; Creates labels for job boxes\n",
    "    'Clamp Block Inventory: Creates labels for job boxes',\n",
    "    #When pulling parts from inventory - Identifies and verifies part #'s and lot #'s using the Job Material Queue\n",
    "    'Clamp Block Inventory: For each part pulled from inventory, records correct lot # and qty to work order',\n",
    "    #Issues parts with computer using Job Material Queue and Process by ID\n",
    "    'Clamp Block Inventory: Issues parts with computer using Inventory Transaction in VMFG',\n",
    "    #Operates the chop saw\n",
    "    'CHAKU: Operation of saw',\n",
    "    #Operates the punch press\n",
    "    'CHAKU: Operation of punch press',\n",
    "    #Operates the countersink machine\n",
    "    'CHAKU: Operation of countersink',\n",
    "    #Operates the flat finisher (deburr)\n",
    "    'CHAKU: Operation of deburr',\n",
    "    #Operates the CNC Mill\n",
    "    'CHAKU: Operation of CNC Mill',\n",
    "    #Utilizes work order to differentiate between grommet shape: (ex. F material from J or H material)\n",
    "    'Grommets: Utilizes work order to differentiate between grommet shape',\n",
    "    #Kiss cuts washers\n",
    "    'Grommets: Demonstrates ability to kiss cut washers',\n",
    "    #Wraps prepped grommet onto centers; loads into jig\n",
    "    'Grommets: Independent ability to accurately load a jig',\n",
    "    #Assembles a grommet|Identifies holes in grommet|Repairs holes in grommet|Builds at average rate of 10-15 parts per hour\n",
    "    'Grommets: Ability to identify holes in grommet',\n",
    "    #Cleans offices, corridors, meeting rooms, and common spaces|Dusts|Cleans restrooms|Uses auto scrubber to clean floor|Vacuums carpeted floors|Washes windows and doors|Takes out trash and recycling\n",
    "    'Custodial: Follows proper restroom cleaning sequence that meets quality standards',\n",
    "    #Finds SDS information|Works with chemicals and mixes cleaning solutions\n",
    "    'Custodial: Independent ability to properly mix cleaning solutions',\n",
    "    #Checks appliances and light fixtures, changes light bulbs as needed\n",
    "    'Custodial: Independently changes light bulbs as needed',\n",
    "    #Identifies each job and work order number|Identifies the process for each part/job|Creates identification tags for jobs travelling through processes\n",
    "    'Racking / Unracking; Paint Prep: Independent ability to obtain process information from work order traveler',\n",
    "    #Masks parts using tape and/or plugs|Removes masking tape and/or plugs|Lays out parts on paint screen\n",
    "    'Racking / Unracking; Paint Prep: Able to properly layout parts on paint screen',\n",
    "    #Pre-cleans parts by removing ink or excessive oils\n",
    "    'Racking / Unracking; Paint Prep: Pre-cleans parts by removing ink or excessive oils',\n",
    "    #Enters part mark data on the A200 or A320i part mark machine|Places part mark in correct location\n",
    "    'Part Mark: Independently utilize the A320i vendor options for data entry of part mark',\n",
    "    #Uploads part mark onto a dauber sheet|Applies part mark using ink dauber\n",
    "    'Part Mark: Application of part marks by using ink dauber',\n",
    "    #Ability to correctly judge what size bag to package parts in\n",
    "    'Packaging: Ability to correctly judge what size bag to package parts in',\n",
    "    #Greets visitors and assists with purpose of visit|Answers telephone and direct calls|Handles customer questions or issues requiring follow up\n",
    "    'General Admin Clerk: Provides excellent customer service',\n",
    "    #Checks daily mail and delivers\n",
    "    'General Admin Clerk: Independent with the mail run (grabs mail from mailbox, sorts and delivers to appropriate parties)',\n",
    "    #Scans documents and saves files to the appropriate location on computer|Uses photocopy machine|Creates paperwork packets\n",
    "    'General Admin Clerk: Saving documents/files in the appropriate location on the computer',\n",
    "    #Completes over coat operations\n",
    "    'HBU: Independently completes over coating operations',\n",
    "    #Completes job shadow of an assembly technician\n",
    "    'HBU: Completion of job shadow of an assembly technician',\n",
    "    #Identifies call outs, flags notes and locations for parts on blueprints\n",
    "    'HBU - assembly: Recognizes views and orientation of parts on blueprints',\n",
    "    #Builds parts while being shadowed by mentor/technician\n",
    "    'HBU - assembly: Accurately builds parts while being shadowed by mentor/technician',\n",
    "    #Receives certifications (note in comments which certifications)\n",
    "    'HBU - assembly: Receives certifications (note in comments which certifications)',\n",
    "    #Loads and unloads tooling from holders and spindle\n",
    "    'Mills: Independent ability to load and unload tools from holders and spindle',\n",
    "    #Identifies burrs|Deburrs parts\n",
    "    'Mills: Independent ability to deburr parts correctly',\n",
    "    #Understands and explains concept of X, Y, Z coordinate system\n",
    "    'Mills: Able to understand and explain concept of X, Y, Z coordinate system',\n",
    "    #Sets up tools|Breaks down returned tools\n",
    "    'Mills Tool Crib: Accurately sets up tools',\n",
    "    #Identifies burrs, damage and flaws\n",
    "    'Vibraburr: Independent ability to identify a burr',\n",
    "    #Runs Vibrodyne machine|Runs Roto machine|Runs Burr King machine|Runs Cement Mixer machine\n",
    "    'Vibraburr: Independent ability to run Vibrodyne machine',\n",
    "    #Identifies when machine cleaning is needed (ex. change water)\n",
    "    'Vibraburr: Independent ability to clean machine as needed (ex. change water)',\n",
    "    #Identifies and stamps military export controlled work orders|Identifies work orders with FAI (First Article Inspection) operation|Sorts, staples, and confirms documents are in order\n",
    "    'Commercial Work Order Processing: IDs and stamps military export controlled work orders',\n",
    "    #Verifies that revision levels listed on work order are current (sources of reference may include Boeing EID and customer purchase order notes)\n",
    "    'Commercial Work Order Processing: Verifies revision levels listed on work order are current',\n",
    "    #Opens estimating tab in Epicor and inputs data into correct fields|Opens and reviews estimating quote log in Epicor|Logs onto Exostar/Boeing portal|Opens EID (Engineering Information Delivery) page, selects & downloads correct drawings on Boeing Portal\n",
    "    'Estimating Training Evaluation: Correctly opens EID page, selects & downloads correct drawings on Boeing Portal',\n",
    "    #Identifies drill bits and countersink size\n",
    "    'Mechanical Assembly: Independent, accurate usage of precision measuring equipment',\n",
    "    #Operates the countersink machine|Sets up the countersink machine\n",
    "    'Mechanical Assembly: Independent operation of countersink',\n",
    "    #Operates the riveter/squeeze machine|Sets up the riveter/squeeze machine\n",
    "    'Mechanical Assembly: Independent operation of riveter / squeeze',\n",
    "    #Operates the drill press|Sets up the drill press\n",
    "    'Mechanical Assembly: Independent operation of drill press',\n",
    "    #Utilizes procedure for bonding tasks\n",
    "    'Mechanical Assembly : Utilizes proper procedure for bonding tasks',\n",
    "    #Assembles wiggle plates\n",
    "    'Mechanical Assembly : Assembly of wiggle plates',\n",
    "    #Sets up minor jobs (nut plate, wiggle plate, countersink machine)\n",
    "    'Mechanical Assembly : Independent set-up of minor jobs (nut plate, wiggle plate, countersink machine)',\n",
    "    #Determines drawings required\n",
    "    'QA: Ability to determine drawings required and current revisions',\n",
    "    #Operates the blanking press\n",
    "    'Blanking Press: Acceptable operation of blanking press',\n",
    "    #Locates tooling for each job|Sets up and takes down tooling|Puts tool away\n",
    "    'Blanking Press: Ability to locate proper tooling for each job',\n",
    "    #Identifies burrs|Deburrs parts\n",
    "    'Blanking Press: Correctly deburrs parts',\n",
    "    #Lubricates tools\n",
    "    'Blanking Press: Proper lubrication of material',\n",
    "    #Operates the Amada\n",
    "    'Amada: Proper operation of Amada',\n",
    "    #Operates brake form in Mylar cutting\n",
    "    'Brake Form: Operation of brake form in Mylar cutting',\n",
    "    #Sets up and centers Mylar cutting tool\n",
    "    'Brake Form: Independent ability to set up and center Mylar cutting tool',\n",
    "    #Identifies burrs|Uses \"Timesaver\"|Deburrs parts\n",
    "    'Brake Form: Correctly deburrs parts',\n",
    "    #Identifies and locates correct material for each job|Loads and unloads material|Performs computer steps to start machine\n",
    "    'Routers: Independent ability to identify and locate correct material for each job',\n",
    "    #Identifies and locates tooling for each job|Sets up and changes tooling plates\n",
    "    'Routers: Independent ability to setup and change tooling plates',\n",
    "    #Identifies burrs|Deburrs parts\n",
    "    'Routers: Correctly deburrs parts',\n",
    "    #Differentiates between Boeing and Commercial work orders|Locates tools and templates used for Boeing work orders|Locates, prints, and verifies certification (cert)\n",
    "    'Shears: Independent ability to differentiate between Boeing and Commercial work orders',\n",
    "    #Sets up the machine\n",
    "    'Shears: Independent ability to set up machine',\n",
    "    #Operates the shear\n",
    "    'Shears: Accurate operation of Shear',\n",
    "    #Understands machine operation and computer inputs|Differentiates between Automatic Start and Manual Start procedure and when each would be used\n",
    "    'Waterjet: Understands and demonstrates proper machine operation and computer inputs',\n",
    "    #Operates the water jet|Sets up the water jet\n",
    "    'Waterjet: Independent setup and machine operation of Water Jet',\n",
    "    #Operates the grind wheel|Uses deburr hand tools including scotch brite or sand paper|Cleans parts thoroughly with alcohol\n",
    "    'Deburr: Cleans parts thoroughly with alcohol',\n",
    "    #Counts and verifies part mark and paperwork prior to packaging outgoing shipment\n",
    "    'Commercial Shipping: Sort, segregate and prioritize verified work order by due date and shipping date',\n",
    "    #Visually inspects incoming product for damage, re-package product according to Orion guidelines prior to moving on to next area\n",
    "    'Receiving: Independence with receiving materials and performing tasks in Receiving work area',\n",
    "    #Operates the pallet jack\n",
    "    'Receiving: Independent utilization of pallet jack',\n",
    "    #Visually inspects incoming product for damage, re-packages product per Orion guidelines prior to moving into inventory\n",
    "    \"Inventory: for parts pulled out of inventory, verifies correct part #'s on work order\",\n",
    "    #Retrieves product from inventory; moves to next location based on work order or pull ticket\n",
    "    'Inventory: Independently finds correct location when picking parts from inventory',\n",
    "    #Counts product in each specified bin location during cycle count activity\n",
    "    'Inventory: Ensures that counts in inventory match what is posted for cycle counts',\n",
    "    #Applies bond and adheres waffle or strips to orifice|Places weights on waffle orifices\n",
    "    'Bond: Application of bond and adherence of waffle or strips to orifice',\n",
    "    #Calculates cure time for bond\n",
    "    'Bond: Independent, accurate calculation of cure time for bond',\n",
    "    #Creates internal work order\n",
    "    'Shipping & Receiving: Independent creation of internal work order',\n",
    "    #Enters information into Boeing Portal\n",
    "    'Shipping & Receiving: Accurate entering of information into Boeing Portal',\n",
    "    #Utilizes and navigates computer applications\n",
    "    'Manufacturing Offices: Independent ability to utilize and navigate computer applications',\n",
    "    #Creates Purchase Orders|Creates quotes/estimates\n",
    "    'Manufacturing Offices: Independently creates Purchase Orders',\n",
    "    #Gathers data from internal lists and makes determinations based on information\n",
    "    'Manufacturing Offices: Gathers correct data from internal lists and makes correct decisions based on this informaton',\n",
    "    #Visually inspects and measures parts\n",
    "    'Wire Assembly: Independent visual inspection and measurement of each part',\n",
    "    #Ensures that counts per bag match what is posted on front of boxes|Properly runs 2 bag system\n",
    "    'Inventory: Proper run of 2 bag system',\n",
    "    #Inspects and verifies wire part marks/lengths|Completes job (operations closed, paperwork stamped, etc.)\n",
    "    'Wire QA: Accurate inspection and verification of wire lengths',\n",
    "    #Loads and threads wire through de-reeler, unracks wire spool and returns to its correct location\n",
    "    'Laser Marking: Independently and accurately loads and threads wire through de-reeler',\n",
    "    #Follows procedure to access laser marking information on flash drive/computer\n",
    "    'Laser Marking: Follows proper procedure to access laser marking information on flash drive/computer',\n",
    "    'location code'\n",
    "]]"
   ]
  },
  {
   "cell_type": "code",
   "execution_count": 65,
   "id": "460a48ba-07b2-4b3d-a950-6b8be374490b",
   "metadata": {},
   "outputs": [],
   "source": [
    "evalreplist = ['Keeps a clean & organized workspace in order to reduce FOD',\n",
    "'General Employment: Keeps a clean & organized workspace in order to reduce FOD',\n",
    "'Utilizes pictures/blueprint to produce clamp block assembly',\n",
    "'Assembly: Independent ability to accurately read the details of a blueprint',\n",
    "'Lays out blocks for building correctly',\n",
    "'Assembly: Properly lays out the blocks for building',\n",
    "'Places jobs on correct location on shelves|Returns excess pieces to inventory',\n",
    "'Assembly: Demonstrates ability to place jobs on correct spot of warehouse shelf',\n",
    "'Sets up for part mark, including part mark location and selecting proper size for part mark',\n",
    "'Packaging & Part Mark: Proper set up for part mark',\n",
    "'Assesses part mark for quality and redo as needed|Applies overcoat',\n",
    "'Packaging & Part Mark: Applies overcoat precisely, with desired thickness',\n",
    "'Judges size of bag to package parts|Packages multiple parts that will meet inspection standards|Operates bag sealer',\n",
    "'Packaging & Part Mark: Correct operation of bag sealer',\n",
    "'Removes labels from boxes before use; Creates labels for job boxes',\n",
    "'Clamp Block Inventory: Creates labels for job boxes',\n",
    "\"When pulling parts from inventory - Identifies and verifies part #'s and lot #'s using the Job Material Queue\",\n",
    "'Clamp Block Inventory: For each part pulled from inventory, records correct lot # and qty to work order',\n",
    "'Issues parts with computer using Job Material Queue and Process by ID',\n",
    "'Clamp Block Inventory: Issues parts with computer using Inventory Transaction in VMFG',\n",
    "'Operates the chop saw',\n",
    "'CHAKU: Operation of saw',\n",
    "'Operates the punch press',\n",
    "'CHAKU: Operation of punch press',\n",
    "'Operates the countersink machine',\n",
    "'CHAKU: Operation of countersink',\n",
    "'Operates the flat finisher (deburr)',\n",
    "'CHAKU: Operation of deburr',\n",
    "'Operates the CNC Mill',\n",
    "'CHAKU: Operation of CNC Mill',\n",
    "'Utilizes work order to differentiate between grommet shape: (ex. F material from J or H material)',\n",
    "'Grommets: Utilizes work order to differentiate between grommet shape',\n",
    "'Kiss cuts washers',\n",
    "'Grommets: Demonstrates ability to kiss cut washers',\n",
    "'Wraps prepped grommet onto centers; loads into jig',\n",
    "'Grommets: Independent ability to accurately load a jig',\n",
    "'Assembles a grommet|Identifies holes in grommet|Repairs holes in grommet|Builds at average rate of 10-15 parts per hour',\n",
    "'Grommets: Ability to identify holes in grommet',\n",
    "'Cleans offices, corridors, meeting rooms, and common spaces|Dusts|Cleans restrooms|Uses auto scrubber to clean floor|Vacuums carpeted floors|Washes windows and doors|Takes out trash and recycling',\n",
    "'Custodial: Follows proper restroom cleaning sequence that meets quality standards',\n",
    "'Finds SDS information|Works with chemicals and mixes cleaning solutions',\n",
    "'Custodial: Independent ability to properly mix cleaning solutions',\n",
    "'Checks appliances and light fixtures, changes light bulbs as needed',\n",
    "'Custodial: Independently changes light bulbs as needed',\n",
    "'Identifies each job and work order number|Identifies the process for each part/job|Creates identification tags for jobs travelling through processes',\n",
    "'Racking / Unracking; Paint Prep: Independent ability to obtain process information from work order traveler',\n",
    "'Masks parts using tape and/or plugs|Removes masking tape and/or plugs|Lays out parts on paint screen',\n",
    "'Racking / Unracking; Paint Prep: Able to properly layout parts on paint screen',\n",
    "'Pre-cleans parts by removing ink or excessive oils',\n",
    "'Racking / Unracking; Paint Prep: Pre-cleans parts by removing ink or excessive oils',\n",
    "'Enters part mark data on the A200 or A320i part mark machine|Places part mark in correct location',\n",
    "'Part Mark: Independently utilize the A320i vendor options for data entry of part mark',\n",
    "'Uploads part mark onto a dauber sheet|Applies part mark using ink dauber',\n",
    "'Part Mark: Application of part marks by using ink dauber',\n",
    "'Ability to correctly judge what size bag to package parts in',\n",
    "'Packaging: Ability to correctly judge what size bag to package parts in',\n",
    "'Greets visitors and assists with purpose of visit|Answers telephone and direct calls|Handles customer questions or issues requiring follow up',\n",
    "'General Admin Clerk: Provides excellent customer service',\n",
    "'Checks daily mail and delivers',\n",
    "'General Admin Clerk: Independent with the mail run (grabs mail from mailbox, sorts and delivers to appropriate parties)',\n",
    "'Scans documents and saves files to the appropriate location on computer|Uses photocopy machine|Creates paperwork packets',\n",
    "'General Admin Clerk: Saving documents/files in the appropriate location on the computer',\n",
    "'Completes over coat operations',\n",
    "'HBU: Independently completes over coating operations',\n",
    "'Completes job shadow of an assembly technician',\n",
    "'HBU: Completion of job shadow of an assembly technician',\n",
    "'Identifies call outs, flags notes and locations for parts on blueprints',\n",
    "'HBU - assembly: Recognizes views and orientation of parts on blueprints',\n",
    "'Builds parts while being shadowed by mentor/technician',\n",
    "'HBU - assembly: Accurately builds parts while being shadowed by mentor/technician',\n",
    "'Receives certifications (note in comments which certifications)',\n",
    "'HBU - assembly: Receives certifications (note in comments which certifications)',\n",
    "'Loads and unloads tooling from holders and spindle',\n",
    "'Mills: Independent ability to load and unload tools from holders and spindle',\n",
    "'Identifies burrs|Deburrs parts',\n",
    "'Mills: Independent ability to deburr parts correctly',\n",
    "'Understands and explains concept of X, Y, Z coordinate system',\n",
    "'Mills: Able to understand and explain concept of X, Y, Z coordinate system',\n",
    "'Sets up tools|Breaks down returned tools',\n",
    "'Mills Tool Crib: Accurately sets up tools',\n",
    "'Identifies burrs, damage and flaws',\n",
    "'Vibraburr: Independent ability to identify a burr',\n",
    "'Runs Vibrodyne machine|Runs Roto machine|Runs Burr King machine|Runs Cement Mixer machine',\n",
    "'Vibraburr: Independent ability to run Vibrodyne machine',\n",
    "'Identifies when machine cleaning is needed (ex. change water)',\n",
    "'Vibraburr: Independent ability to clean machine as needed (ex. change water)',\n",
    "'Identifies and stamps military export controlled work orders|Identifies work orders with FAI (First Article Inspection) operation|Sorts, staples, and confirms documents are in order',\n",
    "'Commercial Work Order Processing: IDs and stamps military export controlled work orders',\n",
    "'Verifies that revision levels listed on work order are current (sources of reference may include Boeing EID and customer purchase order notes)',\n",
    "'Commercial Work Order Processing: Verifies revision levels listed on work order are current',\n",
    "'Opens estimating tab in Epicor and inputs data into correct fields|Opens and reviews estimating quote log in Epicor|Logs onto Exostar/Boeing portal|Opens EID (Engineering Information Delivery) page, selects & downloads correct drawings on Boeing Portal',\n",
    "'Estimating Training Evaluation: Correctly opens EID page, selects & downloads correct drawings on Boeing Portal',\n",
    "'Identifies drill bits and countersink size',\n",
    "'Mechanical Assembly: Independent, accurate usage of precision measuring equipment',\n",
    "'Operates the countersink machine|Sets up the countersink machine',\n",
    "'Mechanical Assembly: Independent operation of countersink',\n",
    "'Operates the riveter/squeeze machine|Sets up the riveter/squeeze machine',\n",
    "'Mechanical Assembly: Independent operation of riveter / squeeze',\n",
    "'Operates the drill press|Sets up the drill press',\n",
    "'Mechanical Assembly: Independent operation of drill press',\n",
    "'Utilizes procedure for bonding tasks',\n",
    "'Mechanical Assembly : Utilizes proper procedure for bonding tasks',\n",
    "'Assembles wiggle plates',\n",
    "'Mechanical Assembly : Assembly of wiggle plates',\n",
    "'Sets up minor jobs (nut plate, wiggle plate, countersink machine)',\n",
    "'Mechanical Assembly : Independent set-up of minor jobs (nut plate, wiggle plate, countersink machine)',\n",
    "'Determines drawings required',\n",
    "'QA: Ability to determine drawings required and current revisions',\n",
    "'Operates the blanking press',\n",
    "'Blanking Press: Acceptable operation of blanking press',\n",
    "'Locates tooling for each job|Sets up and takes down tooling|Puts tool away',\n",
    "'Blanking Press: Ability to locate proper tooling for each job',\n",
    "'Identifies burrs|Deburrs parts',\n",
    "'Blanking Press: Correctly deburrs parts',\n",
    "'Lubricates tools',\n",
    "'Blanking Press: Proper lubrication of material',\n",
    "'Operates the Amada',\n",
    "'Amada: Proper operation of Amada',\n",
    "'Operates brake form in Mylar cutting',\n",
    "'Brake Form: Operation of brake form in Mylar cutting',\n",
    "'Sets up and centers Mylar cutting tool',\n",
    "'Brake Form: Independent ability to set up and center Mylar cutting tool',\n",
    "'Identifies burrs|Uses \"Timesaver\"|Deburrs parts',\n",
    "'Brake Form: Correctly deburrs parts',\n",
    "'Identifies and locates correct material for each job|Loads and unloads material|Performs computer steps to start machine',\n",
    "'Routers: Independent ability to identify and locate correct material for each job',\n",
    "'Identifies and locates tooling for each job|Sets up and changes tooling plates',\n",
    "'Routers: Independent ability to setup and change tooling plates',\n",
    "'Identifies burrs|Deburrs parts',\n",
    "'Routers: Correctly deburrs parts',\n",
    "'Differentiates between Boeing and Commercial work orders|Locates tools and templates used for Boeing work orders|Locates, prints, and verifies certification (cert)',\n",
    "'Shears: Independent ability to differentiate between Boeing and Commercial work orders',\n",
    "'Sets up the machine',\n",
    "'Shears: Independent ability to set up machine',\n",
    "'Operates the shear',\n",
    "'Shears: Accurate operation of Shear',\n",
    "'Understands machine operation and computer inputs|Differentiates between Automatic Start and Manual Start procedure and when each would be used',\n",
    "'Waterjet: Understands and demonstrates proper machine operation and computer inputs',\n",
    "'Operates the water jet|Sets up the water jet',\n",
    "'Waterjet: Independent setup and machine operation of Water Jet',\n",
    "'Operates the grind wheel|Uses deburr hand tools including scotch brite or sand paper|Cleans parts thoroughly with alcohol',\n",
    "'Deburr: Cleans parts thoroughly with alcohol',\n",
    "'Counts and verifies part mark and paperwork prior to packaging outgoing shipment',\n",
    "'Commercial Shipping: Sort, segregate and prioritize verified work order by due date and shipping date',\n",
    "'Visually inspects incoming product for damage, re-package product according to Orion guidelines prior to moving on to next area',\n",
    "'Receiving: Independence with receiving materials and performing tasks in Receiving work area',\n",
    "'Operates the pallet jack',\n",
    "'Receiving: Independent utilization of pallet jack',\n",
    "'Visually inspects incoming product for damage, re-packages product per Orion guidelines prior to moving into inventory',\n",
    "\"Inventory: for parts pulled out of inventory, verifies correct part #'s on work order\",\n",
    "'Retrieves product from inventory; moves to next location based on work order or pull ticket',\n",
    "'Inventory: Independently finds correct location when picking parts from inventory',\n",
    "'Counts product in each specified bin location during cycle count activity',\n",
    "'Inventory: Ensures that counts in inventory match what is posted for cycle counts',\n",
    "'Applies bond and adheres waffle or strips to orifice|Places weights on waffle orifices',\n",
    "'Bond: Application of bond and adherence of waffle or strips to orifice',\n",
    "'Calculates cure time for bond',\n",
    "'Bond: Independent, accurate calculation of cure time for bond',\n",
    "'Creates internal work order',\n",
    "'Shipping & Receiving: Independent creation of internal work order',\n",
    "'Enters information into Boeing Portal',\n",
    "'Shipping & Receiving: Accurate entering of information into Boeing Portal',\n",
    "'Utilizes and navigates computer applications',\n",
    "'Manufacturing Offices: Independent ability to utilize and navigate computer applications',\n",
    "'Creates Purchase Orders|Creates quotes/estimates',\n",
    "'Manufacturing Offices: Independently creates Purchase Orders',\n",
    "'Gathers data from internal lists and makes determinations based on information',\n",
    "'Manufacturing Offices: Gathers correct data from internal lists and makes correct decisions based on this informaton',\n",
    "'Visually inspects and measures parts',\n",
    "'Wire Assembly: Independent visual inspection and measurement of each part',\n",
    "'Ensures that counts per bag match what is posted on front of boxes|Properly runs 2 bag system',\n",
    "'Inventory: Proper run of 2 bag system',\n",
    "'Inspects and verifies wire part marks/lengths|Completes job (operations closed, paperwork stamped, etc.)',\n",
    "'Wire QA: Accurate inspection and verification of wire lengths',\n",
    "'Loads and threads wire through de-reeler, unracks wire spool and returns to its correct location',\n",
    "'Laser Marking: Independently and accurately loads and threads wire through de-reeler',\n",
    "'Follows procedure to access laser marking information on flash drive/computer',\n",
    "'Laser Marking: Follows proper procedure to access laser marking information on flash drive/computer']"
   ]
  },
  {
   "cell_type": "code",
   "execution_count": 66,
   "id": "06610f96-3df7-488e-9cbe-c1d485708f24",
   "metadata": {},
   "outputs": [],
   "source": [
    "evaldf2 = evaldf.copy()"
   ]
  },
  {
   "cell_type": "code",
   "execution_count": 67,
   "id": "3e782506-f891-4754-832c-20613498b1d4",
   "metadata": {},
   "outputs": [
    {
     "name": "stdout",
     "output_type": "stream",
     "text": [
      "done\n"
     ]
    }
   ],
   "source": [
    "for i,v in enumerate(evalreplist):\n",
    "    i1 = i+1\n",
    "    try:\n",
    "        v1 = evalreplist[i1]\n",
    "    except:\n",
    "        print('done')\n",
    "    if i%2 == 0:\n",
    "        evaldf2[v] = np.where(evaldf2[v1].notna(),v,'')\n",
    "    else:\n",
    "        continue"
   ]
  },
  {
   "cell_type": "code",
   "execution_count": 68,
   "id": "2168883f-1f40-4424-b4cc-216bc2e55ac7",
   "metadata": {
    "scrolled": true
   },
   "outputs": [
    {
     "name": "stdout",
     "output_type": "stream",
     "text": [
      "<class 'pandas.core.frame.DataFrame'>\n",
      "RangeIndex: 5639 entries, 0 to 5638\n",
      "Columns: 200 entries, people_First Name to Follows procedure to access laser marking information on flash drive/computer\n",
      "dtypes: datetime64[ns](2), float64(1), int32(1), object(196)\n",
      "memory usage: 8.6+ MB\n"
     ]
    }
   ],
   "source": [
    "evaldf2.info()"
   ]
  },
  {
   "cell_type": "code",
   "execution_count": 69,
   "id": "542bd168-c534-4646-a1b1-0e141eae5499",
   "metadata": {},
   "outputs": [
    {
     "name": "stdout",
     "output_type": "stream",
     "text": [
      "<class 'pandas.core.frame.DataFrame'>\n",
      "RangeIndex: 5639 entries, 0 to 5638\n",
      "Columns: 113 entries, people_First Name to location code\n",
      "dtypes: datetime64[ns](2), float64(1), int32(1), object(109)\n",
      "memory usage: 4.8+ MB\n"
     ]
    }
   ],
   "source": [
    "evaldf.info()"
   ]
  },
  {
   "cell_type": "code",
   "execution_count": 70,
   "id": "90758582-941e-479d-8a8d-63ded430e94c",
   "metadata": {},
   "outputs": [],
   "source": [
    "evaldf4 = evaldf2[[\n",
    "    'people_First Name',\n",
    "    'people_Last Name',\n",
    "    'demo_Date of Birth',\n",
    "    'Mentor',\n",
    "    'Work Cell',\n",
    "    'For the Week of:_soft',\n",
    "    'Final Due Date',\n",
    "    'Attendance (Please note number of full days missed. If no days were missed, fill in 0)_soft',\n",
    "    'Punctuality_soft',\n",
    "    'Demeanor & Attitude_soft',\n",
    "    'Workplace Appearance & Attire_soft',\n",
    "    'Grooming & Hygiene_soft',\n",
    "    'Cooperation & Teamwork_soft',\n",
    "    'Interpersonal Communication Style_soft',\n",
    "    'Response to Feedback / Instruction_soft',\n",
    "    'Organization_soft',\n",
    "    'Work Effort & Initiative_soft',\n",
    "    'Work Tolerance & Stamina_soft',\n",
    "    'Learning Style_soft',\n",
    "    'Follows all Safety Rules & Policies?_soft',\n",
    "    'Note Any Inappropriate Behaviors Observed during Evaluation Period (if no inappropriate behaviors observed, mark that choice)_soft',\n",
    "    \"Are Person's Soft Skills / General Employment Traits Competitive?_soft\",\n",
    "    'Soft Skills Comments_soft',\n",
    "    'Keeps a clean & organized workspace in order to reduce FOD',\n",
    "    'General Employment: Keeps a clean & organized workspace in order to reduce FOD',\n",
    "    'Utilizes pictures/blueprint to produce clamp block assembly',\n",
    "    'Assembly: Independent ability to accurately read the details of a blueprint',\n",
    "    'Lays out blocks for building correctly',\n",
    "    'Assembly: Properly lays out the blocks for building',\n",
    "    'Places jobs on correct location on shelves|Returns excess pieces to inventory',\n",
    "    'Assembly: Demonstrates ability to place jobs on correct spot of warehouse shelf',\n",
    "    'Sets up for part mark, including part mark location and selecting proper size for part mark',\n",
    "    'Packaging & Part Mark: Proper set up for part mark',\n",
    "    'Assesses part mark for quality and redo as needed|Applies overcoat',\n",
    "    'Packaging & Part Mark: Applies overcoat precisely, with desired thickness',\n",
    "    'Judges size of bag to package parts|Packages multiple parts that will meet inspection standards|Operates bag sealer',\n",
    "    'Packaging & Part Mark: Correct operation of bag sealer',\n",
    "    'Removes labels from boxes before use; Creates labels for job boxes',\n",
    "    'Clamp Block Inventory: Creates labels for job boxes',\n",
    "    \"When pulling parts from inventory - Identifies and verifies part #'s and lot #'s using the Job Material Queue\",\n",
    "    'Clamp Block Inventory: For each part pulled from inventory, records correct lot # and qty to work order',\n",
    "    'Issues parts with computer using Job Material Queue and Process by ID',\n",
    "    'Clamp Block Inventory: Issues parts with computer using Inventory Transaction in VMFG',\n",
    "    'Operates the chop saw',\n",
    "    'CHAKU: Operation of saw',\n",
    "    'Operates the punch press',\n",
    "    'CHAKU: Operation of punch press',\n",
    "    'Operates the countersink machine',\n",
    "    'CHAKU: Operation of countersink',\n",
    "    'Operates the flat finisher (deburr)',\n",
    "    'CHAKU: Operation of deburr',\n",
    "    'Operates the CNC Mill',\n",
    "    'CHAKU: Operation of CNC Mill',\n",
    "    'Utilizes work order to differentiate between grommet shape: (ex. F material from J or H material)',\n",
    "    'Grommets: Utilizes work order to differentiate between grommet shape',\n",
    "    'Kiss cuts washers',\n",
    "    'Grommets: Demonstrates ability to kiss cut washers',\n",
    "    'Wraps prepped grommet onto centers; loads into jig',\n",
    "    'Grommets: Independent ability to accurately load a jig',\n",
    "    'Assembles a grommet|Identifies holes in grommet|Repairs holes in grommet|Builds at average rate of 10-15 parts per hour',\n",
    "    'Grommets: Ability to identify holes in grommet',\n",
    "    'Cleans offices, corridors, meeting rooms, and common spaces|Dusts|Cleans restrooms|Uses auto scrubber to clean floor|Vacuums carpeted floors|Washes windows and doors|Takes out trash and recycling',\n",
    "    'Custodial: Follows proper restroom cleaning sequence that meets quality standards',\n",
    "    'Finds SDS information|Works with chemicals and mixes cleaning solutions',\n",
    "    'Custodial: Independent ability to properly mix cleaning solutions',\n",
    "    'Checks appliances and light fixtures, changes light bulbs as needed',\n",
    "    'Custodial: Independently changes light bulbs as needed',\n",
    "    'Identifies each job and work order number|Identifies the process for each part/job|Creates identification tags for jobs travelling through processes',\n",
    "    'Racking / Unracking; Paint Prep: Independent ability to obtain process information from work order traveler',\n",
    "    'Masks parts using tape and/or plugs|Removes masking tape and/or plugs|Lays out parts on paint screen',\n",
    "    'Racking / Unracking; Paint Prep: Able to properly layout parts on paint screen',\n",
    "    'Pre-cleans parts by removing ink or excessive oils',\n",
    "    'Racking / Unracking; Paint Prep: Pre-cleans parts by removing ink or excessive oils',\n",
    "    'Enters part mark data on the A200 or A320i part mark machine|Places part mark in correct location',\n",
    "    'Part Mark: Independently utilize the A320i vendor options for data entry of part mark',\n",
    "    'Uploads part mark onto a dauber sheet|Applies part mark using ink dauber',\n",
    "    'Part Mark: Application of part marks by using ink dauber',\n",
    "    'Ability to correctly judge what size bag to package parts in',\n",
    "    'Packaging: Ability to correctly judge what size bag to package parts in',\n",
    "    'Greets visitors and assists with purpose of visit|Answers telephone and direct calls|Handles customer questions or issues requiring follow up',\n",
    "    'General Admin Clerk: Provides excellent customer service',\n",
    "    'Checks daily mail and delivers',\n",
    "    'General Admin Clerk: Independent with the mail run (grabs mail from mailbox, sorts and delivers to appropriate parties)',\n",
    "    'Scans documents and saves files to the appropriate location on computer|Uses photocopy machine|Creates paperwork packets',\n",
    "    'General Admin Clerk: Saving documents/files in the appropriate location on the computer',\n",
    "    'Completes over coat operations',\n",
    "    'HBU: Independently completes over coating operations',\n",
    "    'Completes job shadow of an assembly technician',\n",
    "    'HBU: Completion of job shadow of an assembly technician',\n",
    "    'Identifies call outs, flags notes and locations for parts on blueprints',\n",
    "    'HBU - assembly: Recognizes views and orientation of parts on blueprints',\n",
    "    'Builds parts while being shadowed by mentor/technician',\n",
    "    'HBU - assembly: Accurately builds parts while being shadowed by mentor/technician',\n",
    "    'Receives certifications (note in comments which certifications)',\n",
    "    'HBU - assembly: Receives certifications (note in comments which certifications)',\n",
    "    'Loads and unloads tooling from holders and spindle',\n",
    "    'Mills: Independent ability to load and unload tools from holders and spindle',\n",
    "    'Identifies burrs|Deburrs parts',\n",
    "    'Mills: Independent ability to deburr parts correctly',\n",
    "    'Understands and explains concept of X, Y, Z coordinate system',\n",
    "    'Mills: Able to understand and explain concept of X, Y, Z coordinate system',\n",
    "    'Sets up tools|Breaks down returned tools',\n",
    "    'Mills Tool Crib: Accurately sets up tools',\n",
    "    'Identifies burrs, damage and flaws',\n",
    "    'Vibraburr: Independent ability to identify a burr',\n",
    "    'Runs Vibrodyne machine|Runs Roto machine|Runs Burr King machine|Runs Cement Mixer machine',\n",
    "    'Vibraburr: Independent ability to run Vibrodyne machine',\n",
    "    'Identifies when machine cleaning is needed (ex. change water)',\n",
    "    'Vibraburr: Independent ability to clean machine as needed (ex. change water)',\n",
    "    'Identifies and stamps military export controlled work orders|Identifies work orders with FAI (First Article Inspection) operation|Sorts, staples, and confirms documents are in order',\n",
    "    'Commercial Work Order Processing: IDs and stamps military export controlled work orders',\n",
    "    'Verifies that revision levels listed on work order are current (sources of reference may include Boeing EID and customer purchase order notes)',\n",
    "    'Commercial Work Order Processing: Verifies revision levels listed on work order are current',\n",
    "    'Opens estimating tab in Epicor and inputs data into correct fields|Opens and reviews estimating quote log in Epicor|Logs onto Exostar/Boeing portal|Opens EID (Engineering Information Delivery) page, selects & downloads correct drawings on Boeing Portal',\n",
    "    'Estimating Training Evaluation: Correctly opens EID page, selects & downloads correct drawings on Boeing Portal',\n",
    "    'Identifies drill bits and countersink size',\n",
    "    'Mechanical Assembly: Independent, accurate usage of precision measuring equipment',\n",
    "    'Operates the countersink machine|Sets up the countersink machine',\n",
    "    'Mechanical Assembly: Independent operation of countersink',\n",
    "    'Operates the riveter/squeeze machine|Sets up the riveter/squeeze machine',\n",
    "    'Mechanical Assembly: Independent operation of riveter / squeeze',\n",
    "    'Operates the drill press|Sets up the drill press',\n",
    "    'Mechanical Assembly: Independent operation of drill press',\n",
    "    'Utilizes procedure for bonding tasks',\n",
    "    'Mechanical Assembly : Utilizes proper procedure for bonding tasks',\n",
    "    'Assembles wiggle plates',\n",
    "    'Mechanical Assembly : Assembly of wiggle plates',\n",
    "    'Sets up minor jobs (nut plate, wiggle plate, countersink machine)',\n",
    "    'Mechanical Assembly : Independent set-up of minor jobs (nut plate, wiggle plate, countersink machine)',\n",
    "    'Determines drawings required',\n",
    "    'QA: Ability to determine drawings required and current revisions',\n",
    "    'Operates the blanking press',\n",
    "    'Blanking Press: Acceptable operation of blanking press',\n",
    "    'Locates tooling for each job|Sets up and takes down tooling|Puts tool away',\n",
    "    'Blanking Press: Ability to locate proper tooling for each job',\n",
    "    'Identifies burrs|Deburrs parts',\n",
    "    'Blanking Press: Correctly deburrs parts',\n",
    "    'Lubricates tools',\n",
    "    'Blanking Press: Proper lubrication of material',\n",
    "    'Operates the Amada',\n",
    "    'Amada: Proper operation of Amada',\n",
    "    'Operates brake form in Mylar cutting',\n",
    "    'Brake Form: Operation of brake form in Mylar cutting',\n",
    "    'Sets up and centers Mylar cutting tool',\n",
    "    'Brake Form: Independent ability to set up and center Mylar cutting tool',\n",
    "    'Identifies burrs|Uses \"Timesaver\"|Deburrs parts',\n",
    "    'Brake Form: Correctly deburrs parts',\n",
    "    'Identifies and locates correct material for each job|Loads and unloads material|Performs computer steps to start machine',\n",
    "    'Routers: Independent ability to identify and locate correct material for each job',\n",
    "    'Identifies and locates tooling for each job|Sets up and changes tooling plates',\n",
    "    'Routers: Independent ability to setup and change tooling plates',\n",
    "    'Identifies burrs|Deburrs parts',\n",
    "    'Routers: Correctly deburrs parts',\n",
    "    'Differentiates between Boeing and Commercial work orders|Locates tools and templates used for Boeing work orders|Locates, prints, and verifies certification (cert)',\n",
    "    'Shears: Independent ability to differentiate between Boeing and Commercial work orders',\n",
    "    'Sets up the machine',\n",
    "    'Shears: Independent ability to set up machine',\n",
    "    'Operates the shear',\n",
    "    'Shears: Accurate operation of Shear',\n",
    "    'Understands machine operation and computer inputs|Differentiates between Automatic Start and Manual Start procedure and when each would be used',\n",
    "    'Waterjet: Understands and demonstrates proper machine operation and computer inputs',\n",
    "    'Operates the water jet|Sets up the water jet',\n",
    "    'Waterjet: Independent setup and machine operation of Water Jet',\n",
    "    'Operates the grind wheel|Uses deburr hand tools including scotch brite or sand paper|Cleans parts thoroughly with alcohol',\n",
    "    'Deburr: Cleans parts thoroughly with alcohol',\n",
    "    'Counts and verifies part mark and paperwork prior to packaging outgoing shipment',\n",
    "    'Commercial Shipping: Sort, segregate and prioritize verified work order by due date and shipping date',\n",
    "    'Visually inspects incoming product for damage, re-package product according to Orion guidelines prior to moving on to next area',\n",
    "    'Receiving: Independence with receiving materials and performing tasks in Receiving work area',\n",
    "    'Operates the pallet jack',\n",
    "    'Receiving: Independent utilization of pallet jack',\n",
    "    'Visually inspects incoming product for damage, re-packages product per Orion guidelines prior to moving into inventory',\n",
    "    \"Inventory: for parts pulled out of inventory, verifies correct part #'s on work order\",\n",
    "    'Retrieves product from inventory; moves to next location based on work order or pull ticket',\n",
    "    'Inventory: Independently finds correct location when picking parts from inventory',\n",
    "    'Counts product in each specified bin location during cycle count activity',\n",
    "    'Inventory: Ensures that counts in inventory match what is posted for cycle counts',\n",
    "    'Applies bond and adheres waffle or strips to orifice|Places weights on waffle orifices',\n",
    "    'Bond: Application of bond and adherence of waffle or strips to orifice',\n",
    "    'Calculates cure time for bond',\n",
    "    'Bond: Independent, accurate calculation of cure time for bond',\n",
    "    'Creates internal work order',\n",
    "    'Shipping & Receiving: Independent creation of internal work order',\n",
    "    'Enters information into Boeing Portal',\n",
    "    'Shipping & Receiving: Accurate entering of information into Boeing Portal',\n",
    "    'Utilizes and navigates computer applications',\n",
    "    'Manufacturing Offices: Independent ability to utilize and navigate computer applications',\n",
    "    'Creates Purchase Orders|Creates quotes/estimates',\n",
    "    'Manufacturing Offices: Independently creates Purchase Orders',\n",
    "    'Gathers data from internal lists and makes determinations based on information',\n",
    "    'Manufacturing Offices: Gathers correct data from internal lists and makes correct decisions based on this informaton',\n",
    "    'Visually inspects and measures parts',\n",
    "    'Wire Assembly: Independent visual inspection and measurement of each part',\n",
    "    'Ensures that counts per bag match what is posted on front of boxes|Properly runs 2 bag system',\n",
    "    'Inventory: Proper run of 2 bag system',\n",
    "    'Inspects and verifies wire part marks/lengths|Completes job (operations closed, paperwork stamped, etc.)',\n",
    "    'Wire QA: Accurate inspection and verification of wire lengths',\n",
    "    'Loads and threads wire through de-reeler, unracks wire spool and returns to its correct location',\n",
    "    'Laser Marking: Independently and accurately loads and threads wire through de-reeler',\n",
    "    'Follows procedure to access laser marking information on flash drive/computer',\n",
    "    'Laser Marking: Follows proper procedure to access laser marking information on flash drive/computer',\n",
    "    'location code']].copy()"
   ]
  },
  {
   "cell_type": "code",
   "execution_count": 258,
   "id": "d219dd01-a877-4e13-b11e-bd8638cf8d91",
   "metadata": {},
   "outputs": [],
   "source": [
    "evaldf4.to_excel(r'redacted file path\\exports\\eval merge 6.xlsx')"
   ]
  },
  {
   "cell_type": "markdown",
   "id": "523ef445-3056-413c-8f54-e8446f6d7888",
   "metadata": {},
   "source": [
    "### evaluation 2"
   ]
  },
  {
   "cell_type": "code",
   "execution_count": 71,
   "id": "bb656f1e-9eda-4756-b2e6-179849792bf7",
   "metadata": {},
   "outputs": [],
   "source": [
    "val = eval_df3.copy()"
   ]
  },
  {
   "cell_type": "code",
   "execution_count": 72,
   "id": "8e5b3f0d-eeeb-403a-a5a3-4be63fcbaae8",
   "metadata": {},
   "outputs": [
    {
     "ename": "KeyError",
     "evalue": "'Mentor Evaluation Status'",
     "output_type": "error",
     "traceback": [
      "\u001b[1;31m---------------------------------------------------------------------------\u001b[0m",
      "\u001b[1;31mKeyError\u001b[0m                                  Traceback (most recent call last)",
      "File \u001b[1;32m~\\AppData\\Local\\anaconda3\\Lib\\site-packages\\pandas\\core\\indexes\\base.py:3791\u001b[0m, in \u001b[0;36mIndex.get_loc\u001b[1;34m(self, key)\u001b[0m\n\u001b[0;32m   3790\u001b[0m \u001b[38;5;28;01mtry\u001b[39;00m:\n\u001b[1;32m-> 3791\u001b[0m     \u001b[38;5;28;01mreturn\u001b[39;00m \u001b[38;5;28mself\u001b[39m\u001b[38;5;241m.\u001b[39m_engine\u001b[38;5;241m.\u001b[39mget_loc(casted_key)\n\u001b[0;32m   3792\u001b[0m \u001b[38;5;28;01mexcept\u001b[39;00m \u001b[38;5;167;01mKeyError\u001b[39;00m \u001b[38;5;28;01mas\u001b[39;00m err:\n",
      "File \u001b[1;32mindex.pyx:152\u001b[0m, in \u001b[0;36mpandas._libs.index.IndexEngine.get_loc\u001b[1;34m()\u001b[0m\n",
      "File \u001b[1;32mindex.pyx:181\u001b[0m, in \u001b[0;36mpandas._libs.index.IndexEngine.get_loc\u001b[1;34m()\u001b[0m\n",
      "File \u001b[1;32mpandas\\_libs\\hashtable_class_helper.pxi:7080\u001b[0m, in \u001b[0;36mpandas._libs.hashtable.PyObjectHashTable.get_item\u001b[1;34m()\u001b[0m\n",
      "File \u001b[1;32mpandas\\_libs\\hashtable_class_helper.pxi:7088\u001b[0m, in \u001b[0;36mpandas._libs.hashtable.PyObjectHashTable.get_item\u001b[1;34m()\u001b[0m\n",
      "\u001b[1;31mKeyError\u001b[0m: 'Mentor Evaluation Status'",
      "\nThe above exception was the direct cause of the following exception:\n",
      "\u001b[1;31mKeyError\u001b[0m                                  Traceback (most recent call last)",
      "Cell \u001b[1;32mIn[72], line 1\u001b[0m\n\u001b[1;32m----> 1\u001b[0m soft \u001b[38;5;241m=\u001b[39m val[val[\u001b[38;5;124m'\u001b[39m\u001b[38;5;124mMentor Evaluation Status\u001b[39m\u001b[38;5;124m'\u001b[39m]\u001b[38;5;241m.\u001b[39mnotna()\u001b[38;5;241m.\u001b[39mcopy()]\n\u001b[0;32m      2\u001b[0m hard \u001b[38;5;241m=\u001b[39m val[val[\u001b[38;5;124m'\u001b[39m\u001b[38;5;124mMentor Evaluation Status\u001b[39m\u001b[38;5;124m'\u001b[39m]\u001b[38;5;241m.\u001b[39misna()\u001b[38;5;241m.\u001b[39mcopy()]\n\u001b[0;32m      3\u001b[0m soft\u001b[38;5;241m.\u001b[39minfo(),hard\u001b[38;5;241m.\u001b[39minfo()\n",
      "File \u001b[1;32m~\\AppData\\Local\\anaconda3\\Lib\\site-packages\\pandas\\core\\frame.py:3893\u001b[0m, in \u001b[0;36mDataFrame.__getitem__\u001b[1;34m(self, key)\u001b[0m\n\u001b[0;32m   3891\u001b[0m \u001b[38;5;28;01mif\u001b[39;00m \u001b[38;5;28mself\u001b[39m\u001b[38;5;241m.\u001b[39mcolumns\u001b[38;5;241m.\u001b[39mnlevels \u001b[38;5;241m>\u001b[39m \u001b[38;5;241m1\u001b[39m:\n\u001b[0;32m   3892\u001b[0m     \u001b[38;5;28;01mreturn\u001b[39;00m \u001b[38;5;28mself\u001b[39m\u001b[38;5;241m.\u001b[39m_getitem_multilevel(key)\n\u001b[1;32m-> 3893\u001b[0m indexer \u001b[38;5;241m=\u001b[39m \u001b[38;5;28mself\u001b[39m\u001b[38;5;241m.\u001b[39mcolumns\u001b[38;5;241m.\u001b[39mget_loc(key)\n\u001b[0;32m   3894\u001b[0m \u001b[38;5;28;01mif\u001b[39;00m is_integer(indexer):\n\u001b[0;32m   3895\u001b[0m     indexer \u001b[38;5;241m=\u001b[39m [indexer]\n",
      "File \u001b[1;32m~\\AppData\\Local\\anaconda3\\Lib\\site-packages\\pandas\\core\\indexes\\base.py:3798\u001b[0m, in \u001b[0;36mIndex.get_loc\u001b[1;34m(self, key)\u001b[0m\n\u001b[0;32m   3793\u001b[0m     \u001b[38;5;28;01mif\u001b[39;00m \u001b[38;5;28misinstance\u001b[39m(casted_key, \u001b[38;5;28mslice\u001b[39m) \u001b[38;5;129;01mor\u001b[39;00m (\n\u001b[0;32m   3794\u001b[0m         \u001b[38;5;28misinstance\u001b[39m(casted_key, abc\u001b[38;5;241m.\u001b[39mIterable)\n\u001b[0;32m   3795\u001b[0m         \u001b[38;5;129;01mand\u001b[39;00m \u001b[38;5;28many\u001b[39m(\u001b[38;5;28misinstance\u001b[39m(x, \u001b[38;5;28mslice\u001b[39m) \u001b[38;5;28;01mfor\u001b[39;00m x \u001b[38;5;129;01min\u001b[39;00m casted_key)\n\u001b[0;32m   3796\u001b[0m     ):\n\u001b[0;32m   3797\u001b[0m         \u001b[38;5;28;01mraise\u001b[39;00m InvalidIndexError(key)\n\u001b[1;32m-> 3798\u001b[0m     \u001b[38;5;28;01mraise\u001b[39;00m \u001b[38;5;167;01mKeyError\u001b[39;00m(key) \u001b[38;5;28;01mfrom\u001b[39;00m \u001b[38;5;21;01merr\u001b[39;00m\n\u001b[0;32m   3799\u001b[0m \u001b[38;5;28;01mexcept\u001b[39;00m \u001b[38;5;167;01mTypeError\u001b[39;00m:\n\u001b[0;32m   3800\u001b[0m     \u001b[38;5;66;03m# If we have a listlike key, _check_indexing_error will raise\u001b[39;00m\n\u001b[0;32m   3801\u001b[0m     \u001b[38;5;66;03m#  InvalidIndexError. Otherwise we fall through and re-raise\u001b[39;00m\n\u001b[0;32m   3802\u001b[0m     \u001b[38;5;66;03m#  the TypeError.\u001b[39;00m\n\u001b[0;32m   3803\u001b[0m     \u001b[38;5;28mself\u001b[39m\u001b[38;5;241m.\u001b[39m_check_indexing_error(key)\n",
      "\u001b[1;31mKeyError\u001b[0m: 'Mentor Evaluation Status'"
     ]
    }
   ],
   "source": [
    "soft = val[val['Mentor Evaluation Status'].notna().copy()]\n",
    "hard = val[val['Mentor Evaluation Status'].isna().copy()]\n",
    "soft.info(),hard.info()"
   ]
  },
  {
   "cell_type": "code",
   "execution_count": 177,
   "id": "d2abcff6-21d5-454f-9070-e6447d4dc680",
   "metadata": {},
   "outputs": [],
   "source": [
    "# soft.to_excel(r'redacted file path\\exports\\evalsoft.xlsx')\n",
    "# hard.to_excel(r'redacted file path\\exports\\evalhard.xlsx')"
   ]
  },
  {
   "cell_type": "code",
   "execution_count": 22,
   "id": "9579b5b1-ca16-48e7-87d2-d08b6c99e9a8",
   "metadata": {
    "scrolled": true
   },
   "outputs": [
    {
     "name": "stdout",
     "output_type": "stream",
     "text": [
      "<class 'pandas.core.frame.DataFrame'>\n",
      "Index: 10827 entries, 12360 to 23186\n",
      "Data columns (total 40 columns):\n",
      " #   Column                                                                                                                         Non-Null Count  Dtype \n",
      "---  ------                                                                                                                         --------------  ----- \n",
      " 0   Venue                                                                                                                          10824 non-null  object\n",
      " 1   Mentor                                                                                                                         10827 non-null  object\n",
      " 2   Individual                                                                                                                     10827 non-null  object\n",
      " 3   Work Cell                                                                                                                      10826 non-null  object\n",
      " 4   Work Center                                                                                                                    10823 non-null  object\n",
      " 5   Grommets:                                                                                                                      0 non-null      object\n",
      " 6   Modified                                                                                                                       10827 non-null  object\n",
      " 7   Packaging & Part Mark:                                                                                                         0 non-null      object\n",
      " 8   Assembly:                                                                                                                      0 non-null      object\n",
      " 9   Auditor Quality Status                                                                                                         10739 non-null  object\n",
      " 10  Auditor Comments                                                                                                               772 non-null    object\n",
      " 11  Auditor Status                                                                                                                 10827 non-null  object\n",
      " 12  Mentor Completed Timeliness                                                                                                    10768 non-null  object\n",
      " 13  Conflict Mitigation                                                                                                            10369 non-null  object\n",
      " 14  Follow through on Feedback / Instruction                                                                                       9958 non-null   object\n",
      " 15  Are Person's Soft Skills / General Employment Traits Competitive?                                                              10674 non-null  object\n",
      " 16  Attendance (Please note number of full days missed. If no days were missed, fill in 0)                                         10592 non-null  object\n",
      " 17  Cooperation & Teamwork                                                                                                         10668 non-null  object\n",
      " 18  Date Completed by Mentor                                                                                                       10675 non-null  object\n",
      " 19  Demeanor & Attitude                                                                                                            10683 non-null  object\n",
      " 20  EvaluationItemID                                                                                                               10792 non-null  object\n",
      " 21  EvaluationListGUID                                                                                                             10792 non-null  object\n",
      " 22  Follows all Safety Rules & Policies?                                                                                           10655 non-null  object\n",
      " 23  Grooming & Hygiene                                                                                                             10672 non-null  object\n",
      " 24  Interpersonal Communication Style                                                                                              10683 non-null  object\n",
      " 25  Learning Style                                                                                                                 10680 non-null  object\n",
      " 26  Note Any Inappropriate Behaviors Observed during Evaluation Period (if no inappropriate behaviors observed, mark that choice)  10679 non-null  object\n",
      " 27  Organization                                                                                                                   10669 non-null  object\n",
      " 28  Punctuality                                                                                                                    10674 non-null  object\n",
      " 29  Response to Feedback / Instruction                                                                                             10662 non-null  object\n",
      " 30  Re-submit                                                                                                                      654 non-null    object\n",
      " 31  Soft Skills Comments                                                                                                           10643 non-null  object\n",
      " 32  Work Effort & Initiative                                                                                                       10677 non-null  object\n",
      " 33  Work Tolerance & Stamina                                                                                                       10678 non-null  object\n",
      " 34  Workplace Appearance & Attire                                                                                                  10676 non-null  object\n",
      " 35  Final Due Date                                                                                                                 10784 non-null  object\n",
      " 36  field_3436_first                                                                                                               10406 non-null  object\n",
      " 37  field_3436_middle                                                                                                              0 non-null      object\n",
      " 38  field_3436_last                                                                                                                10406 non-null  object\n",
      " 39  field_3195                                                                                                                     9894 non-null   object\n",
      "dtypes: object(40)\n",
      "memory usage: 3.4+ MB\n"
     ]
    }
   ],
   "source": [
    "soft = soft.drop(soft.columns[9:959],axis=1)\n",
    "hard = hard.drop(hard.columns[959:986],axis=1)\n",
    "soft.info()"
   ]
  },
  {
   "cell_type": "markdown",
   "id": "60fb98f3-5fa2-40a4-a80c-b41a2fb01888",
   "metadata": {},
   "source": [
    "### Demographics Merge"
   ]
  },
  {
   "cell_type": "code",
   "execution_count": 116,
   "id": "4ea4e853-266b-48b0-a2ca-d51c0d37c845",
   "metadata": {},
   "outputs": [],
   "source": [
    "# peeps3 is the base merge form that contains first last and birthday to prevent duplicates\n",
    "\n",
    "# peeps3"
   ]
  },
  {
   "cell_type": "code",
   "execution_count": 109,
   "id": "d0646e7b-a060-412e-b3bf-5da2934d49c5",
   "metadata": {
    "scrolled": true
   },
   "outputs": [
    {
     "name": "stdout",
     "output_type": "stream",
     "text": [
      "<class 'pandas.core.frame.DataFrame'>\n",
      "RangeIndex: 1391 entries, 0 to 1390\n",
      "Data columns (total 57 columns):\n",
      " #   Column                                    Non-Null Count  Dtype         \n",
      "---  ------                                    --------------  -----         \n",
      " 0   field_3436_first                          1390 non-null   object        \n",
      " 1   field_3436_last                           1390 non-null   object        \n",
      " 2   field_3195                                1390 non-null   object        \n",
      " 3   Individual                                1391 non-null   object        \n",
      " 4   ID                                        1305 non-null   float64       \n",
      " 5   Preferred Names                           635 non-null    object        \n",
      " 6   Date of Birth                             1210 non-null   datetime64[ns]\n",
      " 7   Gender                                    1250 non-null   object        \n",
      " 8   Disability - Primary                      1028 non-null   object        \n",
      " 9   Disabilities - Additional                 799 non-null    object        \n",
      " 10  Disability / Barrier Notes:               853 non-null    object        \n",
      " 11  Date of Last Employment                   796 non-null    datetime64[ns]\n",
      " 12  Smoker?                                   834 non-null    object        \n",
      " 13  Veteran - Discharge Date and Disposition  31 non-null     object        \n",
      " 14  If homeless, for how long?                46 non-null     object        \n",
      " 15  If homeless, last city of residence       39 non-null     object        \n",
      " 16  Emergency Contact Name                    623 non-null    object        \n",
      " 17  Emergency Contact Number                  617 non-null    object        \n",
      " 18  Emergency Contact Relationship            615 non-null    object        \n",
      " 19  Household Size                            94 non-null     float64       \n",
      " 20  Household Type                            101 non-null    object        \n",
      " 21  Health Insurance                          92 non-null     object        \n",
      " 22  Agency Exit Date                          1 non-null      datetime64[ns]\n",
      " 23  Allergies                                 528 non-null    object        \n",
      " 24  Benefits                                  913 non-null    object        \n",
      " 25  Content Type                              1305 non-null   object        \n",
      " 26  Country                                   1 non-null      object        \n",
      " 27  Created                                   1305 non-null   datetime64[ns]\n",
      " 28  Created By                                1305 non-null   object        \n",
      " 29  Criminal History                          380 non-null    object        \n",
      " 30  DDA Case File Number (if applicable)      31 non-null     object        \n",
      " 31  Education Level                           1228 non-null   object        \n",
      " 32  Ethnicity                                 1209 non-null   object        \n",
      " 33  Folder Child Count                        1305 non-null   float64       \n",
      " 34  Head Of Household                         1305 non-null   object        \n",
      " 35  Household Income                          1017 non-null   float64       \n",
      " 36  If clean and sober housing, how long?     127 non-null    object        \n",
      " 37  Immigrant and Refugee Status              308 non-null    object        \n",
      " 38  Item Child Count                          1305 non-null   float64       \n",
      " 39  Language Primary                          1305 non-null   object        \n",
      " 40  Language Spoken                           673 non-null    object        \n",
      " 41  Living Situation                          1225 non-null   object        \n",
      " 42  Marital Status                            1240 non-null   object        \n",
      " 43  Medications and Conditions                795 non-null    object        \n",
      " 44  MISSING PERSON POSTER                     1305 non-null   object        \n",
      " 45  Modified                                  1305 non-null   datetime64[ns]\n",
      " 46  Modified By                               1305 non-null   object        \n",
      " 47  Number of Dependents                      903 non-null    float64       \n",
      " 48  Orion ID Number                           758 non-null    object        \n",
      " 49  Special Education History                 1211 non-null   object        \n",
      " 50  Transportation                            1196 non-null   object        \n",
      " 51  Veteran Status                            72 non-null     object        \n",
      " 52  View                                      1305 non-null   object        \n",
      " 53  Work Restrictions                         272 non-null    object        \n",
      " 54  Work Restrictions Details                 880 non-null    object        \n",
      " 55  Item Type                                 1305 non-null   object        \n",
      " 56  Path                                      1305 non-null   object        \n",
      "dtypes: datetime64[ns](5), float64(6), object(46)\n",
      "memory usage: 619.6+ KB\n"
     ]
    }
   ],
   "source": [
    "demo1 = pd.read_excel(r'redacted file path\\Client information (demographics and assessment) - unformatted.xlsx')\n",
    "\n",
    "# sort the individual column values alphabetically\n",
    "demo1 = demo1.sort_values('Individual',ascending=True)\n",
    "\n",
    "# the key value had a space in it, so needed to remove that space\n",
    "demo1['Individual'] = demo1['Individual'].str.replace(', ',',')\n",
    "\n",
    "# remove test case rows\n",
    "demo1 = demo1[~demo1['Individual'].str.contains('test', case=False, na=False)].copy()\n",
    "\n",
    "# remove any text (within parethesis) to standardize names\n",
    "demo1['Individual'] = demo1['Individual'].replace(r'\\(.*?\\)','',regex=True).str.strip()\n",
    "\n",
    "demo1['Individual'] = demo1['Individual'].replace(r'\\\".*?\\\"','',regex=True).str.strip()\n",
    "\n",
    "demomerge = peeps3.merge(demo1,how='left',on='Individual')\n",
    "demomerge = demomerge.dropna(how='all',axis=1)\n",
    "demomerge.info()"
   ]
  },
  {
   "cell_type": "code",
   "execution_count": 110,
   "id": "4664e8cf-f88d-4be6-8b8f-774a131b112e",
   "metadata": {},
   "outputs": [],
   "source": [
    "demomerge2 = demomerge.drop_duplicates(subset=['field_3436_first','field_3436_last','field_3195'])"
   ]
  },
  {
   "cell_type": "code",
   "execution_count": 111,
   "id": "dc141cca-e077-478c-b677-4442cec36fc9",
   "metadata": {
    "scrolled": true
   },
   "outputs": [
    {
     "data": {
      "text/plain": [
       "0                              African American / Black\n",
       "1                                                 Other\n",
       "2                                     Caucasian / White\n",
       "3                                     Caucasian / White\n",
       "4                                     Caucasian / White\n",
       "5                                     Caucasian / White\n",
       "6                                                   NaN\n",
       "7                                     Caucasian / White\n",
       "8                                     Caucasian / White\n",
       "9                                     Caucasian / White\n",
       "10                                    Caucasian / White\n",
       "11                                    Caucasian / White\n",
       "12                             African American / Black\n",
       "13                                             Hispanic\n",
       "14    African American / Black|Native Hawaiin / Othe...\n",
       "15                                    Caucasian / White\n",
       "16                                    Caucasian / White\n",
       "17              Native Hawaiin / Other Pacific Islander\n",
       "18                             African American / Black\n",
       "19              Native Hawaiin / Other Pacific Islander\n",
       "20              Native Hawaiin / Other Pacific Islander\n",
       "21                                    Caucasian / White\n",
       "22                                    Caucasian / White\n",
       "23                             African American / Black\n",
       "24                                    Caucasian / White\n",
       "25                                    Caucasian / White\n",
       "26                                                Asian\n",
       "27                                                Asian\n",
       "28    Caucasian / White|American Indian / Alaskan Na...\n",
       "29                             African American / Black\n",
       "30                                                  NaN\n",
       "31                                                  NaN\n",
       "32                                    Caucasian / White\n",
       "33    Caucasian / White|American Indian / Alaskan Na...\n",
       "34                                                  NaN\n",
       "36                                    Caucasian / White\n",
       "37                                    Caucasian / White\n",
       "38                                    Caucasian / White\n",
       "39                             African American / Black\n",
       "40                                                  NaN\n",
       "41                                                  NaN\n",
       "42                                    Caucasian / White\n",
       "43                                    Caucasian / White\n",
       "44                                    Caucasian / White\n",
       "45                                    Caucasian / White\n",
       "46                                    Caucasian / White\n",
       "47                                                  NaN\n",
       "48                                    Caucasian / White\n",
       "49                                    Caucasian / White\n",
       "50                                    Caucasian / White\n",
       "Name: Ethnicity, dtype: object"
      ]
     },
     "execution_count": 111,
     "metadata": {},
     "output_type": "execute_result"
    }
   ],
   "source": [
    "import re\n",
    "\n",
    "\n",
    "demomerge2.loc[:,'Ethnicity'] = demomerge2['Ethnicity'].replace(r';#\\d{2}','|',regex=True)\n",
    "demomerge2.loc[:,'Ethnicity'] = demomerge2['Ethnicity'].str.rstrip('|')\n",
    "demomerge2.loc[:,'Ethnicity'] = demomerge2['Ethnicity'].str.replace(';#','')\n",
    "demomerge2['Ethnicity'].head(50)"
   ]
  },
  {
   "cell_type": "code",
   "execution_count": 112,
   "id": "8fe6feec-0451-4200-afad-4ce3fcf83d78",
   "metadata": {},
   "outputs": [],
   "source": [
    "demomerge2.loc[:,'Ethnicity'] = demomerge2['Ethnicity'].str.replace('Hawaiin','Hawaiian')\n",
    "demomerge2.loc[:,'Ethnicity'] = demomerge2['Ethnicity'].str.replace('African American / Black','Black / African American')\n",
    "demomerge2.loc[:,'Ethnicity'] = demomerge2['Ethnicity'].str.replace('Multi-Racial','Other')"
   ]
  },
  {
   "cell_type": "code",
   "execution_count": 113,
   "id": "92d45f06-4f29-446b-9a87-105d70ee922f",
   "metadata": {
    "scrolled": true
   },
   "outputs": [
    {
     "data": {
      "text/plain": [
       "Ethnicity\n",
       "Caucasian / White                                                                                    727\n",
       "Black / African American                                                                             155\n",
       "Asian                                                                                                 93\n",
       "Other                                                                                                 36\n",
       "Hispanic                                                                                              35\n",
       "Native Hawaiian / Other Pacific Islander                                                              28\n",
       "Unknown                                                                                               19\n",
       "American Indian / Alaskan Native                                                                      15\n",
       "Caucasian / White|American Indian / Alaskan Native                                                    10\n",
       "Black / African American|Caucasian / White                                                             9\n",
       "Caucasian / White|Hispanic                                                                             9\n",
       "Asian|Caucasian / White                                                                                7\n",
       "Caucasian / White|Black / African American                                                             5\n",
       "Other|Hispanic                                                                                         4\n",
       "Caucasian / White|Asian                                                                                4\n",
       "Black / African American|Native Hawaiian / Other Pacific Islander                                      3\n",
       "Black / African American|American Indian / Alaskan Native                                              3\n",
       "Caucasian / White|Other                                                                                2\n",
       "Hispanic|Caucasian / White                                                                             2\n",
       "Black / African American|Hispanic                                                                      2\n",
       "Hispanic|Black / African American                                                                      2\n",
       "Unknown|Caucasian / White                                                                              2\n",
       "Other|Hispanic|Caucasian / White                                                                       1\n",
       "Caucasian / White|American Indian / Alaskan Native|Other                                               1\n",
       "Black / African American|Caucasian / White|Other                                                       1\n",
       "American Indian / Alaskan Native|Caucasian / White                                                     1\n",
       "Black / African American|Asian                                                                         1\n",
       "Black / African American|Caucasian / White|American Indian / Alaskan Native|Hispanic                   1\n",
       "Other|Unknown                                                                                          1\n",
       "American Indian / Alaskan Native|Caucasian / White|Other                                               1\n",
       "Native Hawaiian / Other Pacific Islander|Other                                                         1\n",
       "Caucasian / White|Asian|Native Hawaiian / Other Pacific Islander                                       1\n",
       "Black / African American|Caucasian / White|Asian|American Indian / Alaskan Native                      1\n",
       "Caucasian / White|Asian|American Indian / Alaskan Native|Native Hawaiian / Other Pacific Islander      1\n",
       "Hispanic|Other                                                                                         1\n",
       "Black / African American|Caucasian / White|American Indian / Alaskan Native|Hispanic|Other             1\n",
       "Black / African American|American Indian / Alaskan Native|Caucasian / White                            1\n",
       "Caucasian / White|Black / African American|Other                                                       1\n",
       "Other|Asian                                                                                            1\n",
       "Caucasian / White|Hispanic|Black / African American                                                    1\n",
       "Black / African American|Other                                                                         1\n",
       "Asian|Caucasian / White|Other                                                                          1\n",
       "Caucasian / White|American Indian / Alaskan Native|Asian|Native Hawaiian / Other Pacific Islander      1\n",
       "Native Hawaiian / Other Pacific Islander|Caucasian / White                                             1\n",
       "Name: count, dtype: int64"
      ]
     },
     "execution_count": 113,
     "metadata": {},
     "output_type": "execute_result"
    }
   ],
   "source": [
    "demomerge2['Ethnicity'].value_counts()"
   ]
  },
  {
   "cell_type": "code",
   "execution_count": 198,
   "id": "1c689f9b-d77e-43a4-a531-4c48ce42f081",
   "metadata": {},
   "outputs": [],
   "source": [
    "demomerge2.to_excel(r'redacted file path\\exports\\demographics import2.xlsx')"
   ]
  },
  {
   "cell_type": "markdown",
   "id": "0adf22fa-9027-41f2-8910-19cc11f80aa3",
   "metadata": {},
   "source": [
    "### Intake Assessment"
   ]
  },
  {
   "cell_type": "code",
   "execution_count": 114,
   "id": "2f2c8a8f-9694-4d9d-8f75-46b6ed031b8b",
   "metadata": {},
   "outputs": [],
   "source": [
    "demo1 = pd.read_excel(r'redacted file path\\Client information (demographics and assessment) - unformatted.xlsx')"
   ]
  },
  {
   "cell_type": "code",
   "execution_count": 115,
   "id": "0a7c79a5-f8a2-4092-8935-6f72515ffbc4",
   "metadata": {},
   "outputs": [],
   "source": [
    "# sort the individual column values alphabetically\n",
    "demo1 = demo1.sort_values('Individual',ascending=True)\n",
    "\n",
    "# the key value had a space in it, so needed to remove that space\n",
    "demo1['Individual'] = demo1['Individual'].str.replace(', ',',')\n",
    "\n",
    "# remove test case rows\n",
    "demo1 = demo1[~demo1['Individual'].str.contains('test', case=False, na=False)].copy()\n",
    "\n",
    "# remove any text (within parethesis) to standardize names\n",
    "demo1['Individual'] = demo1['Individual'].replace(r'\\(.*?\\)','',regex=True).str.strip()\n",
    "\n",
    "demo1['Individual'] = demo1['Individual'].replace(r'\\\".*?\\\"','',regex=True).str.strip()"
   ]
  },
  {
   "cell_type": "code",
   "execution_count": 116,
   "id": "461040aa-910a-4dca-b878-c88a57639773",
   "metadata": {},
   "outputs": [],
   "source": [
    "peepsmerge = merge6[[\n",
    "    'people_First Name',\n",
    "    'people_Last Name',\n",
    "    'demo_Date of Birth',\n",
    "    'people_Full Name'\n",
    "]].copy()\n",
    "\n",
    "peepsmerge['people_Full Name'] = peepsmerge['people_Full Name'].str.replace(', ',',')\n",
    "peepsmerge['demo_Date of Birth'] = peepsmerge['demo_Date of Birth'].fillna('1/1/1800')"
   ]
  },
  {
   "cell_type": "code",
   "execution_count": 117,
   "id": "a9c95265-151e-465a-a478-78264f43e0a9",
   "metadata": {
    "scrolled": true
   },
   "outputs": [
    {
     "name": "stdout",
     "output_type": "stream",
     "text": [
      "<class 'pandas.core.frame.DataFrame'>\n",
      "RangeIndex: 535 entries, 0 to 534\n",
      "Data columns (total 92 columns):\n",
      " #   Column                                    Non-Null Count  Dtype         \n",
      "---  ------                                    --------------  -----         \n",
      " 0   ID                                        520 non-null    float64       \n",
      " 1   Individual                                520 non-null    object        \n",
      " 2   Preferred Names                           144 non-null    object        \n",
      " 3   Date of Birth                             486 non-null    datetime64[ns]\n",
      " 4   Gender                                    512 non-null    object        \n",
      " 5   Disability - Primary                      414 non-null    object        \n",
      " 6   Disabilities - Additional                 317 non-null    object        \n",
      " 7   Disability / Barrier Notes:               357 non-null    object        \n",
      " 8   Date of Last Employment                   362 non-null    datetime64[ns]\n",
      " 9   Smoker?                                   384 non-null    object        \n",
      " 10  Veteran - Discharge Date and Disposition  13 non-null     object        \n",
      " 11  If homeless, for how long?                36 non-null     object        \n",
      " 12  If homeless, last city of residence       27 non-null     object        \n",
      " 13  Emergency Contact Name                    382 non-null    object        \n",
      " 14  Emergency Contact Number                  378 non-null    object        \n",
      " 15  Emergency Contact Relationship            378 non-null    object        \n",
      " 16  Household Size                            96 non-null     float64       \n",
      " 17  Household Type                            105 non-null    object        \n",
      " 18  Health Insurance                          96 non-null     object        \n",
      " 19  Aboriginal Status                         0 non-null      object        \n",
      " 20  Agency Exit Date                          0 non-null      datetime64[ns]\n",
      " 21  Agency Intake Date                        0 non-null      datetime64[ns]\n",
      " 22  Allergies                                 193 non-null    object        \n",
      " 23  Alt. Telephone Number                     0 non-null      object        \n",
      " 24  Benefits                                  383 non-null    object        \n",
      " 25  Bladder & Bowel Functions                 0 non-null      float64       \n",
      " 26  City                                      0 non-null      object        \n",
      " 27  Clothing (Last Seen Wearing)              0 non-null      object        \n",
      " 28  Communication Level                       0 non-null      object        \n",
      " 29  Communication Support                     0 non-null      object        \n",
      " 30  Content Type                              520 non-null    object        \n",
      " 31  Coordinator                               0 non-null      float64       \n",
      " 32  Coordinator's Cell Number                 0 non-null      object        \n",
      " 33  Country                                   0 non-null      object        \n",
      " 34  Created                                   520 non-null    datetime64[ns]\n",
      " 35  Created By                                520 non-null    object        \n",
      " 36  Criminal History                          148 non-null    object        \n",
      " 37  Daily Living Support                      0 non-null      object        \n",
      " 38  DDA Case File Number (if applicable)      28 non-null     object        \n",
      " 39  Diet/Nutrition                            0 non-null      object        \n",
      " 40  Education Level                           497 non-null    object        \n",
      " 41  E-mail Address                            0 non-null      object        \n",
      " 42  Ethnicity                                 486 non-null    object        \n",
      " 43  Eye Colour                                0 non-null      object        \n",
      " 44  Folder Child Count                        520 non-null    float64       \n",
      " 45  Hair Colour                               0 non-null      object        \n",
      " 46  Head Of Household                         520 non-null    object        \n",
      " 47  Health Care Plan Number                   0 non-null      object        \n",
      " 48  Health Concerns                           0 non-null      object        \n",
      " 49  Height                                    0 non-null      object        \n",
      " 50  Household Income                          394 non-null    float64       \n",
      " 51  If clean and sober housing, how long?     74 non-null     object        \n",
      " 52  Immigrant and Refugee Status              247 non-null    object        \n",
      " 53  Item Child Count                          520 non-null    float64       \n",
      " 54  Language Primary                          520 non-null    object        \n",
      " 55  Language Spoken                           324 non-null    object        \n",
      " 56  Living Situation                          508 non-null    object        \n",
      " 57  Marital Status                            507 non-null    object        \n",
      " 58  Medications and Conditions                299 non-null    object        \n",
      " 59  MISSING PERSON POSTER                     520 non-null    object        \n",
      " 60  Mobility Aids                             0 non-null      object        \n",
      " 61  Modified                                  520 non-null    datetime64[ns]\n",
      " 62  Modified By                               520 non-null    object        \n",
      " 63  Number of Dependents                      394 non-null    float64       \n",
      " 64  Office Number                             0 non-null      object        \n",
      " 65  Orion ID Number                           250 non-null    object        \n",
      " 66  Other I.D. Numbers                        0 non-null      float64       \n",
      " 67  Personal Hygiene                          0 non-null      object        \n",
      " 68  Pertinent Information                     0 non-null      object        \n",
      " 69  Photo                                     0 non-null      object        \n",
      " 70  Postal Code                               0 non-null      object        \n",
      " 71  Province                                  0 non-null      object        \n",
      " 72  Safety Requirement                        0 non-null      float64       \n",
      " 73  Sleep Patterns                            0 non-null      object        \n",
      " 74  Social Insurance Number                   0 non-null      object        \n",
      " 75  Special Characteristics                   0 non-null      object        \n",
      " 76  Special Education History                 483 non-null    object        \n",
      " 77  Street Address                            0 non-null      object        \n",
      " 78  Telephone Number                          0 non-null      object        \n",
      " 79  Transportation                            474 non-null    object        \n",
      " 80  Veteran Status                            26 non-null     object        \n",
      " 81  View                                      520 non-null    object        \n",
      " 82  Visual/Hearing Aids                       0 non-null      float64       \n",
      " 83  Weight                                    0 non-null      object        \n",
      " 84  Work Restrictions                         98 non-null     object        \n",
      " 85  Work Restrictions Details                 351 non-null    object        \n",
      " 86  Item Type                                 520 non-null    object        \n",
      " 87  Path                                      520 non-null    object        \n",
      " 88  people_First Name                         535 non-null    object        \n",
      " 89  people_Last Name                          535 non-null    object        \n",
      " 90  demo_Date of Birth                        535 non-null    object        \n",
      " 91  people_Full Name                          535 non-null    object        \n",
      "dtypes: datetime64[ns](6), float64(11), object(75)\n",
      "memory usage: 384.7+ KB\n"
     ]
    }
   ],
   "source": [
    "assess = demo1.merge(peepsmerge,how='right',left_on='Individual',right_on='people_Full Name')\n",
    "assess.info()"
   ]
  },
  {
   "cell_type": "code",
   "execution_count": 118,
   "id": "e5ad83c6-c458-4b81-88a5-90b92a5efac4",
   "metadata": {},
   "outputs": [],
   "source": [
    "assess['disabilities'] = assess['Disability - Primary'] +' '+ assess['Disabilities - Additional'] + ' '+ assess['Disability / Barrier Notes:']\n",
    "assess['disabilities'] = assess['disabilities'].astype(str)"
   ]
  },
  {
   "cell_type": "code",
   "execution_count": 119,
   "id": "fd8e47a9-eeee-4b93-a76e-11ba84c3efd8",
   "metadata": {},
   "outputs": [],
   "source": [
    "assess['allergy'] = np.where(assess['Allergies'].notna(),'Yes','No')"
   ]
  },
  {
   "cell_type": "code",
   "execution_count": 120,
   "id": "723f98fa-5bfc-40de-afaf-54d93ba0f67e",
   "metadata": {
    "scrolled": true
   },
   "outputs": [],
   "source": [
    "mentallist = ['Depression','Anxiety','PTSD','ADHD','Substance Abuse','Learning Disability','Hearing','asthma','vision','memory','seizure']\n",
    "\n",
    "for i in mentallist:\n",
    "    assess[i] = assess['disabilities'].apply(lambda x: 'Yes' if i in x else 'No')"
   ]
  },
  {
   "cell_type": "code",
   "execution_count": 121,
   "id": "12cdb4f9-a544-4a47-8a7e-92b8dbcc9d33",
   "metadata": {
    "scrolled": true
   },
   "outputs": [
    {
     "data": {
      "text/plain": [
       "Transportation\n",
       "Car               206\n",
       "Public Transit    170\n",
       "Para-transit       38\n",
       "Ride               28\n",
       "Other              15\n",
       "School Bus         10\n",
       "Unknown             4\n",
       "Bike                3\n",
       "Name: count, dtype: int64"
      ]
     },
     "execution_count": 121,
     "metadata": {},
     "output_type": "execute_result"
    }
   ],
   "source": [
    "assess['Transportation'].value_counts()"
   ]
  },
  {
   "cell_type": "code",
   "execution_count": 122,
   "id": "97a18474-a0e5-4dc9-bc5d-df6776cfe2dc",
   "metadata": {},
   "outputs": [],
   "source": [
    "tranrep = {\n",
    "    'Car':'Driving Myself',\n",
    "    'Public Transit':'Public Transportation',\n",
    "    'Para-transit':'Paratransit',\n",
    "    'Ride':'Rides/Carpool',\n",
    "    'Unknown':'Other'\n",
    "}\n",
    "assess['Transportation'] = assess['Transportation'].replace(tranrep)"
   ]
  },
  {
   "cell_type": "code",
   "execution_count": 123,
   "id": "36051992-792a-415d-96b2-6510f234bcc8",
   "metadata": {
    "scrolled": true
   },
   "outputs": [],
   "source": [
    "assess['Work Restrictions'] =assess['Work Restrictions'].astype(str)\n",
    "\n",
    "physlist = ['Standing','Sitting','Lift over 10','Lift over 25','Bending / Stooping']\n",
    "\n",
    "for i in physlist:\n",
    "    assess[i] = assess['Work Restrictions'].apply(lambda x: 'No' if i in x else 'Yes')"
   ]
  },
  {
   "cell_type": "code",
   "execution_count": 124,
   "id": "2d342cfa-7cf3-4973-828e-03ea49380d41",
   "metadata": {
    "scrolled": true
   },
   "outputs": [],
   "source": [
    "mentlist = ['Reading','English Language Proficiency',]\n",
    "\n",
    "for i in mentlist:\n",
    "    assess[i] = assess['Work Restrictions'].apply(lambda x: 'Yes' if i in x else 'No')"
   ]
  },
  {
   "cell_type": "code",
   "execution_count": 125,
   "id": "de0b6e62-a359-4e18-9507-8020570038ca",
   "metadata": {},
   "outputs": [
    {
     "data": {
      "text/plain": [
       "Education Level\n",
       "High School Diploma                                           215\n",
       "Some College / Technical School (no certificate / diploma)     67\n",
       "No High School Diploma / GED                                   58\n",
       "GED                                                            57\n",
       "Graduated - In High School                                     29\n",
       "Bachelors                                                      25\n",
       "Associates                                                     21\n",
       "In High School                                                 12\n",
       "Certificate                                                     6\n",
       "Other                                                           4\n",
       "Masters (or beyond)                                             3\n",
       "Name: count, dtype: int64"
      ]
     },
     "execution_count": 125,
     "metadata": {},
     "output_type": "execute_result"
    }
   ],
   "source": [
    "assess['Education Level'].value_counts()"
   ]
  },
  {
   "cell_type": "code",
   "execution_count": 126,
   "id": "8d8f7ef1-90bd-4025-9b8b-92b6fa83518f",
   "metadata": {},
   "outputs": [],
   "source": [
    "edurep = {\n",
    "    'High School Diploma':'HS Diploma',\n",
    "    'Some College / Technical School (no certificate / diploma)':'Some post high school',\n",
    "    'No High School Diploma / GED':'No HS Diploma - Under 12th grade education',\n",
    "    'Graduated - In High School':'HS Diploma',\n",
    "    'Masters (or beyond)':'Masters and above',\n",
    "    'In High School':'No HS Diploma - Under 12th grade education',\n",
    "    'Certificate':'Certificate - 2 years or less'\n",
    "}\n",
    "assess['Education Level'] = assess['Education Level'].replace(edurep)"
   ]
  },
  {
   "cell_type": "code",
   "execution_count": 127,
   "id": "afe0b396-030c-455c-923b-c4a5322c2088",
   "metadata": {},
   "outputs": [],
   "source": [
    "assess['Benefits'] = assess['Benefits'].str.replace(';#',',',regex=True)\n",
    "assess['Benefits'] = assess['Benefits'].str.replace('Food Stamps','SNAP',regex=True)\n",
    "assess['Benefits'] = assess['Benefits'].str.replace('None','',regex=True)"
   ]
  },
  {
   "cell_type": "code",
   "execution_count": 128,
   "id": "8f8e10b1-e4ef-4f8c-b8a2-700ab8911efa",
   "metadata": {},
   "outputs": [],
   "source": [
    "assess['Insurance'] = np.where(assess['Benefits'].str.contains('Medical Benefits \\(State / Fed\\)'),'State Health Insurance for Adults','')\n",
    "\n",
    "assess['non cash'] = np.where(assess['Benefits'].str.contains('Childcare Voucher'),'Childcare Voucher',\n",
    "                            np.where(assess['Benefits'].str.contains('Housing Choice'),'Housing Choice Voucher',\n",
    "                            np.where(assess['Benefits'].str.contains('Public Housing'),'Public Housing',\n",
    "                            np.where(assess['Benefits'].str.contains('Permanent Supportive'),'Permanent Supportive Housing',\n",
    "                            ''))))"
   ]
  },
  {
   "cell_type": "code",
   "execution_count": 129,
   "id": "d21f6fbd-304a-4882-abe2-b93db1f4fe9a",
   "metadata": {},
   "outputs": [],
   "source": [
    "benrep = {\n",
    "    'L&I - Time Loss':'L&I Time Loss',\n",
    "    'SNAP':'SNAP / EBT / Food Stamps',\n",
    "    'Unemployment Insurance':'Unemployment',\n",
    "    'Veterans Benefits':'VA Service-Connectid Disability Compensation',\n",
    "    'WIC (CSBG)':'WIC',\n",
    "    'Medical Benefits \\(State / Fed\\)':'',\n",
    "    'Housing Assistance':'',\n",
    "    'Childcare Voucher \\(CSBG\\)':'',\n",
    "    'Housing Choice Voucher \\(CSBG\\)':'',\n",
    "    'Public Housing \\(CSBG\\)':'',\n",
    "    'Permanent Supportive Housing \\(CSBG\\)':''\n",
    "}\n",
    "\n",
    "assess['Benefits'] = assess['Benefits'].replace(benrep,regex=True)"
   ]
  },
  {
   "cell_type": "code",
   "execution_count": 130,
   "id": "2266469a-01c9-4885-9646-766976b047e0",
   "metadata": {},
   "outputs": [],
   "source": [
    "assess['medication'] = np.where(assess['Medications and Conditions'].notna(),'Yes','No')"
   ]
  },
  {
   "cell_type": "code",
   "execution_count": 131,
   "id": "c44e5474-441b-4eba-8d6f-3ce96b50dbca",
   "metadata": {},
   "outputs": [
    {
     "data": {
      "text/plain": [
       "0                                ,,SSI\n",
       "1                                 SSDI\n",
       "2                                     \n",
       "3            ,SNAP / EBT / Food Stamps\n",
       "4             SNAP / EBT / Food Stamps\n",
       "                    ...               \n",
       "530      SNAP / EBT / Food Stamps,,SSI\n",
       "531           SNAP / EBT / Food Stamps\n",
       "532       SNAP / EBT / Food Stamps,SSI\n",
       "533    ,,SNAP / EBT / Food Stamps,SSDI\n",
       "534          ,SNAP / EBT / Food Stamps\n",
       "Name: Benefits, Length: 535, dtype: object"
      ]
     },
     "execution_count": 131,
     "metadata": {},
     "output_type": "execute_result"
    }
   ],
   "source": [
    "assess['Benefits']"
   ]
  },
  {
   "cell_type": "code",
   "execution_count": 132,
   "id": "9f285d8d-10bb-4e83-9f17-1f8c4d4121f1",
   "metadata": {},
   "outputs": [],
   "source": [
    "assess['Benefits'] = assess['Benefits'].str.replace(',,',',',regex=True)\n",
    "assess['Benefits'] = assess['Benefits'].str.strip(',')"
   ]
  },
  {
   "cell_type": "code",
   "execution_count": 133,
   "id": "3d75b4da-b23a-4031-b62c-2bc22908286c",
   "metadata": {},
   "outputs": [
    {
     "data": {
      "text/plain": [
       "0                                SSI\n",
       "1                               SSDI\n",
       "2                                   \n",
       "3           SNAP / EBT / Food Stamps\n",
       "4           SNAP / EBT / Food Stamps\n",
       "                   ...              \n",
       "530     SNAP / EBT / Food Stamps|SSI\n",
       "531         SNAP / EBT / Food Stamps\n",
       "532     SNAP / EBT / Food Stamps|SSI\n",
       "533    SNAP / EBT / Food Stamps|SSDI\n",
       "534         SNAP / EBT / Food Stamps\n",
       "Name: Benefits, Length: 535, dtype: object"
      ]
     },
     "execution_count": 133,
     "metadata": {},
     "output_type": "execute_result"
    }
   ],
   "source": [
    "assess['Benefits'] = assess['Benefits'].str.replace(',','|',regex=True)\n",
    "assess['Benefits']"
   ]
  },
  {
   "cell_type": "code",
   "execution_count": 134,
   "id": "1b826eea-d757-4b8b-a436-c6b94eeb815d",
   "metadata": {},
   "outputs": [],
   "source": [
    "assess['Child'] = np.where((assess['Number of Dependents'] == 0) | (assess['Number of Dependents'].isna()),'No','Yes')"
   ]
  },
  {
   "cell_type": "code",
   "execution_count": 135,
   "id": "0b6fb9ff-fe58-4e80-86d8-bc5fe49dd220",
   "metadata": {
    "scrolled": true
   },
   "outputs": [],
   "source": [
    "assess2 = assess[[\n",
    "    'people_First Name',\n",
    "    'people_Last Name',\n",
    "    'demo_Date of Birth',\n",
    "    'Created',\n",
    "    'Standing',\n",
    "    'Sitting',\n",
    "    'Bending / Stooping',\n",
    "    'Lift over 10',\n",
    "    'Lift over 25',\n",
    "    'disabilities',\n",
    "    'Education Level',\n",
    "    'Reading',\n",
    "    'English Language Proficiency',\n",
    "    'Special Education History',\n",
    "    'Hearing',\n",
    "    'vision',\n",
    "    'memory',\n",
    "    'seizure',\n",
    "    'asthma',\n",
    "    'allergy',\n",
    "    'Allergies',\n",
    "    'Depression',\n",
    "    'Anxiety',\n",
    "    'PTSD',\n",
    "    'disabilities',\n",
    "    'ADHD',\n",
    "    'medication',\n",
    "    'Medications and Conditions',\n",
    "    'Transportation',\n",
    "    'Child',\n",
    "    'Household Size',\n",
    "    'Number of Dependents',\n",
    "    'Substance Abuse',\n",
    "    'Smoker?',\n",
    "    'Benefits',\n",
    "    'Insurance',\n",
    "    'Health Insurance',\n",
    "    'non cash'\n",
    "]]"
   ]
  },
  {
   "cell_type": "code",
   "execution_count": null,
   "id": "0c6c1c9f-7a0b-411a-af13-13f9d24e4e8c",
   "metadata": {},
   "outputs": [],
   "source": []
  },
  {
   "cell_type": "code",
   "execution_count": 163,
   "id": "1fe95d21-b563-44db-950c-c30be0a91b17",
   "metadata": {},
   "outputs": [],
   "source": [
    "assess2.to_excel(r'redacted file path\\exports\\real assess merge3.xlsx')"
   ]
  },
  {
   "cell_type": "markdown",
   "id": "f8b01823-ae26-45e4-b261-aee34e59da64",
   "metadata": {},
   "source": [
    "### Case note merge"
   ]
  },
  {
   "cell_type": "code",
   "execution_count": 136,
   "id": "8f0e33cc-1da9-4d1c-82e2-8df7e3e706b7",
   "metadata": {},
   "outputs": [],
   "source": [
    "case1 = pd.read_excel(r'redacted file path\\case note - unformatted.xlsx')\n",
    "case1 = case1.add_suffix('_case')\n",
    "case2 = pd.read_excel(r'redacted file path\\outcome activity (case note) - unformatted.xlsx')\n",
    "case2 = case2.add_suffix('_activity')\n",
    "area = pd.read_excel(r'redacted file path\\outcome area (case notes) - unformatted.xlsx')\n",
    "area = area.add_suffix('_area')\n",
    "goal = pd.read_excel(r'redacted file path\\outcome goal (goals) - unformatted.xlsx')\n",
    "goal = goal.add_suffix('_goal')"
   ]
  },
  {
   "cell_type": "code",
   "execution_count": 137,
   "id": "28148e2c-5232-4804-9cd3-d8ed87d80344",
   "metadata": {
    "scrolled": true
   },
   "outputs": [
    {
     "name": "stdout",
     "output_type": "stream",
     "text": [
      "<class 'pandas.core.frame.DataFrame'>\n",
      "RangeIndex: 5885 entries, 0 to 5884\n",
      "Data columns (total 44 columns):\n",
      " #   Column                                        Non-Null Count  Dtype         \n",
      "---  ------                                        --------------  -----         \n",
      " 0   Start Date_goal                               5865 non-null   datetime64[ns]\n",
      " 1   Goal_goal                                     5882 non-null   object        \n",
      " 2   Action Steps_goal                             0 non-null      float64       \n",
      " 3   Goal Summary_goal                             1830 non-null   object        \n",
      " 4   Created_goal                                  5885 non-null   datetime64[ns]\n",
      " 5   Created By_goal                               5885 non-null   object        \n",
      " 6   Modified_goal                                 5885 non-null   datetime64[ns]\n",
      " 7   Modified By_goal                              5885 non-null   object        \n",
      " 8   Client_goal                                   5885 non-null   object        \n",
      " 9   Completion Date_goal                          1522 non-null   datetime64[ns]\n",
      " 10  Discontinuation Date_goal                     1472 non-null   datetime64[ns]\n",
      " 11  Content Type_goal                             5885 non-null   object        \n",
      " 12  Folder Child Count_goal                       5885 non-null   int64         \n",
      " 13  How do you know this goal has been met?_goal  4899 non-null   object        \n",
      " 14  ID_goal                                       5885 non-null   int64         \n",
      " 15  Item Child Count_goal                         5885 non-null   int64         \n",
      " 16  Outcome Area ID_goal                          5859 non-null   float64       \n",
      " 17  Projected Completion Date_goal                4506 non-null   datetime64[ns]\n",
      " 18  Reason for Discontinuation_goal               2266 non-null   object        \n",
      " 19  Review Schedule_goal                          5885 non-null   object        \n",
      " 20  Title_goal                                    5885 non-null   object        \n",
      " 21  Item Type_goal                                5885 non-null   object        \n",
      " 22  Path_goal                                     5885 non-null   object        \n",
      " 23  Date_area                                     5859 non-null   datetime64[ns]\n",
      " 24  Client_area                                   5859 non-null   object        \n",
      " 25  Service_area                                  4844 non-null   object        \n",
      " 26  Objective - DO NOT USE_area                   35 non-null     object        \n",
      " 27  End Date_area                                 2872 non-null   datetime64[ns]\n",
      " 28  Outcome Successful?_area                      2611 non-null   object        \n",
      " 29  Funding Source_area                           3276 non-null   object        \n",
      " 30  Goal Area_area                                5859 non-null   object        \n",
      " 31  Venue_area                                    5859 non-null   object        \n",
      " 32  Comments_area                                 886 non-null    object        \n",
      " 33  Created_area                                  5859 non-null   datetime64[ns]\n",
      " 34  Created By_area                               5859 non-null   object        \n",
      " 35  Content Type_area                             5859 non-null   object        \n",
      " 36  Folder Child Count_area                       5859 non-null   float64       \n",
      " 37  ID_area                                       5859 non-null   float64       \n",
      " 38  Item Child Count_area                         5859 non-null   float64       \n",
      " 39  Modified_area                                 5859 non-null   datetime64[ns]\n",
      " 40  Modified By_area                              5859 non-null   object        \n",
      " 41  Title_area                                    5859 non-null   object        \n",
      " 42  Item Type_area                                5859 non-null   object        \n",
      " 43  Path_area                                     5859 non-null   object        \n",
      "dtypes: datetime64[ns](10), float64(5), int64(3), object(26)\n",
      "memory usage: 2.0+ MB\n"
     ]
    }
   ],
   "source": [
    "outcome1 = goal.merge(area,how='left',left_on='Outcome Area ID_goal',right_on='ID_area')\n",
    "outcome1.info()"
   ]
  },
  {
   "cell_type": "code",
   "execution_count": 138,
   "id": "706045e6-19eb-4d8e-9368-7560be25ea12",
   "metadata": {},
   "outputs": [],
   "source": [
    "outcome2 = case2.merge(outcome1,how='left',left_on='GoalID_activity',right_on='ID_goal')"
   ]
  },
  {
   "cell_type": "code",
   "execution_count": 139,
   "id": "3d8bb289-27a2-45d4-b49b-c790d97d1215",
   "metadata": {},
   "outputs": [
    {
     "data": {
      "text/plain": [
       "Index(['Date_activity', 'Client_activity',\n",
       "       'Time Spent on this Activity_activity', 'Client Hours_activity',\n",
       "       'Hours Type_activity', 'Staff_activity', 'Contact Type_activity',\n",
       "       'DDA Phase_activity', 'Modified_activity', 'Activity_activity',\n",
       "       'Administrative Time_activity', 'Progress_activity',\n",
       "       'TotalHours_activity', 'Travel Time_activity', 'CaseNoteID_activity',\n",
       "       'Content Type_activity', 'Created_activity', 'Created By_activity',\n",
       "       'Folder Child Count_activity', 'GoalID_activity', 'ID_activity',\n",
       "       'Item Child Count_activity', 'Modified By_activity', 'Title_activity',\n",
       "       'Item Type_activity', 'Path_activity', 'Start Date_goal', 'Goal_goal',\n",
       "       'Action Steps_goal', 'Goal Summary_goal', 'Created_goal',\n",
       "       'Created By_goal', 'Modified_goal', 'Modified By_goal', 'Client_goal',\n",
       "       'Completion Date_goal', 'Discontinuation Date_goal',\n",
       "       'Content Type_goal', 'Folder Child Count_goal',\n",
       "       'How do you know this goal has been met?_goal', 'ID_goal',\n",
       "       'Item Child Count_goal', 'Outcome Area ID_goal',\n",
       "       'Projected Completion Date_goal', 'Reason for Discontinuation_goal',\n",
       "       'Review Schedule_goal', 'Title_goal', 'Item Type_goal', 'Path_goal',\n",
       "       'Date_area', 'Client_area', 'Service_area',\n",
       "       'Objective - DO NOT USE_area', 'End Date_area',\n",
       "       'Outcome Successful?_area', 'Funding Source_area', 'Goal Area_area',\n",
       "       'Venue_area', 'Comments_area', 'Created_area', 'Created By_area',\n",
       "       'Content Type_area', 'Folder Child Count_area', 'ID_area',\n",
       "       'Item Child Count_area', 'Modified_area', 'Modified By_area',\n",
       "       'Title_area', 'Item Type_area', 'Path_area'],\n",
       "      dtype='object')"
      ]
     },
     "execution_count": 139,
     "metadata": {},
     "output_type": "execute_result"
    }
   ],
   "source": [
    "outcome2.columns"
   ]
  },
  {
   "cell_type": "code",
   "execution_count": 140,
   "id": "e45a5aad-e058-41e3-b85d-41caccabd88f",
   "metadata": {},
   "outputs": [],
   "source": [
    "outcome3 = outcome2[[\n",
    "    'Client_activity',\n",
    "    'Date_activity',\n",
    "    'Contact Type_activity',\n",
    "    'Time Spent on this Activity_activity',\n",
    "    'Activity_activity',\n",
    "    'DDA Phase_activity',\n",
    "    'Administrative Time_activity',\n",
    "    'Travel Time_activity',\n",
    "    'Goal_goal',\n",
    "    'Service_area',\n",
    "    'Funding Source_area'\n",
    "]]"
   ]
  },
  {
   "cell_type": "code",
   "execution_count": 141,
   "id": "367f7755-ae87-419f-8c8f-5ff19d5b3f1f",
   "metadata": {},
   "outputs": [
    {
     "data": {
      "text/plain": [
       "Index(['ID_case', 'Date_case', 'Client_case', 'Venue_case', 'Service_case',\n",
       "       'DDA Phase_case', 'Contact Type_case', 'Created_case',\n",
       "       'Created By_case', 'Content Type_case',\n",
       "       'Hours Spent (not on defined goals)_case', 'Other Comments_case',\n",
       "       'Administrative Time_case', 'Folder Child Count_case',\n",
       "       'Funding Source_case', 'Item Child Count_case', 'Modified_case',\n",
       "       'Modified By_case', 'Staff_case', 'Title_case',\n",
       "       'Total Hours Spent (not on defined goals)_case', 'Travel Time_case',\n",
       "       'Item Type_case', 'Path_case'],\n",
       "      dtype='object')"
      ]
     },
     "execution_count": 141,
     "metadata": {},
     "output_type": "execute_result"
    }
   ],
   "source": [
    "case1.columns"
   ]
  },
  {
   "cell_type": "code",
   "execution_count": 142,
   "id": "a495cf68-df7a-40d8-b7ef-8f33637f73cc",
   "metadata": {},
   "outputs": [],
   "source": [
    "case11 = case1[[\n",
    "    'Client_case',\n",
    "    'Date_case',\n",
    "    'Contact Type_case',\n",
    "    'Hours Spent (not on defined goals)_case',\n",
    "    'Other Comments_case',\n",
    "    'DDA Phase_case',\n",
    "    'Administrative Time_case',\n",
    "    'Travel Time_case',\n",
    "    'Service_case',\n",
    "    'Funding Source_case'\n",
    "]]"
   ]
  },
  {
   "cell_type": "code",
   "execution_count": 143,
   "id": "9e7ef71f-e92b-4a96-9acd-15a5eacf833f",
   "metadata": {},
   "outputs": [],
   "source": [
    "casecol1 = [\n",
    "    'Client',\n",
    "    'Date',\n",
    "    'Contact Type',\n",
    "    'Time Spent',\n",
    "    'Case Note',\n",
    "    'DDA Phase',\n",
    "    'Admin Time',\n",
    "    'Travel Time',\n",
    "    'Service',\n",
    "    'Funding'\n",
    "]\n",
    "\n",
    "casecol2 = [\n",
    "    'Client',\n",
    "    'Date',\n",
    "    'Contact Type',\n",
    "    'Time Spent',\n",
    "    'Case Note',\n",
    "    'DDA Phase',\n",
    "    'Admin Time',\n",
    "    'Travel Time',\n",
    "    'Goal',\n",
    "    'Service',\n",
    "    'Funding'\n",
    "]\n",
    "\n",
    "case11.columns = casecol1\n",
    "outcome3.columns = casecol2"
   ]
  },
  {
   "cell_type": "code",
   "execution_count": 144,
   "id": "5e1e8258-5c63-48b7-b81e-6c1c107ef4b8",
   "metadata": {},
   "outputs": [
    {
     "name": "stdout",
     "output_type": "stream",
     "text": [
      "<class 'pandas.core.frame.DataFrame'>\n",
      "Index: 81884 entries, 0 to 47771\n",
      "Data columns (total 11 columns):\n",
      " #   Column        Non-Null Count  Dtype         \n",
      "---  ------        --------------  -----         \n",
      " 0   Client        81884 non-null  object        \n",
      " 1   Date          81884 non-null  datetime64[ns]\n",
      " 2   Contact Type  72346 non-null  object        \n",
      " 3   Time Spent    66937 non-null  float64       \n",
      " 4   Case Note     72315 non-null  object        \n",
      " 5   DDA Phase     11666 non-null  object        \n",
      " 6   Admin Time    2 non-null      float64       \n",
      " 7   Travel Time   6 non-null      float64       \n",
      " 8   Goal          34022 non-null  object        \n",
      " 9   Service       75150 non-null  object        \n",
      " 10  Funding       68276 non-null  object        \n",
      "dtypes: datetime64[ns](1), float64(3), object(7)\n",
      "memory usage: 7.5+ MB\n"
     ]
    }
   ],
   "source": [
    "casenote = pd.concat([outcome3,case11],axis=0)\n",
    "casenote.info()"
   ]
  },
  {
   "cell_type": "code",
   "execution_count": 145,
   "id": "812629b7-bb08-42b1-b8a4-60bf852d0761",
   "metadata": {},
   "outputs": [],
   "source": [
    "casenote['Goal Reviewed?'] = np.where(casenote['Goal'].notna(),'Yes','No')"
   ]
  },
  {
   "cell_type": "code",
   "execution_count": 146,
   "id": "b4ab106f-3cc2-42c7-b339-391fd29f3b5c",
   "metadata": {},
   "outputs": [],
   "source": [
    "casenote[['Client','Individual']] = casenote['Client'].str.split(';#', expand=True)\n",
    "\n",
    "# sort the individual column values alphabetically\n",
    "casenote = casenote.sort_values('Individual',ascending=True)\n",
    "\n",
    "# the key value had a space in it, so needed to remove that space\n",
    "casenote['Individual'] = casenote['Individual'].str.replace(', ',',')\n",
    "\n",
    "# remove test case rows\n",
    "casenote = casenote[~casenote['Individual'].str.contains('test', case=False, na=False)].copy()\n",
    "\n",
    "# remove any text (within parethesis) to standardize names\n",
    "casenote['Individual'] = casenote['Individual'].replace(r'\\(.*?\\)','',regex=True).str.strip()\n",
    "\n",
    "casenote['Individual'] = casenote['Individual'].replace(r'\\\".*?\\\"','',regex=True).str.strip()"
   ]
  },
  {
   "cell_type": "code",
   "execution_count": 147,
   "id": "474d3816-a188-472c-a01b-a4427395b85f",
   "metadata": {},
   "outputs": [],
   "source": [
    "peepsmerge = merge6[[\n",
    "    'people_First Name',\n",
    "    'people_Last Name',\n",
    "    'demo_Date of Birth',\n",
    "    'people_Full Name'\n",
    "]].copy()\n",
    "\n",
    "peepsmerge['people_Full Name'] = peepsmerge['people_Full Name'].str.replace(', ',',')\n",
    "peepsmerge['demo_Date of Birth'] = peepsmerge['demo_Date of Birth'].fillna('1/1/1800')"
   ]
  },
  {
   "cell_type": "code",
   "execution_count": 148,
   "id": "6a0572ce-5360-4748-bcb8-f0a0cad625bb",
   "metadata": {},
   "outputs": [
    {
     "name": "stdout",
     "output_type": "stream",
     "text": [
      "<class 'pandas.core.frame.DataFrame'>\n",
      "RangeIndex: 50996 entries, 0 to 50995\n",
      "Data columns (total 15 columns):\n",
      " #   Column              Non-Null Count  Dtype         \n",
      "---  ------              --------------  -----         \n",
      " 0   Client              50990 non-null  object        \n",
      " 1   Date                50990 non-null  datetime64[ns]\n",
      " 2   Contact Type        43753 non-null  object        \n",
      " 3   Time Spent          41640 non-null  float64       \n",
      " 4   Case Note           43783 non-null  object        \n",
      " 5   DDA Phase           10306 non-null  object        \n",
      " 6   Goal                19298 non-null  object        \n",
      " 7   Service             48021 non-null  object        \n",
      " 8   Funding             46442 non-null  object        \n",
      " 9   Goal Reviewed?      50990 non-null  object        \n",
      " 10  Individual          50990 non-null  object        \n",
      " 11  people_First Name   50996 non-null  object        \n",
      " 12  people_Last Name    50996 non-null  object        \n",
      " 13  demo_Date of Birth  50996 non-null  object        \n",
      " 14  people_Full Name    50996 non-null  object        \n",
      "dtypes: datetime64[ns](1), float64(1), object(13)\n",
      "memory usage: 5.8+ MB\n"
     ]
    }
   ],
   "source": [
    "casenote2 = casenote.merge(peepsmerge,how='right',left_on='Individual',right_on='people_Full Name')\n",
    "casenote2 = casenote2.drop(columns=['Admin Time','Travel Time'])\n",
    "casenote2.info()"
   ]
  },
  {
   "cell_type": "code",
   "execution_count": 149,
   "id": "49702b03-a559-4168-ba20-9c638056a0ef",
   "metadata": {
    "scrolled": true
   },
   "outputs": [
    {
     "data": {
      "text/plain": [
       "Time Spent\n",
       "0.25    19339\n",
       "0.50     7105\n",
       "1.00     4178\n",
       "1.50     2566\n",
       "2.00     2357\n",
       "0.75     1958\n",
       "1.25     1394\n",
       "1.75      849\n",
       "2.50      664\n",
       "3.00      391\n",
       "2.25      260\n",
       "2.75      136\n",
       "0.00       91\n",
       "3.50       67\n",
       "4.50       52\n",
       "3.25       45\n",
       "4.00       40\n",
       "4.25       34\n",
       "4.75       26\n",
       "5.00       23\n",
       "3.75       16\n",
       "5.50       12\n",
       "7.00        6\n",
       "6.50        6\n",
       "8.00        5\n",
       "5.25        5\n",
       "6.00        4\n",
       "6.25        3\n",
       "5.75        3\n",
       "7.50        3\n",
       "7.25        2\n",
       "Name: count, dtype: int64"
      ]
     },
     "execution_count": 149,
     "metadata": {},
     "output_type": "execute_result"
    }
   ],
   "source": [
    "casenote2['Time Spent'].value_counts()"
   ]
  },
  {
   "cell_type": "code",
   "execution_count": 150,
   "id": "8332cdc0-7899-47d2-a1e4-0488e7a52eb4",
   "metadata": {},
   "outputs": [],
   "source": [
    "contactrep = {\n",
    "    'Face to Face':'In Person',\n",
    "    'General Info':'General',\n",
    "    'Instructor / Set-Up':'Instructor',\n",
    "    'DDA - Record Keeping':'DDA Record Keeping',\n",
    "    'Referral Agency':'Referral',\n",
    "    'Time Off Request':'Mentor Communication',\n",
    "    'Closure Note (Include any return requirements or recommendations)':'General',\n",
    "    '(Select)':'General'\n",
    "}\n",
    "casenote2['Contact Type'] = casenote2['Contact Type'].replace(contactrep)"
   ]
  },
  {
   "cell_type": "code",
   "execution_count": 151,
   "id": "6a081083-ce05-453b-9cba-ea22c5c5b4ec",
   "metadata": {},
   "outputs": [],
   "source": [
    "casenote2['Who Participated'] = 'Client'"
   ]
  },
  {
   "cell_type": "code",
   "execution_count": 152,
   "id": "344c4899-f173-4f8e-9719-a3097163791f",
   "metadata": {},
   "outputs": [
    {
     "name": "stdout",
     "output_type": "stream",
     "text": [
      "<class 'pandas.core.frame.DataFrame'>\n",
      "RangeIndex: 50996 entries, 0 to 50995\n",
      "Data columns (total 16 columns):\n",
      " #   Column              Non-Null Count  Dtype         \n",
      "---  ------              --------------  -----         \n",
      " 0   Client              50990 non-null  object        \n",
      " 1   Date                50990 non-null  datetime64[ns]\n",
      " 2   Contact Type        43753 non-null  object        \n",
      " 3   Time Spent          41640 non-null  float64       \n",
      " 4   Case Note           43783 non-null  object        \n",
      " 5   DDA Phase           10306 non-null  object        \n",
      " 6   Goal                19298 non-null  object        \n",
      " 7   Service             48021 non-null  object        \n",
      " 8   Funding             46442 non-null  object        \n",
      " 9   Goal Reviewed?      50990 non-null  object        \n",
      " 10  Individual          50990 non-null  object        \n",
      " 11  people_First Name   50996 non-null  object        \n",
      " 12  people_Last Name    50996 non-null  object        \n",
      " 13  demo_Date of Birth  50996 non-null  object        \n",
      " 14  people_Full Name    50996 non-null  object        \n",
      " 15  Who Participated    50996 non-null  object        \n",
      "dtypes: datetime64[ns](1), float64(1), object(14)\n",
      "memory usage: 6.2+ MB\n"
     ]
    }
   ],
   "source": [
    "casenote2.info()"
   ]
  },
  {
   "cell_type": "code",
   "execution_count": 153,
   "id": "60764324-e729-416b-883b-e061732be832",
   "metadata": {},
   "outputs": [],
   "source": [
    "casenote2['Referrals Made'] = np.where(casenote2['Contact Type'] == 'Referral','Yes','No')"
   ]
  },
  {
   "cell_type": "code",
   "execution_count": 154,
   "id": "db6fce8f-2f4d-4bbd-9ac7-cd0caf75b4a7",
   "metadata": {},
   "outputs": [
    {
     "data": {
      "text/plain": [
       "Service\n",
       "34;#DDA - Individual Employment Services    9320\n",
       "0;#                                         8618\n",
       "1;#Assessment                               8229\n",
       "7;#Job Development                          5053\n",
       "13;#Community Based Assessment              4843\n",
       "39;#Case Management                         2617\n",
       "35;#BFET - SL (Life Skills)                 2395\n",
       "24;#DDA - Community Inclusion               2092\n",
       "8;#Job Retention                            1496\n",
       "12;#Training                                1246\n",
       "32;#DDA - School to Work                     842\n",
       "38;#BFET - JT (Job Search Training)          454\n",
       "3;#Intensive Training Services               263\n",
       "36;#BFET - JS (Supervised Job Search)        219\n",
       "37;#BFET - BR (Job Retention)                147\n",
       "40;#DDA - Job Foundations                     81\n",
       "6;#Internship - Other                         52\n",
       "4;#Internship - CNC Mills                     30\n",
       "23;#IL Services                               23\n",
       "28;#                                           1\n",
       "Name: count, dtype: int64"
      ]
     },
     "execution_count": 154,
     "metadata": {},
     "output_type": "execute_result"
    }
   ],
   "source": [
    "casenote2['Service'].value_counts()"
   ]
  },
  {
   "cell_type": "code",
   "execution_count": 155,
   "id": "151303de-d9dc-4e83-adeb-0cefcf16a304",
   "metadata": {},
   "outputs": [],
   "source": [
    "import re\n",
    "casenote2.loc[:,'Service'] = casenote2['Service'].replace(r'\\d{1,2};#','',regex=True)\n",
    "casenote2.loc[:,'Funding'] = casenote2['Funding'].replace(r'\\d{1,2};#','',regex=True)"
   ]
  },
  {
   "cell_type": "code",
   "execution_count": 156,
   "id": "6f8742e1-29df-4b0e-98e9-34e22d63f7b5",
   "metadata": {},
   "outputs": [],
   "source": [
    "casenote2['Import Service'] = casenote2['Service']\n",
    "casenote2['Import Funding'] = casenote2['Funding']"
   ]
  },
  {
   "cell_type": "code",
   "execution_count": 157,
   "id": "ce8a9959-0627-41cf-8615-200acf94c1ba",
   "metadata": {
    "scrolled": true
   },
   "outputs": [
    {
     "name": "stdout",
     "output_type": "stream",
     "text": [
      "<class 'pandas.core.frame.DataFrame'>\n",
      "Index: 43783 entries, 0 to 50995\n",
      "Data columns (total 19 columns):\n",
      " #   Column              Non-Null Count  Dtype         \n",
      "---  ------              --------------  -----         \n",
      " 0   Client              43783 non-null  object        \n",
      " 1   Date                43783 non-null  datetime64[ns]\n",
      " 2   Contact Type        43548 non-null  object        \n",
      " 3   Time Spent          41521 non-null  float64       \n",
      " 4   Case Note           43783 non-null  object        \n",
      " 5   DDA Phase           10186 non-null  object        \n",
      " 6   Goal                19153 non-null  object        \n",
      " 7   Service             40826 non-null  object        \n",
      " 8   Funding             39259 non-null  object        \n",
      " 9   Goal Reviewed?      43783 non-null  object        \n",
      " 10  Individual          43783 non-null  object        \n",
      " 11  people_First Name   43783 non-null  object        \n",
      " 12  people_Last Name    43783 non-null  object        \n",
      " 13  demo_Date of Birth  43783 non-null  object        \n",
      " 14  people_Full Name    43783 non-null  object        \n",
      " 15  Who Participated    43783 non-null  object        \n",
      " 16  Referrals Made      43783 non-null  object        \n",
      " 17  Import Service      40826 non-null  object        \n",
      " 18  Import Funding      39259 non-null  object        \n",
      "dtypes: datetime64[ns](1), float64(1), object(17)\n",
      "memory usage: 6.7+ MB\n"
     ]
    }
   ],
   "source": [
    "casenote3 = casenote2[casenote2['Case Note'].notna()].copy()\n",
    "casenote3.info()"
   ]
  },
  {
   "cell_type": "code",
   "execution_count": 158,
   "id": "ba284db3-3f95-442a-9ddb-d93923177d6e",
   "metadata": {},
   "outputs": [],
   "source": [
    "query = pd.read_excel(r'redacted file path\\exports\\appricot subservice funder export.xlsx')"
   ]
  },
  {
   "cell_type": "code",
   "execution_count": 159,
   "id": "4a45f872-b918-44ea-b7e1-53e00f0c1ffa",
   "metadata": {
    "scrolled": true
   },
   "outputs": [
    {
     "name": "stdout",
     "output_type": "stream",
     "text": [
      "<class 'pandas.core.frame.DataFrame'>\n",
      "Index: 587 entries, 0 to 640\n",
      "Data columns (total 14 columns):\n",
      " #   Column                  Non-Null Count  Dtype  \n",
      "---  ------                  --------------  -----  \n",
      " 0   First                   587 non-null    object \n",
      " 1   Middle                  0 non-null      float64\n",
      " 2   Last                    587 non-null    object \n",
      " 3   Date of Birth           587 non-null    object \n",
      " 4   Status                  587 non-null    object \n",
      " 5   Location                587 non-null    object \n",
      " 6   Date Intake Started     585 non-null    object \n",
      " 7   Date Services Starting  587 non-null    object \n",
      " 8   Service                 587 non-null    object \n",
      " 9   Sub-Service Category    587 non-null    object \n",
      " 10  Funding Source          587 non-null    object \n",
      " 11  Start Date              587 non-null    object \n",
      " 12  associated service      587 non-null    object \n",
      " 13  sub service             587 non-null    object \n",
      "dtypes: float64(1), object(13)\n",
      "memory usage: 68.8+ KB\n"
     ]
    }
   ],
   "source": [
    "query = query.drop_duplicates(subset=['First','Last','Status','Location','Date Intake Started','Date Services Starting','Service','Sub-Service Category','Funding Source'])\n",
    "query.info()"
   ]
  },
  {
   "cell_type": "code",
   "execution_count": 160,
   "id": "32caf623-34e3-48ff-ab05-0c8be895d2b6",
   "metadata": {},
   "outputs": [],
   "source": [
    "casenote3['Apricot Service'] = np.where(casenote3['Import Service'].str.contains('Assessment|Trial Work Experience|Life Skills'),'Assessment',\n",
    "                                    np.where(casenote3['Import Service'].str.contains('DDA'),'DDA Services',\n",
    "                                    np.where(casenote3['Import Service'].str.contains('Job Retention|Intensive Training Services'),'Job Retention',\n",
    "                                    np.where(casenote3['Import Service'].str.contains('Job Development|Supervised Job Search|Job Search Training'),'Job Development',\n",
    "                                    np.where(casenote3['Import Service'].str.contains('Case Management'),'Case Management',\n",
    "                                    np.where(casenote3['Import Service'].str.contains('IL Services'),'Independent Living',\n",
    "                                    np.where(casenote3['Import Service'].str.contains('Internship|Training'),'Training',\n",
    "                                    '')))))))"
   ]
  },
  {
   "cell_type": "code",
   "execution_count": 162,
   "id": "9ef0353b-8b2b-4ee5-b5e7-9b52d8cb4621",
   "metadata": {},
   "outputs": [],
   "source": [
    "casenote3['Import Funding'] = casenote3['Import Funding'].str.replace('1','',regex=True)"
   ]
  },
  {
   "cell_type": "code",
   "execution_count": 163,
   "id": "3397f493-28c7-4632-9d39-53679620ec5c",
   "metadata": {},
   "outputs": [],
   "source": [
    "fundrep = {\n",
    "    'Olsen & Associates':'Labor & Industries',\n",
    "    'Strategic Consulting Services':'Labor & Industries',\n",
    "    'Pioneer Industries':'Labor & Industries',\n",
    "    'Aerospace Joint Apprenticeship Committee (AJAC)':'Labor & Industries',\n",
    "    'Workforce Training and Education Coordinating Board':'WRT',\n",
    "    'WRT - State Board for Community and Technical Colleges':'WRT',\n",
    "    'City of Renton':'City Funding - Human Services (Auburn, Renton)',\n",
    "    'City of Kent':'City Funding - Human Services (Auburn, Renton)',\n",
    "    'City of Auburn':'City Funding - Human Services (Auburn, Renton)',\n",
    "    'City of Federal Way':'City Funding - CDBG (Federal Way)',\n",
    "    'Snohomish County Human Services | Housing and Community Services':'Snohomish County - ERSS',\n",
    "    'DDA-King County':'DDA',\n",
    "    'DDA-Snohomish':'DDA',\n",
    "    'Veterans Administration-Seattle':'Veterans Administration',\n",
    "    'King County Jobs and Housing':'King County Jobs & Housing',\n",
    "    'SJI (Seattle Jobs Initiative)':'Labor & Industries',\n",
    "    'DSB-Tacoma':'DVR'\n",
    "}\n",
    "\n",
    "casenote3['Apricot Funding'] = casenote3['Import Funding'].replace(fundrep)"
   ]
  },
  {
   "cell_type": "code",
   "execution_count": 164,
   "id": "3ad998f7-31ba-4d9a-ac8c-11f25a3d3866",
   "metadata": {},
   "outputs": [],
   "source": [
    "casenote3['Apricot Funding'] = casenote3['Apricot Funding'].str.replace(r'^DVR*','DVR',regex=True)"
   ]
  },
  {
   "cell_type": "code",
   "execution_count": 165,
   "id": "1e2286b1-c399-47d6-b504-dc3757e9b0c4",
   "metadata": {},
   "outputs": [
    {
     "data": {
      "text/plain": [
       "Apricot Funding\n",
       "DDA                                               11963\n",
       "                                                   6546\n",
       "BFET                                               3569\n",
       "King County Jobs & Housing                         3051\n",
       "Snohomish County - ERSS                            2726\n",
       "DVR-Lynnwood                                       1819\n",
       "DVR-Seatac                                         1517\n",
       "DVR-Kent                                           1457\n",
       "City Funding - Human Services (Auburn, Renton)     1417\n",
       "DVR-Tacoma                                         1081\n",
       "City Funding - CDBG (Federal Way)                   981\n",
       "DVR-Everett                                         914\n",
       "DVR-Puyallup                                        814\n",
       "WRT                                                 535\n",
       "DVR-Bellevue                                        413\n",
       "DVR-Arlington                                       174\n",
       "DVR-North Seattle                                   156\n",
       "Labor & Industries                                  119\n",
       "Fusion Family Center                                  6\n",
       "Orion Industries                                      1\n",
       "Name: count, dtype: int64"
      ]
     },
     "execution_count": 165,
     "metadata": {},
     "output_type": "execute_result"
    }
   ],
   "source": [
    "casenote3['Apricot Funding'].value_counts()"
   ]
  },
  {
   "cell_type": "code",
   "execution_count": 166,
   "id": "8e5dfcdf-dbce-4c81-b7c6-850b8726fc06",
   "metadata": {},
   "outputs": [],
   "source": [
    "casenote4 = casenote3.merge(query,how='left',left_on=['people_First Name','people_Last Name','Apricot Service','Apricot Funding'],right_on=['First','Last','Service','Funding Source'])"
   ]
  },
  {
   "cell_type": "code",
   "execution_count": 167,
   "id": "f3ab7d85-ee6f-48c5-bf2e-cad03e54a376",
   "metadata": {},
   "outputs": [],
   "source": [
    "casenote4['CI Phase'] = np.where(casenote4['Import Service'].str.contains('Community Inclusion'),'Record Keeping','')"
   ]
  },
  {
   "cell_type": "code",
   "execution_count": 92,
   "id": "b2e7f004-5deb-44ec-945f-f0b35c9d2b89",
   "metadata": {},
   "outputs": [],
   "source": [
    "casenote4.to_excel(r'redacted file path\\exports\\real casenote2.xlsx')"
   ]
  },
  {
   "cell_type": "markdown",
   "id": "32881136-f596-41ee-9376-5257b41a4f6f",
   "metadata": {},
   "source": [
    "### Outcome Area/goal/activity"
   ]
  },
  {
   "cell_type": "code",
   "execution_count": 168,
   "id": "438a2575-56f7-4f93-a196-ec3d4790fe56",
   "metadata": {},
   "outputs": [],
   "source": [
    "area = pd.read_excel(r'redacted file path\\outcome area (case notes) - unformatted.xlsx')\n",
    "area = area.add_suffix('_area')\n",
    "goal = pd.read_excel(r'redacted file path\\outcome goal (goals) - unformatted.xlsx')\n",
    "goal = goal.add_suffix('_goal')\n",
    "activity = pd.read_excel(r'redacted file path\\outcome activity (case note) - unformatted.xlsx')\n",
    "activity = activity.add_suffix('_activity')"
   ]
  },
  {
   "cell_type": "code",
   "execution_count": 169,
   "id": "65efeb40-7ba4-4b0f-8f32-223e6cc28dab",
   "metadata": {
    "scrolled": true
   },
   "outputs": [
    {
     "name": "stdout",
     "output_type": "stream",
     "text": [
      "<class 'pandas.core.frame.DataFrame'>\n",
      "RangeIndex: 5885 entries, 0 to 5884\n",
      "Data columns (total 44 columns):\n",
      " #   Column                                        Non-Null Count  Dtype         \n",
      "---  ------                                        --------------  -----         \n",
      " 0   Start Date_goal                               5865 non-null   datetime64[ns]\n",
      " 1   Goal_goal                                     5882 non-null   object        \n",
      " 2   Action Steps_goal                             0 non-null      float64       \n",
      " 3   Goal Summary_goal                             1830 non-null   object        \n",
      " 4   Created_goal                                  5885 non-null   datetime64[ns]\n",
      " 5   Created By_goal                               5885 non-null   object        \n",
      " 6   Modified_goal                                 5885 non-null   datetime64[ns]\n",
      " 7   Modified By_goal                              5885 non-null   object        \n",
      " 8   Client_goal                                   5885 non-null   object        \n",
      " 9   Completion Date_goal                          1522 non-null   datetime64[ns]\n",
      " 10  Discontinuation Date_goal                     1472 non-null   datetime64[ns]\n",
      " 11  Content Type_goal                             5885 non-null   object        \n",
      " 12  Folder Child Count_goal                       5885 non-null   int64         \n",
      " 13  How do you know this goal has been met?_goal  4899 non-null   object        \n",
      " 14  ID_goal                                       5885 non-null   int64         \n",
      " 15  Item Child Count_goal                         5885 non-null   int64         \n",
      " 16  Outcome Area ID_goal                          5859 non-null   float64       \n",
      " 17  Projected Completion Date_goal                4506 non-null   datetime64[ns]\n",
      " 18  Reason for Discontinuation_goal               2266 non-null   object        \n",
      " 19  Review Schedule_goal                          5885 non-null   object        \n",
      " 20  Title_goal                                    5885 non-null   object        \n",
      " 21  Item Type_goal                                5885 non-null   object        \n",
      " 22  Path_goal                                     5885 non-null   object        \n",
      " 23  Date_area                                     5859 non-null   datetime64[ns]\n",
      " 24  Client_area                                   5859 non-null   object        \n",
      " 25  Service_area                                  4844 non-null   object        \n",
      " 26  Objective - DO NOT USE_area                   35 non-null     object        \n",
      " 27  End Date_area                                 2872 non-null   datetime64[ns]\n",
      " 28  Outcome Successful?_area                      2611 non-null   object        \n",
      " 29  Funding Source_area                           3276 non-null   object        \n",
      " 30  Goal Area_area                                5859 non-null   object        \n",
      " 31  Venue_area                                    5859 non-null   object        \n",
      " 32  Comments_area                                 886 non-null    object        \n",
      " 33  Created_area                                  5859 non-null   datetime64[ns]\n",
      " 34  Created By_area                               5859 non-null   object        \n",
      " 35  Content Type_area                             5859 non-null   object        \n",
      " 36  Folder Child Count_area                       5859 non-null   float64       \n",
      " 37  ID_area                                       5859 non-null   float64       \n",
      " 38  Item Child Count_area                         5859 non-null   float64       \n",
      " 39  Modified_area                                 5859 non-null   datetime64[ns]\n",
      " 40  Modified By_area                              5859 non-null   object        \n",
      " 41  Title_area                                    5859 non-null   object        \n",
      " 42  Item Type_area                                5859 non-null   object        \n",
      " 43  Path_area                                     5859 non-null   object        \n",
      "dtypes: datetime64[ns](10), float64(5), int64(3), object(26)\n",
      "memory usage: 2.0+ MB\n"
     ]
    }
   ],
   "source": [
    "outcome1 = goal.merge(area,how='left',left_on='Outcome Area ID_goal',right_on='ID_area')\n",
    "\n",
    "outcome1.info()"
   ]
  },
  {
   "cell_type": "code",
   "execution_count": 170,
   "id": "10a07ab3-dd7c-4d5e-a8bd-6e18a6d42ca5",
   "metadata": {},
   "outputs": [],
   "source": [
    "outcome2 = activity.merge(outcome1,how='left',left_on='GoalID_activity',right_on='ID_goal')"
   ]
  },
  {
   "cell_type": "code",
   "execution_count": 171,
   "id": "427b6076-ddd4-4782-9d9b-f299d62b28ab",
   "metadata": {
    "scrolled": true
   },
   "outputs": [
    {
     "name": "stdout",
     "output_type": "stream",
     "text": [
      "<class 'pandas.core.frame.DataFrame'>\n",
      "RangeIndex: 34112 entries, 0 to 34111\n",
      "Data columns (total 70 columns):\n",
      " #   Column                                        Non-Null Count  Dtype         \n",
      "---  ------                                        --------------  -----         \n",
      " 0   Date_activity                                 34112 non-null  datetime64[ns]\n",
      " 1   Client_activity                               34112 non-null  object        \n",
      " 2   Time Spent on this Activity_activity          32017 non-null  float64       \n",
      " 3   Client Hours_activity                         32 non-null     float64       \n",
      " 4   Hours Type_activity                           37 non-null     object        \n",
      " 5   Staff_activity                                34109 non-null  object        \n",
      " 6   Contact Type_activity                         33742 non-null  object        \n",
      " 7   DDA Phase_activity                            6112 non-null   object        \n",
      " 8   Modified_activity                             34112 non-null  datetime64[ns]\n",
      " 9   Activity_activity                             33805 non-null  object        \n",
      " 10  Administrative Time_activity                  2 non-null      float64       \n",
      " 11  Progress_activity                             33701 non-null  object        \n",
      " 12  TotalHours_activity                           34112 non-null  float64       \n",
      " 13  Travel Time_activity                          3 non-null      float64       \n",
      " 14  CaseNoteID_activity                           29625 non-null  object        \n",
      " 15  Content Type_activity                         34112 non-null  object        \n",
      " 16  Created_activity                              34112 non-null  datetime64[ns]\n",
      " 17  Created By_activity                           34112 non-null  object        \n",
      " 18  Folder Child Count_activity                   34112 non-null  int64         \n",
      " 19  GoalID_activity                               34022 non-null  float64       \n",
      " 20  ID_activity                                   34112 non-null  int64         \n",
      " 21  Item Child Count_activity                     34112 non-null  int64         \n",
      " 22  Modified By_activity                          34112 non-null  object        \n",
      " 23  Title_activity                                34112 non-null  object        \n",
      " 24  Item Type_activity                            34112 non-null  object        \n",
      " 25  Path_activity                                 34112 non-null  object        \n",
      " 26  Start Date_goal                               34005 non-null  datetime64[ns]\n",
      " 27  Goal_goal                                     34022 non-null  object        \n",
      " 28  Action Steps_goal                             0 non-null      float64       \n",
      " 29  Goal Summary_goal                             9507 non-null   object        \n",
      " 30  Created_goal                                  34022 non-null  datetime64[ns]\n",
      " 31  Created By_goal                               34022 non-null  object        \n",
      " 32  Modified_goal                                 34022 non-null  datetime64[ns]\n",
      " 33  Modified By_goal                              34022 non-null  object        \n",
      " 34  Client_goal                                   34022 non-null  object        \n",
      " 35  Completion Date_goal                          7783 non-null   datetime64[ns]\n",
      " 36  Discontinuation Date_goal                     6490 non-null   datetime64[ns]\n",
      " 37  Content Type_goal                             34022 non-null  object        \n",
      " 38  Folder Child Count_goal                       34022 non-null  float64       \n",
      " 39  How do you know this goal has been met?_goal  27973 non-null  object        \n",
      " 40  ID_goal                                       34022 non-null  float64       \n",
      " 41  Item Child Count_goal                         34022 non-null  float64       \n",
      " 42  Outcome Area ID_goal                          34006 non-null  float64       \n",
      " 43  Projected Completion Date_goal                23935 non-null  datetime64[ns]\n",
      " 44  Reason for Discontinuation_goal               10075 non-null  object        \n",
      " 45  Review Schedule_goal                          34022 non-null  object        \n",
      " 46  Title_goal                                    34022 non-null  object        \n",
      " 47  Item Type_goal                                34022 non-null  object        \n",
      " 48  Path_goal                                     34022 non-null  object        \n",
      " 49  Date_area                                     34006 non-null  datetime64[ns]\n",
      " 50  Client_area                                   34006 non-null  object        \n",
      " 51  Service_area                                  28681 non-null  object        \n",
      " 52  Objective - DO NOT USE_area                   433 non-null    object        \n",
      " 53  End Date_area                                 14803 non-null  datetime64[ns]\n",
      " 54  Outcome Successful?_area                      14057 non-null  object        \n",
      " 55  Funding Source_area                           21918 non-null  object        \n",
      " 56  Goal Area_area                                34006 non-null  object        \n",
      " 57  Venue_area                                    34006 non-null  object        \n",
      " 58  Comments_area                                 4714 non-null   object        \n",
      " 59  Created_area                                  34006 non-null  datetime64[ns]\n",
      " 60  Created By_area                               34006 non-null  object        \n",
      " 61  Content Type_area                             34006 non-null  object        \n",
      " 62  Folder Child Count_area                       34006 non-null  float64       \n",
      " 63  ID_area                                       34006 non-null  float64       \n",
      " 64  Item Child Count_area                         34006 non-null  float64       \n",
      " 65  Modified_area                                 34006 non-null  datetime64[ns]\n",
      " 66  Modified By_area                              34006 non-null  object        \n",
      " 67  Title_area                                    34006 non-null  object        \n",
      " 68  Item Type_area                                34006 non-null  object        \n",
      " 69  Path_area                                     34006 non-null  object        \n",
      "dtypes: datetime64[ns](13), float64(14), int64(3), object(40)\n",
      "memory usage: 18.2+ MB\n"
     ]
    }
   ],
   "source": [
    "outcome2.info()"
   ]
  },
  {
   "cell_type": "code",
   "execution_count": 172,
   "id": "a23971dc-3f7e-4fcb-9591-f6f04ec4d0bd",
   "metadata": {
    "scrolled": true
   },
   "outputs": [],
   "source": [
    "# split out the contents of the client column on the ;# and add the split values to the newly created individual column\n",
    "outcome2[['Client_activity','Individual']] = outcome2['Client_activity'].str.split(';#', expand=True)\n",
    "\n",
    "# sort the individual column values alphabetically\n",
    "outcome2 = outcome2.sort_values('Individual',ascending=True)\n",
    "\n",
    "# the key value had a space in it, so needed to remove that space\n",
    "outcome2['Individual'] = outcome2['Individual'].str.replace(', ',',')\n",
    "\n",
    "# remove test case rows\n",
    "outcome2 = outcome2[~outcome2['Individual'].str.contains('test', case=False, na=False)].copy()\n",
    "\n",
    "# remove any text (within parethesis) to standardize names\n",
    "outcome2['Individual'] = outcome2['Individual'].replace(r'\\(.*?\\)','',regex=True).str.strip()\n",
    "\n",
    "outcome2['Individual'] = outcome2['Individual'].replace(r'\\\".*?\\\"','',regex=True).str.strip()"
   ]
  },
  {
   "cell_type": "code",
   "execution_count": 173,
   "id": "b1f8aa22-b88c-4971-8321-783511ef0cdd",
   "metadata": {},
   "outputs": [],
   "source": [
    "peepsmerge = merge6[[\n",
    "    'people_First Name',\n",
    "    'people_Last Name',\n",
    "    'demo_Date of Birth',\n",
    "    'people_Full Name'\n",
    "]].copy()\n",
    "\n",
    "peepsmerge['people_Full Name'] = peepsmerge['people_Full Name'].str.replace(', ',',')\n",
    "peepsmerge['demo_Date of Birth'] = peepsmerge['demo_Date of Birth'].fillna('1/1/1800')"
   ]
  },
  {
   "cell_type": "code",
   "execution_count": 174,
   "id": "a3623bf6-a313-46f8-8130-826a66d1e0ee",
   "metadata": {
    "scrolled": true
   },
   "outputs": [],
   "source": [
    "outcome3 = outcome2.merge(peepsmerge,how='right',left_on='Individual',right_on='people_Full Name')"
   ]
  },
  {
   "cell_type": "code",
   "execution_count": 541,
   "id": "96110b45-4184-4e63-a0cf-514231c1a369",
   "metadata": {
    "scrolled": true
   },
   "outputs": [
    {
     "name": "stdout",
     "output_type": "stream",
     "text": [
      "Date_activity\n",
      "Client_activity\n",
      "Time Spent on this Activity_activity\n",
      "Client Hours_activity\n",
      "Hours Type_activity\n",
      "Staff_activity\n",
      "Contact Type_activity\n",
      "DDA Phase_activity\n",
      "Modified_activity\n",
      "Activity_activity\n",
      "Administrative Time_activity\n",
      "Progress_activity\n",
      "TotalHours_activity\n",
      "Travel Time_activity\n",
      "CaseNoteID_activity\n",
      "Content Type_activity\n",
      "Created_activity\n",
      "Created By_activity\n",
      "Folder Child Count_activity\n",
      "GoalID_activity\n",
      "ID_activity\n",
      "Item Child Count_activity\n",
      "Modified By_activity\n",
      "Title_activity\n",
      "Item Type_activity\n",
      "Path_activity\n",
      "Start Date_goal\n",
      "Goal_goal\n",
      "Action Steps_goal\n",
      "Goal Summary_goal\n",
      "Created_goal\n",
      "Created By_goal\n",
      "Modified_goal\n",
      "Modified By_goal\n",
      "Client_goal\n",
      "Completion Date_goal\n",
      "Discontinuation Date_goal\n",
      "Content Type_goal\n",
      "Folder Child Count_goal\n",
      "How do you know this goal has been met?_goal\n",
      "ID_goal\n",
      "Item Child Count_goal\n",
      "Outcome Area ID_goal\n",
      "Projected Completion Date_goal\n",
      "Reason for Discontinuation_goal\n",
      "Review Schedule_goal\n",
      "Title_goal\n",
      "Item Type_goal\n",
      "Path_goal\n",
      "Date_area\n",
      "Client_area\n",
      "Service_area\n",
      "Objective - DO NOT USE_area\n",
      "End Date_area\n",
      "Outcome Successful?_area\n",
      "Funding Source_area\n",
      "Goal Area_area\n",
      "Venue_area\n",
      "Comments_area\n",
      "Created_area\n",
      "Created By_area\n",
      "Content Type_area\n",
      "Folder Child Count_area\n",
      "ID_area\n",
      "Item Child Count_area\n",
      "Modified_area\n",
      "Modified By_area\n",
      "Title_area\n",
      "Item Type_area\n",
      "Path_area\n",
      "Individual\n",
      "people_First Name\n",
      "people_Last Name\n",
      "demo_Date of Birth\n",
      "people_Full Name\n"
     ]
    }
   ],
   "source": [
    "for i in outcome3.columns:\n",
    "    print(i)"
   ]
  },
  {
   "cell_type": "code",
   "execution_count": 36,
   "id": "e4d25eab-b474-483d-a465-026d8e952238",
   "metadata": {},
   "outputs": [],
   "source": [
    "outcome3.to_excel(r'redacted file path\\exports\\outcome area goal activity.xlsx')"
   ]
  },
  {
   "cell_type": "markdown",
   "id": "4eed5863-f620-4d59-bffc-a147568d400b",
   "metadata": {},
   "source": [
    "#### Goals alone"
   ]
  },
  {
   "cell_type": "code",
   "execution_count": 175,
   "id": "4578da33-e3fa-4ff4-a524-5440d733831b",
   "metadata": {},
   "outputs": [],
   "source": [
    "goalserv = pd.read_excel(r'redacted file path\\exports\\appricot services export.xlsx')"
   ]
  },
  {
   "cell_type": "code",
   "execution_count": 176,
   "id": "d4751131-33fa-4023-82e7-49401130d7c5",
   "metadata": {},
   "outputs": [],
   "source": [
    "# split out the contents of the client column on the ;# and add the split values to the newly created individual column\n",
    "goal[['Client_goal','Individual']] = goal['Client_goal'].str.split(';#', expand=True)\n",
    "\n",
    "# sort the individual column values alphabetically\n",
    "goal = goal.sort_values('Individual',ascending=True)\n",
    "\n",
    "# the key value had a space in it, so needed to remove that space\n",
    "goal['Individual'] = goal['Individual'].str.replace(', ',',')\n",
    "\n",
    "# remove test case rows\n",
    "goal = goal[~goal['Individual'].str.contains('test', case=False, na=False)].copy()\n",
    "\n",
    "# remove any text (within parethesis) to standardize names\n",
    "goal['Individual'] = goal['Individual'].replace(r'\\(.*?\\)','',regex=True).str.strip()\n",
    "\n",
    "goal['Individual'] = goal['Individual'].replace(r'\\\".*?\\\"','',regex=True).str.strip()"
   ]
  },
  {
   "cell_type": "code",
   "execution_count": 177,
   "id": "7bfed0d5-a06f-4826-9d91-d20ac5d50456",
   "metadata": {},
   "outputs": [],
   "source": [
    "peepsmerge = merge6[[\n",
    "    'people_First Name',\n",
    "    'people_Last Name',\n",
    "    'demo_Date of Birth',\n",
    "    'people_Full Name',\n",
    "]].copy()\n",
    "\n",
    "peepsmerge['people_Full Name'] = peepsmerge['people_Full Name'].str.replace(', ',',')\n",
    "peepsmerge['demo_Date of Birth'] = peepsmerge['demo_Date of Birth'].fillna('1/1/1800')"
   ]
  },
  {
   "cell_type": "code",
   "execution_count": 178,
   "id": "fdece583-eda7-46b6-856b-96f1e9c68a38",
   "metadata": {},
   "outputs": [],
   "source": [
    "goalserv['full'] = goalserv['Last']+','+goalserv['First']"
   ]
  },
  {
   "cell_type": "code",
   "execution_count": 179,
   "id": "25a0c16b-0d04-4c38-a97f-6031ddc8a861",
   "metadata": {
    "scrolled": true
   },
   "outputs": [
    {
     "name": "stdout",
     "output_type": "stream",
     "text": [
      "<class 'pandas.core.frame.DataFrame'>\n",
      "RangeIndex: 2807 entries, 0 to 2806\n",
      "Data columns (total 36 columns):\n",
      " #   Column                                        Non-Null Count  Dtype         \n",
      "---  ------                                        --------------  -----         \n",
      " 0   Start Date_goal                               2744 non-null   datetime64[ns]\n",
      " 1   Goal_goal                                     2750 non-null   object        \n",
      " 2   Action Steps_goal                             0 non-null      float64       \n",
      " 3   Goal Summary_goal                             507 non-null    object        \n",
      " 4   Created_goal                                  2752 non-null   datetime64[ns]\n",
      " 5   Created By_goal                               2752 non-null   object        \n",
      " 6   Modified_goal                                 2752 non-null   datetime64[ns]\n",
      " 7   Modified By_goal                              2752 non-null   object        \n",
      " 8   Client_goal                                   2752 non-null   object        \n",
      " 9   Completion Date_goal                          700 non-null    datetime64[ns]\n",
      " 10  Discontinuation Date_goal                     612 non-null    datetime64[ns]\n",
      " 11  Content Type_goal                             2752 non-null   object        \n",
      " 12  Folder Child Count_goal                       2752 non-null   float64       \n",
      " 13  How do you know this goal has been met?_goal  2082 non-null   object        \n",
      " 14  ID_goal                                       2752 non-null   float64       \n",
      " 15  Item Child Count_goal                         2752 non-null   float64       \n",
      " 16  Outcome Area ID_goal                          2741 non-null   float64       \n",
      " 17  Projected Completion Date_goal                1999 non-null   datetime64[ns]\n",
      " 18  Reason for Discontinuation_goal               1112 non-null   object        \n",
      " 19  Review Schedule_goal                          2752 non-null   object        \n",
      " 20  Title_goal                                    2752 non-null   object        \n",
      " 21  Item Type_goal                                2752 non-null   object        \n",
      " 22  Path_goal                                     2752 non-null   object        \n",
      " 23  Individual                                    2752 non-null   object        \n",
      " 24  people_First Name                             2752 non-null   object        \n",
      " 25  people_Last Name                              2752 non-null   object        \n",
      " 26  demo_Date of Birth                            2752 non-null   object        \n",
      " 27  people_Full Name                              2752 non-null   object        \n",
      " 28  First                                         2807 non-null   object        \n",
      " 29  Middle                                        0 non-null      float64       \n",
      " 30  Last                                          2807 non-null   object        \n",
      " 31  Date of Birth                                 2807 non-null   object        \n",
      " 32  Status                                        2807 non-null   object        \n",
      " 33  Location                                      2807 non-null   object        \n",
      " 34  Date Services Starting                        2807 non-null   object        \n",
      " 35  full                                          2807 non-null   object        \n",
      "dtypes: datetime64[ns](6), float64(6), object(24)\n",
      "memory usage: 789.6+ KB\n"
     ]
    }
   ],
   "source": [
    "goal2 = goal.merge(peepsmerge,how='right',left_on='Individual',right_on='people_Full Name')\n",
    "goal3 = goal2.merge(goalserv,how='right',left_on='Individual',right_on='full')\n",
    "goal3.info()"
   ]
  },
  {
   "cell_type": "code",
   "execution_count": 180,
   "id": "1919857e-c3df-4fd1-86a8-dfae7344dff2",
   "metadata": {},
   "outputs": [
    {
     "name": "stdout",
     "output_type": "stream",
     "text": [
      "<class 'pandas.core.frame.DataFrame'>\n",
      "RangeIndex: 2807 entries, 0 to 2806\n",
      "Data columns (total 37 columns):\n",
      " #   Column                                        Non-Null Count  Dtype         \n",
      "---  ------                                        --------------  -----         \n",
      " 0   Start Date_goal                               2744 non-null   datetime64[ns]\n",
      " 1   Goal_goal                                     2750 non-null   object        \n",
      " 2   Action Steps_goal                             0 non-null      float64       \n",
      " 3   Goal Summary_goal                             507 non-null    object        \n",
      " 4   Created_goal                                  2752 non-null   datetime64[ns]\n",
      " 5   Created By_goal                               2752 non-null   object        \n",
      " 6   Modified_goal                                 2752 non-null   datetime64[ns]\n",
      " 7   Modified By_goal                              2752 non-null   object        \n",
      " 8   Client_goal                                   2752 non-null   object        \n",
      " 9   Completion Date_goal                          700 non-null    datetime64[ns]\n",
      " 10  Discontinuation Date_goal                     612 non-null    datetime64[ns]\n",
      " 11  Content Type_goal                             2752 non-null   object        \n",
      " 12  Folder Child Count_goal                       2752 non-null   float64       \n",
      " 13  How do you know this goal has been met?_goal  2082 non-null   object        \n",
      " 14  ID_goal                                       2752 non-null   float64       \n",
      " 15  Item Child Count_goal                         2752 non-null   float64       \n",
      " 16  Outcome Area ID_goal                          2741 non-null   float64       \n",
      " 17  Projected Completion Date_goal                1999 non-null   datetime64[ns]\n",
      " 18  Reason for Discontinuation_goal               1112 non-null   object        \n",
      " 19  Review Schedule_goal                          2752 non-null   object        \n",
      " 20  Title_goal                                    2752 non-null   object        \n",
      " 21  Item Type_goal                                2752 non-null   object        \n",
      " 22  Path_goal                                     2752 non-null   object        \n",
      " 23  Individual                                    2752 non-null   object        \n",
      " 24  people_First Name                             2752 non-null   object        \n",
      " 25  people_Last Name                              2752 non-null   object        \n",
      " 26  demo_Date of Birth                            2752 non-null   object        \n",
      " 27  people_Full Name                              2752 non-null   object        \n",
      " 28  First                                         2807 non-null   object        \n",
      " 29  Middle                                        0 non-null      float64       \n",
      " 30  Last                                          2807 non-null   object        \n",
      " 31  Date of Birth                                 2807 non-null   object        \n",
      " 32  Status                                        2807 non-null   object        \n",
      " 33  Location                                      2807 non-null   object        \n",
      " 34  Date Services Starting                        2807 non-null   object        \n",
      " 35  full                                          2807 non-null   object        \n",
      " 36  associated service                            2807 non-null   object        \n",
      "dtypes: datetime64[ns](6), float64(6), object(25)\n",
      "memory usage: 811.5+ KB\n"
     ]
    }
   ],
   "source": [
    "goal3['associated service'] = goal3['Status']+' - '+goal3['Location']+' - Enrolled: '+goal3['Date Services Starting']\n",
    "goal3.info()"
   ]
  },
  {
   "cell_type": "code",
   "execution_count": 181,
   "id": "98d6ec49-9569-4960-95c7-3d9707742e21",
   "metadata": {},
   "outputs": [],
   "source": [
    "goal3['Actual goal completion'] = goal3['Completion Date_goal'].combine_first(goal3['Discontinuation Date_goal'])"
   ]
  },
  {
   "cell_type": "code",
   "execution_count": 182,
   "id": "3733084e-89ca-4bcf-9258-5d16e727f9ad",
   "metadata": {
    "scrolled": true
   },
   "outputs": [
    {
     "name": "stdout",
     "output_type": "stream",
     "text": [
      "<class 'pandas.core.frame.DataFrame'>\n",
      "RangeIndex: 2807 entries, 0 to 2806\n",
      "Data columns (total 40 columns):\n",
      " #   Column                                        Non-Null Count  Dtype         \n",
      "---  ------                                        --------------  -----         \n",
      " 0   Start Date_goal                               2744 non-null   datetime64[ns]\n",
      " 1   Goal_goal                                     2750 non-null   object        \n",
      " 2   Action Steps_goal                             0 non-null      float64       \n",
      " 3   Goal Summary_goal                             507 non-null    object        \n",
      " 4   Created_goal                                  2752 non-null   datetime64[ns]\n",
      " 5   Created By_goal                               2752 non-null   object        \n",
      " 6   Modified_goal                                 2752 non-null   datetime64[ns]\n",
      " 7   Modified By_goal                              2752 non-null   object        \n",
      " 8   Client_goal                                   2752 non-null   object        \n",
      " 9   Completion Date_goal                          700 non-null    datetime64[ns]\n",
      " 10  Discontinuation Date_goal                     612 non-null    datetime64[ns]\n",
      " 11  Content Type_goal                             2752 non-null   object        \n",
      " 12  Folder Child Count_goal                       2752 non-null   float64       \n",
      " 13  How do you know this goal has been met?_goal  2082 non-null   object        \n",
      " 14  ID_goal                                       2752 non-null   float64       \n",
      " 15  Item Child Count_goal                         2752 non-null   float64       \n",
      " 16  Outcome Area ID_goal                          2741 non-null   float64       \n",
      " 17  Projected Completion Date_goal                1999 non-null   datetime64[ns]\n",
      " 18  Reason for Discontinuation_goal               1112 non-null   object        \n",
      " 19  Review Schedule_goal                          2752 non-null   object        \n",
      " 20  Title_goal                                    2752 non-null   object        \n",
      " 21  Item Type_goal                                2752 non-null   object        \n",
      " 22  Path_goal                                     2752 non-null   object        \n",
      " 23  Individual                                    2752 non-null   object        \n",
      " 24  people_First Name                             2752 non-null   object        \n",
      " 25  people_Last Name                              2752 non-null   object        \n",
      " 26  demo_Date of Birth                            2752 non-null   object        \n",
      " 27  people_Full Name                              2752 non-null   object        \n",
      " 28  First                                         2807 non-null   object        \n",
      " 29  Middle                                        0 non-null      float64       \n",
      " 30  Last                                          2807 non-null   object        \n",
      " 31  Date of Birth                                 2807 non-null   object        \n",
      " 32  Status                                        2807 non-null   object        \n",
      " 33  Location                                      2807 non-null   object        \n",
      " 34  Date Services Starting                        2807 non-null   object        \n",
      " 35  full                                          2807 non-null   object        \n",
      " 36  associated service                            2807 non-null   object        \n",
      " 37  Actual goal completion                        1300 non-null   datetime64[ns]\n",
      " 38  goal end reason                               1300 non-null   object        \n",
      " 39  goal category                                 2807 non-null   object        \n",
      "dtypes: datetime64[ns](7), float64(6), object(27)\n",
      "memory usage: 877.3+ KB\n"
     ]
    }
   ],
   "source": [
    "goal3['goal end reason'] = np.where(goal3['Completion Date_goal'].notna(),'Goal Completed',\n",
    "                            np.where(goal3['Discontinuation Date_goal'].notna(),'Goal closed - Incomplete',\n",
    "                                    None))\n",
    "goal3['goal category'] = None\n",
    "goal3['goal category'] = goal3['goal category'].fillna('Other Goal Not Listed')\n",
    "goal3.info()"
   ]
  },
  {
   "cell_type": "code",
   "execution_count": 183,
   "id": "11aef2c4-9814-4094-84df-153acd6f1988",
   "metadata": {},
   "outputs": [],
   "source": [
    "goal4 = goal3[[\n",
    "    'First',\n",
    "    'Middle',\n",
    "    'Last',\n",
    "    'Date of Birth',\n",
    "    'associated service',\n",
    "    'Start Date_goal',\n",
    "    'Projected Completion Date_goal',\n",
    "    'Actual goal completion',\n",
    "    'goal end reason',\n",
    "    'goal category',\n",
    "    'Goal_goal',\n",
    "    'Location'\n",
    "]].copy()\n",
    "\n",
    "goal4['Location'] = goal4['Location'].replace('Auburn',1174)\n",
    "goal4['Location'] = goal4['Location'].replace('Mukilteo',2870)"
   ]
  },
  {
   "cell_type": "code",
   "execution_count": 184,
   "id": "ef083da7-59e5-4492-8270-ab6f2c29d8a4",
   "metadata": {},
   "outputs": [],
   "source": [
    "goal4['goal category'] = np.where(goal4['Goal_goal'].str.contains('assess|exhibit|work readiness|increase ability|report income|housing|demonstrate|evaluate|explore|mental health|sobriety|explore a job path|client interests|ptsd|adhd|anxiety|bi-polar|depression|epilepsy|schizo|IOP|legal|relapse|car|driv|license|math',case=False),'Assessment',\n",
    "                            np.where(goal4['Goal_goal'].str.contains('JD|interview|resume|obtain a job|find a job|obtain employment|obtain competitive employment|full time|full-time|part time|part-time|job search|elevator|develop|intern',case=False),'Job Development',\n",
    "                            np.where(goal4['Goal_goal'].str.contains('maintain employment|maintain competitive employment|90 day|retain|retention|90+',case=False),'Job Retention',\n",
    "                            np.where(goal4['Goal_goal'].str.contains('CIS| CI|CI |community inclusion',case=False),'Community Inclusion',\n",
    "                            np.where(goal4['Goal_goal'].str.contains('EC | EC|independent',case=False),'Individual Employment',\n",
    "                            np.where(goal4['Goal_goal'].str.contains('CM',case=False),'Case Management',\n",
    "                            'Other Goal Not Listed'))))))"
   ]
  },
  {
   "cell_type": "code",
   "execution_count": 185,
   "id": "cabd4bd8-bad1-4dd8-a376-669c4f90b989",
   "metadata": {},
   "outputs": [
    {
     "data": {
      "text/plain": [
       "goal category\n",
       "Assessment               1941\n",
       "Job Development           464\n",
       "Other Goal Not Listed     179\n",
       "Job Retention             121\n",
       "Individual Employment      74\n",
       "Case Management            16\n",
       "Community Inclusion        12\n",
       "Name: count, dtype: int64"
      ]
     },
     "execution_count": 185,
     "metadata": {},
     "output_type": "execute_result"
    }
   ],
   "source": [
    "goal4['goal category'].value_counts()"
   ]
  },
  {
   "cell_type": "code",
   "execution_count": 186,
   "id": "dfcef1c7-482d-4c6b-9a2f-fa4bc9ab9548",
   "metadata": {},
   "outputs": [
    {
     "name": "stdout",
     "output_type": "stream",
     "text": [
      "<class 'pandas.core.frame.DataFrame'>\n",
      "Index: 2750 entries, 0 to 2806\n",
      "Data columns (total 12 columns):\n",
      " #   Column                          Non-Null Count  Dtype         \n",
      "---  ------                          --------------  -----         \n",
      " 0   First                           2750 non-null   object        \n",
      " 1   Middle                          0 non-null      float64       \n",
      " 2   Last                            2750 non-null   object        \n",
      " 3   Date of Birth                   2750 non-null   object        \n",
      " 4   associated service              2750 non-null   object        \n",
      " 5   Start Date_goal                 2744 non-null   datetime64[ns]\n",
      " 6   Projected Completion Date_goal  1999 non-null   datetime64[ns]\n",
      " 7   Actual goal completion          1300 non-null   datetime64[ns]\n",
      " 8   goal end reason                 1300 non-null   object        \n",
      " 9   goal category                   2750 non-null   object        \n",
      " 10  Goal_goal                       2750 non-null   object        \n",
      " 11  Location                        2750 non-null   int64         \n",
      "dtypes: datetime64[ns](3), float64(1), int64(1), object(7)\n",
      "memory usage: 279.3+ KB\n"
     ]
    }
   ],
   "source": [
    "goal5 = goal4[goal4['Goal_goal'].notna()].copy()\n",
    "goal5.info()"
   ]
  },
  {
   "cell_type": "code",
   "execution_count": 677,
   "id": "d3e68626-c518-4f37-bf27-afc21509c82a",
   "metadata": {},
   "outputs": [],
   "source": [
    "goal5.to_excel(r'redacted file path\\exports\\real goals2.xlsx')"
   ]
  },
  {
   "cell_type": "markdown",
   "id": "705fb62c-06b4-433a-b067-4374bdae7c32",
   "metadata": {},
   "source": [
    "#### Service Plan"
   ]
  },
  {
   "cell_type": "code",
   "execution_count": 187,
   "id": "c9d65ea6-a4b3-41e9-9784-172fb334eb6d",
   "metadata": {},
   "outputs": [],
   "source": [
    "peepsmerge = merge6[[\n",
    "    'people_First Name',\n",
    "    'people_Last Name',\n",
    "    'demo_Date of Birth',\n",
    "    'people_Full Name',\n",
    "]].copy()\n",
    "\n",
    "peepsmerge['people_Full Name'] = peepsmerge['people_Full Name'].str.replace(', ',',')\n",
    "peepsmerge['demo_Date of Birth'] = peepsmerge['demo_Date of Birth'].fillna('1/1/1800')"
   ]
  },
  {
   "cell_type": "code",
   "execution_count": 188,
   "id": "75c5d580-8ae0-4c60-88a2-88d1b7edb2a2",
   "metadata": {},
   "outputs": [],
   "source": [
    "goalserv = pd.read_excel(r'redacted file path\\exports\\appricot services export.xlsx')"
   ]
  },
  {
   "cell_type": "code",
   "execution_count": 189,
   "id": "7aa93353-1bd5-4a38-b16e-18562c44d366",
   "metadata": {},
   "outputs": [],
   "source": [
    "serve = pd.read_excel(r'redacted file path\\exports\\real enrollment to service import2.xlsx')"
   ]
  },
  {
   "cell_type": "code",
   "execution_count": 190,
   "id": "a33ebff3-8590-4792-b265-1bd6e06fd9db",
   "metadata": {},
   "outputs": [],
   "source": [
    "subserve = pd.read_excel(r'redacted file path\\exports\\appricot subservice funder export.xlsx')"
   ]
  },
  {
   "cell_type": "code",
   "execution_count": 191,
   "id": "13e71385-87fe-4501-a99c-ed7f79323f9c",
   "metadata": {
    "scrolled": true
   },
   "outputs": [],
   "source": [
    "service = pd.read_excel(r'redacted file path\\Services - unformatted.xlsx')\n",
    "\n",
    "# split out the contents of the client column on the ;# and add the split values to the newly created individual column\n",
    "service[['Individual','Individual2']] = service['Individual'].str.split(';#', expand=True)\n",
    "\n",
    "# sort the individual column values alphabetically\n",
    "service = service.sort_values('Individual2',ascending=True)\n",
    "\n",
    "# the key value had a space in it, so needed to remove that space\n",
    "service['Individual2'] = service['Individual2'].str.replace(', ',',')\n",
    "\n",
    "# remove test case rows\n",
    "service = service[~service['Individual2'].str.contains('test', case=False, na=False)].copy()\n",
    "\n",
    "# remove any text (within parethesis) to standardize names\n",
    "service['Individual2'] = service['Individual2'].replace(r'\\(.*?\\)','',regex=True).str.strip()\n",
    "\n",
    "service['Individual2'] = service['Individual2'].replace(r'\\\".*?\\\"','',regex=True).str.strip()\n",
    "\n",
    "# service['Individual'] = service['Individual2']\n",
    "# service[['first','last']] = None\n",
    "service[['last','first','other']] = service['Individual2'].str.split(',', expand=True)"
   ]
  },
  {
   "cell_type": "code",
   "execution_count": 193,
   "id": "72f07457-0b8e-42b3-88de-f78fcb866db9",
   "metadata": {
    "scrolled": true
   },
   "outputs": [
    {
     "name": "stdout",
     "output_type": "stream",
     "text": [
      "<class 'pandas.core.frame.DataFrame'>\n",
      "RangeIndex: 3507 entries, 0 to 3506\n",
      "Data columns (total 38 columns):\n",
      " #   Column                                Non-Null Count  Dtype         \n",
      "---  ------                                --------------  -----         \n",
      " 0   Start Date_x                          3507 non-null   datetime64[ns]\n",
      " 1   Individual                            3507 non-null   object        \n",
      " 2   Venue                                 3507 non-null   object        \n",
      " 3   End Date                              3096 non-null   object        \n",
      " 4   Service_x                             3451 non-null   object        \n",
      " 5   Recommendations                       439 non-null    object        \n",
      " 6   Hours Allocated Per Month (DDA Only)  207 non-null    float64       \n",
      " 7   Modified By                           3507 non-null   object        \n",
      " 8   Content Type                          3507 non-null   object        \n",
      " 9   Created                               3507 non-null   datetime64[ns]\n",
      " 10  Created By                            3507 non-null   object        \n",
      " 11  Folder Child Count                    3507 non-null   int64         \n",
      " 12  ID                                    3507 non-null   int64         \n",
      " 13  Item Child Count                      3507 non-null   int64         \n",
      " 14  Modified                              3507 non-null   datetime64[ns]\n",
      " 15  Notes                                 1054 non-null   object        \n",
      " 16  Projected End Date                    1845 non-null   datetime64[ns]\n",
      " 17  Title                                 3507 non-null   object        \n",
      " 18  Item Type                             3507 non-null   object        \n",
      " 19  Path                                  3507 non-null   object        \n",
      " 20  Individual2                           3507 non-null   object        \n",
      " 21  last                                  3507 non-null   object        \n",
      " 22  first                                 3504 non-null   object        \n",
      " 23  other                                 6 non-null      object        \n",
      " 24  First                                 1820 non-null   object        \n",
      " 25  Middle                                0 non-null      float64       \n",
      " 26  Last                                  1820 non-null   object        \n",
      " 27  Date of Birth                         1820 non-null   object        \n",
      " 28  Status                                1820 non-null   object        \n",
      " 29  Location                              1820 non-null   object        \n",
      " 30  Date Intake Started                   1808 non-null   object        \n",
      " 31  Date Services Starting                1820 non-null   object        \n",
      " 32  Service_y                             1820 non-null   object        \n",
      " 33  Sub-Service Category                  1820 non-null   object        \n",
      " 34  Funding Source                        1820 non-null   object        \n",
      " 35  Start Date_y                          1820 non-null   object        \n",
      " 36  associated service                    1820 non-null   object        \n",
      " 37  sub service                           1820 non-null   object        \n",
      "dtypes: datetime64[ns](4), float64(2), int64(3), object(29)\n",
      "memory usage: 1.0+ MB\n"
     ]
    }
   ],
   "source": [
    "servicemergex = service.merge(subserve,how='left',left_on=['first','last'],right_on=['First','Last'])\n",
    "servicemergex.info()"
   ]
  },
  {
   "cell_type": "code",
   "execution_count": 194,
   "id": "86d4a2ec-a2e0-4ae9-b0be-9fd384a4f6f7",
   "metadata": {},
   "outputs": [],
   "source": [
    "servicemergex.to_excel(r'redacted file path\\exports\\service plan miss test.xlsx')"
   ]
  },
  {
   "cell_type": "code",
   "execution_count": 196,
   "id": "968e373e-0110-4608-99a4-b9df8a11cf19",
   "metadata": {
    "scrolled": true
   },
   "outputs": [
    {
     "name": "stdout",
     "output_type": "stream",
     "text": [
      "<class 'pandas.core.frame.DataFrame'>\n",
      "RangeIndex: 1828 entries, 0 to 1827\n",
      "Data columns (total 38 columns):\n",
      " #   Column                                Non-Null Count  Dtype         \n",
      "---  ------                                --------------  -----         \n",
      " 0   Start Date_x                          1820 non-null   datetime64[ns]\n",
      " 1   Individual                            1820 non-null   object        \n",
      " 2   Venue                                 1820 non-null   object        \n",
      " 3   End Date                              1506 non-null   object        \n",
      " 4   Service_x                             1797 non-null   object        \n",
      " 5   Recommendations                       212 non-null    object        \n",
      " 6   Hours Allocated Per Month (DDA Only)  166 non-null    float64       \n",
      " 7   Modified By                           1820 non-null   object        \n",
      " 8   Content Type                          1820 non-null   object        \n",
      " 9   Created                               1820 non-null   datetime64[ns]\n",
      " 10  Created By                            1820 non-null   object        \n",
      " 11  Folder Child Count                    1820 non-null   float64       \n",
      " 12  ID                                    1820 non-null   float64       \n",
      " 13  Item Child Count                      1820 non-null   float64       \n",
      " 14  Modified                              1820 non-null   datetime64[ns]\n",
      " 15  Notes                                 454 non-null    object        \n",
      " 16  Projected End Date                    1044 non-null   datetime64[ns]\n",
      " 17  Title                                 1820 non-null   object        \n",
      " 18  Item Type                             1820 non-null   object        \n",
      " 19  Path                                  1820 non-null   object        \n",
      " 20  Individual2                           1820 non-null   object        \n",
      " 21  last                                  1820 non-null   object        \n",
      " 22  first                                 1820 non-null   object        \n",
      " 23  other                                 0 non-null      object        \n",
      " 24  First                                 1828 non-null   object        \n",
      " 25  Middle                                0 non-null      float64       \n",
      " 26  Last                                  1828 non-null   object        \n",
      " 27  Date of Birth                         1828 non-null   object        \n",
      " 28  Status                                1828 non-null   object        \n",
      " 29  Location                              1828 non-null   object        \n",
      " 30  Date Intake Started                   1816 non-null   object        \n",
      " 31  Date Services Starting                1828 non-null   object        \n",
      " 32  Service_y                             1828 non-null   object        \n",
      " 33  Sub-Service Category                  1828 non-null   object        \n",
      " 34  Funding Source                        1828 non-null   object        \n",
      " 35  Start Date_y                          1828 non-null   object        \n",
      " 36  associated service                    1828 non-null   object        \n",
      " 37  sub service                           1828 non-null   object        \n",
      "dtypes: datetime64[ns](4), float64(5), object(29)\n",
      "memory usage: 542.8+ KB\n"
     ]
    }
   ],
   "source": [
    "servicemerge = service.merge(subserve,how='right',left_on=['first','last'],right_on=['First','Last'])\n",
    "servicemerge.info()"
   ]
  },
  {
   "cell_type": "code",
   "execution_count": 197,
   "id": "fc30176e-9f2a-4498-940f-113ebc7eacdf",
   "metadata": {},
   "outputs": [],
   "source": [
    "service2 = service.merge(peepsmerge,how='right',left_on='Individual2',right_on='people_Full Name')"
   ]
  },
  {
   "cell_type": "code",
   "execution_count": 198,
   "id": "67c7696e-24f2-4878-b8fb-4fafb56a5cf0",
   "metadata": {
    "scrolled": true
   },
   "outputs": [
    {
     "name": "stdout",
     "output_type": "stream",
     "text": [
      "<class 'pandas.core.frame.DataFrame'>\n",
      "RangeIndex: 1069 entries, 0 to 1068\n",
      "Data columns (total 28 columns):\n",
      " #   Column                                Non-Null Count  Dtype         \n",
      "---  ------                                --------------  -----         \n",
      " 0   Start Date                            1064 non-null   datetime64[ns]\n",
      " 1   Individual                            1064 non-null   object        \n",
      " 2   Venue                                 1064 non-null   object        \n",
      " 3   End Date                              844 non-null    object        \n",
      " 4   Service                               1046 non-null   object        \n",
      " 5   Recommendations                       133 non-null    object        \n",
      " 6   Hours Allocated Per Month (DDA Only)  89 non-null     float64       \n",
      " 7   Modified By                           1064 non-null   object        \n",
      " 8   Content Type                          1064 non-null   object        \n",
      " 9   Created                               1064 non-null   datetime64[ns]\n",
      " 10  Created By                            1064 non-null   object        \n",
      " 11  Folder Child Count                    1064 non-null   float64       \n",
      " 12  ID                                    1064 non-null   float64       \n",
      " 13  Item Child Count                      1064 non-null   float64       \n",
      " 14  Modified                              1064 non-null   datetime64[ns]\n",
      " 15  Notes                                 237 non-null    object        \n",
      " 16  Projected End Date                    550 non-null    datetime64[ns]\n",
      " 17  Title                                 1064 non-null   object        \n",
      " 18  Item Type                             1064 non-null   object        \n",
      " 19  Path                                  1064 non-null   object        \n",
      " 20  Individual2                           1064 non-null   object        \n",
      " 21  last                                  1064 non-null   object        \n",
      " 22  first                                 1061 non-null   object        \n",
      " 23  other                                 0 non-null      object        \n",
      " 24  people_First Name                     1069 non-null   object        \n",
      " 25  people_Last Name                      1069 non-null   object        \n",
      " 26  demo_Date of Birth                    1069 non-null   object        \n",
      " 27  people_Full Name                      1069 non-null   object        \n",
      "dtypes: datetime64[ns](4), float64(4), object(20)\n",
      "memory usage: 234.0+ KB\n"
     ]
    }
   ],
   "source": [
    "service2.info()"
   ]
  },
  {
   "cell_type": "code",
   "execution_count": 199,
   "id": "a6b94eb3-5f13-4c7b-aaa1-d4f9f1a14f06",
   "metadata": {
    "scrolled": true
   },
   "outputs": [
    {
     "name": "stdout",
     "output_type": "stream",
     "text": [
      "<class 'pandas.core.frame.DataFrame'>\n",
      "RangeIndex: 1826 entries, 0 to 1825\n",
      "Data columns (total 42 columns):\n",
      " #   Column                                Non-Null Count  Dtype         \n",
      "---  ------                                --------------  -----         \n",
      " 0   Start Date_x                          1812 non-null   datetime64[ns]\n",
      " 1   Individual                            1812 non-null   object        \n",
      " 2   Venue                                 1812 non-null   object        \n",
      " 3   End Date                              1509 non-null   object        \n",
      " 4   Service_x                             1789 non-null   object        \n",
      " 5   Recommendations                       213 non-null    object        \n",
      " 6   Hours Allocated Per Month (DDA Only)  151 non-null    float64       \n",
      " 7   Modified By                           1812 non-null   object        \n",
      " 8   Content Type                          1812 non-null   object        \n",
      " 9   Created                               1812 non-null   datetime64[ns]\n",
      " 10  Created By                            1812 non-null   object        \n",
      " 11  Folder Child Count                    1812 non-null   float64       \n",
      " 12  ID                                    1812 non-null   float64       \n",
      " 13  Item Child Count                      1812 non-null   float64       \n",
      " 14  Modified                              1812 non-null   datetime64[ns]\n",
      " 15  Notes                                 457 non-null    object        \n",
      " 16  Projected End Date                    1052 non-null   datetime64[ns]\n",
      " 17  Title                                 1812 non-null   object        \n",
      " 18  Item Type                             1812 non-null   object        \n",
      " 19  Path                                  1812 non-null   object        \n",
      " 20  Individual2                           1812 non-null   object        \n",
      " 21  last                                  1812 non-null   object        \n",
      " 22  first                                 1812 non-null   object        \n",
      " 23  other                                 0 non-null      object        \n",
      " 24  people_First Name                     1812 non-null   object        \n",
      " 25  people_Last Name                      1812 non-null   object        \n",
      " 26  demo_Date of Birth                    1812 non-null   object        \n",
      " 27  people_Full Name                      1812 non-null   object        \n",
      " 28  First                                 1826 non-null   object        \n",
      " 29  Middle                                0 non-null      float64       \n",
      " 30  Last                                  1826 non-null   object        \n",
      " 31  Date of Birth                         1826 non-null   object        \n",
      " 32  Status                                1826 non-null   object        \n",
      " 33  Location                              1826 non-null   object        \n",
      " 34  Date Intake Started                   1814 non-null   object        \n",
      " 35  Date Services Starting                1826 non-null   object        \n",
      " 36  Service_y                             1826 non-null   object        \n",
      " 37  Sub-Service Category                  1826 non-null   object        \n",
      " 38  Funding Source                        1826 non-null   object        \n",
      " 39  Start Date_y                          1826 non-null   object        \n",
      " 40  associated service                    1826 non-null   object        \n",
      " 41  sub service                           1826 non-null   object        \n",
      "dtypes: datetime64[ns](4), float64(5), object(33)\n",
      "memory usage: 599.3+ KB\n"
     ]
    }
   ],
   "source": [
    "servicemerge = service2.merge(subserve,how='right',left_on=['first','last'],right_on=['First','Last'])\n",
    "servicemerge.info()"
   ]
  },
  {
   "cell_type": "code",
   "execution_count": 200,
   "id": "a1e44f0c-25d2-4aec-b0e7-f1b7dd82da93",
   "metadata": {},
   "outputs": [],
   "source": [
    "# servicemerge.to_excel(r'redacted file path\\exports\\service plan export.xlsx')"
   ]
  },
  {
   "cell_type": "code",
   "execution_count": 201,
   "id": "7ab8036a-ad20-4b21-95ff-8aa7b5497965",
   "metadata": {},
   "outputs": [],
   "source": [
    "servicemerge2 = servicemerge[[\n",
    "    'First',\n",
    "    'Middle',\n",
    "    'Last',\n",
    "    'Date of Birth',\n",
    "    'associated service',\n",
    "    'sub service',\n",
    "    'Service_y',\n",
    "    'Start Date_y',\n",
    "    'Projected End Date',\n",
    "    'End Date',\n",
    "    'Location'\n",
    "]].copy()\n",
    "\n",
    "servicemerge2['enrollmentID'] = range(1,len(servicemerge2)+1)"
   ]
  },
  {
   "cell_type": "code",
   "execution_count": 202,
   "id": "189ff04e-a797-4210-a4c1-dc81d96c5ec8",
   "metadata": {},
   "outputs": [
    {
     "data": {
      "text/plain": [
       "Service_y\n",
       "Assessment            671\n",
       "Job Development       513\n",
       "Job Retention         313\n",
       "DDA Services          179\n",
       "Case Management        82\n",
       "Training               64\n",
       "Independent Living      3\n",
       "Staffing                1\n",
       "Name: count, dtype: int64"
      ]
     },
     "execution_count": 202,
     "metadata": {},
     "output_type": "execute_result"
    }
   ],
   "source": [
    "servicemerge2['Service_y'].value_counts()"
   ]
  },
  {
   "cell_type": "code",
   "execution_count": 617,
   "id": "2ae04ae8-5cd1-4a7c-a031-1ee03882dca2",
   "metadata": {},
   "outputs": [],
   "source": [
    "servicemerge2.to_excel(r'redacted file path\\exports\\service plan export.xlsx')"
   ]
  },
  {
   "cell_type": "markdown",
   "id": "7252ce02-8f55-4236-825b-33fd96b17f6a",
   "metadata": {},
   "source": [
    "### Employment placement record"
   ]
  },
  {
   "cell_type": "code",
   "execution_count": 203,
   "id": "8acc6d67-cc94-4840-8c2e-4921627a463b",
   "metadata": {},
   "outputs": [],
   "source": [
    "peepsmerge = merge6[[\n",
    "    'people_First Name',\n",
    "    'people_Last Name',\n",
    "    'demo_Date of Birth',\n",
    "    'people_Full Name',\n",
    "]].copy()\n",
    "\n",
    "peepsmerge['people_Full Name'] = peepsmerge['people_Full Name'].str.replace(', ',',')\n",
    "peepsmerge['demo_Date of Birth'] = peepsmerge['demo_Date of Birth'].fillna('1/1/1800')"
   ]
  },
  {
   "cell_type": "code",
   "execution_count": 204,
   "id": "43389666-0bc6-4908-8e91-1954a3501bf6",
   "metadata": {
    "scrolled": true
   },
   "outputs": [],
   "source": [
    "placement = pd.read_excel(r'redacted file path\\Employer placement record - unformatted.xlsx')\n",
    "\n",
    "placement[['Individal','Individual2']] = placement['Individual'].str.split(';#', expand=True)\n",
    "\n",
    "# sort the individual column values alphabetically\n",
    "placement = placement.sort_values('Individual2',ascending=True)\n",
    "\n",
    "# the key value had a space in it, so needed to remove that space\n",
    "placement['Individual2'] = placement['Individual2'].str.replace(', ',',')\n",
    "\n",
    "# remove test case rows\n",
    "placement = placement[~placement['Individual2'].str.contains('test', case=False, na=False)].copy()\n",
    "\n",
    "# remove any text (within parethesis) to standardize names\n",
    "placement['Individual2'] = placement['Individual2'].replace(r'\\(.*?\\)','',regex=True).str.strip()\n",
    "\n",
    "placement['Individual2'] = placement['Individual2'].replace(r'\\\".*?\\\"','',regex=True).str.strip()\n",
    "\n",
    "# remove unnecessary columns\n",
    "placement = placement.drop(columns=['Content Type','Created By','Item Type','Path'])"
   ]
  },
  {
   "cell_type": "code",
   "execution_count": 205,
   "id": "600c522f-527a-4fc9-ad34-bf3310c8bfc2",
   "metadata": {},
   "outputs": [
    {
     "name": "stdout",
     "output_type": "stream",
     "text": [
      "<class 'pandas.core.frame.DataFrame'>\n",
      "RangeIndex: 658 entries, 0 to 657\n",
      "Data columns (total 29 columns):\n",
      " #   Column                                                       Non-Null Count  Dtype         \n",
      "---  ------                                                       --------------  -----         \n",
      " 0   Title                                                        347 non-null    object        \n",
      " 1   Placement Date                                               347 non-null    datetime64[ns]\n",
      " 2   Orion Staff                                                  347 non-null    object        \n",
      " 3   Individual                                                   347 non-null    object        \n",
      " 4   Placement Type                                               344 non-null    object        \n",
      " 5   Employer                                                     345 non-null    object        \n",
      " 6   Employer:Company Name                                        345 non-null    object        \n",
      " 7   Employer Contact                                             231 non-null    object        \n",
      " 8   Job Title                                                    334 non-null    object        \n",
      " 9   Competitive Employment:                                      347 non-null    object        \n",
      " 10  Customized Employment:                                       347 non-null    object        \n",
      " 11  End Date                                                     235 non-null    datetime64[ns]\n",
      " 12  Customized Employment: Wage                                  109 non-null    float64       \n",
      " 13  Customized Employment: Wage End Date                         59 non-null     datetime64[ns]\n",
      " 14  Customized Employment: Stability Date                        38 non-null     datetime64[ns]\n",
      " 15  Customized Employment: Check if update of current placement  62 non-null     object        \n",
      " 16  Benefits at closure?                                         222 non-null    object        \n",
      " 17  Competitive Employment: Made 90 days?                        212 non-null    object        \n",
      " 18  Competitive Employment: Wage at Closure                      181 non-null    float64       \n",
      " 19  Competitive Employment: Wage at Placement                    237 non-null    float64       \n",
      " 20  Created                                                      347 non-null    datetime64[ns]\n",
      " 21  Customized Employment: Made Stability?                       88 non-null     object        \n",
      " 22  Hours worked per week?                                       344 non-null    float64       \n",
      " 23  Individal                                                    347 non-null    object        \n",
      " 24  Individual2                                                  347 non-null    object        \n",
      " 25  people_First Name                                            658 non-null    object        \n",
      " 26  people_Last Name                                             658 non-null    object        \n",
      " 27  demo_Date of Birth                                           658 non-null    object        \n",
      " 28  people_Full Name                                             658 non-null    object        \n",
      "dtypes: datetime64[ns](5), float64(4), object(20)\n",
      "memory usage: 149.2+ KB\n"
     ]
    }
   ],
   "source": [
    "placement2 = placement.merge(peepsmerge,how='right',left_on='Individual2',right_on='people_Full Name')\n",
    "placement2.info()"
   ]
  },
  {
   "cell_type": "code",
   "execution_count": 206,
   "id": "89e270d7-157b-4bcf-9441-14994f363cf8",
   "metadata": {},
   "outputs": [],
   "source": [
    "placement3 = placement2[placement2['Individual'].notna()].copy()"
   ]
  },
  {
   "cell_type": "code",
   "execution_count": 207,
   "id": "5e9c588a-51fe-4420-8d3a-eb3c4025d2f6",
   "metadata": {},
   "outputs": [
    {
     "data": {
      "text/plain": [
       "Placement Type\n",
       "Manufacturing - Assembly                         55\n",
       "Food Service / Restaurant                        48\n",
       "Customer Service / Retail                        44\n",
       "Manufacturing - Production                       41\n",
       "Custodial / Janitorial / Maintenance             29\n",
       "Manufacturing - Machine Operation / Machining    25\n",
       "Warehouse                                        22\n",
       "Administrative / Clerical                        16\n",
       "Hospitality                                      11\n",
       "Driver / Shipping & Recieving                    10\n",
       "Manufacturing - Finish / Paint                    8\n",
       "Medical (PCA, CNA, Dietary Aide)                  7\n",
       "Construction / Trade                              7\n",
       "Other (try to fit in other category)              7\n",
       "Manufacturing - Composite                         6\n",
       "Education                                         4\n",
       "Manufacturing - Quality                           3\n",
       "Management                                        1\n",
       "Name: count, dtype: int64"
      ]
     },
     "execution_count": 207,
     "metadata": {},
     "output_type": "execute_result"
    }
   ],
   "source": [
    "placement3['Placement Type'].value_counts()"
   ]
  },
  {
   "cell_type": "code",
   "execution_count": 208,
   "id": "49cd8e52-b433-4cec-9ea8-3c3dc00e766b",
   "metadata": {},
   "outputs": [],
   "source": [
    "placement3['Placement Type'] = placement3['Placement Type'].str.replace('Warehouse','Warehouse / Shipping & Receiving')\n",
    "placement3['Placement Type'] = placement3['Placement Type'].str.replace('Customer contact / Retail','Retail / Retail Sales')\n",
    "placement3['Placement Type'] = placement3['Placement Type'].str.replace('Administrative / Clerical','Administrative Support Occupations')\n",
    "placement3['Placement Type'] = placement3['Placement Type'].str.replace('Driver / Shipping & Recieving','Driver')\n",
    "placement3['Placement Type'] = placement3['Placement Type'].str.replace('Other (try to fit in other category)','Other Occupations (try to fit in other category)')\n",
    "placement3['Placement Type'] = placement3['Placement Type'].str.replace('Hospitality','Customer contact (e.g. greeter, call center)')\n",
    "placement3['Placement Type'] = placement3['Placement Type'].str.replace('Medical (PCA, CNA, Dietary Aide','Medical/Health Care Occupations (e.g. lab tech)')\n",
    "placement3['Placement Type'] = placement3['Placement Type'].str.replace('Education','Education (e.g. paraeducator, daycare)')\n"
   ]
  },
  {
   "cell_type": "code",
   "execution_count": 209,
   "id": "5229390c-bc59-42cd-8217-d6ba4c480269",
   "metadata": {},
   "outputs": [],
   "source": [
    "placement4 = placement3[[\n",
    "    'people_First Name',\n",
    "    'people_Last Name',\n",
    "    'demo_Date of Birth',\n",
    "    'Placement Date',\n",
    "    'End Date',\n",
    "    'Employer:Company Name',\n",
    "    'Competitive Employment: Made 90 days?',\n",
    "    'Customized Employment:',\n",
    "    'Customized Employment: Wage',\n",
    "    'Customized Employment: Wage End Date',\n",
    "    'Customized Employment: Stability Date',\n",
    "    'Customized Employment: Check if update of current placement'\n",
    "]].copy()\n",
    "placement4['customized details'] = placement['Customized Employment: Wage'].astype(str)+'|'+placement4['Customized Employment: Wage End Date'].astype(str)+'|'+placement4['Customized Employment: Stability Date'].astype(str)"
   ]
  },
  {
   "cell_type": "code",
   "execution_count": 627,
   "id": "80ea7032-90b6-4960-a1ff-cad839c52d09",
   "metadata": {
    "scrolled": true
   },
   "outputs": [],
   "source": [
    "# placementmerge = placement.merge(peeps3,how='left',left_on='Individual2',right_on='Individual')\n",
    "# placementmerge"
   ]
  },
  {
   "cell_type": "code",
   "execution_count": 679,
   "id": "bcf61e90-054d-44d8-8d8c-42dc87d232af",
   "metadata": {},
   "outputs": [],
   "source": [
    "placement4.to_excel(r'redacted file path\\exports\\real employment placement2.xlsx')"
   ]
  },
  {
   "cell_type": "code",
   "execution_count": 210,
   "id": "015962af-13de-4f35-9870-934c4b2e0d55",
   "metadata": {},
   "outputs": [],
   "source": [
    "employment = placement3[[\n",
    "    'people_First Name',\n",
    "    'people_Last Name',\n",
    "    'demo_Date of Birth',\n",
    "    'Placement Date',\n",
    "    'Placement Type',\n",
    "    'Job Title',\n",
    "    'Customized Employment: Wage',\n",
    "    'Competitive Employment: Wage at Placement',\n",
    "    'Hours worked per week?',\n",
    "    'Benefits at closure?',\n",
    "    'Employer:Company Name'\n",
    "]].copy()"
   ]
  },
  {
   "cell_type": "code",
   "execution_count": 681,
   "id": "cc1e42fe-9ca2-474a-9f9a-51b0b0b58cfb",
   "metadata": {},
   "outputs": [],
   "source": [
    "employment.to_excel(r'redacted file path\\exports\\real employment details3.xlsx')"
   ]
  },
  {
   "cell_type": "markdown",
   "id": "e974df22-6969-4ed9-8caa-62327ad4064d",
   "metadata": {},
   "source": [
    "### Contacts"
   ]
  },
  {
   "cell_type": "code",
   "execution_count": 211,
   "id": "85470969-f2fc-4e1c-af59-5c4eb929f83c",
   "metadata": {
    "scrolled": true
   },
   "outputs": [],
   "source": [
    "contact = pd.read_excel(r'redacted file path\\Relationships (contacts) - unformatted.xlsx')\n",
    "\n",
    "# sort the individual column values alphabetically\n",
    "contact = contact.sort_values('Individual',ascending=True).reset_index()\n",
    "\n",
    "# the key value had a space in it, so needed to remove that space\n",
    "contact['Individual'] = contact['Individual'].str.replace(' ','')\n",
    "\n",
    "contact = contact.drop(columns=['View','Item Type','Path','index','Content Type','Folder Child Count','Item Child Count','Modified By','Modified'])\n",
    "\n",
    "# remove test case rows\n",
    "contact = contact[~contact['Individual'].str.contains('test', case=False, na=False)].copy()\n",
    "\n",
    "# remove any text (within parethesis) to standardize names\n",
    "contact['Individual'] = contact['Individual'].replace(r'\\(.*?\\)','',regex=True).str.strip()\n",
    "\n",
    "contact['Individual'] = contact['Individual'].replace(r'\\\".*?\\\"','',regex=True).str.strip()"
   ]
  },
  {
   "cell_type": "code",
   "execution_count": 212,
   "id": "d55dab81-d3ab-4bcc-85ad-0c3590fc5a75",
   "metadata": {},
   "outputs": [],
   "source": [
    "contact[['contact last','contact first']] = contact['Contact'].str.split(', ', expand=True)"
   ]
  },
  {
   "cell_type": "code",
   "execution_count": 213,
   "id": "299beb92-ef11-4432-b3f2-fd786394ce1b",
   "metadata": {},
   "outputs": [],
   "source": [
    "peepsmerge = merge6[[\n",
    "    'people_First Name',\n",
    "    'people_Last Name',\n",
    "    'demo_Date of Birth',\n",
    "    'people_Full Name',\n",
    "    'intake_Orion Location'\n",
    "]].copy()\n",
    "\n",
    "peepsmerge['people_Full Name'] = peepsmerge['people_Full Name'].str.replace(', ',',')\n",
    "\n",
    "peepsmerge['intake_Orion Location'] = peepsmerge['intake_Orion Location'].replace('Auburn',1174)\n",
    "peepsmerge['intake_Orion Location'] = peepsmerge['intake_Orion Location'].replace('Mukilteo',2870)"
   ]
  },
  {
   "cell_type": "code",
   "execution_count": 214,
   "id": "7d981ce6-49df-4168-845c-6758dc8912be",
   "metadata": {
    "scrolled": true
   },
   "outputs": [],
   "source": [
    "contactmerge = contact.merge(peepsmerge,how='right',left_on='Individual',right_on='people_Full Name')"
   ]
  },
  {
   "cell_type": "code",
   "execution_count": 215,
   "id": "c51d122b-2d30-4d0a-b749-e2828667be26",
   "metadata": {
    "scrolled": true
   },
   "outputs": [],
   "source": [
    "contactmerge2 = contactmerge[contactmerge['Individual'].notna()].copy()"
   ]
  },
  {
   "cell_type": "code",
   "execution_count": 216,
   "id": "a7daa3a8-ce84-461e-87a4-666814e1c98b",
   "metadata": {},
   "outputs": [],
   "source": [
    "profile = pd.read_excel(r'redacted file path\\profiles - unformatted.xlsx')"
   ]
  },
  {
   "cell_type": "code",
   "execution_count": 217,
   "id": "0fd2d070-1e90-4700-8779-edfa4c3e278d",
   "metadata": {
    "scrolled": true
   },
   "outputs": [],
   "source": [
    "conpro = contactmerge.merge(profile,how='left',left_on='Contact',right_on='Person')\n",
    "\n",
    "conpro2 = conpro[conpro['Individual'].notna()].copy()"
   ]
  },
  {
   "cell_type": "code",
   "execution_count": 218,
   "id": "f94ed489-ca90-4dc9-8594-97af1b30bb5d",
   "metadata": {},
   "outputs": [
    {
     "data": {
      "text/plain": [
       "Index(['Individual', 'Contact', 'Relationship to Individual', 'Created_x',\n",
       "       'Created By_x', 'ID_x', 'contact last', 'contact first',\n",
       "       'people_First Name', 'people_Last Name', 'demo_Date of Birth',\n",
       "       'people_Full Name', 'intake_Orion Location', 'ID_y', 'Person',\n",
       "       'Content Type', 'Programs', 'Organization', 'State', 'City', 'ZIP Code',\n",
       "       'Active', 'Address', 'Anonymous', 'Became Donor On', 'Board Position',\n",
       "       'Case Worker', 'Charitable Interest', 'Checkbox Column 1',\n",
       "       'Checkbox Column 2', 'Choice Column 1', 'Choice Column 2',\n",
       "       'Choice Column 3', 'Choice Column 4', 'Choice Column 5', 'Comments',\n",
       "       'Comments Column 1', 'Comments Column 2', 'Country', 'Created_y',\n",
       "       'Created By_y', 'Date Column 1', 'Date Column 2', 'Donor Motivation',\n",
       "       'E-Mail', 'Email Lists', 'Folder Child Count', 'Item Child Count',\n",
       "       'Job Title', 'Link Column 1', 'Link Column 2', 'Mailing Address',\n",
       "       'Mailing City', 'Mailing Country', 'Mailing Lists', 'Mailing State',\n",
       "       'Mailing ZIP Code', 'Membership Type', 'Mobile Phone', 'Modified',\n",
       "       'Modified By', 'Number Column 1', 'Number Column 2', 'Permissions Set',\n",
       "       'Personal Interest', 'Phone', 'Phone 2', 'Photo', 'Professional Type',\n",
       "       'Residence', 'Set Show Programs and Residences - disabled',\n",
       "       'Show Programs', 'Show Residence', 'Text Column 1', 'Text Column 3',\n",
       "       'Text Column 4', 'Text Column 5', 'View', 'Volunteer Position',\n",
       "       'Web Page', 'Item Type', 'Path'],\n",
       "      dtype='object')"
      ]
     },
     "execution_count": 218,
     "metadata": {},
     "output_type": "execute_result"
    }
   ],
   "source": [
    "conpro2.columns"
   ]
  },
  {
   "cell_type": "code",
   "execution_count": 219,
   "id": "fa9965dd-666e-471e-96be-8b9362204357",
   "metadata": {},
   "outputs": [],
   "source": [
    "conpro3 = conpro2[[\n",
    "    'people_First Name',\n",
    "    'people_Last Name',\n",
    "    'demo_Date of Birth',\n",
    "    'contact first',\n",
    "    'contact last',\n",
    "    'Relationship to Individual',\n",
    "    'E-Mail',\n",
    "    'Phone',\n",
    "    'Address',\n",
    "    'City',\n",
    "    'State',\n",
    "    'ZIP Code',\n",
    "    'Professional Type',\n",
    "    'intake_Orion Location'\n",
    "]].copy()"
   ]
  },
  {
   "cell_type": "code",
   "execution_count": 220,
   "id": "da894b36-74df-403f-9789-97ad37369abd",
   "metadata": {
    "scrolled": true
   },
   "outputs": [],
   "source": [
    "conpro3['Active'] = None\n",
    "conpro3['Active'] = conpro3['Active'].fillna('Active')"
   ]
  },
  {
   "cell_type": "code",
   "execution_count": 221,
   "id": "bc974dfb-d6f4-45da-bafa-f22ed78efc94",
   "metadata": {},
   "outputs": [],
   "source": [
    "conpro3['Emergency'] = np.where(conpro3['Relationship to Individual'].str.contains('Emergency'),'Yes','No')\n",
    "conpro3['Guardian'] = np.where(conpro3['Relationship to Individual'].str.contains('Guardian'),'Yes','No')\n",
    "conpro3['Preferred contact'] = np.where(conpro3['Phone'].notna(),'Primary Phone','Address')"
   ]
  },
  {
   "cell_type": "code",
   "execution_count": 222,
   "id": "fe65358a-f308-475f-a510-0499077bebb0",
   "metadata": {
    "scrolled": true
   },
   "outputs": [
    {
     "data": {
      "text/plain": [
       "Relationship to Individual\n",
       "Guardian                                                20\n",
       "Emergency Contact;#Family Member                        19\n",
       "Counselor                                               19\n",
       "Case Manager                                            13\n",
       "Emergency Contact;#Family Member;#Guardian              12\n",
       "Advocate                                                 8\n",
       "Family Member                                            4\n",
       "Residential Provider                                     4\n",
       "Emergency Contact                                        3\n",
       "Counselor;#Advocate                                      3\n",
       "Family Member;#Guardian                                  2\n",
       "Emergency Contact;#Guardian                              2\n",
       "Emergency Contact;#Residential Provider                  1\n",
       "Emergency Contact;#Family Member;#Former Guardian        1\n",
       "Advocate;#Residential Provider                           1\n",
       "Former Counselor                                         1\n",
       "Emergency Contact;#Advocate;#Family Member               1\n",
       "Emergency Contact;#Advocate;#Family Member;#Guardian     1\n",
       "Name: count, dtype: int64"
      ]
     },
     "execution_count": 222,
     "metadata": {},
     "output_type": "execute_result"
    }
   ],
   "source": [
    "conpro3['Relationship to Individual'].value_counts()"
   ]
  },
  {
   "cell_type": "code",
   "execution_count": 223,
   "id": "af11a3d7-0dd1-4ef9-8e76-de421dae15a9",
   "metadata": {},
   "outputs": [],
   "source": [
    "conpro3['Relationship to Individual'] = conpro3['Relationship to Individual'].str.replace('Emergency Contact','',regex=True)\n",
    "conpro3['Relationship to Individual'] = conpro3['Relationship to Individual'].str.replace(';#','|',regex=True)\n",
    "conpro3['Relationship to Individual'] = conpro3['Relationship to Individual'].str.replace('Guardian','Advocate',regex=True)\n",
    "conpro3['Relationship to Individual'] = conpro3['Relationship to Individual'].str.strip('|')\n",
    "conpro3['Relationship to Individual'] = conpro3['Relationship to Individual'].str.replace(r'\\|.*','',regex=True)\n",
    "conpro3['Relationship to Individual'] = conpro3['Relationship to Individual'].str.replace('Former Counselor','Advocate',regex=True)\n",
    "conpro3['Relationship to Individual'] = conpro3['Relationship to Individual'].fillna('Advocate')"
   ]
  },
  {
   "cell_type": "code",
   "execution_count": 531,
   "id": "a05e297d-e9d0-4998-8c12-436a99d4416c",
   "metadata": {
    "scrolled": true
   },
   "outputs": [],
   "source": [
    "conpro3.to_excel(r'redacted file path\\exports\\real contacts2.xlsx')"
   ]
  },
  {
   "cell_type": "markdown",
   "id": "b04484d8-e586-4dfd-a7fc-d4c8c3b1da8b",
   "metadata": {},
   "source": [
    "#### Emergency Contacts"
   ]
  },
  {
   "cell_type": "code",
   "execution_count": 224,
   "id": "2e855a66-5b50-4dba-88d9-52ab663b2de9",
   "metadata": {
    "scrolled": true
   },
   "outputs": [],
   "source": [
    "cont = pd.read_excel(r'redacted file path\\Client information (demographics and assessment) - unformatted.xlsx')\n",
    "\n",
    "# split out the contents of the client column on the ;# and add the split values to the newly created individual column\n",
    "# cont[['Individual','Individual2']] = cont['Individual'].str.split(';#', expand=True)\n",
    "\n",
    "# sort the individual column values alphabetically\n",
    "cont = cont.sort_values('Individual',ascending=True)\n",
    "\n",
    "# the key value had a space in it, so needed to remove that space\n",
    "cont['Individual'] = cont['Individual'].str.replace(', ',',')\n",
    "\n",
    "# remove test case rows\n",
    "cont = cont[~cont['Individual'].str.contains('test', case=False, na=False)].copy()\n",
    "\n",
    "# remove any text (within parethesis) to standardize names\n",
    "cont['Individual'] = cont['Individual'].replace(r'\\(.*?\\)','',regex=True).str.strip()\n",
    "\n",
    "cont['Individual'] = cont['Individual'].replace(r'\\\".*?\\\"','',regex=True).str.strip()"
   ]
  },
  {
   "cell_type": "code",
   "execution_count": 225,
   "id": "732f1917-ca9c-47b5-815c-27ed91cf118d",
   "metadata": {},
   "outputs": [],
   "source": [
    "peepsmerge = merge6[[\n",
    "    'people_First Name',\n",
    "    'people_Last Name',\n",
    "    'demo_Date of Birth',\n",
    "    'people_Full Name',\n",
    "]].copy()\n",
    "\n",
    "peepsmerge['people_Full Name'] = peepsmerge['people_Full Name'].str.replace(', ',',')\n",
    "peepsmerge['demo_Date of Birth'] = peepsmerge['demo_Date of Birth'].fillna('1/1/1800')"
   ]
  },
  {
   "cell_type": "code",
   "execution_count": 226,
   "id": "a23e3f36-9b0e-495e-bf48-c2e7f19d8d12",
   "metadata": {},
   "outputs": [
    {
     "name": "stdout",
     "output_type": "stream",
     "text": [
      "<class 'pandas.core.frame.DataFrame'>\n",
      "RangeIndex: 535 entries, 0 to 534\n",
      "Data columns (total 92 columns):\n",
      " #   Column                                    Non-Null Count  Dtype         \n",
      "---  ------                                    --------------  -----         \n",
      " 0   ID                                        520 non-null    float64       \n",
      " 1   Individual                                520 non-null    object        \n",
      " 2   Preferred Names                           144 non-null    object        \n",
      " 3   Date of Birth                             486 non-null    datetime64[ns]\n",
      " 4   Gender                                    512 non-null    object        \n",
      " 5   Disability - Primary                      414 non-null    object        \n",
      " 6   Disabilities - Additional                 317 non-null    object        \n",
      " 7   Disability / Barrier Notes:               357 non-null    object        \n",
      " 8   Date of Last Employment                   362 non-null    datetime64[ns]\n",
      " 9   Smoker?                                   384 non-null    object        \n",
      " 10  Veteran - Discharge Date and Disposition  13 non-null     object        \n",
      " 11  If homeless, for how long?                36 non-null     object        \n",
      " 12  If homeless, last city of residence       27 non-null     object        \n",
      " 13  Emergency Contact Name                    382 non-null    object        \n",
      " 14  Emergency Contact Number                  378 non-null    object        \n",
      " 15  Emergency Contact Relationship            378 non-null    object        \n",
      " 16  Household Size                            96 non-null     float64       \n",
      " 17  Household Type                            105 non-null    object        \n",
      " 18  Health Insurance                          96 non-null     object        \n",
      " 19  Aboriginal Status                         0 non-null      object        \n",
      " 20  Agency Exit Date                          0 non-null      datetime64[ns]\n",
      " 21  Agency Intake Date                        0 non-null      datetime64[ns]\n",
      " 22  Allergies                                 193 non-null    object        \n",
      " 23  Alt. Telephone Number                     0 non-null      object        \n",
      " 24  Benefits                                  383 non-null    object        \n",
      " 25  Bladder & Bowel Functions                 0 non-null      float64       \n",
      " 26  City                                      0 non-null      object        \n",
      " 27  Clothing (Last Seen Wearing)              0 non-null      object        \n",
      " 28  Communication Level                       0 non-null      object        \n",
      " 29  Communication Support                     0 non-null      object        \n",
      " 30  Content Type                              520 non-null    object        \n",
      " 31  Coordinator                               0 non-null      float64       \n",
      " 32  Coordinator's Cell Number                 0 non-null      object        \n",
      " 33  Country                                   0 non-null      object        \n",
      " 34  Created                                   520 non-null    datetime64[ns]\n",
      " 35  Created By                                520 non-null    object        \n",
      " 36  Criminal History                          148 non-null    object        \n",
      " 37  Daily Living Support                      0 non-null      object        \n",
      " 38  DDA Case File Number (if applicable)      28 non-null     object        \n",
      " 39  Diet/Nutrition                            0 non-null      object        \n",
      " 40  Education Level                           497 non-null    object        \n",
      " 41  E-mail Address                            0 non-null      object        \n",
      " 42  Ethnicity                                 486 non-null    object        \n",
      " 43  Eye Colour                                0 non-null      object        \n",
      " 44  Folder Child Count                        520 non-null    float64       \n",
      " 45  Hair Colour                               0 non-null      object        \n",
      " 46  Head Of Household                         520 non-null    object        \n",
      " 47  Health Care Plan Number                   0 non-null      object        \n",
      " 48  Health Concerns                           0 non-null      object        \n",
      " 49  Height                                    0 non-null      object        \n",
      " 50  Household Income                          394 non-null    float64       \n",
      " 51  If clean and sober housing, how long?     74 non-null     object        \n",
      " 52  Immigrant and Refugee Status              247 non-null    object        \n",
      " 53  Item Child Count                          520 non-null    float64       \n",
      " 54  Language Primary                          520 non-null    object        \n",
      " 55  Language Spoken                           324 non-null    object        \n",
      " 56  Living Situation                          508 non-null    object        \n",
      " 57  Marital Status                            507 non-null    object        \n",
      " 58  Medications and Conditions                299 non-null    object        \n",
      " 59  MISSING PERSON POSTER                     520 non-null    object        \n",
      " 60  Mobility Aids                             0 non-null      object        \n",
      " 61  Modified                                  520 non-null    datetime64[ns]\n",
      " 62  Modified By                               520 non-null    object        \n",
      " 63  Number of Dependents                      394 non-null    float64       \n",
      " 64  Office Number                             0 non-null      object        \n",
      " 65  Orion ID Number                           250 non-null    object        \n",
      " 66  Other I.D. Numbers                        0 non-null      float64       \n",
      " 67  Personal Hygiene                          0 non-null      object        \n",
      " 68  Pertinent Information                     0 non-null      object        \n",
      " 69  Photo                                     0 non-null      object        \n",
      " 70  Postal Code                               0 non-null      object        \n",
      " 71  Province                                  0 non-null      object        \n",
      " 72  Safety Requirement                        0 non-null      float64       \n",
      " 73  Sleep Patterns                            0 non-null      object        \n",
      " 74  Social Insurance Number                   0 non-null      object        \n",
      " 75  Special Characteristics                   0 non-null      object        \n",
      " 76  Special Education History                 483 non-null    object        \n",
      " 77  Street Address                            0 non-null      object        \n",
      " 78  Telephone Number                          0 non-null      object        \n",
      " 79  Transportation                            474 non-null    object        \n",
      " 80  Veteran Status                            26 non-null     object        \n",
      " 81  View                                      520 non-null    object        \n",
      " 82  Visual/Hearing Aids                       0 non-null      float64       \n",
      " 83  Weight                                    0 non-null      object        \n",
      " 84  Work Restrictions                         98 non-null     object        \n",
      " 85  Work Restrictions Details                 351 non-null    object        \n",
      " 86  Item Type                                 520 non-null    object        \n",
      " 87  Path                                      520 non-null    object        \n",
      " 88  people_First Name                         535 non-null    object        \n",
      " 89  people_Last Name                          535 non-null    object        \n",
      " 90  demo_Date of Birth                        535 non-null    object        \n",
      " 91  people_Full Name                          535 non-null    object        \n",
      "dtypes: datetime64[ns](6), float64(11), object(75)\n",
      "memory usage: 384.7+ KB\n"
     ]
    }
   ],
   "source": [
    "contmerge = cont.merge(peepsmerge,how='right',left_on='Individual',right_on='people_Full Name')\n",
    "contmerge.info()"
   ]
  },
  {
   "cell_type": "code",
   "execution_count": 227,
   "id": "94cee435-4684-48c6-b082-afffc0eca6a9",
   "metadata": {},
   "outputs": [],
   "source": [
    "emergency = contmerge[[\n",
    "    'people_First Name',\n",
    "    'people_Last Name',\n",
    "    'demo_Date of Birth',\n",
    "    'Emergency Contact Name',\n",
    "    'Emergency Contact Number',\n",
    "    'Emergency Contact Relationship'\n",
    "]]"
   ]
  },
  {
   "cell_type": "code",
   "execution_count": 228,
   "id": "83b3208d-43b0-49d0-ac57-c16fb2738f15",
   "metadata": {},
   "outputs": [],
   "source": [
    "missing = pd.read_excel(r'redacted file path\\exports\\apricot missing contacts.xlsx')"
   ]
  },
  {
   "cell_type": "code",
   "execution_count": 229,
   "id": "bc55a74a-576a-4545-a0bf-e4e30627e540",
   "metadata": {},
   "outputs": [
    {
     "name": "stdout",
     "output_type": "stream",
     "text": [
      "<class 'pandas.core.frame.DataFrame'>\n",
      "RangeIndex: 480 entries, 0 to 479\n",
      "Data columns (total 11 columns):\n",
      " #   Column                          Non-Null Count  Dtype  \n",
      "---  ------                          --------------  -----  \n",
      " 0   First                           480 non-null    object \n",
      " 1   Middle                          17 non-null     object \n",
      " 2   Last                            480 non-null    object \n",
      " 3   Date of Birth                   480 non-null    object \n",
      " 4   Record ID                       0 non-null      float64\n",
      " 5   people_First Name               432 non-null    object \n",
      " 6   people_Last Name                432 non-null    object \n",
      " 7   demo_Date of Birth              432 non-null    object \n",
      " 8   Emergency Contact Name          301 non-null    object \n",
      " 9   Emergency Contact Number        297 non-null    object \n",
      " 10  Emergency Contact Relationship  297 non-null    object \n",
      "dtypes: float64(1), object(10)\n",
      "memory usage: 41.4+ KB\n"
     ]
    }
   ],
   "source": [
    "missingemergency = missing.merge(emergency,how='left', left_on=['First','Last'],right_on=['people_First Name','people_Last Name'])\n",
    "missingemergency.info()"
   ]
  },
  {
   "cell_type": "code",
   "execution_count": 88,
   "id": "ef484f58-fa3c-419b-b20d-753ad6663974",
   "metadata": {},
   "outputs": [],
   "source": [
    "missingemergency.to_excel(r'redacted file path\\exports\\missing emergency contacts.xlsx')"
   ]
  },
  {
   "cell_type": "markdown",
   "id": "b985dce4-b1bd-40d7-a1a5-70321aa09c13",
   "metadata": {},
   "source": [
    "### DDA sheets"
   ]
  },
  {
   "cell_type": "code",
   "execution_count": 230,
   "id": "e98c1b10-5e5d-4622-8ff0-f6496f571c26",
   "metadata": {
    "scrolled": true
   },
   "outputs": [],
   "source": [
    "hours = pd.read_excel(r'redacted file path\\Employer placement hours - unformatted.xlsx')\n",
    "\n",
    "# split out the contents of the client column on the ;# and add the split values to the newly created individual column\n",
    "hours[['Individual','Individual2']] = hours['Individual'].str.split(';#', expand=True)\n",
    "\n",
    "# sort the individual column values alphabetically\n",
    "hours = hours.sort_values('Individual2',ascending=True)\n",
    "\n",
    "# the key value had a space in it, so needed to remove that space\n",
    "hours['Individual2'] = hours['Individual2'].str.replace(', ',',')\n",
    "\n",
    "# remove test case rows\n",
    "hours = hours[~hours['Individual'].str.contains('test', case=False, na=False)].copy()\n",
    "\n",
    "# remove any text (within parethesis) to standardize names\n",
    "hours['Individual'] = hours['Individual'].replace(r'\\(.*?\\)','',regex=True).str.strip()\n",
    "\n",
    "hours['Individual'] = hours['Individual'].replace(r'\\\".*?\\\"','',regex=True).str.strip()"
   ]
  },
  {
   "cell_type": "code",
   "execution_count": 231,
   "id": "d5b7b0de-ae09-41c7-aaf1-d972331fd461",
   "metadata": {},
   "outputs": [],
   "source": [
    "peepsmerge = merge6[[\n",
    "    'people_First Name',\n",
    "    'people_Last Name',\n",
    "    'demo_Date of Birth',\n",
    "    'people_Full Name',\n",
    "]].copy()\n",
    "\n",
    "peepsmerge['people_Full Name'] = peepsmerge['people_Full Name'].str.replace(', ',',')\n",
    "peepsmerge['demo_Date of Birth'] = peepsmerge['demo_Date of Birth'].fillna('1/1/1800')"
   ]
  },
  {
   "cell_type": "code",
   "execution_count": 232,
   "id": "9bd19198-7dfb-4ed5-bfe6-dd8a2df61a57",
   "metadata": {},
   "outputs": [],
   "source": [
    "place = pd.read_excel(r'redacted file path\\Employer placement record2 - unformatted.xlsx')"
   ]
  },
  {
   "cell_type": "code",
   "execution_count": 233,
   "id": "5066794f-13cd-4ef3-ba5a-114a15d0a783",
   "metadata": {
    "scrolled": true
   },
   "outputs": [
    {
     "name": "stdout",
     "output_type": "stream",
     "text": [
      "<class 'pandas.core.frame.DataFrame'>\n",
      "RangeIndex: 920 entries, 0 to 919\n",
      "Data columns (total 48 columns):\n",
      " #   Column                                                       Non-Null Count  Dtype         \n",
      "---  ------                                                       --------------  -----         \n",
      " 0   Individual_x                                                 920 non-null    object        \n",
      " 1   Billing Date                                                 912 non-null    datetime64[ns]\n",
      " 2   Hours worked this MONTH                                      912 non-null    float64       \n",
      " 3   EmployerPlacementID                                          919 non-null    float64       \n",
      " 4   Content Type_x                                               920 non-null    object        \n",
      " 5   Created_x                                                    920 non-null    datetime64[ns]\n",
      " 6   Created By_x                                                 920 non-null    object        \n",
      " 7   Folder Child Count_x                                         920 non-null    int64         \n",
      " 8   ID_x                                                         920 non-null    int64         \n",
      " 9   Item Child Count_x                                           920 non-null    int64         \n",
      " 10  Modified_x                                                   920 non-null    datetime64[ns]\n",
      " 11  Modified By_x                                                920 non-null    object        \n",
      " 12  Title_x                                                      920 non-null    object        \n",
      " 13  Item Type_x                                                  920 non-null    object        \n",
      " 14  Path_x                                                       920 non-null    object        \n",
      " 15  Individual2                                                  920 non-null    object        \n",
      " 16  Placement Date                                               919 non-null    datetime64[ns]\n",
      " 17  Orion Staff                                                  919 non-null    object        \n",
      " 18  Individual_y                                                 919 non-null    object        \n",
      " 19  Placement Type                                               907 non-null    object        \n",
      " 20  Employer                                                     919 non-null    object        \n",
      " 21  Employer:Company Name                                        919 non-null    object        \n",
      " 22  Employer Contact                                             675 non-null    object        \n",
      " 23  Job Title                                                    851 non-null    object        \n",
      " 24  Competitive Employment:                                      919 non-null    object        \n",
      " 25  Customized Employment:                                       919 non-null    object        \n",
      " 26  End Date                                                     154 non-null    datetime64[ns]\n",
      " 27  Customized Employment: Wage                                  901 non-null    float64       \n",
      " 28  Customized Employment: Wage End Date                         436 non-null    datetime64[ns]\n",
      " 29  Customized Employment: Stability Date                        275 non-null    datetime64[ns]\n",
      " 30  Customized Employment: Check if update of current placement  469 non-null    object        \n",
      " 31  Benefits at closure?                                         226 non-null    object        \n",
      " 32  Competitive Employment: Made 90 days?                        11 non-null     object        \n",
      " 33  Competitive Employment: Wage at Closure                      2 non-null      float64       \n",
      " 34  Competitive Employment: Wage at Placement                    25 non-null     float64       \n",
      " 35  Content Type_y                                               919 non-null    object        \n",
      " 36  Created_y                                                    919 non-null    datetime64[ns]\n",
      " 37  Created By_y                                                 919 non-null    object        \n",
      " 38  Customized Employment: Made Stability?                       643 non-null    object        \n",
      " 39  Folder Child Count_y                                         919 non-null    float64       \n",
      " 40  Hours worked per week?                                       918 non-null    float64       \n",
      " 41  ID_y                                                         919 non-null    float64       \n",
      " 42  Item Child Count_y                                           919 non-null    float64       \n",
      " 43  Modified_y                                                   919 non-null    datetime64[ns]\n",
      " 44  Modified By_y                                                919 non-null    object        \n",
      " 45  Title_y                                                      919 non-null    object        \n",
      " 46  Item Type_y                                                  919 non-null    object        \n",
      " 47  Path_y                                                       919 non-null    object        \n",
      "dtypes: datetime64[ns](9), float64(9), int64(3), object(27)\n",
      "memory usage: 345.1+ KB\n"
     ]
    }
   ],
   "source": [
    "hourplace = hours.merge(place,how='left',left_on='EmployerPlacementID',right_on='ID')\n",
    "hourplace.info()"
   ]
  },
  {
   "cell_type": "code",
   "execution_count": 234,
   "id": "56f2050a-d625-4491-8d5c-68999cc87d83",
   "metadata": {
    "scrolled": true
   },
   "outputs": [
    {
     "name": "stdout",
     "output_type": "stream",
     "text": [
      "<class 'pandas.core.frame.DataFrame'>\n",
      "RangeIndex: 920 entries, 0 to 919\n",
      "Data columns (total 52 columns):\n",
      " #   Column                                                       Non-Null Count  Dtype         \n",
      "---  ------                                                       --------------  -----         \n",
      " 0   Individual_x                                                 920 non-null    object        \n",
      " 1   Billing Date                                                 912 non-null    datetime64[ns]\n",
      " 2   Hours worked this MONTH                                      912 non-null    float64       \n",
      " 3   EmployerPlacementID                                          919 non-null    float64       \n",
      " 4   Content Type_x                                               920 non-null    object        \n",
      " 5   Created_x                                                    920 non-null    datetime64[ns]\n",
      " 6   Created By_x                                                 920 non-null    object        \n",
      " 7   Folder Child Count_x                                         920 non-null    int64         \n",
      " 8   ID_x                                                         920 non-null    int64         \n",
      " 9   Item Child Count_x                                           920 non-null    int64         \n",
      " 10  Modified_x                                                   920 non-null    datetime64[ns]\n",
      " 11  Modified By_x                                                920 non-null    object        \n",
      " 12  Title_x                                                      920 non-null    object        \n",
      " 13  Item Type_x                                                  920 non-null    object        \n",
      " 14  Path_x                                                       920 non-null    object        \n",
      " 15  Individual2                                                  920 non-null    object        \n",
      " 16  Placement Date                                               919 non-null    datetime64[ns]\n",
      " 17  Orion Staff                                                  919 non-null    object        \n",
      " 18  Individual_y                                                 919 non-null    object        \n",
      " 19  Placement Type                                               907 non-null    object        \n",
      " 20  Employer                                                     919 non-null    object        \n",
      " 21  Employer:Company Name                                        919 non-null    object        \n",
      " 22  Employer Contact                                             675 non-null    object        \n",
      " 23  Job Title                                                    851 non-null    object        \n",
      " 24  Competitive Employment:                                      919 non-null    object        \n",
      " 25  Customized Employment:                                       919 non-null    object        \n",
      " 26  End Date                                                     154 non-null    datetime64[ns]\n",
      " 27  Customized Employment: Wage                                  901 non-null    float64       \n",
      " 28  Customized Employment: Wage End Date                         436 non-null    datetime64[ns]\n",
      " 29  Customized Employment: Stability Date                        275 non-null    datetime64[ns]\n",
      " 30  Customized Employment: Check if update of current placement  469 non-null    object        \n",
      " 31  Benefits at closure?                                         226 non-null    object        \n",
      " 32  Competitive Employment: Made 90 days?                        11 non-null     object        \n",
      " 33  Competitive Employment: Wage at Closure                      2 non-null      float64       \n",
      " 34  Competitive Employment: Wage at Placement                    25 non-null     float64       \n",
      " 35  Content Type_y                                               919 non-null    object        \n",
      " 36  Created_y                                                    919 non-null    datetime64[ns]\n",
      " 37  Created By_y                                                 919 non-null    object        \n",
      " 38  Customized Employment: Made Stability?                       643 non-null    object        \n",
      " 39  Folder Child Count_y                                         919 non-null    float64       \n",
      " 40  Hours worked per week?                                       918 non-null    float64       \n",
      " 41  ID_y                                                         919 non-null    float64       \n",
      " 42  Item Child Count_y                                           919 non-null    float64       \n",
      " 43  Modified_y                                                   919 non-null    datetime64[ns]\n",
      " 44  Modified By_y                                                919 non-null    object        \n",
      " 45  Title_y                                                      919 non-null    object        \n",
      " 46  Item Type_y                                                  919 non-null    object        \n",
      " 47  Path_y                                                       919 non-null    object        \n",
      " 48  people_First Name                                            877 non-null    object        \n",
      " 49  people_Last Name                                             877 non-null    object        \n",
      " 50  demo_Date of Birth                                           877 non-null    object        \n",
      " 51  people_Full Name                                             877 non-null    object        \n",
      "dtypes: datetime64[ns](9), float64(9), int64(3), object(31)\n",
      "memory usage: 373.9+ KB\n"
     ]
    }
   ],
   "source": [
    "hourplace2 = hourplace.merge(peepsmerge,how='left',left_on='Individual2',right_on='people_Full Name')\n",
    "hourplace2.info()"
   ]
  },
  {
   "cell_type": "code",
   "execution_count": 38,
   "id": "250f63ea-86b0-4968-9452-377304cc3c36",
   "metadata": {},
   "outputs": [],
   "source": [
    "hourplace2.to_excel(r'redacted file path\\exports\\dda month hours1.xlsx')"
   ]
  },
  {
   "cell_type": "code",
   "execution_count": 235,
   "id": "34c02504-18df-4384-8d70-609288acb9d0",
   "metadata": {},
   "outputs": [],
   "source": [
    "ddahourexport = pd.read_excel(r'redacted file path\\exports\\external linking\\employment for dda hours export report.xlsx')"
   ]
  },
  {
   "cell_type": "code",
   "execution_count": 236,
   "id": "3d77f1a1-0ed8-4d28-9ab9-0f84d4934ca2",
   "metadata": {},
   "outputs": [],
   "source": [
    "emprep = {\n",
    "    'Walmart':'Walmart Kelsey St',\n",
    "    'Safeway':'Safeway Bothell Everett',\n",
    "    'Home Depot':'Home Depot Hwy 99' \n",
    "}"
   ]
  },
  {
   "cell_type": "code",
   "execution_count": 237,
   "id": "21f0d93b-de3c-46e1-ad48-ac69bc6de5af",
   "metadata": {
    "scrolled": true
   },
   "outputs": [
    {
     "name": "stdout",
     "output_type": "stream",
     "text": [
      "<class 'pandas.core.frame.DataFrame'>\n",
      "RangeIndex: 1166 entries, 0 to 1165\n",
      "Data columns (total 64 columns):\n",
      " #   Column                                                       Non-Null Count  Dtype         \n",
      "---  ------                                                       --------------  -----         \n",
      " 0   Individual_x                                                 1166 non-null   object        \n",
      " 1   Billing Date                                                 1157 non-null   datetime64[ns]\n",
      " 2   Hours worked this MONTH                                      1157 non-null   float64       \n",
      " 3   EmployerPlacementID                                          1165 non-null   float64       \n",
      " 4   Content Type_x                                               1166 non-null   object        \n",
      " 5   Created_x                                                    1166 non-null   datetime64[ns]\n",
      " 6   Created By_x                                                 1166 non-null   object        \n",
      " 7   Folder Child Count_x                                         1166 non-null   int64         \n",
      " 8   ID_x                                                         1166 non-null   int64         \n",
      " 9   Item Child Count_x                                           1166 non-null   int64         \n",
      " 10  Modified_x                                                   1166 non-null   datetime64[ns]\n",
      " 11  Modified By_x                                                1166 non-null   object        \n",
      " 12  Title_x                                                      1166 non-null   object        \n",
      " 13  Item Type_x                                                  1166 non-null   object        \n",
      " 14  Path_x                                                       1166 non-null   object        \n",
      " 15  Individual2                                                  1166 non-null   object        \n",
      " 16  Placement Date                                               1165 non-null   datetime64[ns]\n",
      " 17  Orion Staff                                                  1165 non-null   object        \n",
      " 18  Individual_y                                                 1165 non-null   object        \n",
      " 19  Placement Type                                               1153 non-null   object        \n",
      " 20  Employer                                                     1165 non-null   object        \n",
      " 21  Employer:Company Name                                        1165 non-null   object        \n",
      " 22  Employer Contact                                             844 non-null    object        \n",
      " 23  Job Title                                                    1089 non-null   object        \n",
      " 24  Competitive Employment:                                      1165 non-null   object        \n",
      " 25  Customized Employment:                                       1165 non-null   object        \n",
      " 26  End Date_x                                                   205 non-null    datetime64[ns]\n",
      " 27  Customized Employment: Wage                                  1147 non-null   float64       \n",
      " 28  Customized Employment: Wage End Date                         526 non-null    datetime64[ns]\n",
      " 29  Customized Employment: Stability Date                        369 non-null    datetime64[ns]\n",
      " 30  Customized Employment: Check if update of current placement  593 non-null    object        \n",
      " 31  Benefits at closure?                                         288 non-null    object        \n",
      " 32  Competitive Employment: Made 90 days?                        11 non-null     object        \n",
      " 33  Competitive Employment: Wage at Closure                      2 non-null      float64       \n",
      " 34  Competitive Employment: Wage at Placement                    25 non-null     float64       \n",
      " 35  Content Type_y                                               1165 non-null   object        \n",
      " 36  Created_y                                                    1165 non-null   datetime64[ns]\n",
      " 37  Created By_y                                                 1165 non-null   object        \n",
      " 38  Customized Employment: Made Stability?                       836 non-null    object        \n",
      " 39  Folder Child Count_y                                         1165 non-null   float64       \n",
      " 40  Hours worked per week?                                       1164 non-null   float64       \n",
      " 41  ID_y                                                         1165 non-null   float64       \n",
      " 42  Item Child Count_y                                           1165 non-null   float64       \n",
      " 43  Modified_y                                                   1165 non-null   datetime64[ns]\n",
      " 44  Modified By_y                                                1165 non-null   object        \n",
      " 45  Title_y                                                      1165 non-null   object        \n",
      " 46  Item Type_y                                                  1165 non-null   object        \n",
      " 47  Path_y                                                       1165 non-null   object        \n",
      " 48  people_First Name                                            1123 non-null   object        \n",
      " 49  people_Last Name                                             1123 non-null   object        \n",
      " 50  demo_Date of Birth                                           1123 non-null   object        \n",
      " 51  people_Full Name                                             1123 non-null   object        \n",
      " 52  Record ID                                                    1052 non-null   float64       \n",
      " 53  First                                                        1052 non-null   object        \n",
      " 54  Middle                                                       0 non-null      float64       \n",
      " 55  Last                                                         1052 non-null   object        \n",
      " 56  Date of Birth                                                1052 non-null   object        \n",
      " 57  Service                                                      1052 non-null   object        \n",
      " 58  Sub-Service Category                                         1052 non-null   object        \n",
      " 59  Assigned Programs                                            1052 non-null   object        \n",
      " 60  employment Record ID                                         1052 non-null   float64       \n",
      " 61  Start Date                                                   1052 non-null   object        \n",
      " 62  End Date_y                                                   239 non-null    object        \n",
      " 63  Employer Organization Name                                   1052 non-null   object        \n",
      "dtypes: datetime64[ns](9), float64(12), int64(3), object(40)\n",
      "memory usage: 583.1+ KB\n"
     ]
    }
   ],
   "source": [
    "hourplace3 = hourplace2.merge(ddahourexport,how='left',left_on=['people_First Name','people_Last Name','Employer:Company Name'],right_on=['First','Last','Employer Organization Name'])\n",
    "hourplace3.info()"
   ]
  },
  {
   "cell_type": "code",
   "execution_count": 238,
   "id": "49d73b19-b20a-4b27-a3ee-55e4a15bd5c9",
   "metadata": {},
   "outputs": [],
   "source": [
    "hourplace4 = hourplace3[[\n",
    "    'Individual2',\n",
    "    'people_First Name',\n",
    "    'Middle',\n",
    "    'people_Last Name',\n",
    "    'demo_Date of Birth',\n",
    "    'Billing Date',\n",
    "    'Employer Organization Name',\n",
    "    'Placement Date',\n",
    "    'employment Record ID',\n",
    "    'Hours worked this MONTH',\n",
    "    'Customized Employment: Wage'\n",
    "]].copy()\n",
    "\n",
    "hourplace4['associated employment'] = hourplace4['Employer Organization Name']+' Started: '+hourplace4['Placement Date'].astype(str)\n",
    "hourplace5 = hourplace4[hourplace4['people_First Name'].notna()].copy()"
   ]
  },
  {
   "cell_type": "code",
   "execution_count": 239,
   "id": "7f26cb5d-4127-455d-a23b-1409a4e71394",
   "metadata": {},
   "outputs": [],
   "source": [
    "hourplace6 = hourplace5.drop_duplicates(subset=['people_First Name','people_Last Name','Billing Date','employment Record ID',]).copy()"
   ]
  },
  {
   "cell_type": "code",
   "execution_count": 47,
   "id": "8874c387-4eb1-4de6-87ce-0271de0ced36",
   "metadata": {},
   "outputs": [],
   "source": [
    "hourplace6.to_excel(r'redacted file path\\exports\\dda month reporting3.xlsx')"
   ]
  },
  {
   "cell_type": "markdown",
   "id": "159565d2-07c2-463b-9900-875beca738c5",
   "metadata": {},
   "source": [
    "#### DDA Hours Assignment"
   ]
  },
  {
   "cell_type": "code",
   "execution_count": 240,
   "id": "4ad32c46-f3ac-453c-bcf2-c0cddbe13681",
   "metadata": {
    "scrolled": true
   },
   "outputs": [],
   "source": [
    "service = pd.read_excel(r'redacted file path\\Services - unformatted.xlsx')\n",
    "\n",
    "# split out the contents of the client column on the ;# and add the split values to the newly created individual column\n",
    "service[['Individual','Individual2']] = service['Individual'].str.split(';#', expand=True)\n",
    "\n",
    "# sort the individual column values alphabetically\n",
    "service = service.sort_values('Individual2',ascending=True)\n",
    "\n",
    "# the key value had a space in it, so needed to remove that space\n",
    "service['Individual2'] = service['Individual2'].str.replace(', ',',')\n",
    "\n",
    "# remove test case rows\n",
    "service = service[~service['Individual'].str.contains('test', case=False, na=False)].copy()\n",
    "\n",
    "# remove any text (within parethesis) to standardize names\n",
    "service['Individual'] = service['Individual'].replace(r'\\(.*?\\)','',regex=True).str.strip()\n",
    "\n",
    "service['Individual'] = service['Individual'].replace(r'\\\".*?\\\"','',regex=True).str.strip()"
   ]
  },
  {
   "cell_type": "code",
   "execution_count": 241,
   "id": "f90820d9-e5df-47db-95b0-1044a44d4d81",
   "metadata": {},
   "outputs": [],
   "source": [
    "peepsmerge = merge6[[\n",
    "    'people_First Name',\n",
    "    'people_Last Name',\n",
    "    'demo_Date of Birth',\n",
    "    'people_Full Name',\n",
    "]].copy()\n",
    "\n",
    "peepsmerge['people_Full Name'] = peepsmerge['people_Full Name'].str.replace(', ',',')\n",
    "peepsmerge['demo_Date of Birth'] = peepsmerge['demo_Date of Birth'].fillna('1/1/1800')"
   ]
  },
  {
   "cell_type": "code",
   "execution_count": 242,
   "id": "efe03251-5042-4583-8acb-f2bc1f1190eb",
   "metadata": {},
   "outputs": [],
   "source": [
    "servicemerge = service.merge(peepsmerge,how='left',left_on='Individual2',right_on='people_Full Name')"
   ]
  },
  {
   "cell_type": "code",
   "execution_count": 243,
   "id": "2f9160e6-0c0f-42fb-a571-ee19b63ce0fe",
   "metadata": {
    "scrolled": true
   },
   "outputs": [
    {
     "data": {
      "text/plain": [
       "Service\n",
       "Assessment                          629\n",
       "Job Development                     580\n",
       "Job Retention                       480\n",
       "Community Based Assessment          211\n",
       "Case Management                     143\n",
       "Life Skills                         109\n",
       "Training                            108\n",
       "Individual Employment Services       89\n",
       "Community Inclusion                  35\n",
       "Intensive Training Services          34\n",
       "Job Search Training                  26\n",
       "Supervised Job Search                22\n",
       "School to Work                       12\n",
       "IL Services                           5\n",
       "Job Foundations                       4\n",
       "Internship - Other                    3\n",
       "Trial Work Experience                 2\n",
       "Pre-ETS IL Skills Training            1\n",
       "Internship - CNC Mills                1\n",
       "Internship - Mechanical Assembly      1\n",
       "Name: count, dtype: int64"
      ]
     },
     "execution_count": 243,
     "metadata": {},
     "output_type": "execute_result"
    }
   ],
   "source": [
    "servicemerge['Service'] = servicemerge['Service'].str.replace('BFET - SL (Life Skills)','Life Skills')\n",
    "servicemerge['Service'] = servicemerge['Service'].str.replace('DDA - Individual Employment Services','Individual Employment Services')\n",
    "servicemerge['Service'] = servicemerge['Service'].str.replace('BFET - BR (Job Retention)','Job Retention')\n",
    "servicemerge['Service'] = servicemerge['Service'].str.replace('DDA - Community Inclusion','Community Inclusion')\n",
    "servicemerge['Service'] = servicemerge['Service'].str.replace('BFET - JS (Supervised Job Search)','Supervised Job Search')\n",
    "servicemerge['Service'] = servicemerge['Service'].str.replace('BFET - JT (Job Search Training)','Job Search Training')\n",
    "servicemerge['Service'] = servicemerge['Service'].str.replace('DDA - School to Work','School to Work')\n",
    "servicemerge['Service'] = servicemerge['Service'].str.replace('DDA - Job Foundations','Job Foundations')\n",
    "servicemerge['Service'] = servicemerge['Service'].str.replace('Staffing','Orion Staffing Assignment')\n",
    "servicemerge['Service'].value_counts()"
   ]
  },
  {
   "cell_type": "code",
   "execution_count": 244,
   "id": "84090294-afa0-4bc3-8fa8-172b962bbc01",
   "metadata": {},
   "outputs": [
    {
     "data": {
      "text/plain": [
       "Service Category\n",
       "Assessment            1005\n",
       "Job Development        628\n",
       "Job Retention          514\n",
       "Case Management        143\n",
       "DDA                    140\n",
       "Training               113\n",
       "Independent Living       5\n",
       "Other                    1\n",
       "Name: count, dtype: int64"
      ]
     },
     "execution_count": 244,
     "metadata": {},
     "output_type": "execute_result"
    }
   ],
   "source": [
    "servicemerge['Service Category'] = np.where(servicemerge['Service'].str.contains('Assessment|Community Based Assessment|Trial Work Experience|Life Skills'), 'Assessment',\n",
    "                             np.where(servicemerge['Service'].str.contains('Job Retention|Intensive Training Services|Off Site Psycho Social Supports - Non-Supported Employment|Off Site Psycho Social Supports - Supported Employment'), 'Job Retention',\n",
    "                             np.where(servicemerge['Service'].str.contains('Supervised Job Search|Job Search Training|Job Development'), 'Job Development',\n",
    "                             np.where(servicemerge['Service'].str.contains('Case Management'), 'Case Management',\n",
    "                             np.where(servicemerge['Service'].str.contains('Community Inclusion|Individual Employment Services|Job Foundations|School to Work'), 'DDA',\n",
    "                             np.where(servicemerge['Service'].str.contains('IL Services'), 'Independent Living',\n",
    "                             np.where(servicemerge['Service'].str.contains('Internship = CNC Mills|Internship - Mechanical Assembly|Internship - Other|Training'), 'Training',\n",
    "                             np.where(servicemerge['Service'].str.contains('Orion Staffing Assignment'), 'Staffing',\n",
    "                             np.where(servicemerge['Service'].str.contains('Pre-ETS IL Peer Mentoring|Pre-ETS IL Self Advocacy|Pre-ETS IL Skills Training|Pre-ETS IL Work Related Systems Access|Pre-ETS Information Interview|Pre-ETS Job Exploration|Pre-ETS Job Shadow|Pre-ETS Social Skills|Pre-ETS WBL|Pre-ETS Workplace Readiness Training'), 'Pre ETS',\n",
    "                             'Other')))))))))\n",
    "servicemerge['Service Category'].value_counts()"
   ]
  },
  {
   "cell_type": "code",
   "execution_count": 245,
   "id": "74137fff-0d4c-422e-97b7-1fade29e6723",
   "metadata": {},
   "outputs": [
    {
     "data": {
      "text/plain": [
       "subservice\n",
       "Other                             1745\n",
       "Job Development                    580\n",
       "Individual Employment Services      89\n",
       "Community Inclusion                 89\n",
       "Job Retention                       34\n",
       "School to Work                      12\n",
       "Name: count, dtype: int64"
      ]
     },
     "execution_count": 245,
     "metadata": {},
     "output_type": "execute_result"
    }
   ],
   "source": [
    "servicemerge['subservice'] = np.where(servicemerge['Service'].str.contains('Community Inclusion'), 'Community Inclusion',\n",
    "                            np.where(servicemerge['Service'].str.contains('Individual Employment Services'), 'Individual Employment Services',\n",
    "                            np.where(servicemerge['Service'].str.contains('School to Work'), 'School to Work',\n",
    "                            np.where(servicemerge['Service'].str.contains('Job Development'), 'Job Development',\n",
    "                            np.where(servicemerge['Service'].str.contains('Intensive Training Services'), 'Job Retention',\n",
    "                            'Other')))))\n",
    "servicemerge['subservice'].value_counts()"
   ]
  },
  {
   "cell_type": "code",
   "execution_count": 246,
   "id": "75852385-7f85-4d63-926d-6d2aea051bdd",
   "metadata": {},
   "outputs": [],
   "source": [
    "hours = pd.read_excel(r'redacted file path\\exports\\apricot dda hours assignment export.xlsx')"
   ]
  },
  {
   "cell_type": "code",
   "execution_count": 247,
   "id": "13ba1af8-41e3-4f6d-8c75-1c1a78aa925e",
   "metadata": {},
   "outputs": [
    {
     "name": "stdout",
     "output_type": "stream",
     "text": [
      "<class 'pandas.core.frame.DataFrame'>\n",
      "RangeIndex: 213 entries, 0 to 212\n",
      "Data columns (total 37 columns):\n",
      " #   Column                                Non-Null Count  Dtype         \n",
      "---  ------                                --------------  -----         \n",
      " 0   Start Date                            119 non-null    datetime64[ns]\n",
      " 1   Individual                            119 non-null    object        \n",
      " 2   Venue                                 119 non-null    object        \n",
      " 3   End Date                              29 non-null     object        \n",
      " 4   Service                               119 non-null    object        \n",
      " 5   Recommendations                       0 non-null      object        \n",
      " 6   Hours Allocated Per Month (DDA Only)  99 non-null     float64       \n",
      " 7   Modified By                           119 non-null    object        \n",
      " 8   Content Type                          119 non-null    object        \n",
      " 9   Created                               119 non-null    datetime64[ns]\n",
      " 10  Created By                            119 non-null    object        \n",
      " 11  Folder Child Count                    119 non-null    float64       \n",
      " 12  ID                                    119 non-null    float64       \n",
      " 13  Item Child Count                      119 non-null    float64       \n",
      " 14  Modified                              119 non-null    datetime64[ns]\n",
      " 15  Notes                                 19 non-null     object        \n",
      " 16  Projected End Date                    4 non-null      datetime64[ns]\n",
      " 17  Title                                 119 non-null    object        \n",
      " 18  Item Type                             119 non-null    object        \n",
      " 19  Path                                  119 non-null    object        \n",
      " 20  Individual2                           119 non-null    object        \n",
      " 21  people_First Name                     119 non-null    object        \n",
      " 22  people_Last Name                      119 non-null    object        \n",
      " 23  demo_Date of Birth                    119 non-null    object        \n",
      " 24  people_Full Name                      119 non-null    object        \n",
      " 25  Service Category                      119 non-null    object        \n",
      " 26  subservice                            119 non-null    object        \n",
      " 27  Record ID                             213 non-null    int64         \n",
      " 28  First                                 213 non-null    object        \n",
      " 29  Middle                                0 non-null      float64       \n",
      " 30  Last                                  213 non-null    object        \n",
      " 31  Date of Birth                         213 non-null    object        \n",
      " 32  service Record ID                     213 non-null    int64         \n",
      " 33  Associated Service                    213 non-null    object        \n",
      " 34  Sub-Service Category                  213 non-null    object        \n",
      " 35  Associated Sub Service                213 non-null    object        \n",
      " 36  Assigned Programs                     213 non-null    object        \n",
      "dtypes: datetime64[ns](4), float64(5), int64(2), object(26)\n",
      "memory usage: 61.7+ KB\n"
     ]
    }
   ],
   "source": [
    "servicehourmerge = servicemerge.merge(hours,how='right',left_on=['people_First Name','people_Last Name','subservice'],right_on=['First','Last','Sub-Service Category'])\n",
    "servicehourmerge.info()"
   ]
  },
  {
   "cell_type": "code",
   "execution_count": 248,
   "id": "74060d3c-181f-4745-a065-ad05ba62190e",
   "metadata": {},
   "outputs": [],
   "source": [
    "servicehourmerge2 = servicehourmerge[[\n",
    "    'First',\n",
    "    'Middle',\n",
    "    'Last',\n",
    "    'Date of Birth',\n",
    "    'Associated Service',\n",
    "    'service Record ID',\n",
    "    'Associated Sub Service',\n",
    "    'Sub-Service Category',\n",
    "    'Start Date',\n",
    "    'End Date',\n",
    "    'Hours Allocated Per Month (DDA Only)',\n",
    "    'Assigned Programs'  \n",
    "]].copy()"
   ]
  },
  {
   "cell_type": "code",
   "execution_count": 74,
   "id": "31b15a8a-11ac-4826-b15f-b4c5e1d57ae2",
   "metadata": {},
   "outputs": [],
   "source": [
    "servicehourmerge2.to_excel(r'redacted file path\\exports\\real dda hours2.xlsx')"
   ]
  },
  {
   "cell_type": "code",
   "execution_count": null,
   "id": "63041429-491a-42a7-94e7-82c9544ba499",
   "metadata": {},
   "outputs": [],
   "source": []
  },
  {
   "cell_type": "code",
   "execution_count": 249,
   "id": "9da5f248-deb7-4f52-815e-14d6d7384ada",
   "metadata": {},
   "outputs": [],
   "source": [
    "place = pd.read_excel(r'redacted file path\\Employer placement hours - unformatted.xlsx')\n",
    "\n",
    "# split out the contents of the client column on the ;# and add the split values to the newly created individual column\n",
    "place[['Individual','Individual2']] = place['Individual'].str.split(';#', expand=True)\n",
    "\n",
    "# sort the individual column values alphabetically\n",
    "place = place.sort_values('Individual2',ascending=True)\n",
    "\n",
    "# the key value had a space in it, so needed to remove that space\n",
    "place['Individual2'] = place['Individual2'].str.replace(', ',',')"
   ]
  },
  {
   "cell_type": "code",
   "execution_count": 251,
   "id": "f7aef45b-36ca-44f1-9e5c-0054bfd75efc",
   "metadata": {
    "scrolled": true
   },
   "outputs": [],
   "source": [
    "indprof = pd.read_csv(r'redacted file path\\for import\\IndividualProfile import1 reviewed.csv')\n",
    "indprof = indprof.iloc[1:]"
   ]
  },
  {
   "cell_type": "code",
   "execution_count": 252,
   "id": "51557296-8a31-4f26-9cc8-b8042df6cab3",
   "metadata": {},
   "outputs": [],
   "source": [
    "indprof['Individual2'] = indprof['field_3436_last']+','+indprof['field_3436_first']"
   ]
  },
  {
   "cell_type": "code",
   "execution_count": 253,
   "id": "18d6086a-c4ec-4195-9a72-8d7bac4e49ca",
   "metadata": {
    "scrolled": true
   },
   "outputs": [
    {
     "name": "stdout",
     "output_type": "stream",
     "text": [
      "<class 'pandas.core.frame.DataFrame'>\n",
      "RangeIndex: 920 entries, 0 to 919\n",
      "Data columns (total 50 columns):\n",
      " #   Column                                                    Non-Null Count  Dtype         \n",
      "---  ------                                                    --------------  -----         \n",
      " 0   Individual                                                920 non-null    object        \n",
      " 1   Billing Date                                              912 non-null    datetime64[ns]\n",
      " 2   Hours worked this MONTH                                   912 non-null    float64       \n",
      " 3   EmployerPlacementID                                       919 non-null    float64       \n",
      " 4   Content Type                                              920 non-null    object        \n",
      " 5   Created                                                   920 non-null    datetime64[ns]\n",
      " 6   Created By                                                920 non-null    object        \n",
      " 7   Folder Child Count                                        920 non-null    int64         \n",
      " 8   ID                                                        920 non-null    int64         \n",
      " 9   Item Child Count                                          920 non-null    int64         \n",
      " 10  Modified                                                  920 non-null    datetime64[ns]\n",
      " 11  Modified By                                               920 non-null    object        \n",
      " 12  Title                                                     920 non-null    object        \n",
      " 13  Item Type                                                 920 non-null    object        \n",
      " 14  Path                                                      920 non-null    object        \n",
      " 15  Individual2                                               920 non-null    object        \n",
      " 16  System Header Row\n",
      "DO NOT DELETE THIS ROW\n",
      "OR THIS COLUMN!  0 non-null      object        \n",
      " 17  field_3436_first                                          880 non-null    object        \n",
      " 18  field_3436_middle                                         0 non-null      object        \n",
      " 19  field_3436_last                                           880 non-null    object        \n",
      " 20  field_3195                                                880 non-null    object        \n",
      " 21  field_3848                                                0 non-null      object        \n",
      " 22  field_2893_first                                          880 non-null    object        \n",
      " 23  field_2893_middle                                         0 non-null      object        \n",
      " 24  field_2893_last                                           880 non-null    object        \n",
      " 25  field_3194                                                0 non-null      object        \n",
      " 26  field_3958                                                0 non-null      object        \n",
      " 27  field_3211                                                880 non-null    object        \n",
      " 28  field_3381                                                243 non-null    object        \n",
      " 29  field_3382                                                10 non-null     object        \n",
      " 30  field_3210                                                0 non-null      object        \n",
      " 31  field_3437                                                0 non-null      object        \n",
      " 32  field_3212_line1                                          261 non-null    object        \n",
      " 33  field_3212_line2                                          0 non-null      object        \n",
      " 34  field_3212_neighborhood                                   0 non-null      object        \n",
      " 35  field_3212_city                                           880 non-null    object        \n",
      " 36  field_3212_state                                          880 non-null    object        \n",
      " 37  field_3212_county                                         880 non-null    object        \n",
      " 38  field_3212_zip                                            866 non-null    object        \n",
      " 39  field_3212_country                                        0 non-null      object        \n",
      " 40  field_3212_geolocation                                    0 non-null      object        \n",
      " 41  field_3215                                                880 non-null    object        \n",
      " 42  field_3216                                                0 non-null      object        \n",
      " 43  field_3433                                                880 non-null    object        \n",
      " 44  field_3434                                                0 non-null      object        \n",
      " 45  field_3908                                                777 non-null    object        \n",
      " 46  field_3909                                                730 non-null    object        \n",
      " 47  field_3910                                                766 non-null    object        \n",
      " 48  field_2899                                                880 non-null    object        \n",
      " 49  Unnamed: 33                                               880 non-null    object        \n",
      "dtypes: datetime64[ns](3), float64(2), int64(3), object(42)\n",
      "memory usage: 359.5+ KB\n"
     ]
    }
   ],
   "source": [
    "placemerge = place.merge(indprof,how='left',on='Individual2')\n",
    "placemerge.info()"
   ]
  },
  {
   "cell_type": "code",
   "execution_count": 26,
   "id": "0246c3f7-29b9-4edc-afa5-50e0ad0d6ac5",
   "metadata": {},
   "outputs": [],
   "source": [
    "placemerge.to_excel(r'redacted file path\\exports\\end month report1.xlsx')"
   ]
  },
  {
   "cell_type": "code",
   "execution_count": null,
   "id": "a63998d0-fb1d-4f07-9676-2621b764aef3",
   "metadata": {},
   "outputs": [],
   "source": [
    "comm = pd.read_excel(r'redacted file path\\Client Community Activity - unformatted.xlsx')"
   ]
  },
  {
   "cell_type": "markdown",
   "id": "c9bd50f3-b457-4121-8bf1-54ed06e6d57c",
   "metadata": {},
   "source": [
    "Merge dda case info and individual profile data together\n",
    "\n",
    "this was very messy so I just did it manually, hence the commented code"
   ]
  },
  {
   "cell_type": "code",
   "execution_count": 10,
   "id": "e76c71d1-74f4-4b25-b0b6-dc4026f8a14d",
   "metadata": {},
   "outputs": [],
   "source": [
    "ddacase = pd.read_excel(r'redacted file path\\DDA Case info - unformatted.xlsx')\n",
    "\n",
    "# split out the contents of the client column on the ;# and add the split values to the newly created individual column\n",
    "ddacase[['Individual','Individual2']] = ddacase['Individual'].str.split(';#', expand=True)\n",
    "\n",
    "# sort the individual column values alphabetically\n",
    "ddacase = ddacase.sort_values('Individual2',ascending=True)\n",
    "\n",
    "# the key value had a space in it, so needed to remove that space\n",
    "ddacase['Individual2'] = ddacase['Individual2'].str.replace(', ',',')"
   ]
  },
  {
   "cell_type": "code",
   "execution_count": 11,
   "id": "120b3989-a0e0-4adf-8307-0d647445262f",
   "metadata": {},
   "outputs": [],
   "source": [
    "# people2 = pd.read_excel(r'redacted file path\\exports\\people merge2.xlsx')\n",
    "# people3 = people2[['Last Name_x','First Name_x','Date of Birth','Full Name']].copy()"
   ]
  },
  {
   "cell_type": "code",
   "execution_count": 12,
   "id": "2204929e-0b3a-4bc2-9402-cb3ea1ec17e8",
   "metadata": {
    "scrolled": true
   },
   "outputs": [
    {
     "data": {
      "text/html": [
       "<div>\n",
       "<style scoped>\n",
       "    .dataframe tbody tr th:only-of-type {\n",
       "        vertical-align: middle;\n",
       "    }\n",
       "\n",
       "    .dataframe tbody tr th {\n",
       "        vertical-align: top;\n",
       "    }\n",
       "\n",
       "    .dataframe thead th {\n",
       "        text-align: right;\n",
       "    }\n",
       "</style>\n",
       "<table border=\"1\" class=\"dataframe\">\n",
       "  <thead>\n",
       "    <tr style=\"text-align: right;\">\n",
       "      <th></th>\n",
       "      <th>Title</th>\n",
       "      <th>Individual</th>\n",
       "      <th>Date</th>\n",
       "      <th>DDA Case File Number</th>\n",
       "      <th>Funding Code</th>\n",
       "      <th>Acuity Level</th>\n",
       "      <th>End Date</th>\n",
       "      <th>Date of Annual Plan</th>\n",
       "      <th>6 Month Review Due Date</th>\n",
       "      <th>Item Type</th>\n",
       "      <th>Path</th>\n",
       "      <th>Individual2</th>\n",
       "      <th>Last Name_x</th>\n",
       "      <th>First Name_x</th>\n",
       "      <th>Date of Birth</th>\n",
       "      <th>Full Name</th>\n",
       "    </tr>\n",
       "  </thead>\n",
       "  <tbody>\n",
       "    <tr>\n",
       "      <th>0</th>\n",
       "      <td>View</td>\n",
       "      <td>1533</td>\n",
       "      <td>2023-10-26</td>\n",
       "      <td>773156.0</td>\n",
       "      <td>Basic Plus</td>\n",
       "      <td>Medium</td>\n",
       "      <td>NaT</td>\n",
       "      <td>NaT</td>\n",
       "      <td>1900-06-30</td>\n",
       "      <td>Item</td>\n",
       "      <td>Lists/DDACaseInfo</td>\n",
       "      <td>Adams,Melissa</td>\n",
       "      <td>Adams</td>\n",
       "      <td>Melissa</td>\n",
       "      <td>1987-08-31 00:00:00</td>\n",
       "      <td>Adams,Melissa</td>\n",
       "    </tr>\n",
       "    <tr>\n",
       "      <th>1</th>\n",
       "      <td>View</td>\n",
       "      <td>1012</td>\n",
       "      <td>2020-05-11</td>\n",
       "      <td>772403.0</td>\n",
       "      <td>Basic Plus</td>\n",
       "      <td>Low</td>\n",
       "      <td>NaT</td>\n",
       "      <td>2023-06-01</td>\n",
       "      <td>2023-11-30</td>\n",
       "      <td>Item</td>\n",
       "      <td>Lists/DDACaseInfo</td>\n",
       "      <td>Akers,Laura</td>\n",
       "      <td>Akers</td>\n",
       "      <td>Laura</td>\n",
       "      <td>1978-09-25 00:00:00</td>\n",
       "      <td>Akers,Laura</td>\n",
       "    </tr>\n",
       "    <tr>\n",
       "      <th>2</th>\n",
       "      <td>View</td>\n",
       "      <td>307</td>\n",
       "      <td>2016-09-28</td>\n",
       "      <td>872605.0</td>\n",
       "      <td>Basic Plus</td>\n",
       "      <td>High</td>\n",
       "      <td>NaT</td>\n",
       "      <td>2023-01-07</td>\n",
       "      <td>2023-07-08</td>\n",
       "      <td>Item</td>\n",
       "      <td>Lists/DDACaseInfo</td>\n",
       "      <td>Almgren,Anders</td>\n",
       "      <td>Almgren</td>\n",
       "      <td>Anders</td>\n",
       "      <td>1981-10-31 00:00:00</td>\n",
       "      <td>Almgren,Anders</td>\n",
       "    </tr>\n",
       "  </tbody>\n",
       "</table>\n",
       "</div>"
      ],
      "text/plain": [
       "  Title Individual       Date  DDA Case File Number Funding Code Acuity Level  \\\n",
       "0  View       1533 2023-10-26              773156.0   Basic Plus       Medium   \n",
       "1  View       1012 2020-05-11              772403.0   Basic Plus          Low   \n",
       "2  View        307 2016-09-28              872605.0   Basic Plus         High   \n",
       "\n",
       "  End Date Date of Annual Plan 6 Month Review Due Date Item Type  \\\n",
       "0      NaT                 NaT              1900-06-30      Item   \n",
       "1      NaT          2023-06-01              2023-11-30      Item   \n",
       "2      NaT          2023-01-07              2023-07-08      Item   \n",
       "\n",
       "                Path     Individual2 Last Name_x First Name_x  \\\n",
       "0  Lists/DDACaseInfo   Adams,Melissa       Adams      Melissa   \n",
       "1  Lists/DDACaseInfo     Akers,Laura       Akers        Laura   \n",
       "2  Lists/DDACaseInfo  Almgren,Anders     Almgren       Anders   \n",
       "\n",
       "         Date of Birth       Full Name  \n",
       "0  1987-08-31 00:00:00   Adams,Melissa  \n",
       "1  1978-09-25 00:00:00     Akers,Laura  \n",
       "2  1981-10-31 00:00:00  Almgren,Anders  "
      ]
     },
     "execution_count": 12,
     "metadata": {},
     "output_type": "execute_result"
    }
   ],
   "source": [
    "# ddacasemerge = ddacase.merge(people3,how='left',left_on='Individual2',right_on='Full Name')"
   ]
  },
  {
   "cell_type": "code",
   "execution_count": 13,
   "id": "fee2a3cb-5ff6-4a39-8aee-2806cc8703d2",
   "metadata": {},
   "outputs": [],
   "source": [
    "# ddacasemerge2 = ddacasemerge[['Last Name_x','First Name_x','Date of Birth','DDA Case File Number','Funding Code','Acuity Level']].copy()"
   ]
  },
  {
   "cell_type": "code",
   "execution_count": 14,
   "id": "24eaee68-22b6-476f-a1dc-e56cad3701b9",
   "metadata": {
    "scrolled": true
   },
   "outputs": [
    {
     "data": {
      "text/html": [
       "<div>\n",
       "<style scoped>\n",
       "    .dataframe tbody tr th:only-of-type {\n",
       "        vertical-align: middle;\n",
       "    }\n",
       "\n",
       "    .dataframe tbody tr th {\n",
       "        vertical-align: top;\n",
       "    }\n",
       "\n",
       "    .dataframe thead th {\n",
       "        text-align: right;\n",
       "    }\n",
       "</style>\n",
       "<table border=\"1\" class=\"dataframe\">\n",
       "  <thead>\n",
       "    <tr style=\"text-align: right;\">\n",
       "      <th></th>\n",
       "      <th>System Header Row\\nDO NOT DELETE THIS ROW\\nOR THIS COLUMN!</th>\n",
       "      <th>field_3436_first</th>\n",
       "      <th>field_3436_middle</th>\n",
       "      <th>field_3436_last</th>\n",
       "      <th>field_3195</th>\n",
       "      <th>field_3848</th>\n",
       "      <th>field_2893_first</th>\n",
       "      <th>field_2893_middle</th>\n",
       "      <th>field_2893_last</th>\n",
       "      <th>field_3194</th>\n",
       "      <th>...</th>\n",
       "      <th>field_3212_country</th>\n",
       "      <th>field_3212_geolocation</th>\n",
       "      <th>field_3215</th>\n",
       "      <th>field_3216</th>\n",
       "      <th>field_3433</th>\n",
       "      <th>field_3434</th>\n",
       "      <th>field_3908</th>\n",
       "      <th>field_3909</th>\n",
       "      <th>field_3910</th>\n",
       "      <th>field_2899</th>\n",
       "    </tr>\n",
       "  </thead>\n",
       "  <tbody>\n",
       "    <tr>\n",
       "      <th>1</th>\n",
       "      <td>NaN</td>\n",
       "      <td>Besharo</td>\n",
       "      <td>NaN</td>\n",
       "      <td>Abduwahab</td>\n",
       "      <td>8/30/2000</td>\n",
       "      <td>NaN</td>\n",
       "      <td>Besharo</td>\n",
       "      <td>NaN</td>\n",
       "      <td>Abduwahab</td>\n",
       "      <td>NaN</td>\n",
       "      <td>...</td>\n",
       "      <td>NaN</td>\n",
       "      <td>NaN</td>\n",
       "      <td>No</td>\n",
       "      <td>NaN</td>\n",
       "      <td>No</td>\n",
       "      <td>NaN</td>\n",
       "      <td>NaN</td>\n",
       "      <td>NaN</td>\n",
       "      <td>NaN</td>\n",
       "      <td>Auburn</td>\n",
       "    </tr>\n",
       "    <tr>\n",
       "      <th>2</th>\n",
       "      <td>NaN</td>\n",
       "      <td>Noah</td>\n",
       "      <td>NaN</td>\n",
       "      <td>Abraham</td>\n",
       "      <td>4/2/1972</td>\n",
       "      <td>NaN</td>\n",
       "      <td>Noah</td>\n",
       "      <td>NaN</td>\n",
       "      <td>Abraham</td>\n",
       "      <td>NaN</td>\n",
       "      <td>...</td>\n",
       "      <td>NaN</td>\n",
       "      <td>NaN</td>\n",
       "      <td>No</td>\n",
       "      <td>NaN</td>\n",
       "      <td>No</td>\n",
       "      <td>NaN</td>\n",
       "      <td>NaN</td>\n",
       "      <td>NaN</td>\n",
       "      <td>NaN</td>\n",
       "      <td>Auburn</td>\n",
       "    </tr>\n",
       "    <tr>\n",
       "      <th>3</th>\n",
       "      <td>NaN</td>\n",
       "      <td>Rebecca</td>\n",
       "      <td>NaN</td>\n",
       "      <td>Acosta</td>\n",
       "      <td>5/1/1979</td>\n",
       "      <td>NaN</td>\n",
       "      <td>Rebecca</td>\n",
       "      <td>NaN</td>\n",
       "      <td>Acosta</td>\n",
       "      <td>NaN</td>\n",
       "      <td>...</td>\n",
       "      <td>NaN</td>\n",
       "      <td>NaN</td>\n",
       "      <td>No</td>\n",
       "      <td>NaN</td>\n",
       "      <td>No</td>\n",
       "      <td>NaN</td>\n",
       "      <td>NaN</td>\n",
       "      <td>NaN</td>\n",
       "      <td>NaN</td>\n",
       "      <td>NaN</td>\n",
       "    </tr>\n",
       "    <tr>\n",
       "      <th>4</th>\n",
       "      <td>NaN</td>\n",
       "      <td>Jnean</td>\n",
       "      <td>NaN</td>\n",
       "      <td>Acteson</td>\n",
       "      <td>5/22/1980</td>\n",
       "      <td>NaN</td>\n",
       "      <td>Jnean</td>\n",
       "      <td>NaN</td>\n",
       "      <td>Acteson</td>\n",
       "      <td>NaN</td>\n",
       "      <td>...</td>\n",
       "      <td>NaN</td>\n",
       "      <td>NaN</td>\n",
       "      <td>No</td>\n",
       "      <td>NaN</td>\n",
       "      <td>No</td>\n",
       "      <td>NaN</td>\n",
       "      <td>NaN</td>\n",
       "      <td>NaN</td>\n",
       "      <td>NaN</td>\n",
       "      <td>Auburn</td>\n",
       "    </tr>\n",
       "    <tr>\n",
       "      <th>5</th>\n",
       "      <td>NaN</td>\n",
       "      <td>Chris</td>\n",
       "      <td>NaN</td>\n",
       "      <td>Adair</td>\n",
       "      <td>11/26/1995</td>\n",
       "      <td>NaN</td>\n",
       "      <td>Chris</td>\n",
       "      <td>NaN</td>\n",
       "      <td>Adair</td>\n",
       "      <td>NaN</td>\n",
       "      <td>...</td>\n",
       "      <td>NaN</td>\n",
       "      <td>NaN</td>\n",
       "      <td>No</td>\n",
       "      <td>NaN</td>\n",
       "      <td>No</td>\n",
       "      <td>NaN</td>\n",
       "      <td>NaN</td>\n",
       "      <td>NaN</td>\n",
       "      <td>NaN</td>\n",
       "      <td>NaN</td>\n",
       "    </tr>\n",
       "    <tr>\n",
       "      <th>...</th>\n",
       "      <td>...</td>\n",
       "      <td>...</td>\n",
       "      <td>...</td>\n",
       "      <td>...</td>\n",
       "      <td>...</td>\n",
       "      <td>...</td>\n",
       "      <td>...</td>\n",
       "      <td>...</td>\n",
       "      <td>...</td>\n",
       "      <td>...</td>\n",
       "      <td>...</td>\n",
       "      <td>...</td>\n",
       "      <td>...</td>\n",
       "      <td>...</td>\n",
       "      <td>...</td>\n",
       "      <td>...</td>\n",
       "      <td>...</td>\n",
       "      <td>...</td>\n",
       "      <td>...</td>\n",
       "      <td>...</td>\n",
       "      <td>...</td>\n",
       "    </tr>\n",
       "    <tr>\n",
       "      <th>1407</th>\n",
       "      <td>NaN</td>\n",
       "      <td>Janet</td>\n",
       "      <td>NaN</td>\n",
       "      <td>Zello</td>\n",
       "      <td>3/29/1993</td>\n",
       "      <td>NaN</td>\n",
       "      <td>Janet</td>\n",
       "      <td>NaN</td>\n",
       "      <td>Zello</td>\n",
       "      <td>NaN</td>\n",
       "      <td>...</td>\n",
       "      <td>NaN</td>\n",
       "      <td>NaN</td>\n",
       "      <td>No</td>\n",
       "      <td>NaN</td>\n",
       "      <td>No</td>\n",
       "      <td>NaN</td>\n",
       "      <td>NaN</td>\n",
       "      <td>NaN</td>\n",
       "      <td>NaN</td>\n",
       "      <td>NaN</td>\n",
       "    </tr>\n",
       "    <tr>\n",
       "      <th>1408</th>\n",
       "      <td>NaN</td>\n",
       "      <td>Tevin</td>\n",
       "      <td>NaN</td>\n",
       "      <td>Zeno</td>\n",
       "      <td>2/21/1991</td>\n",
       "      <td>NaN</td>\n",
       "      <td>Tevin</td>\n",
       "      <td>NaN</td>\n",
       "      <td>Zeno</td>\n",
       "      <td>NaN</td>\n",
       "      <td>...</td>\n",
       "      <td>NaN</td>\n",
       "      <td>NaN</td>\n",
       "      <td>No</td>\n",
       "      <td>NaN</td>\n",
       "      <td>No</td>\n",
       "      <td>NaN</td>\n",
       "      <td>NaN</td>\n",
       "      <td>NaN</td>\n",
       "      <td>NaN</td>\n",
       "      <td>Auburn</td>\n",
       "    </tr>\n",
       "    <tr>\n",
       "      <th>1409</th>\n",
       "      <td>NaN</td>\n",
       "      <td>Manuel</td>\n",
       "      <td>NaN</td>\n",
       "      <td>Zepeda</td>\n",
       "      <td>9/6/1980</td>\n",
       "      <td>NaN</td>\n",
       "      <td>Manuel</td>\n",
       "      <td>NaN</td>\n",
       "      <td>Zepeda</td>\n",
       "      <td>NaN</td>\n",
       "      <td>...</td>\n",
       "      <td>NaN</td>\n",
       "      <td>NaN</td>\n",
       "      <td>No</td>\n",
       "      <td>NaN</td>\n",
       "      <td>No</td>\n",
       "      <td>NaN</td>\n",
       "      <td>NaN</td>\n",
       "      <td>NaN</td>\n",
       "      <td>NaN</td>\n",
       "      <td>Auburn</td>\n",
       "    </tr>\n",
       "    <tr>\n",
       "      <th>1410</th>\n",
       "      <td>NaN</td>\n",
       "      <td>Edwin</td>\n",
       "      <td>NaN</td>\n",
       "      <td>Zhang</td>\n",
       "      <td>10/30/1998</td>\n",
       "      <td>NaN</td>\n",
       "      <td>Edwin</td>\n",
       "      <td>NaN</td>\n",
       "      <td>Zhang</td>\n",
       "      <td>NaN</td>\n",
       "      <td>...</td>\n",
       "      <td>NaN</td>\n",
       "      <td>NaN</td>\n",
       "      <td>No</td>\n",
       "      <td>NaN</td>\n",
       "      <td>No</td>\n",
       "      <td>NaN</td>\n",
       "      <td>NaN</td>\n",
       "      <td>NaN</td>\n",
       "      <td>NaN</td>\n",
       "      <td>Mukilteo</td>\n",
       "    </tr>\n",
       "    <tr>\n",
       "      <th>1411</th>\n",
       "      <td>NaN</td>\n",
       "      <td>Yuqing</td>\n",
       "      <td>NaN</td>\n",
       "      <td>Zhang</td>\n",
       "      <td>2/12/1978</td>\n",
       "      <td>NaN</td>\n",
       "      <td>Yuqing</td>\n",
       "      <td>NaN</td>\n",
       "      <td>Zhang</td>\n",
       "      <td>NaN</td>\n",
       "      <td>...</td>\n",
       "      <td>NaN</td>\n",
       "      <td>NaN</td>\n",
       "      <td>No</td>\n",
       "      <td>NaN</td>\n",
       "      <td>No</td>\n",
       "      <td>NaN</td>\n",
       "      <td>NaN</td>\n",
       "      <td>NaN</td>\n",
       "      <td>NaN</td>\n",
       "      <td>Auburn</td>\n",
       "    </tr>\n",
       "  </tbody>\n",
       "</table>\n",
       "<p>1411 rows × 33 columns</p>\n",
       "</div>"
      ],
      "text/plain": [
       "     System Header Row\\nDO NOT DELETE THIS ROW\\nOR THIS COLUMN!  \\\n",
       "1                                                   NaN           \n",
       "2                                                   NaN           \n",
       "3                                                   NaN           \n",
       "4                                                   NaN           \n",
       "5                                                   NaN           \n",
       "...                                                 ...           \n",
       "1407                                                NaN           \n",
       "1408                                                NaN           \n",
       "1409                                                NaN           \n",
       "1410                                                NaN           \n",
       "1411                                                NaN           \n",
       "\n",
       "     field_3436_first field_3436_middle field_3436_last  field_3195  \\\n",
       "1             Besharo               NaN       Abduwahab   8/30/2000   \n",
       "2                Noah               NaN         Abraham    4/2/1972   \n",
       "3             Rebecca               NaN          Acosta    5/1/1979   \n",
       "4               Jnean               NaN         Acteson   5/22/1980   \n",
       "5               Chris               NaN           Adair  11/26/1995   \n",
       "...               ...               ...             ...         ...   \n",
       "1407            Janet               NaN           Zello   3/29/1993   \n",
       "1408            Tevin               NaN            Zeno   2/21/1991   \n",
       "1409           Manuel               NaN          Zepeda    9/6/1980   \n",
       "1410            Edwin               NaN           Zhang  10/30/1998   \n",
       "1411           Yuqing               NaN           Zhang   2/12/1978   \n",
       "\n",
       "     field_3848 field_2893_first field_2893_middle field_2893_last field_3194  \\\n",
       "1           NaN          Besharo               NaN       Abduwahab        NaN   \n",
       "2           NaN             Noah               NaN         Abraham        NaN   \n",
       "3           NaN          Rebecca               NaN          Acosta        NaN   \n",
       "4           NaN            Jnean               NaN         Acteson        NaN   \n",
       "5           NaN            Chris               NaN           Adair        NaN   \n",
       "...         ...              ...               ...             ...        ...   \n",
       "1407        NaN            Janet               NaN           Zello        NaN   \n",
       "1408        NaN            Tevin               NaN            Zeno        NaN   \n",
       "1409        NaN           Manuel               NaN          Zepeda        NaN   \n",
       "1410        NaN            Edwin               NaN           Zhang        NaN   \n",
       "1411        NaN           Yuqing               NaN           Zhang        NaN   \n",
       "\n",
       "      ... field_3212_country field_3212_geolocation field_3215 field_3216  \\\n",
       "1     ...                NaN                    NaN         No        NaN   \n",
       "2     ...                NaN                    NaN         No        NaN   \n",
       "3     ...                NaN                    NaN         No        NaN   \n",
       "4     ...                NaN                    NaN         No        NaN   \n",
       "5     ...                NaN                    NaN         No        NaN   \n",
       "...   ...                ...                    ...        ...        ...   \n",
       "1407  ...                NaN                    NaN         No        NaN   \n",
       "1408  ...                NaN                    NaN         No        NaN   \n",
       "1409  ...                NaN                    NaN         No        NaN   \n",
       "1410  ...                NaN                    NaN         No        NaN   \n",
       "1411  ...                NaN                    NaN         No        NaN   \n",
       "\n",
       "     field_3433 field_3434 field_3908 field_3909 field_3910 field_2899  \n",
       "1            No        NaN        NaN        NaN        NaN     Auburn  \n",
       "2            No        NaN        NaN        NaN        NaN     Auburn  \n",
       "3            No        NaN        NaN        NaN        NaN        NaN  \n",
       "4            No        NaN        NaN        NaN        NaN     Auburn  \n",
       "5            No        NaN        NaN        NaN        NaN        NaN  \n",
       "...         ...        ...        ...        ...        ...        ...  \n",
       "1407         No        NaN        NaN        NaN        NaN        NaN  \n",
       "1408         No        NaN        NaN        NaN        NaN     Auburn  \n",
       "1409         No        NaN        NaN        NaN        NaN     Auburn  \n",
       "1410         No        NaN        NaN        NaN        NaN   Mukilteo  \n",
       "1411         No        NaN        NaN        NaN        NaN     Auburn  \n",
       "\n",
       "[1411 rows x 33 columns]"
      ]
     },
     "execution_count": 14,
     "metadata": {},
     "output_type": "execute_result"
    }
   ],
   "source": [
    "# indprof = pd.read_csv(r'redacted file path\\for import\\IndividualProfile import1 unreviewed.csv')\n",
    "# indprof = indprof.iloc[1:]"
   ]
  },
  {
   "cell_type": "code",
   "execution_count": 15,
   "id": "058e784f-5bd7-4a4d-9e34-1ad0bdf7e8ef",
   "metadata": {
    "scrolled": true
   },
   "outputs": [
    {
     "name": "stdout",
     "output_type": "stream",
     "text": [
      "<class 'pandas.core.frame.DataFrame'>\n",
      "RangeIndex: 1411 entries, 0 to 1410\n",
      "Data columns (total 39 columns):\n",
      " #   Column                                                    Non-Null Count  Dtype  \n",
      "---  ------                                                    --------------  -----  \n",
      " 0   System Header Row\n",
      "DO NOT DELETE THIS ROW\n",
      "OR THIS COLUMN!  0 non-null      object \n",
      " 1   field_3436_first                                          1411 non-null   object \n",
      " 2   field_3436_middle                                         0 non-null      object \n",
      " 3   field_3436_last                                           1411 non-null   object \n",
      " 4   field_3195                                                1215 non-null   object \n",
      " 5   field_3848                                                0 non-null      object \n",
      " 6   field_2893_first                                          1411 non-null   object \n",
      " 7   field_2893_middle                                         0 non-null      object \n",
      " 8   field_2893_last                                           1411 non-null   object \n",
      " 9   field_3194                                                0 non-null      object \n",
      " 10  field_3958                                                0 non-null      object \n",
      " 11  field_3211                                                0 non-null      object \n",
      " 12  field_3381                                                1054 non-null   object \n",
      " 13  field_3382                                                0 non-null      object \n",
      " 14  field_3210                                                0 non-null      object \n",
      " 15  field_3437                                                0 non-null      object \n",
      " 16  field_3212_line1                                          1057 non-null   object \n",
      " 17  field_3212_line2                                          0 non-null      object \n",
      " 18  field_3212_neighborhood                                   0 non-null      object \n",
      " 19  field_3212_city                                           1313 non-null   object \n",
      " 20  field_3212_state                                          1329 non-null   object \n",
      " 21  field_3212_county                                         0 non-null      object \n",
      " 22  field_3212_zip                                            1278 non-null   object \n",
      " 23  field_3212_country                                        0 non-null      object \n",
      " 24  field_3212_geolocation                                    0 non-null      object \n",
      " 25  field_3215                                                1411 non-null   object \n",
      " 26  field_3216                                                0 non-null      object \n",
      " 27  field_3433                                                1411 non-null   object \n",
      " 28  field_3434                                                0 non-null      object \n",
      " 29  field_3908                                                0 non-null      object \n",
      " 30  field_3909                                                0 non-null      object \n",
      " 31  field_3910                                                0 non-null      object \n",
      " 32  field_2899                                                1094 non-null   object \n",
      " 33  Last Name_x                                               8 non-null      object \n",
      " 34  First Name_x                                              8 non-null      object \n",
      " 35  Date of Birth                                             0 non-null      object \n",
      " 36  DDA Case File Number                                      7 non-null      float64\n",
      " 37  Funding Code                                              8 non-null      object \n",
      " 38  Acuity Level                                              5 non-null      object \n",
      "dtypes: float64(1), object(38)\n",
      "memory usage: 430.0+ KB\n"
     ]
    }
   ],
   "source": [
    "# indprofmerge = indprof.merge(ddacasemerge2,how='left',\n",
    "#                              left_on=['field_3436_first','field_3436_last','field_3195'],\n",
    "#                             right_on=['First Name_x','Last Name_x','Date of Birth'])\n",
    "# indprofmerge.info()"
   ]
  },
  {
   "cell_type": "code",
   "execution_count": 16,
   "id": "f3a952dc-7140-45df-9d51-c3891557a21b",
   "metadata": {
    "scrolled": true
   },
   "outputs": [
    {
     "data": {
      "text/html": [
       "<div>\n",
       "<style scoped>\n",
       "    .dataframe tbody tr th:only-of-type {\n",
       "        vertical-align: middle;\n",
       "    }\n",
       "\n",
       "    .dataframe tbody tr th {\n",
       "        vertical-align: top;\n",
       "    }\n",
       "\n",
       "    .dataframe thead th {\n",
       "        text-align: right;\n",
       "    }\n",
       "</style>\n",
       "<table border=\"1\" class=\"dataframe\">\n",
       "  <thead>\n",
       "    <tr style=\"text-align: right;\">\n",
       "      <th></th>\n",
       "      <th>System Header Row\\nDO NOT DELETE THIS ROW\\nOR THIS COLUMN!</th>\n",
       "      <th>field_3436_first</th>\n",
       "      <th>field_3436_middle</th>\n",
       "      <th>field_3436_last</th>\n",
       "      <th>field_3195</th>\n",
       "      <th>field_3848</th>\n",
       "      <th>field_2893_first</th>\n",
       "      <th>field_2893_middle</th>\n",
       "      <th>field_2893_last</th>\n",
       "      <th>field_3194</th>\n",
       "      <th>...</th>\n",
       "      <th>field_3908</th>\n",
       "      <th>field_3909</th>\n",
       "      <th>field_3910</th>\n",
       "      <th>field_2899</th>\n",
       "      <th>Last Name_x</th>\n",
       "      <th>First Name_x</th>\n",
       "      <th>Date of Birth</th>\n",
       "      <th>DDA Case File Number</th>\n",
       "      <th>Funding Code</th>\n",
       "      <th>Acuity Level</th>\n",
       "    </tr>\n",
       "  </thead>\n",
       "  <tbody>\n",
       "    <tr>\n",
       "      <th>78</th>\n",
       "      <td>NaN</td>\n",
       "      <td>Dominick</td>\n",
       "      <td>NaN</td>\n",
       "      <td>Bailey</td>\n",
       "      <td>NaN</td>\n",
       "      <td>NaN</td>\n",
       "      <td>Dominick</td>\n",
       "      <td>NaN</td>\n",
       "      <td>Bailey</td>\n",
       "      <td>NaN</td>\n",
       "      <td>...</td>\n",
       "      <td>NaN</td>\n",
       "      <td>NaN</td>\n",
       "      <td>NaN</td>\n",
       "      <td>Mukilteo</td>\n",
       "      <td>Bailey</td>\n",
       "      <td>Dominick</td>\n",
       "      <td>NaN</td>\n",
       "      <td>445246.0</td>\n",
       "      <td>Basic Plus</td>\n",
       "      <td>Medium</td>\n",
       "    </tr>\n",
       "    <tr>\n",
       "      <th>79</th>\n",
       "      <td>NaN</td>\n",
       "      <td>Dominick</td>\n",
       "      <td>NaN</td>\n",
       "      <td>Bailey</td>\n",
       "      <td>NaN</td>\n",
       "      <td>NaN</td>\n",
       "      <td>Dominick</td>\n",
       "      <td>NaN</td>\n",
       "      <td>Bailey</td>\n",
       "      <td>NaN</td>\n",
       "      <td>...</td>\n",
       "      <td>NaN</td>\n",
       "      <td>NaN</td>\n",
       "      <td>NaN</td>\n",
       "      <td>Mukilteo</td>\n",
       "      <td>Bailey</td>\n",
       "      <td>Dominick</td>\n",
       "      <td>NaN</td>\n",
       "      <td>445246.0</td>\n",
       "      <td>Basic Plus</td>\n",
       "      <td>Medium</td>\n",
       "    </tr>\n",
       "    <tr>\n",
       "      <th>171</th>\n",
       "      <td>NaN</td>\n",
       "      <td>Michael</td>\n",
       "      <td>NaN</td>\n",
       "      <td>Bryant</td>\n",
       "      <td>NaN</td>\n",
       "      <td>NaN</td>\n",
       "      <td>Michael</td>\n",
       "      <td>NaN</td>\n",
       "      <td>Bryant</td>\n",
       "      <td>NaN</td>\n",
       "      <td>...</td>\n",
       "      <td>NaN</td>\n",
       "      <td>NaN</td>\n",
       "      <td>NaN</td>\n",
       "      <td>Mukilteo</td>\n",
       "      <td>Bryant</td>\n",
       "      <td>Michael</td>\n",
       "      <td>NaN</td>\n",
       "      <td>750285.0</td>\n",
       "      <td>Core</td>\n",
       "      <td>NaN</td>\n",
       "    </tr>\n",
       "    <tr>\n",
       "      <th>485</th>\n",
       "      <td>NaN</td>\n",
       "      <td>Annika</td>\n",
       "      <td>NaN</td>\n",
       "      <td>Hagemeier</td>\n",
       "      <td>NaN</td>\n",
       "      <td>NaN</td>\n",
       "      <td>Annika</td>\n",
       "      <td>NaN</td>\n",
       "      <td>Hagemeier</td>\n",
       "      <td>NaN</td>\n",
       "      <td>...</td>\n",
       "      <td>NaN</td>\n",
       "      <td>NaN</td>\n",
       "      <td>NaN</td>\n",
       "      <td>Mukilteo</td>\n",
       "      <td>Hagemeier</td>\n",
       "      <td>Annika</td>\n",
       "      <td>NaN</td>\n",
       "      <td>876318.0</td>\n",
       "      <td>School to Work</td>\n",
       "      <td>NaN</td>\n",
       "    </tr>\n",
       "    <tr>\n",
       "      <th>1017</th>\n",
       "      <td>NaN</td>\n",
       "      <td>Tatum</td>\n",
       "      <td>NaN</td>\n",
       "      <td>Rehm</td>\n",
       "      <td>NaN</td>\n",
       "      <td>NaN</td>\n",
       "      <td>Tatum</td>\n",
       "      <td>NaN</td>\n",
       "      <td>Rehm</td>\n",
       "      <td>NaN</td>\n",
       "      <td>...</td>\n",
       "      <td>NaN</td>\n",
       "      <td>NaN</td>\n",
       "      <td>NaN</td>\n",
       "      <td>Mukilteo</td>\n",
       "      <td>Rehm</td>\n",
       "      <td>Tatum</td>\n",
       "      <td>NaN</td>\n",
       "      <td>NaN</td>\n",
       "      <td>School to Work</td>\n",
       "      <td>NaN</td>\n",
       "    </tr>\n",
       "    <tr>\n",
       "      <th>1040</th>\n",
       "      <td>NaN</td>\n",
       "      <td>Dennis</td>\n",
       "      <td>NaN</td>\n",
       "      <td>Rockwell</td>\n",
       "      <td>NaN</td>\n",
       "      <td>NaN</td>\n",
       "      <td>Dennis</td>\n",
       "      <td>NaN</td>\n",
       "      <td>Rockwell</td>\n",
       "      <td>NaN</td>\n",
       "      <td>...</td>\n",
       "      <td>NaN</td>\n",
       "      <td>NaN</td>\n",
       "      <td>NaN</td>\n",
       "      <td>Mukilteo</td>\n",
       "      <td>Rockwell</td>\n",
       "      <td>Dennis</td>\n",
       "      <td>NaN</td>\n",
       "      <td>884390.0</td>\n",
       "      <td>Fircrest</td>\n",
       "      <td>Medium</td>\n",
       "    </tr>\n",
       "    <tr>\n",
       "      <th>1199</th>\n",
       "      <td>NaN</td>\n",
       "      <td>Desiree</td>\n",
       "      <td>NaN</td>\n",
       "      <td>Stuard</td>\n",
       "      <td>NaN</td>\n",
       "      <td>NaN</td>\n",
       "      <td>Desiree</td>\n",
       "      <td>NaN</td>\n",
       "      <td>Stuard</td>\n",
       "      <td>NaN</td>\n",
       "      <td>...</td>\n",
       "      <td>NaN</td>\n",
       "      <td>NaN</td>\n",
       "      <td>NaN</td>\n",
       "      <td>Mukilteo</td>\n",
       "      <td>Stuard</td>\n",
       "      <td>Desiree</td>\n",
       "      <td>NaN</td>\n",
       "      <td>864046.0</td>\n",
       "      <td>Basic Plus</td>\n",
       "      <td>Medium</td>\n",
       "    </tr>\n",
       "    <tr>\n",
       "      <th>1200</th>\n",
       "      <td>NaN</td>\n",
       "      <td>Desiree</td>\n",
       "      <td>NaN</td>\n",
       "      <td>Stuard</td>\n",
       "      <td>NaN</td>\n",
       "      <td>NaN</td>\n",
       "      <td>Desiree</td>\n",
       "      <td>NaN</td>\n",
       "      <td>Stuard</td>\n",
       "      <td>NaN</td>\n",
       "      <td>...</td>\n",
       "      <td>NaN</td>\n",
       "      <td>NaN</td>\n",
       "      <td>NaN</td>\n",
       "      <td>Mukilteo</td>\n",
       "      <td>Stuard</td>\n",
       "      <td>Desiree</td>\n",
       "      <td>NaN</td>\n",
       "      <td>864046.0</td>\n",
       "      <td>Basic Plus</td>\n",
       "      <td>Medium</td>\n",
       "    </tr>\n",
       "  </tbody>\n",
       "</table>\n",
       "<p>8 rows × 39 columns</p>\n",
       "</div>"
      ],
      "text/plain": [
       "     System Header Row\\nDO NOT DELETE THIS ROW\\nOR THIS COLUMN!  \\\n",
       "78                                                  NaN           \n",
       "79                                                  NaN           \n",
       "171                                                 NaN           \n",
       "485                                                 NaN           \n",
       "1017                                                NaN           \n",
       "1040                                                NaN           \n",
       "1199                                                NaN           \n",
       "1200                                                NaN           \n",
       "\n",
       "     field_3436_first field_3436_middle field_3436_last field_3195 field_3848  \\\n",
       "78           Dominick               NaN          Bailey        NaN        NaN   \n",
       "79           Dominick               NaN          Bailey        NaN        NaN   \n",
       "171           Michael               NaN          Bryant        NaN        NaN   \n",
       "485            Annika               NaN       Hagemeier        NaN        NaN   \n",
       "1017            Tatum               NaN            Rehm        NaN        NaN   \n",
       "1040           Dennis               NaN        Rockwell        NaN        NaN   \n",
       "1199          Desiree               NaN          Stuard        NaN        NaN   \n",
       "1200          Desiree               NaN          Stuard        NaN        NaN   \n",
       "\n",
       "     field_2893_first field_2893_middle field_2893_last field_3194  ...  \\\n",
       "78           Dominick               NaN          Bailey        NaN  ...   \n",
       "79           Dominick               NaN          Bailey        NaN  ...   \n",
       "171           Michael               NaN          Bryant        NaN  ...   \n",
       "485            Annika               NaN       Hagemeier        NaN  ...   \n",
       "1017            Tatum               NaN            Rehm        NaN  ...   \n",
       "1040           Dennis               NaN        Rockwell        NaN  ...   \n",
       "1199          Desiree               NaN          Stuard        NaN  ...   \n",
       "1200          Desiree               NaN          Stuard        NaN  ...   \n",
       "\n",
       "     field_3908 field_3909 field_3910 field_2899 Last Name_x First Name_x  \\\n",
       "78          NaN        NaN        NaN   Mukilteo      Bailey     Dominick   \n",
       "79          NaN        NaN        NaN   Mukilteo      Bailey     Dominick   \n",
       "171         NaN        NaN        NaN   Mukilteo      Bryant      Michael   \n",
       "485         NaN        NaN        NaN   Mukilteo   Hagemeier       Annika   \n",
       "1017        NaN        NaN        NaN   Mukilteo        Rehm        Tatum   \n",
       "1040        NaN        NaN        NaN   Mukilteo    Rockwell       Dennis   \n",
       "1199        NaN        NaN        NaN   Mukilteo      Stuard      Desiree   \n",
       "1200        NaN        NaN        NaN   Mukilteo      Stuard      Desiree   \n",
       "\n",
       "     Date of Birth DDA Case File Number    Funding Code Acuity Level  \n",
       "78             NaN             445246.0      Basic Plus       Medium  \n",
       "79             NaN             445246.0      Basic Plus       Medium  \n",
       "171            NaN             750285.0            Core          NaN  \n",
       "485            NaN             876318.0  School to Work          NaN  \n",
       "1017           NaN                  NaN  School to Work          NaN  \n",
       "1040           NaN             884390.0        Fircrest       Medium  \n",
       "1199           NaN             864046.0      Basic Plus       Medium  \n",
       "1200           NaN             864046.0      Basic Plus       Medium  \n",
       "\n",
       "[8 rows x 39 columns]"
      ]
     },
     "execution_count": 16,
     "metadata": {},
     "output_type": "execute_result"
    }
   ],
   "source": [
    "# remove = indprofmerge[indprofmerge['Last Name_x'].notna()]\n",
    "# remove"
   ]
  },
  {
   "cell_type": "code",
   "execution_count": 17,
   "id": "85c08bf7-fe05-447a-b2f9-a8cb7ac91e09",
   "metadata": {},
   "outputs": [],
   "source": [
    "# ddacasemerge3 = pd.merge(ddacasemerge2,remove,how='outer',\n",
    "#                          left_on=['First Name_x','Last Name_x','Date of Birth'],\n",
    "#                          right_on=['field_3436_first','field_3436_last','field_3195'])"
   ]
  },
  {
   "cell_type": "code",
   "execution_count": 18,
   "id": "05243017-f8e9-4812-bcce-05d815efd25f",
   "metadata": {},
   "outputs": [],
   "source": [
    "# indprofmerge.to_excel(r'redacted file path\\exports\\ind.xlsx')\n",
    "# remove.to_excel(r'redacted file path\\exports\\dda remove.xlsx')\n",
    "# ddacasemerge2.to_excel(r'redacted file path\\exports\\dda ind.xlsx')"
   ]
  },
  {
   "cell_type": "code",
   "execution_count": null,
   "id": "bf4e52fa-19ff-4ac5-8b34-266361757704",
   "metadata": {},
   "outputs": [],
   "source": []
  },
  {
   "cell_type": "code",
   "execution_count": null,
   "id": "54b4c345-7bf5-470a-b3fb-17e592654efd",
   "metadata": {},
   "outputs": [],
   "source": []
  },
  {
   "cell_type": "code",
   "execution_count": 51,
   "id": "6d6ceae6-fa22-41bf-8bac-372c02394aa3",
   "metadata": {},
   "outputs": [
    {
     "data": {
      "text/html": [
       "<div>\n",
       "<style scoped>\n",
       "    .dataframe tbody tr th:only-of-type {\n",
       "        vertical-align: middle;\n",
       "    }\n",
       "\n",
       "    .dataframe tbody tr th {\n",
       "        vertical-align: top;\n",
       "    }\n",
       "\n",
       "    .dataframe thead th {\n",
       "        text-align: right;\n",
       "    }\n",
       "</style>\n",
       "<table border=\"1\" class=\"dataframe\">\n",
       "  <thead>\n",
       "    <tr style=\"text-align: right;\">\n",
       "      <th></th>\n",
       "      <th>Client Alerts</th>\n",
       "    </tr>\n",
       "  </thead>\n",
       "  <tbody>\n",
       "    <tr>\n",
       "      <th>0</th>\n",
       "      <td>NaN</td>\n",
       "    </tr>\n",
       "    <tr>\n",
       "      <th>1</th>\n",
       "      <td>NaN</td>\n",
       "    </tr>\n",
       "    <tr>\n",
       "      <th>2</th>\n",
       "      <td>NaN</td>\n",
       "    </tr>\n",
       "    <tr>\n",
       "      <th>3</th>\n",
       "      <td>NaN</td>\n",
       "    </tr>\n",
       "    <tr>\n",
       "      <th>4</th>\n",
       "      <td>NaN</td>\n",
       "    </tr>\n",
       "    <tr>\n",
       "      <th>...</th>\n",
       "      <td>...</td>\n",
       "    </tr>\n",
       "    <tr>\n",
       "      <th>1406</th>\n",
       "      <td>NaN</td>\n",
       "    </tr>\n",
       "    <tr>\n",
       "      <th>1407</th>\n",
       "      <td>NaN</td>\n",
       "    </tr>\n",
       "    <tr>\n",
       "      <th>1408</th>\n",
       "      <td>NaN</td>\n",
       "    </tr>\n",
       "    <tr>\n",
       "      <th>1409</th>\n",
       "      <td>NaN</td>\n",
       "    </tr>\n",
       "    <tr>\n",
       "      <th>1410</th>\n",
       "      <td>NaN</td>\n",
       "    </tr>\n",
       "  </tbody>\n",
       "</table>\n",
       "<p>1411 rows × 1 columns</p>\n",
       "</div>"
      ],
      "text/plain": [
       "      Client Alerts\n",
       "0               NaN\n",
       "1               NaN\n",
       "2               NaN\n",
       "3               NaN\n",
       "4               NaN\n",
       "...             ...\n",
       "1406            NaN\n",
       "1407            NaN\n",
       "1408            NaN\n",
       "1409            NaN\n",
       "1410            NaN\n",
       "\n",
       "[1411 rows x 1 columns]"
      ]
     },
     "execution_count": 51,
     "metadata": {},
     "output_type": "execute_result"
    }
   ],
   "source": [
    "indprof['field_3848']"
   ]
  },
  {
   "cell_type": "code",
   "execution_count": null,
   "id": "1eace2b6-d4b3-4c68-99e4-cd448b27515b",
   "metadata": {},
   "outputs": [],
   "source": []
  },
  {
   "cell_type": "markdown",
   "id": "fff4bbad-0656-4512-ab60-30fef178238b",
   "metadata": {},
   "source": [
    "### Service funding staff"
   ]
  },
  {
   "cell_type": "code",
   "execution_count": 254,
   "id": "1592d38a-d26b-4fe2-ba82-b9c5d3475d11",
   "metadata": {
    "scrolled": true
   },
   "outputs": [],
   "source": [
    "fund = pd.read_excel(r'redacted file path\\Funding - unformatted.xlsx')\n",
    "\n",
    "# split out the contents of the client column on the ;# and add the split values to the newly created individual column\n",
    "fund[['Individual','Individual2']] = fund['Individual'].str.split(';#', expand=True)\n",
    "\n",
    "# sort the individual column values alphabetically\n",
    "fund = fund.sort_values('Individual2',ascending=True)\n",
    "\n",
    "# the key value had a space in it, so needed to remove that space\n",
    "fund['Individual2'] = fund['Individual2'].str.replace(', ',',')\n",
    "\n",
    "# remove test case rows\n",
    "fund = fund[~fund['Individual'].str.contains('test', case=False, na=False)].copy()\n",
    "\n",
    "# remove any text (within parethesis) to standardize names\n",
    "fund['Individual'] = fund['Individual'].replace(r'\\(.*?\\)','',regex=True).str.strip()\n",
    "\n",
    "fund['Individual'] = fund['Individual'].replace(r'\\\".*?\\\"','',regex=True).str.strip()"
   ]
  },
  {
   "cell_type": "code",
   "execution_count": 255,
   "id": "faa2d705-db65-467a-b0e0-52ea6b370312",
   "metadata": {},
   "outputs": [],
   "source": [
    "peepsmerge = merge6[[\n",
    "    'people_First Name',\n",
    "    'people_Last Name',\n",
    "    'demo_Date of Birth',\n",
    "    'people_Full Name'\n",
    "]].copy()\n",
    "\n",
    "peepsmerge['people_Full Name'] = peepsmerge['people_Full Name'].str.replace(', ',',')"
   ]
  },
  {
   "cell_type": "code",
   "execution_count": 256,
   "id": "9d873410-3910-4ee9-bbdb-a3bf9dc0b7f1",
   "metadata": {
    "scrolled": true
   },
   "outputs": [
    {
     "name": "stdout",
     "output_type": "stream",
     "text": [
      "<class 'pandas.core.frame.DataFrame'>\n",
      "RangeIndex: 1318 entries, 0 to 1317\n",
      "Data columns (total 35 columns):\n",
      " #   Column                           Non-Null Count  Dtype         \n",
      "---  ------                           --------------  -----         \n",
      " 0   Individual                       1318 non-null   object        \n",
      " 1   Venue                            1308 non-null   object        \n",
      " 2   Service                          1152 non-null   object        \n",
      " 3   Funding Source                   1295 non-null   object        \n",
      " 4   Start Date                       1316 non-null   datetime64[ns]\n",
      " 5   End Date                         1073 non-null   datetime64[ns]\n",
      " 6   Final Funding Amount             466 non-null    float64       \n",
      " 7   Projected End / Billing Date     742 non-null    datetime64[ns]\n",
      " 8   Projected Funding Amount         473 non-null    float64       \n",
      " 9   Staff                            1180 non-null   object        \n",
      " 10  Modified                         1318 non-null   datetime64[ns]\n",
      " 11  Date Billed - Intake             35 non-null     datetime64[ns]\n",
      " 12  Amount Billed - Intake           34 non-null     float64       \n",
      " 13  Date Billed - Activity           19 non-null     datetime64[ns]\n",
      " 14  Amount Billed - Activity         19 non-null     float64       \n",
      " 15  Date Billed - Outcome            29 non-null     datetime64[ns]\n",
      " 16  Amount Billed - Outcome          29 non-null     float64       \n",
      " 17  Billing - Bonus                  18 non-null     object        \n",
      " 18  Optional DVR Billing Tracking!!  328 non-null    object        \n",
      " 19  Content Type                     1318 non-null   object        \n",
      " 20  Created                          1318 non-null   datetime64[ns]\n",
      " 21  Created By                       1318 non-null   object        \n",
      " 22  Folder Child Count               1318 non-null   int64         \n",
      " 23  ID                               1318 non-null   int64         \n",
      " 24  Item Child Count                 1318 non-null   int64         \n",
      " 25  Modified By                      1318 non-null   object        \n",
      " 26  Title                            1318 non-null   object        \n",
      " 27  Type of Funding                  874 non-null    object        \n",
      " 28  Item Type                        1318 non-null   object        \n",
      " 29  Path                             1318 non-null   object        \n",
      " 30  Individual2                      1318 non-null   object        \n",
      " 31  people_First Name                775 non-null    object        \n",
      " 32  people_Last Name                 775 non-null    object        \n",
      " 33  demo_Date of Birth               730 non-null    object        \n",
      " 34  people_Full Name                 775 non-null    object        \n",
      "dtypes: datetime64[ns](8), float64(5), int64(3), object(19)\n",
      "memory usage: 360.5+ KB\n"
     ]
    }
   ],
   "source": [
    "fund2 = fund.merge(peepsmerge, how='left',left_on='Individual2',right_on='people_Full Name')\n",
    "fund2.info()"
   ]
  },
  {
   "cell_type": "code",
   "execution_count": 257,
   "id": "74b52737-2a2e-49a7-bec8-e74ebc412341",
   "metadata": {},
   "outputs": [],
   "source": [
    "fund2 = fund2.drop(columns=['Title','Item Type','Path','Optional DVR Billing Tracking!!'])"
   ]
  },
  {
   "cell_type": "code",
   "execution_count": 258,
   "id": "7703ef22-4a1e-47e3-8ed6-0a8f9c545c80",
   "metadata": {
    "scrolled": true
   },
   "outputs": [
    {
     "data": {
      "text/plain": [
       "Service\n",
       "Job Development                                               208\n",
       "Assessment                                                    197\n",
       "Community Based Assessment                                    158\n",
       "BFET - SL (Life Skills)                                       118\n",
       "Job Retention                                                  89\n",
       "Case Management                                                84\n",
       "DDA - Individual Employment Services                           77\n",
       "Training                                                       57\n",
       "Intensive Training Services                                    36\n",
       "DDA - Community Inclusion                                      35\n",
       "BFET - BR (Job Retention)                                      32\n",
       "BFET - JS (Supervised Job Search)                              25\n",
       "BFET - JT (Job Search Training)                                16\n",
       "DDA - School to Work                                           11\n",
       "IL Services                                                     2\n",
       "Off Site Psycho Social Supports - Non-Supported Employment      1\n",
       "Pre-ETS IL Skills Training                                      1\n",
       "Pre-ETS Workplace Readiness Training                            1\n",
       "Pre-ETS WBL                                                     1\n",
       "Internship - CNC Mills                                          1\n",
       "DDA - Job Foundations                                           1\n",
       "Staffing                                                        1\n",
       "Name: count, dtype: int64"
      ]
     },
     "execution_count": 258,
     "metadata": {},
     "output_type": "execute_result"
    }
   ],
   "source": [
    "fund2['Service'].value_counts()"
   ]
  },
  {
   "cell_type": "code",
   "execution_count": 259,
   "id": "27db668f-062e-4856-8766-6fdaab105c59",
   "metadata": {},
   "outputs": [],
   "source": [
    "# edit service names\n",
    "\n",
    "fund2['Service'] = fund2['Service'].str.replace('BFET - SL (Life Skills)','Life Skills')\n",
    "fund2['Service'] = fund2['Service'].str.replace('DDA - Individual Employment Services','Individual Employment Services')\n",
    "fund2['Service'] = fund2['Service'].str.replace('BFET - BR (Job Retention)','Job Retention')\n",
    "fund2['Service'] = fund2['Service'].str.replace('DDA - Community Inclusion','Community Inclusion')\n",
    "fund2['Service'] = fund2['Service'].str.replace('BFET - JS (Supervised Job Search)','Supervised Job Search')\n",
    "fund2['Service'] = fund2['Service'].str.replace('BFET - JT (Job Search Training)','Job Search Training')\n",
    "fund2['Service'] = fund2['Service'].str.replace('DDA - School to Work','School to Work')\n",
    "fund2['Service'] = fund2['Service'].str.replace('DDA - Job Foundations','Job Foundations')\n",
    "fund2['Service'] = fund2['Service'].str.replace('Staffing','Orion Staffing Assignment')"
   ]
  },
  {
   "cell_type": "code",
   "execution_count": 260,
   "id": "38c97567-0a68-4129-9fcf-534c199239f0",
   "metadata": {},
   "outputs": [],
   "source": [
    "# add a service category to the df\n",
    "\n",
    "fund2['Service Category'] = np.where(fund2['Service'].str.contains('Assessment|Community Based Assessment|Trial Work Experience|Life Skills'), 'Assessment',\n",
    "                             np.where(fund2['Service'].str.contains('Job Retention|Intensive Training Services|Off Site Psycho Social Supports - Non-Supported Employment|Off Site Psycho Social Supports - Supported Employment'), 'Job Retention',\n",
    "                             np.where(fund2['Service'].str.contains('Supervised Job Search|Job Search Training|Job Development'), 'Job Development',\n",
    "                             np.where(fund2['Service'].str.contains('Case Management'), 'Case Management',\n",
    "                             np.where(fund2['Service'].str.contains('Community Inclusion|Individual Employment Services|Job Foundations|School to Work'), 'DDA',\n",
    "                             np.where(fund2['Service'].str.contains('IL Services'), 'Independent Living',\n",
    "                             np.where(fund2['Service'].str.contains('Internship = CNC Mills|Internship - Mechanical Assembly|Internship - Other|Training'), 'Training',\n",
    "                             np.where(fund2['Service'].str.contains('Orion Staffing Assignment'), 'Staffing',\n",
    "                             np.where(fund2['Service'].str.contains('Pre-ETS IL Peer Mentoring|Pre-ETS IL Self Advocacy|Pre-ETS IL Skills Training|Pre-ETS IL Work Related Systems Access|Pre-ETS Information Interview|Pre-ETS Job Exploration|Pre-ETS Job Shadow|Pre-ETS Social Skills|Pre-ETS WBL|Pre-ETS Workplace Readiness Training'), 'Pre ETS',\n",
    "                             'Other')))))))))"
   ]
  },
  {
   "cell_type": "code",
   "execution_count": 261,
   "id": "27016c0e-32cf-489f-bef6-234e1cdf4d26",
   "metadata": {
    "scrolled": true
   },
   "outputs": [],
   "source": [
    "fund2['location code'] = np.where(fund2['Venue'].str.contains('Auburn'),1174,2870)"
   ]
  },
  {
   "cell_type": "code",
   "execution_count": 262,
   "id": "1d48f65a-0e38-45d6-af0d-73946e36fe1f",
   "metadata": {},
   "outputs": [
    {
     "data": {
      "text/plain": [
       "Index(['Individual', 'Venue', 'Service', 'Funding Source', 'Start Date',\n",
       "       'End Date', 'Final Funding Amount', 'Projected End / Billing Date',\n",
       "       'Projected Funding Amount', 'Staff', 'Modified', 'Date Billed - Intake',\n",
       "       'Amount Billed - Intake', 'Date Billed - Activity',\n",
       "       'Amount Billed - Activity', 'Date Billed - Outcome',\n",
       "       'Amount Billed - Outcome', 'Billing - Bonus', 'Content Type', 'Created',\n",
       "       'Created By', 'Folder Child Count', 'ID', 'Item Child Count',\n",
       "       'Modified By', 'Type of Funding', 'Individual2', 'people_First Name',\n",
       "       'people_Last Name', 'demo_Date of Birth', 'people_Full Name',\n",
       "       'Service Category', 'location code'],\n",
       "      dtype='object')"
      ]
     },
     "execution_count": 262,
     "metadata": {},
     "output_type": "execute_result"
    }
   ],
   "source": [
    "fund2.columns"
   ]
  },
  {
   "cell_type": "code",
   "execution_count": 263,
   "id": "0c33fdf9-058f-400c-b4d4-2df0737e9bf4",
   "metadata": {},
   "outputs": [
    {
     "name": "stdout",
     "output_type": "stream",
     "text": [
      "<class 'pandas.core.frame.DataFrame'>\n",
      "Index: 775 entries, 5 to 1317\n",
      "Data columns (total 33 columns):\n",
      " #   Column                        Non-Null Count  Dtype         \n",
      "---  ------                        --------------  -----         \n",
      " 0   Individual                    775 non-null    object        \n",
      " 1   Venue                         771 non-null    object        \n",
      " 2   Service                       694 non-null    object        \n",
      " 3   Funding Source                765 non-null    object        \n",
      " 4   Start Date                    775 non-null    datetime64[ns]\n",
      " 5   End Date                      582 non-null    datetime64[ns]\n",
      " 6   Final Funding Amount          181 non-null    float64       \n",
      " 7   Projected End / Billing Date  411 non-null    datetime64[ns]\n",
      " 8   Projected Funding Amount      206 non-null    float64       \n",
      " 9   Staff                         689 non-null    object        \n",
      " 10  Modified                      775 non-null    datetime64[ns]\n",
      " 11  Date Billed - Intake          35 non-null     datetime64[ns]\n",
      " 12  Amount Billed - Intake        34 non-null     float64       \n",
      " 13  Date Billed - Activity        19 non-null     datetime64[ns]\n",
      " 14  Amount Billed - Activity      19 non-null     float64       \n",
      " 15  Date Billed - Outcome         29 non-null     datetime64[ns]\n",
      " 16  Amount Billed - Outcome       29 non-null     float64       \n",
      " 17  Billing - Bonus               18 non-null     object        \n",
      " 18  Content Type                  775 non-null    object        \n",
      " 19  Created                       775 non-null    datetime64[ns]\n",
      " 20  Created By                    775 non-null    object        \n",
      " 21  Folder Child Count            775 non-null    int64         \n",
      " 22  ID                            775 non-null    int64         \n",
      " 23  Item Child Count              775 non-null    int64         \n",
      " 24  Modified By                   775 non-null    object        \n",
      " 25  Type of Funding               463 non-null    object        \n",
      " 26  Individual2                   775 non-null    object        \n",
      " 27  people_First Name             775 non-null    object        \n",
      " 28  people_Last Name              775 non-null    object        \n",
      " 29  demo_Date of Birth            730 non-null    object        \n",
      " 30  people_Full Name              775 non-null    object        \n",
      " 31  Service Category              775 non-null    object        \n",
      " 32  location code                 775 non-null    int32         \n",
      "dtypes: datetime64[ns](8), float64(5), int32(1), int64(3), object(16)\n",
      "memory usage: 202.8+ KB\n"
     ]
    }
   ],
   "source": [
    "fund3 =  fund2[fund2['people_Full Name'].notna()].copy()\n",
    "fund3.info()"
   ]
  },
  {
   "cell_type": "code",
   "execution_count": 264,
   "id": "158383f3-91e5-4ff6-92a1-de476ef48d42",
   "metadata": {},
   "outputs": [],
   "source": [
    "fund3 = fund3[[\n",
    "    'people_First Name',\n",
    "    'people_Last Name',\n",
    "    'demo_Date of Birth',\n",
    "    'Start Date',\n",
    "    'End Date',\n",
    "    'Service Category',\n",
    "    'Service',\n",
    "    'Funding Source',\n",
    "    'Staff',\n",
    "    'location code'\n",
    "]].copy()"
   ]
  },
  {
   "cell_type": "code",
   "execution_count": 265,
   "id": "b20c507d-de9c-4eea-bd99-e94111305dbb",
   "metadata": {
    "scrolled": true
   },
   "outputs": [],
   "source": [
    "# create a migration id column\n",
    "\n",
    "fund3['migrationID'] = range(1,len(fund3)+1)"
   ]
  },
  {
   "cell_type": "code",
   "execution_count": 266,
   "id": "482ed972-32df-4bf6-97d4-206cfa556674",
   "metadata": {
    "scrolled": true
   },
   "outputs": [],
   "source": [
    "fund3['Funding Source'] = fund3['Funding Source'].fillna('Unfunded')\n",
    "# fund3['DVR Office'] = fund3[fund3['Funding Source'].str.contains('DVR')] \n",
    "# fund3\n",
    "\n",
    "# Create a new column with values containing \"DVR\"\n",
    "fund3['DVR Office'] = fund3['Funding Source'].where(fund3['Funding Source'].str.contains('DVR'), np.nan)\n",
    "\n",
    "# Remove text following \"DVR\" in the original column\n",
    "fund3['Funding Source'] = fund3['Funding Source'].str.replace(r'DVR.*', 'DVR', regex=True)\n",
    "\n",
    "# Do same thing that was done with DVR but with DDA\n",
    "fund3['DDA Office'] = fund3['Funding Source'].where(fund3['Funding Source'].str.contains('DDA'), np.nan)\n",
    "\n",
    "fund3['Funding Source'] = fund3['Funding Source'].str.replace(r'DDA.*', 'DDA', regex=True)"
   ]
  },
  {
   "cell_type": "code",
   "execution_count": 267,
   "id": "1db26f3b-f756-4914-8782-b9002897b2ff",
   "metadata": {
    "scrolled": true
   },
   "outputs": [
    {
     "data": {
      "text/plain": [
       "Funding Source\n",
       "DVR                                                                 290\n",
       "Snohomish County Human Services | Housing and Community Services    130\n",
       "DDA                                                                 110\n",
       "BFET                                                                 94\n",
       "King County Jobs and Housing                                         69\n",
       "City of Auburn                                                       29\n",
       "City of Federal Way                                                  19\n",
       "WRT - State Board for Community and Technical Colleges               12\n",
       "Unfunded                                                             10\n",
       "City of Renton                                                        4\n",
       "City of Kent                                                          3\n",
       "SJI (Seattle Jobs Initiative)                                         2\n",
       "DSB-Tacoma                                                            1\n",
       "Labor & Industries                                                    1\n",
       "Workforce Training and Education Coordinating Board                   1\n",
       "Name: count, dtype: int64"
      ]
     },
     "execution_count": 267,
     "metadata": {},
     "output_type": "execute_result"
    }
   ],
   "source": [
    "fund3['Funding Source'].value_counts()"
   ]
  },
  {
   "cell_type": "code",
   "execution_count": 268,
   "id": "4c66ab7b-1631-4ad4-b9ed-6e48b8a0caac",
   "metadata": {},
   "outputs": [],
   "source": [
    "fundrep = {\n",
    "    'Olsen & Associates':'Labor & Industries',\n",
    "    'Strategic Consulting Services':'Labor & Industries',\n",
    "    'Pioneer Industries':'Labor & Industries',\n",
    "    'Aerospace Joint Apprenticeship Committee (AJAC)':'Labor & Industries',\n",
    "    'Workforce Training and Education Coordinating Board':'WRT',\n",
    "    'WRT - State Board for Community and Technical Colleges':'WRT',\n",
    "    'City of Renton':'City Funding - Human Services (Auburn, Renton)',\n",
    "    'City of Kent':'City Funding - Human Services (Auburn, Renton)',\n",
    "    'City of Auburn':'City Funding - Human Services (Auburn, Renton)',\n",
    "    'City of Federal Way':'City Funding - CDBG (Federal Way)',\n",
    "    'Snohomish County Human Services | Housing and Community Services':'Snohomish County - ERSS',\n",
    "    'DDA-King County':'DDA',\n",
    "    'DDA-Snohomish':'DDA',\n",
    "    'Veterans Administration-Seattle':'Veterans Administration',\n",
    "    'King County Jobs and Housing':'King County Jobs & Housing',\n",
    "    'SJI (Seattle Jobs Initiative)':'Labor & Industries',\n",
    "    'DSB-Tacoma':'DVR'\n",
    "}\n",
    "\n",
    "fund3['Funding Source'] = fund3['Funding Source'].replace(fundrep)"
   ]
  },
  {
   "cell_type": "code",
   "execution_count": 469,
   "id": "a552b4a2-daf8-4451-98e5-bd8592e47536",
   "metadata": {},
   "outputs": [],
   "source": [
    "fund3.to_excel(r'redacted file path\\exports\\real service funding staff.xlsx')"
   ]
  },
  {
   "cell_type": "markdown",
   "id": "eace774e-984d-4167-af67-f7645672eec8",
   "metadata": {},
   "source": [
    "#### Program"
   ]
  },
  {
   "cell_type": "code",
   "execution_count": 269,
   "id": "efc022b4-fe70-4c92-b416-5510ba619cf1",
   "metadata": {},
   "outputs": [],
   "source": [
    "service = pd.read_excel(r'redacted file path\\Services - unformatted.xlsx')\n",
    "\n",
    "# remove repetitive columns\n",
    "service = service.drop(columns=['Title','Item Type','Path','Folder Child Count','Created By','Content Type','Item Child Count'])\n",
    "\n",
    "# remove the (###) from the individual name\n",
    "service['Individual'] = service['Individual'].replace(r'\\b\\d{1,4};#','',regex=True)\n",
    "\n",
    "# the key value had a space in it, so needed to remove that space\n",
    "service['Individual'] = service['Individual'].str.replace(', ',',')\n",
    "\n",
    "# remove test case rows\n",
    "service = service[~service['Individual'].str.contains('test', case=False, na=False)].copy()\n",
    "\n",
    "# remove any text (within parethesis) to standardize names\n",
    "service['Individual'] = service['Individual'].replace(r'\\(.*?\\)','',regex=True).str.strip()\n",
    "\n",
    "service['Individual'] = service['Individual'].replace(r'\\\".*?\\\"','',regex=True).str.strip()"
   ]
  },
  {
   "cell_type": "code",
   "execution_count": 270,
   "id": "6fcb9f38-6f90-457a-89d5-1a0e4348b77f",
   "metadata": {},
   "outputs": [],
   "source": [
    "venue = pd.read_excel(r'redacted file path\\venue history - unformatted.xlsx')\n",
    "\n",
    "# remove repetitive columns\n",
    "venue = venue.drop(columns=['Item Type','Path','Folder Child Count','Created By','Content Type','Item Child Count'])\n",
    "\n",
    "# the key value had a space in it, so needed to remove that space\n",
    "venue['Individual'] = venue['Individual'].str.replace(', ',',')\n",
    "\n",
    "# remove test case rows\n",
    "venue = venue[~venue['Individual'].str.contains('test', case=False, na=False)].reset_index().copy()\n",
    "\n",
    "# remove any text (within parethesis) to standardize names\n",
    "venue['Individual'] = venue['Individual'].replace(r'\\(.*?\\)','',regex=True).str.strip()\n",
    "\n",
    "venue['Individual'] = venue['Individual'].replace(r'\\\".*?\\\"','',regex=True).str.strip()\n",
    "\n",
    "venue2 = venue.add_prefix('venue_')"
   ]
  },
  {
   "cell_type": "code",
   "execution_count": 271,
   "id": "c43b1f27-ff51-4727-8dcd-9583da8f9db8",
   "metadata": {
    "scrolled": true
   },
   "outputs": [
    {
     "name": "stdout",
     "output_type": "stream",
     "text": [
      "<class 'pandas.core.frame.DataFrame'>\n",
      "RangeIndex: 2208 entries, 0 to 2207\n",
      "Data columns (total 28 columns):\n",
      " #   Column                     Non-Null Count  Dtype         \n",
      "---  ------                     --------------  -----         \n",
      " 0   venue_index                2208 non-null   int64         \n",
      " 1   venue_Individual           2208 non-null   object        \n",
      " 2   venue_Venue                2208 non-null   object        \n",
      " 3   venue_Created              2208 non-null   datetime64[ns]\n",
      " 4   venue_Start Date           2208 non-null   datetime64[ns]\n",
      " 5   venue_Exit Date            1995 non-null   datetime64[ns]\n",
      " 6   venue_Status               2208 non-null   object        \n",
      " 7   venue_Referred By          832 non-null    object        \n",
      " 8   venue_Shift                1165 non-null   object        \n",
      " 9   venue_Shift 2 Change Date  33 non-null     datetime64[ns]\n",
      " 10  venue_Shift Notes          351 non-null    object        \n",
      " 11  venue_Orion Staff          0 non-null      float64       \n",
      " 12  venue_Assigned Staff       2039 non-null   object        \n",
      " 13  venue_Modified             2208 non-null   datetime64[ns]\n",
      " 14  venue_Eligible?            263 non-null    float64       \n",
      " 15  venue_Exit Reason          1811 non-null   object        \n",
      " 16  venue_Header -Shift2       1945 non-null   object        \n",
      " 17  venue_Header-Shift         1945 non-null   object        \n",
      " 18  venue_ID                   2208 non-null   int64         \n",
      " 19  venue_Modified By          2208 non-null   object        \n",
      " 20  venue_Notes                889 non-null    object        \n",
      " 21  venue_Referral Date        0 non-null      float64       \n",
      " 22  venue_Shift 2              33 non-null     object        \n",
      " 23  venue_Shift 2 Notes        26 non-null     object        \n",
      " 24  venue_Shift 3              5 non-null      object        \n",
      " 25  venue_Shift 3 Change Date  5 non-null      datetime64[ns]\n",
      " 26  venue_Shift 3 Notes        5 non-null      object        \n",
      " 27  venue_View                 2208 non-null   object        \n",
      "dtypes: datetime64[ns](6), float64(3), int64(2), object(17)\n",
      "memory usage: 483.1+ KB\n"
     ]
    }
   ],
   "source": [
    "venue2.info()"
   ]
  },
  {
   "cell_type": "code",
   "execution_count": 272,
   "id": "08fde768-f19d-45fe-9762-eeb9c88c8360",
   "metadata": {},
   "outputs": [],
   "source": [
    "peepsmerge = merge6[[\n",
    "    'people_First Name',\n",
    "    'people_Last Name',\n",
    "    'demo_Date of Birth',\n",
    "    'people_Full Name'\n",
    "]].copy()\n",
    "\n",
    "peepsmerge['people_Full Name'] = peepsmerge['people_Full Name'].str.replace(', ',',')"
   ]
  },
  {
   "cell_type": "code",
   "execution_count": 273,
   "id": "ec9f760b-7122-48b0-9376-0543cbc742c5",
   "metadata": {},
   "outputs": [
    {
     "name": "stdout",
     "output_type": "stream",
     "text": [
      "<class 'pandas.core.frame.DataFrame'>\n",
      "RangeIndex: 528 entries, 0 to 527\n",
      "Data columns (total 4 columns):\n",
      " #   Column              Non-Null Count  Dtype \n",
      "---  ------              --------------  ----- \n",
      " 0   people_First Name   528 non-null    object\n",
      " 1   people_Last Name    528 non-null    object\n",
      " 2   demo_Date of Birth  489 non-null    object\n",
      " 3   people_Full Name    528 non-null    object\n",
      "dtypes: object(4)\n",
      "memory usage: 16.6+ KB\n"
     ]
    }
   ],
   "source": [
    "peepsmerge.info()"
   ]
  },
  {
   "cell_type": "code",
   "execution_count": 274,
   "id": "74e60319-ef74-446f-9e4c-3cd13aea8072",
   "metadata": {
    "scrolled": true
   },
   "outputs": [],
   "source": [
    "# service2 = service.merge(peepsmerge, how='left',left_on='Individual',right_on='people_Full Name')\n",
    "# service2.info()"
   ]
  },
  {
   "cell_type": "code",
   "execution_count": 275,
   "id": "64b00abd-64b2-4213-a3f1-83bd11830922",
   "metadata": {
    "scrolled": true
   },
   "outputs": [
    {
     "name": "stdout",
     "output_type": "stream",
     "text": [
      "<class 'pandas.core.frame.DataFrame'>\n",
      "RangeIndex: 2216 entries, 0 to 2215\n",
      "Data columns (total 34 columns):\n",
      " #   Column                     Non-Null Count  Dtype         \n",
      "---  ------                     --------------  -----         \n",
      " 0   venue_index                2216 non-null   int64         \n",
      " 1   venue_Individual           2216 non-null   object        \n",
      " 2   venue_Venue                2216 non-null   object        \n",
      " 3   venue_Created              2216 non-null   datetime64[ns]\n",
      " 4   venue_Start Date           2216 non-null   datetime64[ns]\n",
      " 5   venue_Exit Date            2002 non-null   datetime64[ns]\n",
      " 6   venue_Status               2216 non-null   object        \n",
      " 7   venue_Referred By          835 non-null    object        \n",
      " 8   venue_Shift                1169 non-null   object        \n",
      " 9   venue_Shift 2 Change Date  33 non-null     datetime64[ns]\n",
      " 10  venue_Shift Notes          353 non-null    object        \n",
      " 11  venue_Orion Staff          0 non-null      float64       \n",
      " 12  venue_Assigned Staff       2047 non-null   object        \n",
      " 13  venue_Modified             2216 non-null   datetime64[ns]\n",
      " 14  venue_Eligible?            263 non-null    float64       \n",
      " 15  venue_Exit Reason          1818 non-null   object        \n",
      " 16  venue_Header -Shift2       1953 non-null   object        \n",
      " 17  venue_Header-Shift         1953 non-null   object        \n",
      " 18  venue_ID                   2216 non-null   int64         \n",
      " 19  venue_Modified By          2216 non-null   object        \n",
      " 20  venue_Notes                892 non-null    object        \n",
      " 21  venue_Referral Date        0 non-null      float64       \n",
      " 22  venue_Shift 2              33 non-null     object        \n",
      " 23  venue_Shift 2 Notes        26 non-null     object        \n",
      " 24  venue_Shift 3              5 non-null      object        \n",
      " 25  venue_Shift 3 Change Date  5 non-null      datetime64[ns]\n",
      " 26  venue_Shift 3 Notes        5 non-null      object        \n",
      " 27  venue_View                 2216 non-null   object        \n",
      " 28  people_First Name          882 non-null    object        \n",
      " 29  people_Last Name           882 non-null    object        \n",
      " 30  demo_Date of Birth         839 non-null    object        \n",
      " 31  people_Full Name           882 non-null    object        \n",
      " 32  location code              2216 non-null   int32         \n",
      " 33  location                   2216 non-null   object        \n",
      "dtypes: datetime64[ns](6), float64(3), int32(1), int64(2), object(22)\n",
      "memory usage: 580.1+ KB\n"
     ]
    }
   ],
   "source": [
    "venue3 = venue2.merge(peepsmerge, how='left',left_on='venue_Individual',right_on='people_Full Name')\n",
    "\n",
    "venue3['location code'] = np.where(venue3['venue_Venue'].str.contains('Auburn'),1174,2870)\n",
    "venue3['location'] = np.where(venue3['venue_Venue'].str.contains('Auburn'),'Auburn','Mukilteo')\n",
    "\n",
    "venue3.info()"
   ]
  },
  {
   "cell_type": "code",
   "execution_count": 276,
   "id": "1c8f69c7-388c-4008-82ce-3a9a8747cbb2",
   "metadata": {},
   "outputs": [],
   "source": [
    "# service2['location code'] = np.where(service2['Venue'].str.contains('Auburn'),1174,2870)\n",
    "# service2['location'] = np.where(service2['Venue'].str.contains('Auburn'),'Auburn','Mukilteo')"
   ]
  },
  {
   "cell_type": "code",
   "execution_count": 277,
   "id": "77351dd6-5654-4def-b964-8bd099fe766b",
   "metadata": {},
   "outputs": [],
   "source": [
    "# service2['Venue'].value_counts()"
   ]
  },
  {
   "cell_type": "code",
   "execution_count": 278,
   "id": "dd0ecc91-66ed-44bc-9697-3ddd1c719127",
   "metadata": {},
   "outputs": [],
   "source": [
    "# change the venue to match the training program\n",
    "\n",
    "# service2['Venue'] = service2['Venue'].str.replace('Auburn - Office Skills & Customer Service','Clerical Customer Service Training')\n",
    "# service2['Venue'] = service2['Venue'].str.replace('Auburn - Contact Center','Clerical Customer Service Training')\n",
    "# service2['Venue'] = service2['Venue'].str.replace('Auburn - Manufacturing Program','Transitional Training - Manufacturing')\n",
    "# service2['Venue'] = service2['Venue'].str.replace('Mukilteo - Manufacturing Program','Transitional Training - Manufacturing')\n",
    "# service2['Venue'] = service2['Venue'].str.replace('Auburn - Custodial','Transitional Training - Custodial')\n",
    "# service2['Venue'] = service2['Venue'].str.replace('Mukilteo-Light Assembly','Transitional Training - Manufacturing')\n",
    "# ### service2['Venue'] = service2['Venue'].str.replace('Auburn - Community Based Services','')\n",
    "# ### service2['Venue'] = service2['Venue'].str.replace('Mukilteo - Community Based Services','')\n"
   ]
  },
  {
   "cell_type": "code",
   "execution_count": 279,
   "id": "979d4226-e863-463d-96de-419388ff8768",
   "metadata": {},
   "outputs": [],
   "source": [
    "# change the venue to match the training program\n",
    "\n",
    "venue3['venue_Venue'] = venue3['venue_Venue'].str.replace('Auburn - Office Skills & Customer Service','Clerical Customer Service Training')\n",
    "venue3['venue_Venue'] = venue3['venue_Venue'].str.replace('Auburn - Contact Center','Clerical Customer Service Training')\n",
    "venue3['venue_Venue'] = venue3['venue_Venue'].str.replace('Auburn - Manufacturing Program','Transitional Training - Manufacturing')\n",
    "venue3['venue_Venue'] = venue3['venue_Venue'].str.replace('Mukilteo - Manufacturing Program','Transitional Training - Manufacturing')\n",
    "venue3['venue_Venue'] = venue3['venue_Venue'].str.replace('Auburn - Custodial','Transitional Training - Custodial')\n",
    "venue3['venue_Venue'] = venue3['venue_Venue'].str.replace('Mukilteo-Light Assembly','Transitional Training - Manufacturing')\n",
    "### venue3['Venue'] = venue3['Venue'].str.replace('Auburn - Community Based Services','')\n",
    "### venue3['Venue'] = venue3['Venue'].str.replace('Mukilteo - Community Based Services','')"
   ]
  },
  {
   "cell_type": "code",
   "execution_count": 280,
   "id": "41671eb7-3953-448d-8c1f-5b96297c9d79",
   "metadata": {},
   "outputs": [
    {
     "data": {
      "text/plain": [
       "Index(['venue_index', 'venue_Individual', 'venue_Venue', 'venue_Created',\n",
       "       'venue_Start Date', 'venue_Exit Date', 'venue_Status',\n",
       "       'venue_Referred By', 'venue_Shift', 'venue_Shift 2 Change Date',\n",
       "       'venue_Shift Notes', 'venue_Orion Staff', 'venue_Assigned Staff',\n",
       "       'venue_Modified', 'venue_Eligible?', 'venue_Exit Reason',\n",
       "       'venue_Header -Shift2', 'venue_Header-Shift', 'venue_ID',\n",
       "       'venue_Modified By', 'venue_Notes', 'venue_Referral Date',\n",
       "       'venue_Shift 2', 'venue_Shift 2 Notes', 'venue_Shift 3',\n",
       "       'venue_Shift 3 Change Date', 'venue_Shift 3 Notes', 'venue_View',\n",
       "       'people_First Name', 'people_Last Name', 'demo_Date of Birth',\n",
       "       'people_Full Name', 'location code', 'location'],\n",
       "      dtype='object')"
      ]
     },
     "execution_count": 280,
     "metadata": {},
     "output_type": "execute_result"
    }
   ],
   "source": [
    "venue3.columns"
   ]
  },
  {
   "cell_type": "code",
   "execution_count": 281,
   "id": "53bc10fc-1414-4c56-84bf-00e8a616eb2f",
   "metadata": {},
   "outputs": [
    {
     "name": "stdout",
     "output_type": "stream",
     "text": [
      "<class 'pandas.core.frame.DataFrame'>\n",
      "Index: 882 entries, 20 to 2215\n",
      "Data columns (total 34 columns):\n",
      " #   Column                     Non-Null Count  Dtype         \n",
      "---  ------                     --------------  -----         \n",
      " 0   venue_index                882 non-null    int64         \n",
      " 1   venue_Individual           882 non-null    object        \n",
      " 2   venue_Venue                882 non-null    object        \n",
      " 3   venue_Created              882 non-null    datetime64[ns]\n",
      " 4   venue_Start Date           882 non-null    datetime64[ns]\n",
      " 5   venue_Exit Date            671 non-null    datetime64[ns]\n",
      " 6   venue_Status               882 non-null    object        \n",
      " 7   venue_Referred By          353 non-null    object        \n",
      " 8   venue_Shift                456 non-null    object        \n",
      " 9   venue_Shift 2 Change Date  8 non-null      datetime64[ns]\n",
      " 10  venue_Shift Notes          242 non-null    object        \n",
      " 11  venue_Orion Staff          0 non-null      float64       \n",
      " 12  venue_Assigned Staff       869 non-null    object        \n",
      " 13  venue_Modified             882 non-null    datetime64[ns]\n",
      " 14  venue_Eligible?            38 non-null     float64       \n",
      " 15  venue_Exit Reason          638 non-null    object        \n",
      " 16  venue_Header -Shift2       844 non-null    object        \n",
      " 17  venue_Header-Shift         844 non-null    object        \n",
      " 18  venue_ID                   882 non-null    int64         \n",
      " 19  venue_Modified By          882 non-null    object        \n",
      " 20  venue_Notes                305 non-null    object        \n",
      " 21  venue_Referral Date        0 non-null      float64       \n",
      " 22  venue_Shift 2              8 non-null      object        \n",
      " 23  venue_Shift 2 Notes        7 non-null      object        \n",
      " 24  venue_Shift 3              2 non-null      object        \n",
      " 25  venue_Shift 3 Change Date  2 non-null      datetime64[ns]\n",
      " 26  venue_Shift 3 Notes        2 non-null      object        \n",
      " 27  venue_View                 882 non-null    object        \n",
      " 28  people_First Name          882 non-null    object        \n",
      " 29  people_Last Name           882 non-null    object        \n",
      " 30  demo_Date of Birth         839 non-null    object        \n",
      " 31  people_Full Name           882 non-null    object        \n",
      " 32  location code              882 non-null    int32         \n",
      " 33  location                   882 non-null    object        \n",
      "dtypes: datetime64[ns](6), float64(3), int32(1), int64(2), object(22)\n",
      "memory usage: 237.7+ KB\n"
     ]
    }
   ],
   "source": [
    "venue4 =  venue3[venue3['people_Full Name'].notna()].copy()\n",
    "venue4.info()"
   ]
  },
  {
   "cell_type": "code",
   "execution_count": 282,
   "id": "3b5bc098-7617-4798-b5b9-e8b0218ca1cd",
   "metadata": {},
   "outputs": [],
   "source": [
    "venue4 = venue4[[\n",
    "    'people_First Name',\n",
    "    'people_Last Name',\n",
    "    'demo_Date of Birth', \n",
    "    'venue_Venue',\n",
    "    'location',\n",
    "    'venue_Start Date',\n",
    "    'venue_Exit Date',\n",
    "    'venue_Exit Reason',\n",
    "    'venue_Notes',\n",
    "    'venue_Shift',\n",
    "    'venue_Shift Notes',\n",
    "    'location code'\n",
    "]].copy()\n",
    "\n",
    "venue4['Status'] = np.where(venue4['venue_Exit Date'].isna(),'Program Started','Closed No Program Services')"
   ]
  },
  {
   "cell_type": "code",
   "execution_count": 283,
   "id": "c18da151-7e8b-42fd-9179-c6a141e5e19b",
   "metadata": {},
   "outputs": [],
   "source": [
    "venue5 = venue4[~venue4['venue_Venue'].str.contains('Community Based Services')].reset_index().copy()"
   ]
  },
  {
   "cell_type": "code",
   "execution_count": 284,
   "id": "3c00ad56-f1d3-43cc-aa62-b3d4ba7c19b1",
   "metadata": {
    "scrolled": true
   },
   "outputs": [
    {
     "data": {
      "text/plain": [
       "venue_Venue\n",
       "Transitional Training - Manufacturing    361\n",
       "Clerical Customer Service Training        41\n",
       "Transitional Training - Custodial          8\n",
       "Name: count, dtype: int64"
      ]
     },
     "execution_count": 284,
     "metadata": {},
     "output_type": "execute_result"
    }
   ],
   "source": [
    "venue5['venue_Venue'].value_counts()"
   ]
  },
  {
   "cell_type": "code",
   "execution_count": 285,
   "id": "610d363e-59b8-4ea0-831e-e60238bd6037",
   "metadata": {},
   "outputs": [
    {
     "data": {
      "text/plain": [
       "venue_Venue\n",
       "Transitional Training - Manufacturing    361\n",
       "Clerical Customer Service Training        41\n",
       "Transitional Training - Custodial          8\n",
       "Name: count, dtype: int64"
      ]
     },
     "execution_count": 285,
     "metadata": {},
     "output_type": "execute_result"
    }
   ],
   "source": [
    "venue6 = venue5[~venue5['venue_Venue'].str.contains('test', case=False, na=False)].copy()\n",
    "\n",
    "venue6['venue_Venue'].value_counts()"
   ]
  },
  {
   "cell_type": "code",
   "execution_count": 286,
   "id": "9b8ebe17-46a3-4715-ba92-fe4f50c79937",
   "metadata": {
    "scrolled": true
   },
   "outputs": [
    {
     "name": "stdout",
     "output_type": "stream",
     "text": [
      "<class 'pandas.core.frame.DataFrame'>\n",
      "RangeIndex: 410 entries, 0 to 409\n",
      "Data columns (total 14 columns):\n",
      " #   Column              Non-Null Count  Dtype         \n",
      "---  ------              --------------  -----         \n",
      " 0   index               410 non-null    int64         \n",
      " 1   people_First Name   410 non-null    object        \n",
      " 2   people_Last Name    410 non-null    object        \n",
      " 3   demo_Date of Birth  397 non-null    object        \n",
      " 4   venue_Venue         410 non-null    object        \n",
      " 5   location            410 non-null    object        \n",
      " 6   venue_Start Date    410 non-null    datetime64[ns]\n",
      " 7   venue_Exit Date     349 non-null    datetime64[ns]\n",
      " 8   venue_Exit Reason   331 non-null    object        \n",
      " 9   venue_Notes         191 non-null    object        \n",
      " 10  venue_Shift         392 non-null    object        \n",
      " 11  venue_Shift Notes   238 non-null    object        \n",
      " 12  location code       410 non-null    int32         \n",
      " 13  Status              410 non-null    object        \n",
      "dtypes: datetime64[ns](2), int32(1), int64(1), object(10)\n",
      "memory usage: 43.4+ KB\n"
     ]
    }
   ],
   "source": [
    "venue6.info()"
   ]
  },
  {
   "cell_type": "code",
   "execution_count": 452,
   "id": "ad115c14-550b-4bc9-9f76-c5dff9f56854",
   "metadata": {},
   "outputs": [],
   "source": [
    "venue6.to_excel(r'redacted file path\\exports\\real enrollment to program.xlsx')"
   ]
  },
  {
   "cell_type": "markdown",
   "id": "07f0b562-6e5e-479a-a60b-15e44cc2f8f3",
   "metadata": {},
   "source": [
    "#### Service"
   ]
  },
  {
   "cell_type": "code",
   "execution_count": 287,
   "id": "1b23a299-6c50-4bcc-84f5-4dc384d00332",
   "metadata": {},
   "outputs": [],
   "source": [
    "enroll = merge6[[\n",
    "    'people_First Name',\n",
    "    'people_Last Name',\n",
    "    'demo_Date of Birth',\n",
    "    'intake_Orion Location',\n",
    "    'intake_Date of Intake',\n",
    "    'intake_Intake Admin Notes',\n",
    "    'intake_Status of Intake',\n",
    "    'intake_Start Date',\n",
    "    'intake_Processing details: Funding and Project Eligibility',\n",
    "    'intake_Assigned to Venue',\n",
    "    'intake_Processing details: Criminal History Check',\n",
    "    'intake_Processing details: Date Closed',\n",
    "    'intake_Processing details: Closed'\n",
    "]].copy()\n",
    "\n",
    "enroll['location code'] = enroll['intake_Orion Location']\n",
    "enroll['location code'] = enroll['location code'].replace('Auburn',1174)\n",
    "enroll['location code'] = enroll['location code'].replace('Mukilteo',2870)\n",
    "\n",
    "enrollcolname = [\n",
    "    'people_First Name',\n",
    "    'people_Last Name',\n",
    "    'demo_Date of Birth',\n",
    "    'Location',\n",
    "    'Date intake started',\n",
    "    'Service intake processing notes',\n",
    "    'Status',\n",
    "    'Date services starting',\n",
    "    'Eligible funders',\n",
    "    'Is client also participating in a training program?',\n",
    "    'Criminal History Check',\n",
    "    'Date Closing',\n",
    "    'Closing Note',\n",
    "    'Assigned programs'\n",
    "]\n",
    "\n",
    "enroll.columns = enrollcolname"
   ]
  },
  {
   "cell_type": "code",
   "execution_count": 288,
   "id": "7bb700e4-74b1-44ab-9989-ac2e38bb90a1",
   "metadata": {},
   "outputs": [],
   "source": [
    "# replace values in status\n",
    "\n",
    "statrep = {\n",
    "    'Started':'Services Started',\n",
    "    'Withdrawn':'Closed No Services',\n",
    "    'Denied':'Closed No Services',\n",
    "    'Approved':'On Hold',\n",
    "    'Tour Only':'Intake Processing',\n",
    "    \n",
    "}\n",
    "enroll['Status'] = enroll['Status'].replace(statrep)"
   ]
  },
  {
   "cell_type": "code",
   "execution_count": 289,
   "id": "14cd4269-5356-40a1-8fe8-ac2e3c4d7a4d",
   "metadata": {},
   "outputs": [
    {
     "data": {
      "text/plain": [
       "Eligible funders\n",
       "Snohomish County CSBG                                          68\n",
       "BFET                                                           43\n",
       "King County Jobs & Housing                                     37\n",
       "Auburn Human Services Grant                                    15\n",
       "Federal Way CDBG Program                                       10\n",
       "BFET|Auburn Human Services Grant                                8\n",
       "Renton Human Services Grant                                     6\n",
       "BFET|King County Jobs & Housing                                 5\n",
       "Auburn Human Services Grant|BFET                                5\n",
       "Auburn Human Services Grant|BFET|King County Jobs & Housing     5\n",
       "SBCTC - WRT Program                                             4\n",
       "King County Jobs & Housing|Auburn Human Services Grant          3\n",
       "Auburn Human Services Grant|King County Jobs & Housing|BFET     3\n",
       "REDF                                                            3\n",
       "Auburn Human Services Grant|King County Jobs & Housing          2\n",
       "Federal Way CDBG Program|BFET|King County Jobs & Housing        2\n",
       "King County Jobs & Housing|BFET                                 2\n",
       "Auburn COVID Grant|Auburn Human Services Grant|BFET             2\n",
       "Auburn Human Services Grant|REDF                                2\n",
       "Auburn Human Services Grant|REDF|CareerReady (SJI)              1\n",
       "King County Jobs & Housing|BFET|Auburn Human Services Grant     1\n",
       "Auburn COVID Grant|BFET                                         1\n",
       "SBCTC - WRT Program|Renton Human Services Grant                 1\n",
       "Kent Human Services Grant                                       1\n",
       "REDF|SBCTC - WRT Program                                        1\n",
       "REDF|SBCTC - WRT Program|Auburn Human Services Grant            1\n",
       "Kent COVID Grant|SBCTC - WRT Program                            1\n",
       "BFET|King County Jobs & Housing|Auburn Human Services Grant     1\n",
       "REDF|RTI Study                                                  1\n",
       "Auburn COVID Grant|Auburn Human Services Grant                  1\n",
       "Federal Way CDBG Program|REDF                                   1\n",
       "Auburn Human Services Grant|REDF|RTI Study                      1\n",
       "Auburn Human Services Grant|SBCTC - WRT Program|BFET            1\n",
       "BFET|Auburn Human Services Grant|King County Jobs & Housing     1\n",
       "BFET|SBCTC - WRT Program                                        1\n",
       "BFET|Snohomish County CSBG                                      1\n",
       "Kent COVID Grant                                                1\n",
       "Name: count, dtype: int64"
      ]
     },
     "execution_count": 289,
     "metadata": {},
     "output_type": "execute_result"
    }
   ],
   "source": [
    "import re\n",
    "\n",
    "enroll.loc[:,'Eligible funders'] = enroll['Eligible funders'].replace(r';#\\d{1,2}','|',regex=True)\n",
    "enroll.loc[:,'Eligible funders'] = enroll['Eligible funders'].str.rstrip('|')\n",
    "enroll.loc[:,'Eligible funders'] = enroll['Eligible funders'].str.replace(';#','')\n",
    "enroll['Eligible funders'].value_counts()"
   ]
  },
  {
   "cell_type": "code",
   "execution_count": 290,
   "id": "1fbdce3f-2e94-495f-aeff-3f873e6a859e",
   "metadata": {},
   "outputs": [],
   "source": [
    "# find unique values in the eligible funders column\n",
    "\n",
    "unique_funders = enroll['Eligible funders'].unique()\n",
    "\n",
    "split_items = [item for sublist in unique_funders if isinstance(sublist, str) for item in sublist.split('|')]\n",
    "uniquedf = pd.DataFrame(split_items)\n",
    "unique_items = uniquedf[0].unique()"
   ]
  },
  {
   "cell_type": "code",
   "execution_count": 291,
   "id": "d827852a-46d1-4aaa-886a-6eb81e942520",
   "metadata": {},
   "outputs": [
    {
     "name": "stdout",
     "output_type": "stream",
     "text": [
      "Snohomish County CSBG\n",
      "Federal Way CDBG Program\n",
      "King County Jobs & Housing\n",
      "Auburn Human Services Grant\n",
      "BFET\n",
      "SBCTC - WRT Program\n",
      "Renton Human Services Grant\n",
      "REDF\n",
      "RTI Study\n",
      "Auburn COVID Grant\n",
      "CareerReady (SJI)\n",
      "Kent Human Services Grant\n",
      "Kent COVID Grant\n"
     ]
    }
   ],
   "source": [
    "for i in unique_items:\n",
    "    print(i)"
   ]
  },
  {
   "cell_type": "code",
   "execution_count": 292,
   "id": "fe4dc107-363b-452e-9feb-49e3568a3de1",
   "metadata": {
    "scrolled": true
   },
   "outputs": [],
   "source": [
    "elrep = {\n",
    "    'Renton Human Services Grant':'City of Renton',\n",
    "    'Auburn Human Services Grant':'City of Auburn',\n",
    "    'Kent Human Services Grant':'City of Kent',\n",
    "    'Auburn COVID Grant':'City of Auburn',\n",
    "    'Kent COVID Grant':'City of Kent',\n",
    "    'Federal Way CDBG Program':'City of Federal Way',\n",
    "    'King County Jobs & Housing':'King County Jobs and Housing',\n",
    "    'Snohomish County CSBG':'Snohomish County Human Services Housing and Community Services',\n",
    "    'SBCTC - WRT Program':'WRT - State Board for Community and Technical Colleges',\n",
    "    'REDF':'',\n",
    "    'CareerReady \\(SJI\\)':'',\n",
    "    'RTI Study':'',\n",
    "    'WDC - Youth Internship':''\n",
    "}\n",
    "\n",
    "enroll['Eligible funders'] = enroll['Eligible funders'].replace(elrep,regex=True)\n",
    "enroll['Eligible funders'] = enroll['Eligible funders'].str.replace('||','|')\n",
    "enroll['Eligible funders'] = enroll['Eligible funders'].str.replace('||','|')\n",
    "enroll['Eligible funders'] = enroll['Eligible funders'].str.strip('|')"
   ]
  },
  {
   "cell_type": "code",
   "execution_count": 293,
   "id": "1bd47d26-8f6c-4971-9bcd-9c6d5781e2f6",
   "metadata": {
    "scrolled": true
   },
   "outputs": [
    {
     "data": {
      "text/plain": [
       "Eligible funders\n",
       "Snohomish County Human Services Housing and Community Services                68\n",
       "BFET                                                                          43\n",
       "King County Jobs and Housing                                                  37\n",
       "City of Auburn                                                                19\n",
       "City of Federal Way                                                           11\n",
       "BFET|City of Auburn                                                            8\n",
       "City of Auburn|BFET                                                            6\n",
       "City of Renton                                                                 6\n",
       "City of Auburn|BFET|King County Jobs and Housing                               5\n",
       "BFET|King County Jobs and Housing                                              5\n",
       "WRT - State Board for Community and Technical Colleges                         5\n",
       "                                                                               4\n",
       "City of Auburn|King County Jobs and Housing|BFET                               3\n",
       "King County Jobs and Housing|City of Auburn                                    3\n",
       "City of Auburn|King County Jobs and Housing                                    2\n",
       "King County Jobs and Housing|BFET                                              2\n",
       "City of Federal Way|BFET|King County Jobs and Housing                          2\n",
       "City of Kent                                                                   2\n",
       "City of Auburn|City of Auburn|BFET                                             2\n",
       "BFET|WRT - State Board for Community and Technical Colleges                    1\n",
       "BFET|King County Jobs and Housing|City of Auburn                               1\n",
       "BFET|City of Auburn|King County Jobs and Housing                               1\n",
       "City of Auburn|WRT - State Board for Community and Technical Colleges|BFET     1\n",
       "City of Auburn|City of Auburn                                                  1\n",
       "BFET|Snohomish County Human Services Housing and Community Services            1\n",
       "WRT - State Board for Community and Technical Colleges|City of Auburn          1\n",
       "WRT - State Board for Community and Technical Colleges|City of Renton          1\n",
       "King County Jobs and Housing|BFET|City of Auburn                               1\n",
       "City of Kent|WRT - State Board for Community and Technical Colleges            1\n",
       "Name: count, dtype: int64"
      ]
     },
     "execution_count": 293,
     "metadata": {},
     "output_type": "execute_result"
    }
   ],
   "source": [
    "enroll['Eligible funders'].value_counts()"
   ]
  },
  {
   "cell_type": "code",
   "execution_count": 294,
   "id": "c2269044-f64c-410a-91a2-dfb013c185e6",
   "metadata": {
    "scrolled": true
   },
   "outputs": [],
   "source": [
    "# set training program to binary response\n",
    "\n",
    "enroll['Is client also participating in a training program?'] = np.where(enroll['Is client also participating in a training program?'].str.contains('Manufacturing Program|Office Skills & Customer Service|Custodial|Contact Center'),'Yes','No')"
   ]
  },
  {
   "cell_type": "code",
   "execution_count": 295,
   "id": "a02b659d-621d-46c8-b2cb-22f384e9c497",
   "metadata": {},
   "outputs": [
    {
     "data": {
      "text/plain": [
       "Is client also participating in a training program?\n",
       "Yes    396\n",
       "No     132\n",
       "Name: count, dtype: int64"
      ]
     },
     "execution_count": 295,
     "metadata": {},
     "output_type": "execute_result"
    }
   ],
   "source": [
    "enroll['Is client also participating in a training program?'].value_counts()"
   ]
  },
  {
   "cell_type": "code",
   "execution_count": 296,
   "id": "94b6d21a-7cca-4330-9e4e-d46bedda50ff",
   "metadata": {},
   "outputs": [],
   "source": [
    "enroll['National Criminal History Check'] = np.where(enroll['Criminal History Check'] == 'National - pending','Pending','')\n",
    "enroll['Criminal History Check'] = enroll['Criminal History Check'].str.replace('National - pending','')"
   ]
  },
  {
   "cell_type": "code",
   "execution_count": 421,
   "id": "ff53af08-ac2a-48ff-acc3-50563ee23047",
   "metadata": {},
   "outputs": [],
   "source": [
    "enroll.to_excel(r'redacted file path\\exports\\real enrollment to service import2.xlsx')"
   ]
  },
  {
   "cell_type": "markdown",
   "id": "56f4b751-417b-4f4e-b3e4-d03a0b37cf57",
   "metadata": {},
   "source": [
    "### Intake"
   ]
  },
  {
   "cell_type": "code",
   "execution_count": 297,
   "id": "8016f172-154e-4912-a54a-bdea7f044c1b",
   "metadata": {},
   "outputs": [],
   "source": [
    "intake = pd.read_excel(r'redacted file path\\Intake Wizard (intake application) - unformatted.xlsx')\n",
    "\n",
    "# remove repetitive columns\n",
    "intake = intake.drop(columns=['Title','Item Type','Path','Folder Child Count','Content Type','Item Child Count'])\n",
    "\n",
    "# the key value had a space in it, so needed to remove that space\n",
    "intake['Full Name'] = intake['Full Name'].str.replace(', ',',')\n",
    "\n",
    "# remove test case rows\n",
    "intake = intake[~intake['Full Name'].str.contains('test', case=False, na=False)].copy()\n",
    "\n",
    "# remove any text (within parethesis) to standardize names\n",
    "intake['Full Name'] = intake['Full Name'].replace(r'\\(.*?\\)','',regex=True).str.strip()\n",
    "\n",
    "intake['Full Name'] = intake['Full Name'].replace(r'\\\".*?\\\"','',regex=True).str.strip()"
   ]
  },
  {
   "cell_type": "code",
   "execution_count": 298,
   "id": "9232bc20-2a8d-4c48-bb81-ae6b0583a4ef",
   "metadata": {
    "scrolled": true
   },
   "outputs": [],
   "source": [
    "intake2 = intake[[\n",
    "    'Created By',\n",
    "    'Created',\n",
    "    'Processing details: Closed',\n",
    "    'Processing details: Date Closed',\n",
    "    'Processing details: Closed',\n",
    "    'Processing details: notes',\n",
    "    'Created',\n",
    "    'Orion Location',\n",
    "    'Assigned to Venue',\n",
    "    'Assigned to Venue',\n",
    "    'Referral details: Referral Source',\n",
    "    'Date of Tour',\n",
    "    'Date of Tour',\n",
    "    'Referral details: Referral Source',\n",
    "    'Referral Contact:First Name',\n",
    "    'Referral Contact:Last Name',\n",
    "    'First Name',\n",
    "    'Last Name',\n",
    "    'Nickname',\n",
    "    'Phone',\n",
    "    'Phone',\n",
    "    'Email',\n",
    "    'Address',\n",
    "    'City',\n",
    "    'State',\n",
    "    'Zip Code:County',\n",
    "    'Zip Code',\n",
    "    'Guardian: Status',\n",
    "    'Guardian: email',\n",
    "    'Guardian: First Name',\n",
    "    'Guardian: Last Name',\n",
    "    'Guardian: Phone',\n",
    "    'Status of Intake',\n",
    "    'Orion Location'\n",
    "]]\n",
    "colname = [\n",
    "    'Assigned Staff',\n",
    "    'Date Assigned',\n",
    "    'Closing Referral without Moving Forward?',\n",
    "    'Date Closed',\n",
    "    'Referral Closed Reason',\n",
    "    'Processing Notes',\n",
    "    'Date',\n",
    "    'Site',\n",
    "    'Auburn Programs/Services Referring To',\n",
    "    'Mukilteo Programs/Services Referring To',\n",
    "    'Referral Source',\n",
    "    'Is this Application being completed on site at Orion as part of a Site Tour?',\n",
    "    'Date of Tour',\n",
    "    'Agency Name',\n",
    "    'Referral Contact:First Name',\n",
    "    'Referral Contact:Last Name',\n",
    "    'First Name',\n",
    "    'Last Name',\n",
    "    'Nickname',\n",
    "    'Phone availabile',\n",
    "    'Phone',\n",
    "    'Email',\n",
    "    'Address',\n",
    "    'City',\n",
    "    'State',\n",
    "    'Zip Code:County',\n",
    "    'Zip Code',\n",
    "    'Guardian: Status',\n",
    "    'Guardian: email',\n",
    "    'Guardian: First Name',\n",
    "    'Guardian: Last Name',\n",
    "    'Guardian: Phone',\n",
    "    'Status',\n",
    "    'Orion Location'\n",
    "]\n",
    "intake2.columns = colname"
   ]
  },
  {
   "cell_type": "code",
   "execution_count": 299,
   "id": "1d6884c5-afdc-4088-8cdd-cc69a8ffd30f",
   "metadata": {},
   "outputs": [],
   "source": [
    "# edit the duplicated columns with static values\n",
    "intake2 = intake2.copy()\n",
    "intake2.loc[intake2['Closing Referral without Moving Forward?'].notna(), 'Closing Referral without Moving Forward?'] = 'Yes'\n",
    "\n",
    "#set the date value as a str\n",
    "intake2['Is this Application being completed on site at Orion as part of a Site Tour?'] = intake2['Is this Application being completed on site at Orion as part of a Site Tour?'].astype(str)\n",
    "intake2.loc[intake2['Is this Application being completed on site at Orion as part of a Site Tour?'].notna(), 'Is this Application being completed on site at Orion as part of a Site Tour?'] = 'Yes'\n",
    "\n",
    "intake2.loc[intake2['Phone availabile'].notna(), 'Phone availabile'] = 'Yes'"
   ]
  },
  {
   "cell_type": "code",
   "execution_count": 300,
   "id": "f58ae14b-581c-4257-892b-7adbe04aa477",
   "metadata": {
    "scrolled": true
   },
   "outputs": [],
   "source": [
    "\n",
    "intake2.loc[:,'Guardian info'] = intake2['Guardian: email']+' '+intake2['Guardian: First Name']+' '+intake2['Guardian: Last Name']+' '+intake2['Guardian: Phone']\n",
    "\n",
    "intake3 = intake2.drop(columns=['Guardian: email','Guardian: First Name','Guardian: Last Name','Guardian: Phone']).copy()\n",
    "intake3['Orion Location'] = intake3['Orion Location'].replace('Auburn',1174)\n",
    "intake3['Orion Location'] = intake3['Orion Location'].replace('Mukilteo',2870)"
   ]
  },
  {
   "cell_type": "code",
   "execution_count": 301,
   "id": "589fa9e0-8341-4ca4-b210-b7cc27dcce04",
   "metadata": {
    "scrolled": true
   },
   "outputs": [],
   "source": [
    "# remove values from the site specific service\n",
    "\n",
    "auburn_mask = intake3['Site'] == 'Auburn'\n",
    "mukilteo_mask = intake3['Site'] == 'Mukilteo'\n",
    "\n",
    "# Apply masks to set values to NaN where they don't match the site\n",
    "intake3.loc[auburn_mask, 'Mukilteo Programs/Services Referring To'] = np.nan\n",
    "intake3.loc[mukilteo_mask, 'Auburn Programs/Services Referring To'] = np.nan"
   ]
  },
  {
   "cell_type": "code",
   "execution_count": 302,
   "id": "c9c9138f-23b6-4003-b43d-75d09d467620",
   "metadata": {},
   "outputs": [
    {
     "data": {
      "text/plain": [
       "Mukilteo Programs/Services Referring To\n",
       "Mukilteo - Community Based Services    188\n",
       "Mukilteo - Manufacturing Program        94\n",
       "Mukilteo-Light Assembly                  1\n",
       "Name: count, dtype: int64"
      ]
     },
     "execution_count": 302,
     "metadata": {},
     "output_type": "execute_result"
    }
   ],
   "source": [
    "intake3['Mukilteo Programs/Services Referring To'].value_counts()"
   ]
  },
  {
   "cell_type": "code",
   "execution_count": 303,
   "id": "04ed53a3-4db9-4b24-934f-ba242934037b",
   "metadata": {},
   "outputs": [
    {
     "data": {
      "text/plain": [
       "Auburn Programs/Services Referring To\n",
       "Auburn - Manufacturing Program               716\n",
       "Auburn - Office Skills & Customer Service    103\n",
       "Auburn - Community Based Services             32\n",
       "Auburn - Custodial                            22\n",
       "Auburn - Contact Center                        2\n",
       "Mukilteo - Manufacturing Program               1\n",
       "Name: count, dtype: int64"
      ]
     },
     "execution_count": 303,
     "metadata": {},
     "output_type": "execute_result"
    }
   ],
   "source": [
    "intake3['Auburn Programs/Services Referring To'].value_counts()"
   ]
  },
  {
   "cell_type": "code",
   "execution_count": 304,
   "id": "63be69bd-856d-4d53-859b-56f4f2b463dd",
   "metadata": {},
   "outputs": [],
   "source": [
    "# Services referring to edit\n",
    "\n",
    "mukdict = {\n",
    "    'Mukilteo - Community Based Services':'Community Based Services',\n",
    "    'Mukilteo - Manufacturing Program':'Transitional Training - Manufacturing',\n",
    "    'Mukilteo-Light Assembly':'Transitional Training - Manufacturing'\n",
    "}\n",
    "aubdict = {\n",
    "    'Auburn - Manufacturing Program':'Transitional Training - Manufacturing',\n",
    "    'Auburn - Office Skills & Customer Service':'Clerical Customer Service Training',\n",
    "    'Auburn - Community Based Services':'Community Based Services',\n",
    "    'Auburn - Custodial':'Transitional Training - Custodial',\n",
    "    'Auburn - Contact Center':'Clerical Customer Service Training',\n",
    "    'Mukilteo - Manufacturing Program':'Transitional Training - Manufacturing'\n",
    "}\n",
    "\n",
    "intake3['Mukilteo Programs/Services Referring To'] = intake3['Mukilteo Programs/Services Referring To'].replace(mukdict)\n",
    "intake3['Auburn Programs/Services Referring To'] = intake3['Auburn Programs/Services Referring To'].replace(aubdict)"
   ]
  },
  {
   "cell_type": "code",
   "execution_count": 305,
   "id": "81bf6b37-565a-44ed-a21d-a2f44c241144",
   "metadata": {
    "scrolled": true
   },
   "outputs": [],
   "source": [
    "# processing notes edit\n",
    "\n",
    "refrep = {\n",
    "    'Denied':'Client not a good fit',\n",
    "    'Requested to Close':'Client refused services',\n",
    "    'Timed Out':'Client unable to be reached',\n",
    "}\n",
    "\n",
    "intake3['Referral Closed Reason'] = intake3['Referral Closed Reason'].replace(refrep)"
   ]
  },
  {
   "cell_type": "code",
   "execution_count": 306,
   "id": "fad5e279-6704-4e3f-82e0-3f020aa890a1",
   "metadata": {},
   "outputs": [
    {
     "data": {
      "text/plain": [
       "Referral Source\n",
       "75;#Previous Program Participant or Word of Mouth    237\n",
       "73;#WorkSource                                       100\n",
       "76;#AAHAA                                             96\n",
       "45;#DVR-Lynnwood                                      90\n",
       "35;#DVR-Seatac                                        67\n",
       "                                                    ... \n",
       "86;#Olsen & Associates                                 1\n",
       "77;#Goodwill                                           1\n",
       "87;#Strategic Consulting Services                      1\n",
       "63;#Tacoma Rescue Mission                              1\n",
       "136;#Senior Housing Stability Program                  1\n",
       "Name: count, Length: 65, dtype: int64"
      ]
     },
     "execution_count": 306,
     "metadata": {},
     "output_type": "execute_result"
    }
   ],
   "source": [
    "intake3['Referral Source'].value_counts()"
   ]
  },
  {
   "cell_type": "code",
   "execution_count": 307,
   "id": "01f0bb13-e6cd-4bfb-8e36-14fb69c75504",
   "metadata": {},
   "outputs": [],
   "source": [
    "# referral source edit values\n",
    "\n",
    "pattern = r'\\b\\d{1,3};#'\n",
    "intake3['Referral Source'] = intake3['Referral Source'].str.replace(pattern,'',regex=True)\n",
    "\n",
    "# Remove text following \"DVR\" in the original column\n",
    "intake3['Referral Source'] = intake3['Referral Source'].str.replace(r'DVR.*', 'DVR', regex=True)\n",
    "\n",
    "intake3['Referral Source'] = intake3['Referral Source'].str.replace(r'DDA.*', 'DDA', regex=True)\n",
    "\n",
    "ref2rep = {\n",
    "    'Previous Program Participant or Word of Mouth':'Family/Friend',\n",
    "    'WorkSource':'Private Referral Partner (example, L&I)',\n",
    "    'AAHAA':'Private Referral Partner (example, L&I)',\n",
    "    'Senior Housing Stability Program':'Private Referral Partner (example, L&I)',\n",
    "    'Tacoma Rescue Mission':'Private Referral Partner (example, L&I)',\n",
    "    'Strategic Consulting Services':'Private Referral Partner (example, L&I)',\n",
    "    'Goodwill':'Private Referral Partner (example, L&I)',\n",
    "    'Olsen & Associates':'Private Referral Partner (example, L&I)',\n",
    "    'Fusion Family Center':'Private Referral Partner (example, L&I)',\n",
    "    'A Walk to Freedom Counseling':'Private Referral Partner (example, L&I)',\n",
    "    'Peer Kent':'Private Referral Partner (example, L&I)',\n",
    "    'Renton Community Court Resource Center':'Other Government Organization',\n",
    "    'YWCA':'Private Referral Partner (example, L&I)',\n",
    "    'Asian Counseling and Referral Service (ACRS)':'Private Referral Partner (example, L&I)',\n",
    "    'Union Gospel Mission':'Private Referral Partner (example, L&I)',\n",
    "    'Freedom Project':'Private Referral Partner (example, L&I)',\n",
    "    'Compass Career Solutions':'Private Referral Partner (example, L&I)',\n",
    "    'Aerospace Joint Apprenticeship Committee (AJAC)':'Private Referral Partner (example, L&I)',\n",
    "    'Auburn Food Bank':'Private Referral Partner (example, L&I)',\n",
    "    'Labor & Industries':'Private Referral Partner (example, L&I)',\n",
    "    'Valley Cities':'Private Referral Partner (example, L&I)',\n",
    "    'Sound Mental Health':'Private Referral Partner (example, L&I)',\n",
    "    'Multi-Service Center':'Private Referral Partner (example, L&I)',\n",
    "    'Tacoma Rescue Mission':'Private Referral Partner (example, L&I)',\n",
    "    'Neighborhood House':'Private Referral Partner (example, L&I)',\n",
    "    'Ray of Hope':'Private Referral Partner (example, L&I)',\n",
    "    'Thunderbird Treatment Center':'Private Referral Partner (example, L&I)',\n",
    "    'Catholic Community Services':'Private Referral Partner (example, L&I)',\n",
    "    'WorkStep':'Private Referral Partner (example, L&I)',\n",
    "    'SJI (Seattle Jobs Initiative)':'Private Referral Partner (example, L&I)',\n",
    "    'Goodwill':'Private Referral Partner (example, L&I)',\n",
    "    'TRAC Associates':'Private Referral Partner (example, L&I)',\n",
    "    'Vine Maple Place':'Private Referral Partner (example, L&I)',\n",
    "    'Partners in Employment':'Private Referral Partner (example, L&I)',\n",
    "    'Pioneer Industries':'Private Referral Partner (example, L&I)',\n",
    "    'Auburn School District':'School/Education Program',\n",
    "    'Snohomish County Human Services | Housing and Community Services':'Other Government Organization',\n",
    "    'LCSNW - Lutheran Services of the Northwest':'Housing/Shelter Program',\n",
    "    'We Care Daily Clinics':'Sobriety Program',\n",
    "    'King County Sheriff Office':'Other Government Organization',\n",
    "    'Alcoholics Anonymous (AA)':'Sobriety Program',\n",
    "    'Auburn Community Resource Center':'Other Government Organization',\n",
    "    'King County Jobs and Housing':'Housing/Shelter Program',\n",
    "    'Everett Recovery Cafe':'Sobriety Program',\n",
    "    'Federal Way Courts':'Other Government Organization',\n",
    "    'Recovery Navigator Program':'Sobriety Program',\n",
    "    'Take The Next Step':'Sobriety Program',\n",
    "    'Senior Housing Stability Program':'Housing/Shelter Program',\n",
    "    'Veterans Administration-Seattle':'Other Government Organization',\n",
    "    'Veterans Administration-Lakewood':'Other Government Organization',\n",
    "    'Department of Corrections':'Other Government Organization',\n",
    "    'Low Income Housing Institute (LIHI)':'Housing/Shelter Program',\n",
    "    'Battlefield Addiction':'Sobriety Program',\n",
    "    'Social Media (ex. Facebook, website, etc.)':'Other',\n",
    "    'Cocoon House':'Housing/Shelter Program'\n",
    "}\n",
    "\n",
    "intake3['Referral Source'] = intake3['Referral Source'].replace(ref2rep)"
   ]
  },
  {
   "cell_type": "code",
   "execution_count": 308,
   "id": "22ff7900-cb50-4e29-add8-fcdad47f366c",
   "metadata": {},
   "outputs": [],
   "source": [
    "intake3['Guardian: Status'] = intake3['Guardian: Status'].fillna('No')\n",
    "intake3['Site'] = intake3['Site'].fillna('Auburn')\n",
    "intake3['Zip Code:County'] = intake3['Zip Code:County'].fillna('King')"
   ]
  },
  {
   "cell_type": "code",
   "execution_count": 309,
   "id": "5e83e0fb-94be-4e88-baca-551118ca401f",
   "metadata": {},
   "outputs": [
    {
     "data": {
      "text/plain": [
       "Status\n",
       "Started                 1114\n",
       "Withdrawn                512\n",
       "Tour Only                236\n",
       "Denied                   189\n",
       "Pending / In Process     112\n",
       "Approved                  44\n",
       "On Hold                    1\n",
       "Name: count, dtype: int64"
      ]
     },
     "execution_count": 309,
     "metadata": {},
     "output_type": "execute_result"
    }
   ],
   "source": [
    "intake3['Status'].value_counts()"
   ]
  },
  {
   "cell_type": "code",
   "execution_count": 310,
   "id": "7ff1ab39-e609-43b8-b6bf-8d851ac296bc",
   "metadata": {
    "scrolled": true
   },
   "outputs": [],
   "source": [
    "intake4 = intake3[intake3['Status'] != 'Started'].reset_index().copy()\n",
    "\n",
    "status1list = ['Tour Only','Denied','Withdrawn']\n",
    "status1 = intake4[(intake4['Status'].isin(status1list)) & (intake4['Date'].dt.year == 2024)]\n",
    "\n",
    "status2list = ['Approved','On Hold','Pending / In Process']\n",
    "status2 = intake4[(intake4['Status'].isin(status2list))]"
   ]
  },
  {
   "cell_type": "code",
   "execution_count": 311,
   "id": "28ebd2e9-ee45-46e0-8d1a-797a2973a8f2",
   "metadata": {
    "scrolled": true
   },
   "outputs": [],
   "source": [
    "intake5 = pd.concat([status1,status2], ignore_index=True)\n",
    "intake5 = intake5.copy()\n",
    "intake5 = intake5.drop(columns='index')\n",
    "intake5['migrationID'] = range(1,len(intake5) + 1)\n",
    "intake5['Assigned Staff'] = intake5['Assigned Staff'].str.replace('Jeri Lucas Audit','Jeri Lucas')"
   ]
  },
  {
   "cell_type": "code",
   "execution_count": 312,
   "id": "681d806a-0db7-474e-aa40-00ad338817f2",
   "metadata": {},
   "outputs": [],
   "source": [
    "pattern = r'\\b\\d{1,3};#'\n",
    "intake5['Agency Name'] = intake5['Agency Name'].str.replace(pattern,'',regex=True)"
   ]
  },
  {
   "cell_type": "code",
   "execution_count": 313,
   "id": "54686f90-5254-4733-86f9-9bc9f89caa76",
   "metadata": {},
   "outputs": [],
   "source": [
    "people = merge6[['people_First Name','people_Last Name','demo_Date of Birth']].copy()"
   ]
  },
  {
   "cell_type": "code",
   "execution_count": 314,
   "id": "847b3302-fe70-4e34-a859-03d429917217",
   "metadata": {
    "scrolled": true
   },
   "outputs": [],
   "source": [
    "intake6 = intake5.merge(people,how='left',left_on=['First Name','Last Name'],right_on=['people_First Name','people_Last Name'])"
   ]
  },
  {
   "cell_type": "code",
   "execution_count": 315,
   "id": "5cc381dd-17ac-4af7-b785-3fbc629c2f5b",
   "metadata": {},
   "outputs": [
    {
     "name": "stdout",
     "output_type": "stream",
     "text": [
      "<class 'pandas.core.frame.DataFrame'>\n",
      "RangeIndex: 466 entries, 0 to 465\n",
      "Data columns (total 35 columns):\n",
      " #   Column                                                                        Non-Null Count  Dtype         \n",
      "---  ------                                                                        --------------  -----         \n",
      " 0   Assigned Staff                                                                466 non-null    object        \n",
      " 1   Date Assigned                                                                 466 non-null    datetime64[ns]\n",
      " 2   Closing Referral without Moving Forward?                                      131 non-null    object        \n",
      " 3   Date Closed                                                                   245 non-null    datetime64[ns]\n",
      " 4   Referral Closed Reason                                                        131 non-null    object        \n",
      " 5   Processing Notes                                                              360 non-null    object        \n",
      " 6   Date                                                                          466 non-null    datetime64[ns]\n",
      " 7   Site                                                                          466 non-null    object        \n",
      " 8   Auburn Programs/Services Referring To                                         4 non-null      object        \n",
      " 9   Mukilteo Programs/Services Referring To                                       6 non-null      object        \n",
      " 10  Referral Source                                                               160 non-null    object        \n",
      " 11  Is this Application being completed on site at Orion as part of a Site Tour?  466 non-null    object        \n",
      " 12  Date of Tour                                                                  445 non-null    datetime64[ns]\n",
      " 13  Agency Name                                                                   160 non-null    object        \n",
      " 14  Referral Contact:First Name                                                   9 non-null      object        \n",
      " 15  Referral Contact:Last Name                                                    9 non-null      object        \n",
      " 16  First Name                                                                    464 non-null    object        \n",
      " 17  Last Name                                                                     464 non-null    object        \n",
      " 18  Nickname                                                                      71 non-null     object        \n",
      " 19  Phone availabile                                                              443 non-null    object        \n",
      " 20  Phone                                                                         443 non-null    object        \n",
      " 21  Email                                                                         417 non-null    object        \n",
      " 22  Address                                                                       447 non-null    object        \n",
      " 23  City                                                                          443 non-null    object        \n",
      " 24  State                                                                         466 non-null    object        \n",
      " 25  Zip Code:County                                                               466 non-null    object        \n",
      " 26  Zip Code                                                                      425 non-null    float64       \n",
      " 27  Guardian: Status                                                              466 non-null    object        \n",
      " 28  Status                                                                        466 non-null    object        \n",
      " 29  Orion Location                                                                448 non-null    float64       \n",
      " 30  Guardian info                                                                 0 non-null      object        \n",
      " 31  migrationID                                                                   466 non-null    int64         \n",
      " 32  people_First Name                                                             18 non-null     object        \n",
      " 33  people_Last Name                                                              18 non-null     object        \n",
      " 34  demo_Date of Birth                                                            18 non-null     object        \n",
      "dtypes: datetime64[ns](4), float64(2), int64(1), object(28)\n",
      "memory usage: 127.6+ KB\n"
     ]
    }
   ],
   "source": [
    "intake6.info()"
   ]
  },
  {
   "cell_type": "code",
   "execution_count": 377,
   "id": "728fc15f-5314-429c-8054-128e33148d08",
   "metadata": {},
   "outputs": [],
   "source": [
    "intake6.to_excel(r'redacted file path\\exports\\real intake application.xlsx')"
   ]
  },
  {
   "cell_type": "markdown",
   "id": "120f0a56-69a7-4619-9172-cf75c0e3aa70",
   "metadata": {},
   "source": [
    "### linking IDs for employers"
   ]
  },
  {
   "cell_type": "code",
   "execution_count": 316,
   "id": "9cd2ecbd-7f3b-4d90-bf9a-f0a93a5fdd19",
   "metadata": {},
   "outputs": [],
   "source": [
    "orgid = pd.read_excel(r'redacted file path\\exports\\external linking\\org id.xlsx')\n",
    "placementid = pd.read_excel(r'redacted file path\\exports\\external linking\\placement id.xlsx')\n",
    "\n",
    "placemerge = placementid.merge(orgid,how='left',left_on='Employer Organization Name',right_on='Organization Name')"
   ]
  },
  {
   "cell_type": "code",
   "execution_count": 317,
   "id": "9cff7b2b-a109-4c83-bda5-e3ed976060cc",
   "metadata": {},
   "outputs": [
    {
     "name": "stdout",
     "output_type": "stream",
     "text": [
      "<class 'pandas.core.frame.DataFrame'>\n",
      "RangeIndex: 282 entries, 0 to 281\n",
      "Data columns (total 4 columns):\n",
      " #   Column                        Non-Null Count  Dtype  \n",
      "---  ------                        --------------  -----  \n",
      " 0   Employer Organization Name    282 non-null    object \n",
      " 1   employer placement Record ID  282 non-null    int64  \n",
      " 2   Organization Name             280 non-null    object \n",
      " 3   partner org Record ID         280 non-null    float64\n",
      "dtypes: float64(1), int64(1), object(2)\n",
      "memory usage: 8.9+ KB\n"
     ]
    }
   ],
   "source": [
    "placemerge.info()"
   ]
  },
  {
   "cell_type": "code",
   "execution_count": 688,
   "id": "e12b5143-56f4-4327-a50b-be82534dae47",
   "metadata": {},
   "outputs": [],
   "source": [
    "placemerge.to_excel(r'redacted file path\\exports\\placement organization linking ids2.xlsx')"
   ]
  },
  {
   "cell_type": "code",
   "execution_count": 318,
   "id": "448c22a7-d3b4-421b-b756-74c314878fb5",
   "metadata": {},
   "outputs": [],
   "source": [
    "detail = pd.read_excel(r'redacted file path\\exports\\external linking\\placement org dedupe ids.xlsx')"
   ]
  },
  {
   "cell_type": "code",
   "execution_count": 319,
   "id": "d7a75e86-3418-4721-b55d-1c1f8a64f6f3",
   "metadata": {},
   "outputs": [],
   "source": [
    "detail2 = detail[detail['Employer Organization Name'] == detail['import employer name']]"
   ]
  },
  {
   "cell_type": "code",
   "execution_count": 690,
   "id": "526dbd8e-45f9-4abe-b79f-df4a378d2aee",
   "metadata": {},
   "outputs": [],
   "source": [
    "detail2.to_excel(r'redacted file path\\exports\\external linking\\placement org dedupe ids DEDUPED.xlsx')"
   ]
  },
  {
   "cell_type": "markdown",
   "id": "d04b7b66-73ed-4ce0-a0a8-581f8f896c96",
   "metadata": {},
   "source": [
    "### Linking goals by id"
   ]
  },
  {
   "cell_type": "code",
   "execution_count": 320,
   "id": "db024d61-6d94-4e44-afbb-c127c7d9a182",
   "metadata": {},
   "outputs": [],
   "source": [
    "goaldate = pd.read_excel(r'redacted file path\\exports\\external linking\\service plan to goal linking by date.xlsx')"
   ]
  },
  {
   "cell_type": "code",
   "execution_count": 321,
   "id": "509cf353-d6d5-4ec5-b277-9cea5620e899",
   "metadata": {},
   "outputs": [],
   "source": [
    "goaldate = goaldate.sort_values(by=['Date Goal Opened','sub service date'],ascending=True)"
   ]
  },
  {
   "cell_type": "code",
   "execution_count": 322,
   "id": "44c78ad1-29a2-440e-9f42-cb4c4336504c",
   "metadata": {},
   "outputs": [],
   "source": [
    "goaldate_equal = goaldate[goaldate['Date Goal Opened'] == goaldate['sub service date']].copy()\n",
    "goaldate_unequal = goaldate[goaldate['Date Goal Opened'] != goaldate['sub service date']].copy()"
   ]
  },
  {
   "cell_type": "code",
   "execution_count": 323,
   "id": "f6d8e562-f754-4441-8284-3db7352e20db",
   "metadata": {},
   "outputs": [],
   "source": [
    "# goaldate_equal.to_excel(r'redacted file path\\exports\\external linking\\goal service equal DEDUPED.xlsx')"
   ]
  },
  {
   "cell_type": "code",
   "execution_count": 324,
   "id": "fd569b37-f86b-454e-9f3a-8fe45872c5c2",
   "metadata": {},
   "outputs": [
    {
     "name": "stdout",
     "output_type": "stream",
     "text": [
      "<class 'pandas.core.frame.DataFrame'>\n",
      "Index: 604 entries, 711 to 1305\n",
      "Data columns (total 7 columns):\n",
      " #   Column                    Non-Null Count  Dtype \n",
      "---  ------                    --------------  ----- \n",
      " 0   Record ID                 604 non-null    object\n",
      " 1   service plan Record ID    604 non-null    int64 \n",
      " 2   Service text calc         604 non-null    object\n",
      " 3   sub service date          604 non-null    object\n",
      " 4   Date Goal Opened          604 non-null    object\n",
      " 5   goal Record ID            604 non-null    int64 \n",
      " 6   Import service text calc  604 non-null    object\n",
      "dtypes: int64(2), object(5)\n",
      "memory usage: 37.8+ KB\n"
     ]
    }
   ],
   "source": [
    "goaldate_unequal.info()"
   ]
  },
  {
   "cell_type": "code",
   "execution_count": 325,
   "id": "efe9f227-c1d8-4296-8703-8f32e550a135",
   "metadata": {},
   "outputs": [],
   "source": [
    "# Filter to ensure 'Date Goal Opened' is on or after 'sub service date'\n",
    "filtered_goaldate = goaldate_unequal[goaldate_unequal['Date Goal Opened'] >= goaldate_unequal['sub service date']]\n",
    "\n",
    "# Remove duplicates based on 'goal Record ID' while keeping the first occurrence\n",
    "goaldate2 = filtered_goaldate.drop_duplicates(subset='goal Record ID', keep='first')"
   ]
  },
  {
   "cell_type": "code",
   "execution_count": 326,
   "id": "e333aa39-6e17-4c55-8641-865b98a716ad",
   "metadata": {},
   "outputs": [],
   "source": [
    "goaldate3 = pd.concat([goaldate_equal,goaldate2])\n",
    "goaldate3 = goaldate3.drop_duplicates(subset='goal Record ID', keep='first')"
   ]
  },
  {
   "cell_type": "code",
   "execution_count": 327,
   "id": "58d4380a-690d-41d4-9e19-bf84139ab976",
   "metadata": {},
   "outputs": [],
   "source": [
    "goaldate3 = goaldate3.sort_values(by='Record ID')"
   ]
  },
  {
   "cell_type": "code",
   "execution_count": 731,
   "id": "e450a602-c850-4e5a-b8b6-3c2ad10f253d",
   "metadata": {},
   "outputs": [],
   "source": [
    "goaldate3.to_excel(r'redacted file path\\exports\\external linking\\goal service DEDUPED.xlsx')"
   ]
  }
 ],
 "metadata": {
  "kernelspec": {
   "display_name": "Python 3 (ipykernel)",
   "language": "python",
   "name": "python3"
  },
  "language_info": {
   "codemirror_mode": {
    "name": "ipython",
    "version": 3
   },
   "file_extension": ".py",
   "mimetype": "text/x-python",
   "name": "python",
   "nbconvert_exporter": "python",
   "pygments_lexer": "ipython3",
   "version": "3.11.7"
  }
 },
 "nbformat": 4,
 "nbformat_minor": 5
}
