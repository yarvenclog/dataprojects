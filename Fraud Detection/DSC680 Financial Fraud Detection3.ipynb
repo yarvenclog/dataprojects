{
 "cells": [
  {
   "cell_type": "code",
   "execution_count": 1,
   "id": "a1211b62",
   "metadata": {},
   "outputs": [],
   "source": [
    "import pandas as pd\n",
    "import numpy as np\n",
    "import re"
   ]
  },
  {
   "cell_type": "code",
   "execution_count": 2,
   "id": "2ea648c8",
   "metadata": {},
   "outputs": [
    {
     "name": "stdout",
     "output_type": "stream",
     "text": [
      "<class 'pandas.core.frame.DataFrame'>\n",
      "RangeIndex: 6362620 entries, 0 to 6362619\n",
      "Data columns (total 11 columns):\n",
      " #   Column          Dtype  \n",
      "---  ------          -----  \n",
      " 0   step            int64  \n",
      " 1   type            object \n",
      " 2   amount          float64\n",
      " 3   nameOrig        object \n",
      " 4   oldbalanceOrg   float64\n",
      " 5   newbalanceOrig  float64\n",
      " 6   nameDest        object \n",
      " 7   oldbalanceDest  float64\n",
      " 8   newbalanceDest  float64\n",
      " 9   isFraud         int64  \n",
      " 10  isFlaggedFraud  int64  \n",
      "dtypes: float64(5), int64(3), object(3)\n",
      "memory usage: 534.0+ MB\n"
     ]
    }
   ],
   "source": [
    "fraud = pd.read_csv(r'F:\\data science\\Jupyter\\work file\\datasets\\fraud.csv')\n",
    "fraud.info()"
   ]
  },
  {
   "cell_type": "markdown",
   "id": "423e9827",
   "metadata": {},
   "source": [
    "### description of columns\n",
    "\n",
    "step - maps a unit of time in the real world. In this case 1 step is 1 hour of time. Total steps 744 (30 days simulation).\n",
    "\n",
    "type - CASH-IN, CASH-OUT, DEBIT, PAYMENT and TRANSFER.\n",
    "\n",
    "amount -\n",
    "amount of the transaction in local currency.\n",
    "\n",
    "nameOrig - customer who started the transaction\n",
    "\n",
    "oldbalanceOrg - initial balance before the transaction\n",
    "\n",
    "newbalanceOrig - new balance after the transaction.\n",
    "\n",
    "nameDest - customer who is the recipient of the transaction\n",
    "\n",
    "oldbalanceDest - initial balance recipient before the transaction. Note that there is not information for customers that start with M (Merchants).\n",
    "\n",
    "newbalanceDest - new balance recipient after the transaction. Note that there is not information for customers that start with M (Merchants).\n",
    "\n",
    "isFraud - This is the transactions made by the fraudulent agents inside the simulation. In this specific dataset the fraudulent behavior of the agents aims to profit by taking control or customers accounts and try to empty the funds by transferring to another account and then cashing out of the system.\n",
    "\n",
    "isFlaggedFraud - The business model aims to control massive transfers from one account to another and flags illegal attempts. An illegal attempt in this dataset is an attempt to transfer more than 200.000 in a single transaction."
   ]
  },
  {
   "cell_type": "code",
   "execution_count": 3,
   "id": "ca921a93",
   "metadata": {},
   "outputs": [
    {
     "data": {
      "text/html": [
       "<div>\n",
       "<style scoped>\n",
       "    .dataframe tbody tr th:only-of-type {\n",
       "        vertical-align: middle;\n",
       "    }\n",
       "\n",
       "    .dataframe tbody tr th {\n",
       "        vertical-align: top;\n",
       "    }\n",
       "\n",
       "    .dataframe thead th {\n",
       "        text-align: right;\n",
       "    }\n",
       "</style>\n",
       "<table border=\"1\" class=\"dataframe\">\n",
       "  <thead>\n",
       "    <tr style=\"text-align: right;\">\n",
       "      <th></th>\n",
       "      <th>step</th>\n",
       "      <th>type</th>\n",
       "      <th>amount</th>\n",
       "      <th>nameOrig</th>\n",
       "      <th>oldbalanceOrg</th>\n",
       "      <th>newbalanceOrig</th>\n",
       "      <th>nameDest</th>\n",
       "      <th>oldbalanceDest</th>\n",
       "      <th>newbalanceDest</th>\n",
       "      <th>isFraud</th>\n",
       "      <th>isFlaggedFraud</th>\n",
       "    </tr>\n",
       "  </thead>\n",
       "  <tbody>\n",
       "    <tr>\n",
       "      <th>0</th>\n",
       "      <td>1</td>\n",
       "      <td>PAYMENT</td>\n",
       "      <td>9839.64</td>\n",
       "      <td>C1231006815</td>\n",
       "      <td>170136.0</td>\n",
       "      <td>160296.36</td>\n",
       "      <td>M1979787155</td>\n",
       "      <td>0.0</td>\n",
       "      <td>0.0</td>\n",
       "      <td>0</td>\n",
       "      <td>0</td>\n",
       "    </tr>\n",
       "    <tr>\n",
       "      <th>1</th>\n",
       "      <td>1</td>\n",
       "      <td>PAYMENT</td>\n",
       "      <td>1864.28</td>\n",
       "      <td>C1666544295</td>\n",
       "      <td>21249.0</td>\n",
       "      <td>19384.72</td>\n",
       "      <td>M2044282225</td>\n",
       "      <td>0.0</td>\n",
       "      <td>0.0</td>\n",
       "      <td>0</td>\n",
       "      <td>0</td>\n",
       "    </tr>\n",
       "    <tr>\n",
       "      <th>2</th>\n",
       "      <td>1</td>\n",
       "      <td>TRANSFER</td>\n",
       "      <td>181.00</td>\n",
       "      <td>C1305486145</td>\n",
       "      <td>181.0</td>\n",
       "      <td>0.00</td>\n",
       "      <td>C553264065</td>\n",
       "      <td>0.0</td>\n",
       "      <td>0.0</td>\n",
       "      <td>1</td>\n",
       "      <td>0</td>\n",
       "    </tr>\n",
       "    <tr>\n",
       "      <th>3</th>\n",
       "      <td>1</td>\n",
       "      <td>CASH_OUT</td>\n",
       "      <td>181.00</td>\n",
       "      <td>C840083671</td>\n",
       "      <td>181.0</td>\n",
       "      <td>0.00</td>\n",
       "      <td>C38997010</td>\n",
       "      <td>21182.0</td>\n",
       "      <td>0.0</td>\n",
       "      <td>1</td>\n",
       "      <td>0</td>\n",
       "    </tr>\n",
       "    <tr>\n",
       "      <th>4</th>\n",
       "      <td>1</td>\n",
       "      <td>PAYMENT</td>\n",
       "      <td>11668.14</td>\n",
       "      <td>C2048537720</td>\n",
       "      <td>41554.0</td>\n",
       "      <td>29885.86</td>\n",
       "      <td>M1230701703</td>\n",
       "      <td>0.0</td>\n",
       "      <td>0.0</td>\n",
       "      <td>0</td>\n",
       "      <td>0</td>\n",
       "    </tr>\n",
       "  </tbody>\n",
       "</table>\n",
       "</div>"
      ],
      "text/plain": [
       "   step      type    amount     nameOrig  oldbalanceOrg  newbalanceOrig  \\\n",
       "0     1   PAYMENT   9839.64  C1231006815       170136.0       160296.36   \n",
       "1     1   PAYMENT   1864.28  C1666544295        21249.0        19384.72   \n",
       "2     1  TRANSFER    181.00  C1305486145          181.0            0.00   \n",
       "3     1  CASH_OUT    181.00   C840083671          181.0            0.00   \n",
       "4     1   PAYMENT  11668.14  C2048537720        41554.0        29885.86   \n",
       "\n",
       "      nameDest  oldbalanceDest  newbalanceDest  isFraud  isFlaggedFraud  \n",
       "0  M1979787155             0.0             0.0        0               0  \n",
       "1  M2044282225             0.0             0.0        0               0  \n",
       "2   C553264065             0.0             0.0        1               0  \n",
       "3    C38997010         21182.0             0.0        1               0  \n",
       "4  M1230701703             0.0             0.0        0               0  "
      ]
     },
     "execution_count": 3,
     "metadata": {},
     "output_type": "execute_result"
    }
   ],
   "source": [
    "fraud.head()"
   ]
  },
  {
   "cell_type": "code",
   "execution_count": 4,
   "id": "c1428cd0",
   "metadata": {},
   "outputs": [
    {
     "data": {
      "text/plain": [
       "CASH_OUT    2237500\n",
       "PAYMENT     2151495\n",
       "CASH_IN     1399284\n",
       "TRANSFER     532909\n",
       "DEBIT         41432\n",
       "Name: type, dtype: int64"
      ]
     },
     "execution_count": 4,
     "metadata": {},
     "output_type": "execute_result"
    }
   ],
   "source": [
    "fraud['type'].value_counts()"
   ]
  },
  {
   "cell_type": "code",
   "execution_count": 5,
   "id": "fae3313f",
   "metadata": {},
   "outputs": [
    {
     "data": {
      "text/plain": [
       "19     51352\n",
       "18     49579\n",
       "187    49083\n",
       "235    47491\n",
       "307    46968\n",
       "       ...  \n",
       "432        4\n",
       "706        4\n",
       "693        4\n",
       "112        2\n",
       "662        2\n",
       "Name: step, Length: 743, dtype: int64"
      ]
     },
     "execution_count": 5,
     "metadata": {},
     "output_type": "execute_result"
    }
   ],
   "source": [
    "fraud['step'].value_counts()"
   ]
  },
  {
   "cell_type": "markdown",
   "id": "b1190a47",
   "metadata": {},
   "source": [
    "create new features to calculate the difference in balance between before and after the transaction"
   ]
  },
  {
   "cell_type": "code",
   "execution_count": 6,
   "id": "18778622",
   "metadata": {},
   "outputs": [],
   "source": [
    "fraud['balanceOrigDiff'] = fraud['oldbalanceOrg'] - fraud['newbalanceOrig']"
   ]
  },
  {
   "cell_type": "code",
   "execution_count": 7,
   "id": "094396fe",
   "metadata": {},
   "outputs": [],
   "source": [
    "fraud['balanceDestDiff'] = fraud['newbalanceDest'] - fraud['oldbalanceDest']"
   ]
  },
  {
   "cell_type": "markdown",
   "id": "44914492",
   "metadata": {},
   "source": [
    "determine a merchant vs customer"
   ]
  },
  {
   "cell_type": "code",
   "execution_count": 8,
   "id": "933f6b1a",
   "metadata": {},
   "outputs": [],
   "source": [
    "fraud['merchantDest'] = np.where(fraud['nameDest'].str.match(r'^M.*'),1,0)\n",
    "fraud['customerDest'] = np.where(fraud['nameDest'].str.match(r'^C.*'),1,0)"
   ]
  },
  {
   "cell_type": "code",
   "execution_count": 9,
   "id": "33da776d",
   "metadata": {},
   "outputs": [
    {
     "data": {
      "text/html": [
       "<div>\n",
       "<style scoped>\n",
       "    .dataframe tbody tr th:only-of-type {\n",
       "        vertical-align: middle;\n",
       "    }\n",
       "\n",
       "    .dataframe tbody tr th {\n",
       "        vertical-align: top;\n",
       "    }\n",
       "\n",
       "    .dataframe thead th {\n",
       "        text-align: right;\n",
       "    }\n",
       "</style>\n",
       "<table border=\"1\" class=\"dataframe\">\n",
       "  <thead>\n",
       "    <tr style=\"text-align: right;\">\n",
       "      <th></th>\n",
       "      <th>step</th>\n",
       "      <th>type</th>\n",
       "      <th>amount</th>\n",
       "      <th>nameOrig</th>\n",
       "      <th>oldbalanceOrg</th>\n",
       "      <th>newbalanceOrig</th>\n",
       "      <th>nameDest</th>\n",
       "      <th>oldbalanceDest</th>\n",
       "      <th>newbalanceDest</th>\n",
       "      <th>isFraud</th>\n",
       "      <th>isFlaggedFraud</th>\n",
       "      <th>balanceOrigDiff</th>\n",
       "      <th>balanceDestDiff</th>\n",
       "      <th>merchantDest</th>\n",
       "      <th>customerDest</th>\n",
       "    </tr>\n",
       "  </thead>\n",
       "  <tbody>\n",
       "    <tr>\n",
       "      <th>0</th>\n",
       "      <td>1</td>\n",
       "      <td>PAYMENT</td>\n",
       "      <td>9839.64</td>\n",
       "      <td>C1231006815</td>\n",
       "      <td>170136.0</td>\n",
       "      <td>160296.36</td>\n",
       "      <td>M1979787155</td>\n",
       "      <td>0.0</td>\n",
       "      <td>0.0</td>\n",
       "      <td>0</td>\n",
       "      <td>0</td>\n",
       "      <td>9839.64</td>\n",
       "      <td>0.0</td>\n",
       "      <td>1</td>\n",
       "      <td>0</td>\n",
       "    </tr>\n",
       "    <tr>\n",
       "      <th>1</th>\n",
       "      <td>1</td>\n",
       "      <td>PAYMENT</td>\n",
       "      <td>1864.28</td>\n",
       "      <td>C1666544295</td>\n",
       "      <td>21249.0</td>\n",
       "      <td>19384.72</td>\n",
       "      <td>M2044282225</td>\n",
       "      <td>0.0</td>\n",
       "      <td>0.0</td>\n",
       "      <td>0</td>\n",
       "      <td>0</td>\n",
       "      <td>1864.28</td>\n",
       "      <td>0.0</td>\n",
       "      <td>1</td>\n",
       "      <td>0</td>\n",
       "    </tr>\n",
       "    <tr>\n",
       "      <th>2</th>\n",
       "      <td>1</td>\n",
       "      <td>TRANSFER</td>\n",
       "      <td>181.00</td>\n",
       "      <td>C1305486145</td>\n",
       "      <td>181.0</td>\n",
       "      <td>0.00</td>\n",
       "      <td>C553264065</td>\n",
       "      <td>0.0</td>\n",
       "      <td>0.0</td>\n",
       "      <td>1</td>\n",
       "      <td>0</td>\n",
       "      <td>181.00</td>\n",
       "      <td>0.0</td>\n",
       "      <td>0</td>\n",
       "      <td>1</td>\n",
       "    </tr>\n",
       "    <tr>\n",
       "      <th>3</th>\n",
       "      <td>1</td>\n",
       "      <td>CASH_OUT</td>\n",
       "      <td>181.00</td>\n",
       "      <td>C840083671</td>\n",
       "      <td>181.0</td>\n",
       "      <td>0.00</td>\n",
       "      <td>C38997010</td>\n",
       "      <td>21182.0</td>\n",
       "      <td>0.0</td>\n",
       "      <td>1</td>\n",
       "      <td>0</td>\n",
       "      <td>181.00</td>\n",
       "      <td>-21182.0</td>\n",
       "      <td>0</td>\n",
       "      <td>1</td>\n",
       "    </tr>\n",
       "    <tr>\n",
       "      <th>4</th>\n",
       "      <td>1</td>\n",
       "      <td>PAYMENT</td>\n",
       "      <td>11668.14</td>\n",
       "      <td>C2048537720</td>\n",
       "      <td>41554.0</td>\n",
       "      <td>29885.86</td>\n",
       "      <td>M1230701703</td>\n",
       "      <td>0.0</td>\n",
       "      <td>0.0</td>\n",
       "      <td>0</td>\n",
       "      <td>0</td>\n",
       "      <td>11668.14</td>\n",
       "      <td>0.0</td>\n",
       "      <td>1</td>\n",
       "      <td>0</td>\n",
       "    </tr>\n",
       "  </tbody>\n",
       "</table>\n",
       "</div>"
      ],
      "text/plain": [
       "   step      type    amount     nameOrig  oldbalanceOrg  newbalanceOrig  \\\n",
       "0     1   PAYMENT   9839.64  C1231006815       170136.0       160296.36   \n",
       "1     1   PAYMENT   1864.28  C1666544295        21249.0        19384.72   \n",
       "2     1  TRANSFER    181.00  C1305486145          181.0            0.00   \n",
       "3     1  CASH_OUT    181.00   C840083671          181.0            0.00   \n",
       "4     1   PAYMENT  11668.14  C2048537720        41554.0        29885.86   \n",
       "\n",
       "      nameDest  oldbalanceDest  newbalanceDest  isFraud  isFlaggedFraud  \\\n",
       "0  M1979787155             0.0             0.0        0               0   \n",
       "1  M2044282225             0.0             0.0        0               0   \n",
       "2   C553264065             0.0             0.0        1               0   \n",
       "3    C38997010         21182.0             0.0        1               0   \n",
       "4  M1230701703             0.0             0.0        0               0   \n",
       "\n",
       "   balanceOrigDiff  balanceDestDiff  merchantDest  customerDest  \n",
       "0          9839.64              0.0             1             0  \n",
       "1          1864.28              0.0             1             0  \n",
       "2           181.00              0.0             0             1  \n",
       "3           181.00         -21182.0             0             1  \n",
       "4         11668.14              0.0             1             0  "
      ]
     },
     "execution_count": 9,
     "metadata": {},
     "output_type": "execute_result"
    }
   ],
   "source": [
    "fraud.head(5)"
   ]
  },
  {
   "cell_type": "code",
   "execution_count": null,
   "id": "112a71fb",
   "metadata": {},
   "outputs": [],
   "source": []
  },
  {
   "cell_type": "markdown",
   "id": "b00ee468",
   "metadata": {},
   "source": [
    "### EDA"
   ]
  },
  {
   "cell_type": "code",
   "execution_count": 10,
   "id": "4251fa05",
   "metadata": {},
   "outputs": [],
   "source": [
    "from matplotlib import pyplot as plt\n",
    "import seaborn as sns"
   ]
  },
  {
   "cell_type": "code",
   "execution_count": 11,
   "id": "6a79b598",
   "metadata": {},
   "outputs": [],
   "source": [
    "fraudT = fraud[fraud['isFraud'] == 1]\n",
    "fraudF = fraud[fraud['isFraud'] != 1]"
   ]
  },
  {
   "cell_type": "code",
   "execution_count": 12,
   "id": "247ded89",
   "metadata": {},
   "outputs": [
    {
     "name": "stdout",
     "output_type": "stream",
     "text": [
      "<class 'pandas.core.frame.DataFrame'>\n",
      "Int64Index: 8213 entries, 2 to 6362619\n",
      "Data columns (total 15 columns):\n",
      " #   Column           Non-Null Count  Dtype  \n",
      "---  ------           --------------  -----  \n",
      " 0   step             8213 non-null   int64  \n",
      " 1   type             8213 non-null   object \n",
      " 2   amount           8213 non-null   float64\n",
      " 3   nameOrig         8213 non-null   object \n",
      " 4   oldbalanceOrg    8213 non-null   float64\n",
      " 5   newbalanceOrig   8213 non-null   float64\n",
      " 6   nameDest         8213 non-null   object \n",
      " 7   oldbalanceDest   8213 non-null   float64\n",
      " 8   newbalanceDest   8213 non-null   float64\n",
      " 9   isFraud          8213 non-null   int64  \n",
      " 10  isFlaggedFraud   8213 non-null   int64  \n",
      " 11  balanceOrigDiff  8213 non-null   float64\n",
      " 12  balanceDestDiff  8213 non-null   float64\n",
      " 13  merchantDest     8213 non-null   int32  \n",
      " 14  customerDest     8213 non-null   int32  \n",
      "dtypes: float64(7), int32(2), int64(3), object(3)\n",
      "memory usage: 962.5+ KB\n",
      "<class 'pandas.core.frame.DataFrame'>\n",
      "Int64Index: 6354407 entries, 0 to 6362323\n",
      "Data columns (total 15 columns):\n",
      " #   Column           Dtype  \n",
      "---  ------           -----  \n",
      " 0   step             int64  \n",
      " 1   type             object \n",
      " 2   amount           float64\n",
      " 3   nameOrig         object \n",
      " 4   oldbalanceOrg    float64\n",
      " 5   newbalanceOrig   float64\n",
      " 6   nameDest         object \n",
      " 7   oldbalanceDest   float64\n",
      " 8   newbalanceDest   float64\n",
      " 9   isFraud          int64  \n",
      " 10  isFlaggedFraud   int64  \n",
      " 11  balanceOrigDiff  float64\n",
      " 12  balanceDestDiff  float64\n",
      " 13  merchantDest     int32  \n",
      " 14  customerDest     int32  \n",
      "dtypes: float64(7), int32(2), int64(3), object(3)\n",
      "memory usage: 727.2+ MB\n"
     ]
    },
    {
     "data": {
      "text/plain": [
       "(None, None)"
      ]
     },
     "execution_count": 12,
     "metadata": {},
     "output_type": "execute_result"
    }
   ],
   "source": [
    "fraudT.info(),fraudF.info()"
   ]
  },
  {
   "cell_type": "code",
   "execution_count": 13,
   "id": "2150e8f7",
   "metadata": {
    "scrolled": false
   },
   "outputs": [
    {
     "data": {
      "image/png": "[encoded data removed]",
      "text/plain": [
       "<Figure size 1000x500 with 1 Axes>"
      ]
     },
     "metadata": {},
     "output_type": "display_data"
    },
    {
     "data": {
      "image/png": "[encoded data removed]",
      "text/plain": [
       "<Figure size 1000x500 with 1 Axes>"
      ]
     },
     "metadata": {},
     "output_type": "display_data"
    }
   ],
   "source": [
    "plt.figure(1,figsize=(10,5))\n",
    "sns.histplot(data=fraudT,x='balanceOrigDiff',bins=35)\n",
    "plt.ticklabel_format(style='plain',axis='both')\n",
    "plt.title('Fraudulent transfer amounts')\n",
    "plt.show()\n",
    "\n",
    "plt.figure(2,figsize=(10,5))\n",
    "sns.histplot(data=fraudF,x='balanceOrigDiff',bins=35)\n",
    "plt.ticklabel_format(style='plain',axis='both')\n",
    "plt.title('Legitimate transfer amounts')\n",
    "plt.show()\n"
   ]
  },
  {
   "cell_type": "code",
   "execution_count": 14,
   "id": "c0076fd5",
   "metadata": {},
   "outputs": [
    {
     "data": {
      "image/png": "[encoded data removed]",
      "text/plain": [
       "<Figure size 1000x500 with 1 Axes>"
      ]
     },
     "metadata": {},
     "output_type": "display_data"
    },
    {
     "data": {
      "image/png": "[encoded data removed]",
      "text/plain": [
       "<Figure size 1000x500 with 1 Axes>"
      ]
     },
     "metadata": {},
     "output_type": "display_data"
    }
   ],
   "source": [
    "fraudT_balance = fraudT[fraudT['balanceOrigDiff'] < 2000000].copy()\n",
    "fraudF_balance = fraudF[(fraudF['balanceOrigDiff'] < 50000) & (fraudF['balanceOrigDiff'] > -50000) & (fraudF['balanceOrigDiff'] != 0)].copy()\n",
    "\n",
    "plt.figure(1,figsize=(10,5))\n",
    "sns.histplot(data=fraudT_balance,x='balanceOrigDiff',bins=35)\n",
    "plt.ticklabel_format(style='plain',axis='both')\n",
    "plt.title('Adjusted Fraudulent transfer amounts (outliers removed)')\n",
    "plt.show()\n",
    "\n",
    "plt.figure(2,figsize=(10,5))\n",
    "sns.histplot(data=fraudF_balance,x='balanceOrigDiff',bins=35)\n",
    "plt.ticklabel_format(style='plain',axis='both')\n",
    "plt.title('Adjusted Legitimate transfer amounts (outliers removed)')\n",
    "plt.show()"
   ]
  },
  {
   "cell_type": "code",
   "execution_count": 15,
   "id": "73fd51bd",
   "metadata": {
    "scrolled": false
   },
   "outputs": [
    {
     "data": {
      "text/plain": [
       "<Figure size 640x480 with 0 Axes>"
      ]
     },
     "metadata": {},
     "output_type": "display_data"
    },
    {
     "data": {
      "image/png": "[encoded data removed]",
      "text/plain": [
       "<Figure size 500x500 with 1 Axes>"
      ]
     },
     "metadata": {},
     "output_type": "display_data"
    },
    {
     "data": {
      "text/plain": [
       "<Figure size 640x480 with 0 Axes>"
      ]
     },
     "metadata": {},
     "output_type": "display_data"
    },
    {
     "data": {
      "image/png": "[encoded data removed]",
      "text/plain": [
       "<Figure size 500x500 with 1 Axes>"
      ]
     },
     "metadata": {},
     "output_type": "display_data"
    }
   ],
   "source": [
    "plt.figure(1)\n",
    "sns.catplot(data=fraudT,x='merchantDest',kind='count')\n",
    "plt.title('Fraudulent Merchant transfers')\n",
    "plt.xticks([0,1],['Customer','Merchant'])\n",
    "plt.show()\n",
    "\n",
    "plt.figure(2)\n",
    "sns.catplot(data=fraudF,x='merchantDest',kind='count')\n",
    "plt.title('Legitimate Merchant Transfers')\n",
    "plt.xticks([0,1],['Customer','Merchant'])\n",
    "plt.show()"
   ]
  },
  {
   "cell_type": "code",
   "execution_count": 16,
   "id": "d9b0f5cc",
   "metadata": {},
   "outputs": [
    {
     "data": {
      "text/plain": [
       "<Figure size 640x480 with 0 Axes>"
      ]
     },
     "metadata": {},
     "output_type": "display_data"
    },
    {
     "data": {
      "image/png": "[encoded data removed]",
      "text/plain": [
       "<Figure size 500x500 with 1 Axes>"
      ]
     },
     "metadata": {},
     "output_type": "display_data"
    },
    {
     "data": {
      "text/plain": [
       "<Figure size 640x480 with 0 Axes>"
      ]
     },
     "metadata": {},
     "output_type": "display_data"
    },
    {
     "data": {
      "image/png": "[encoded data removed]",
      "text/plain": [
       "<Figure size 500x500 with 1 Axes>"
      ]
     },
     "metadata": {},
     "output_type": "display_data"
    }
   ],
   "source": [
    "plt.figure(1)\n",
    "sns.catplot(data=fraudT,x='type',kind='count')\n",
    "plt.title('Fraudulent transfer types')\n",
    "plt.show()\n",
    "\n",
    "plt.figure(2)\n",
    "sns.catplot(data=fraudF,x='type',kind='count')\n",
    "plt.title('Legitimate transfer types')\n",
    "plt.show()"
   ]
  },
  {
   "cell_type": "markdown",
   "id": "08b9f012",
   "metadata": {},
   "source": [
    "### Model Building"
   ]
  },
  {
   "cell_type": "markdown",
   "id": "88cf59d4",
   "metadata": {},
   "source": [
    "first pass is not removing any outliers to see how models handle it, then we will try removing some outliers to see what the differences are"
   ]
  },
  {
   "cell_type": "code",
   "execution_count": 17,
   "id": "7bd29e27",
   "metadata": {},
   "outputs": [
    {
     "data": {
      "text/html": [
       "<div>\n",
       "<style scoped>\n",
       "    .dataframe tbody tr th:only-of-type {\n",
       "        vertical-align: middle;\n",
       "    }\n",
       "\n",
       "    .dataframe tbody tr th {\n",
       "        vertical-align: top;\n",
       "    }\n",
       "\n",
       "    .dataframe thead th {\n",
       "        text-align: right;\n",
       "    }\n",
       "</style>\n",
       "<table border=\"1\" class=\"dataframe\">\n",
       "  <thead>\n",
       "    <tr style=\"text-align: right;\">\n",
       "      <th></th>\n",
       "      <th>step</th>\n",
       "      <th>type</th>\n",
       "      <th>amount</th>\n",
       "      <th>nameOrig</th>\n",
       "      <th>oldbalanceOrg</th>\n",
       "      <th>newbalanceOrig</th>\n",
       "      <th>nameDest</th>\n",
       "      <th>oldbalanceDest</th>\n",
       "      <th>newbalanceDest</th>\n",
       "      <th>isFraud</th>\n",
       "      <th>isFlaggedFraud</th>\n",
       "      <th>balanceOrigDiff</th>\n",
       "      <th>balanceDestDiff</th>\n",
       "      <th>merchantDest</th>\n",
       "      <th>customerDest</th>\n",
       "    </tr>\n",
       "  </thead>\n",
       "  <tbody>\n",
       "    <tr>\n",
       "      <th>0</th>\n",
       "      <td>1</td>\n",
       "      <td>PAYMENT</td>\n",
       "      <td>9839.64</td>\n",
       "      <td>C1231006815</td>\n",
       "      <td>170136.0</td>\n",
       "      <td>160296.36</td>\n",
       "      <td>M1979787155</td>\n",
       "      <td>0.0</td>\n",
       "      <td>0.0</td>\n",
       "      <td>0</td>\n",
       "      <td>0</td>\n",
       "      <td>9839.64</td>\n",
       "      <td>0.0</td>\n",
       "      <td>1</td>\n",
       "      <td>0</td>\n",
       "    </tr>\n",
       "    <tr>\n",
       "      <th>1</th>\n",
       "      <td>1</td>\n",
       "      <td>PAYMENT</td>\n",
       "      <td>1864.28</td>\n",
       "      <td>C1666544295</td>\n",
       "      <td>21249.0</td>\n",
       "      <td>19384.72</td>\n",
       "      <td>M2044282225</td>\n",
       "      <td>0.0</td>\n",
       "      <td>0.0</td>\n",
       "      <td>0</td>\n",
       "      <td>0</td>\n",
       "      <td>1864.28</td>\n",
       "      <td>0.0</td>\n",
       "      <td>1</td>\n",
       "      <td>0</td>\n",
       "    </tr>\n",
       "    <tr>\n",
       "      <th>2</th>\n",
       "      <td>1</td>\n",
       "      <td>TRANSFER</td>\n",
       "      <td>181.00</td>\n",
       "      <td>C1305486145</td>\n",
       "      <td>181.0</td>\n",
       "      <td>0.00</td>\n",
       "      <td>C553264065</td>\n",
       "      <td>0.0</td>\n",
       "      <td>0.0</td>\n",
       "      <td>1</td>\n",
       "      <td>0</td>\n",
       "      <td>181.00</td>\n",
       "      <td>0.0</td>\n",
       "      <td>0</td>\n",
       "      <td>1</td>\n",
       "    </tr>\n",
       "    <tr>\n",
       "      <th>3</th>\n",
       "      <td>1</td>\n",
       "      <td>CASH_OUT</td>\n",
       "      <td>181.00</td>\n",
       "      <td>C840083671</td>\n",
       "      <td>181.0</td>\n",
       "      <td>0.00</td>\n",
       "      <td>C38997010</td>\n",
       "      <td>21182.0</td>\n",
       "      <td>0.0</td>\n",
       "      <td>1</td>\n",
       "      <td>0</td>\n",
       "      <td>181.00</td>\n",
       "      <td>-21182.0</td>\n",
       "      <td>0</td>\n",
       "      <td>1</td>\n",
       "    </tr>\n",
       "    <tr>\n",
       "      <th>4</th>\n",
       "      <td>1</td>\n",
       "      <td>PAYMENT</td>\n",
       "      <td>11668.14</td>\n",
       "      <td>C2048537720</td>\n",
       "      <td>41554.0</td>\n",
       "      <td>29885.86</td>\n",
       "      <td>M1230701703</td>\n",
       "      <td>0.0</td>\n",
       "      <td>0.0</td>\n",
       "      <td>0</td>\n",
       "      <td>0</td>\n",
       "      <td>11668.14</td>\n",
       "      <td>0.0</td>\n",
       "      <td>1</td>\n",
       "      <td>0</td>\n",
       "    </tr>\n",
       "  </tbody>\n",
       "</table>\n",
       "</div>"
      ],
      "text/plain": [
       "   step      type    amount     nameOrig  oldbalanceOrg  newbalanceOrig  \\\n",
       "0     1   PAYMENT   9839.64  C1231006815       170136.0       160296.36   \n",
       "1     1   PAYMENT   1864.28  C1666544295        21249.0        19384.72   \n",
       "2     1  TRANSFER    181.00  C1305486145          181.0            0.00   \n",
       "3     1  CASH_OUT    181.00   C840083671          181.0            0.00   \n",
       "4     1   PAYMENT  11668.14  C2048537720        41554.0        29885.86   \n",
       "\n",
       "      nameDest  oldbalanceDest  newbalanceDest  isFraud  isFlaggedFraud  \\\n",
       "0  M1979787155             0.0             0.0        0               0   \n",
       "1  M2044282225             0.0             0.0        0               0   \n",
       "2   C553264065             0.0             0.0        1               0   \n",
       "3    C38997010         21182.0             0.0        1               0   \n",
       "4  M1230701703             0.0             0.0        0               0   \n",
       "\n",
       "   balanceOrigDiff  balanceDestDiff  merchantDest  customerDest  \n",
       "0          9839.64              0.0             1             0  \n",
       "1          1864.28              0.0             1             0  \n",
       "2           181.00              0.0             0             1  \n",
       "3           181.00         -21182.0             0             1  \n",
       "4         11668.14              0.0             1             0  "
      ]
     },
     "execution_count": 17,
     "metadata": {},
     "output_type": "execute_result"
    }
   ],
   "source": [
    "fraud.head()"
   ]
  },
  {
   "cell_type": "code",
   "execution_count": 18,
   "id": "123b9881",
   "metadata": {},
   "outputs": [],
   "source": [
    "fraud2 = fraud.drop(columns=['step','nameOrig','nameDest'])"
   ]
  },
  {
   "cell_type": "code",
   "execution_count": 19,
   "id": "eba80ff3",
   "metadata": {},
   "outputs": [
    {
     "data": {
      "text/html": [
       "<div>\n",
       "<style scoped>\n",
       "    .dataframe tbody tr th:only-of-type {\n",
       "        vertical-align: middle;\n",
       "    }\n",
       "\n",
       "    .dataframe tbody tr th {\n",
       "        vertical-align: top;\n",
       "    }\n",
       "\n",
       "    .dataframe thead th {\n",
       "        text-align: right;\n",
       "    }\n",
       "</style>\n",
       "<table border=\"1\" class=\"dataframe\">\n",
       "  <thead>\n",
       "    <tr style=\"text-align: right;\">\n",
       "      <th></th>\n",
       "      <th>amount</th>\n",
       "      <th>oldbalanceOrg</th>\n",
       "      <th>newbalanceOrig</th>\n",
       "      <th>oldbalanceDest</th>\n",
       "      <th>newbalanceDest</th>\n",
       "      <th>isFraud</th>\n",
       "      <th>isFlaggedFraud</th>\n",
       "      <th>balanceOrigDiff</th>\n",
       "      <th>balanceDestDiff</th>\n",
       "      <th>merchantDest</th>\n",
       "      <th>customerDest</th>\n",
       "      <th>type_CASH_IN</th>\n",
       "      <th>type_CASH_OUT</th>\n",
       "      <th>type_DEBIT</th>\n",
       "      <th>type_PAYMENT</th>\n",
       "      <th>type_TRANSFER</th>\n",
       "    </tr>\n",
       "  </thead>\n",
       "  <tbody>\n",
       "    <tr>\n",
       "      <th>0</th>\n",
       "      <td>9839.64</td>\n",
       "      <td>170136.00</td>\n",
       "      <td>160296.36</td>\n",
       "      <td>0.00</td>\n",
       "      <td>0.00</td>\n",
       "      <td>0</td>\n",
       "      <td>0</td>\n",
       "      <td>9839.64</td>\n",
       "      <td>0.00</td>\n",
       "      <td>1</td>\n",
       "      <td>0</td>\n",
       "      <td>0</td>\n",
       "      <td>0</td>\n",
       "      <td>0</td>\n",
       "      <td>1</td>\n",
       "      <td>0</td>\n",
       "    </tr>\n",
       "    <tr>\n",
       "      <th>1</th>\n",
       "      <td>1864.28</td>\n",
       "      <td>21249.00</td>\n",
       "      <td>19384.72</td>\n",
       "      <td>0.00</td>\n",
       "      <td>0.00</td>\n",
       "      <td>0</td>\n",
       "      <td>0</td>\n",
       "      <td>1864.28</td>\n",
       "      <td>0.00</td>\n",
       "      <td>1</td>\n",
       "      <td>0</td>\n",
       "      <td>0</td>\n",
       "      <td>0</td>\n",
       "      <td>0</td>\n",
       "      <td>1</td>\n",
       "      <td>0</td>\n",
       "    </tr>\n",
       "    <tr>\n",
       "      <th>2</th>\n",
       "      <td>181.00</td>\n",
       "      <td>181.00</td>\n",
       "      <td>0.00</td>\n",
       "      <td>0.00</td>\n",
       "      <td>0.00</td>\n",
       "      <td>1</td>\n",
       "      <td>0</td>\n",
       "      <td>181.00</td>\n",
       "      <td>0.00</td>\n",
       "      <td>0</td>\n",
       "      <td>1</td>\n",
       "      <td>0</td>\n",
       "      <td>0</td>\n",
       "      <td>0</td>\n",
       "      <td>0</td>\n",
       "      <td>1</td>\n",
       "    </tr>\n",
       "    <tr>\n",
       "      <th>3</th>\n",
       "      <td>181.00</td>\n",
       "      <td>181.00</td>\n",
       "      <td>0.00</td>\n",
       "      <td>21182.00</td>\n",
       "      <td>0.00</td>\n",
       "      <td>1</td>\n",
       "      <td>0</td>\n",
       "      <td>181.00</td>\n",
       "      <td>-21182.00</td>\n",
       "      <td>0</td>\n",
       "      <td>1</td>\n",
       "      <td>0</td>\n",
       "      <td>1</td>\n",
       "      <td>0</td>\n",
       "      <td>0</td>\n",
       "      <td>0</td>\n",
       "    </tr>\n",
       "    <tr>\n",
       "      <th>4</th>\n",
       "      <td>11668.14</td>\n",
       "      <td>41554.00</td>\n",
       "      <td>29885.86</td>\n",
       "      <td>0.00</td>\n",
       "      <td>0.00</td>\n",
       "      <td>0</td>\n",
       "      <td>0</td>\n",
       "      <td>11668.14</td>\n",
       "      <td>0.00</td>\n",
       "      <td>1</td>\n",
       "      <td>0</td>\n",
       "      <td>0</td>\n",
       "      <td>0</td>\n",
       "      <td>0</td>\n",
       "      <td>1</td>\n",
       "      <td>0</td>\n",
       "    </tr>\n",
       "    <tr>\n",
       "      <th>...</th>\n",
       "      <td>...</td>\n",
       "      <td>...</td>\n",
       "      <td>...</td>\n",
       "      <td>...</td>\n",
       "      <td>...</td>\n",
       "      <td>...</td>\n",
       "      <td>...</td>\n",
       "      <td>...</td>\n",
       "      <td>...</td>\n",
       "      <td>...</td>\n",
       "      <td>...</td>\n",
       "      <td>...</td>\n",
       "      <td>...</td>\n",
       "      <td>...</td>\n",
       "      <td>...</td>\n",
       "      <td>...</td>\n",
       "    </tr>\n",
       "    <tr>\n",
       "      <th>6362615</th>\n",
       "      <td>339682.13</td>\n",
       "      <td>339682.13</td>\n",
       "      <td>0.00</td>\n",
       "      <td>0.00</td>\n",
       "      <td>339682.13</td>\n",
       "      <td>1</td>\n",
       "      <td>0</td>\n",
       "      <td>339682.13</td>\n",
       "      <td>339682.13</td>\n",
       "      <td>0</td>\n",
       "      <td>1</td>\n",
       "      <td>0</td>\n",
       "      <td>1</td>\n",
       "      <td>0</td>\n",
       "      <td>0</td>\n",
       "      <td>0</td>\n",
       "    </tr>\n",
       "    <tr>\n",
       "      <th>6362616</th>\n",
       "      <td>6311409.28</td>\n",
       "      <td>6311409.28</td>\n",
       "      <td>0.00</td>\n",
       "      <td>0.00</td>\n",
       "      <td>0.00</td>\n",
       "      <td>1</td>\n",
       "      <td>0</td>\n",
       "      <td>6311409.28</td>\n",
       "      <td>0.00</td>\n",
       "      <td>0</td>\n",
       "      <td>1</td>\n",
       "      <td>0</td>\n",
       "      <td>0</td>\n",
       "      <td>0</td>\n",
       "      <td>0</td>\n",
       "      <td>1</td>\n",
       "    </tr>\n",
       "    <tr>\n",
       "      <th>6362617</th>\n",
       "      <td>6311409.28</td>\n",
       "      <td>6311409.28</td>\n",
       "      <td>0.00</td>\n",
       "      <td>68488.84</td>\n",
       "      <td>6379898.11</td>\n",
       "      <td>1</td>\n",
       "      <td>0</td>\n",
       "      <td>6311409.28</td>\n",
       "      <td>6311409.27</td>\n",
       "      <td>0</td>\n",
       "      <td>1</td>\n",
       "      <td>0</td>\n",
       "      <td>1</td>\n",
       "      <td>0</td>\n",
       "      <td>0</td>\n",
       "      <td>0</td>\n",
       "    </tr>\n",
       "    <tr>\n",
       "      <th>6362618</th>\n",
       "      <td>850002.52</td>\n",
       "      <td>850002.52</td>\n",
       "      <td>0.00</td>\n",
       "      <td>0.00</td>\n",
       "      <td>0.00</td>\n",
       "      <td>1</td>\n",
       "      <td>0</td>\n",
       "      <td>850002.52</td>\n",
       "      <td>0.00</td>\n",
       "      <td>0</td>\n",
       "      <td>1</td>\n",
       "      <td>0</td>\n",
       "      <td>0</td>\n",
       "      <td>0</td>\n",
       "      <td>0</td>\n",
       "      <td>1</td>\n",
       "    </tr>\n",
       "    <tr>\n",
       "      <th>6362619</th>\n",
       "      <td>850002.52</td>\n",
       "      <td>850002.52</td>\n",
       "      <td>0.00</td>\n",
       "      <td>6510099.11</td>\n",
       "      <td>7360101.63</td>\n",
       "      <td>1</td>\n",
       "      <td>0</td>\n",
       "      <td>850002.52</td>\n",
       "      <td>850002.52</td>\n",
       "      <td>0</td>\n",
       "      <td>1</td>\n",
       "      <td>0</td>\n",
       "      <td>1</td>\n",
       "      <td>0</td>\n",
       "      <td>0</td>\n",
       "      <td>0</td>\n",
       "    </tr>\n",
       "  </tbody>\n",
       "</table>\n",
       "<p>6362620 rows × 16 columns</p>\n",
       "</div>"
      ],
      "text/plain": [
       "             amount  oldbalanceOrg  newbalanceOrig  oldbalanceDest  \\\n",
       "0           9839.64      170136.00       160296.36            0.00   \n",
       "1           1864.28       21249.00        19384.72            0.00   \n",
       "2            181.00         181.00            0.00            0.00   \n",
       "3            181.00         181.00            0.00        21182.00   \n",
       "4          11668.14       41554.00        29885.86            0.00   \n",
       "...             ...            ...             ...             ...   \n",
       "6362615   339682.13      339682.13            0.00            0.00   \n",
       "6362616  6311409.28     6311409.28            0.00            0.00   \n",
       "6362617  6311409.28     6311409.28            0.00        68488.84   \n",
       "6362618   850002.52      850002.52            0.00            0.00   \n",
       "6362619   850002.52      850002.52            0.00      6510099.11   \n",
       "\n",
       "         newbalanceDest  isFraud  isFlaggedFraud  balanceOrigDiff  \\\n",
       "0                  0.00        0               0          9839.64   \n",
       "1                  0.00        0               0          1864.28   \n",
       "2                  0.00        1               0           181.00   \n",
       "3                  0.00        1               0           181.00   \n",
       "4                  0.00        0               0         11668.14   \n",
       "...                 ...      ...             ...              ...   \n",
       "6362615       339682.13        1               0        339682.13   \n",
       "6362616            0.00        1               0       6311409.28   \n",
       "6362617      6379898.11        1               0       6311409.28   \n",
       "6362618            0.00        1               0        850002.52   \n",
       "6362619      7360101.63        1               0        850002.52   \n",
       "\n",
       "         balanceDestDiff  merchantDest  customerDest  type_CASH_IN  \\\n",
       "0                   0.00             1             0             0   \n",
       "1                   0.00             1             0             0   \n",
       "2                   0.00             0             1             0   \n",
       "3              -21182.00             0             1             0   \n",
       "4                   0.00             1             0             0   \n",
       "...                  ...           ...           ...           ...   \n",
       "6362615        339682.13             0             1             0   \n",
       "6362616             0.00             0             1             0   \n",
       "6362617       6311409.27             0             1             0   \n",
       "6362618             0.00             0             1             0   \n",
       "6362619        850002.52             0             1             0   \n",
       "\n",
       "         type_CASH_OUT  type_DEBIT  type_PAYMENT  type_TRANSFER  \n",
       "0                    0           0             1              0  \n",
       "1                    0           0             1              0  \n",
       "2                    0           0             0              1  \n",
       "3                    1           0             0              0  \n",
       "4                    0           0             1              0  \n",
       "...                ...         ...           ...            ...  \n",
       "6362615              1           0             0              0  \n",
       "6362616              0           0             0              1  \n",
       "6362617              1           0             0              0  \n",
       "6362618              0           0             0              1  \n",
       "6362619              1           0             0              0  \n",
       "\n",
       "[6362620 rows x 16 columns]"
      ]
     },
     "execution_count": 19,
     "metadata": {},
     "output_type": "execute_result"
    }
   ],
   "source": [
    "fraud3 = pd.get_dummies(fraud2,columns=['type'])\n",
    "fraud3"
   ]
  },
  {
   "cell_type": "markdown",
   "id": "ad66111d",
   "metadata": {},
   "source": [
    "handling outliers in the transfer amount using IQR"
   ]
  },
  {
   "cell_type": "code",
   "execution_count": 20,
   "id": "e9bb01b4",
   "metadata": {},
   "outputs": [
    {
     "data": {
      "text/plain": [
       "0     9839.64\n",
       "1     1864.28\n",
       "2      181.00\n",
       "3      181.00\n",
       "4    11668.14\n",
       "Name: balanceOrigDiff, dtype: float64"
      ]
     },
     "execution_count": 20,
     "metadata": {},
     "output_type": "execute_result"
    }
   ],
   "source": [
    "balance = fraud3['balanceOrigDiff'].copy()\n",
    "balance.head()"
   ]
  },
  {
   "cell_type": "code",
   "execution_count": 24,
   "id": "90a81721",
   "metadata": {},
   "outputs": [],
   "source": [
    "# Interquartile Range (IQR)\n",
    "\n",
    "# Calculate the first quartile (Q1)—25% of the data is below this value.\n",
    "# Calculate the third quartile (Q3)—75% of the data is below this value.\n",
    "# Find the IQR: IQR=Q3−Q1\n",
    "# Outliers are points outside this range: Lower Bound=Q1−1.5×IQR, Upper Bound=Q3+1.5×IQR\n",
    "\n",
    "def detect_outliers_iqr(data):\n",
    "    q1 = np.percentile(data, 25)\n",
    "    print(q1)\n",
    "    q3 = np.percentile(data, 75)\n",
    "    print(q3)\n",
    "    iqr = q3 - q1\n",
    "    print(iqr)\n",
    "    lower_bound = q1 - 1.5 * iqr\n",
    "    print(lower_bound)\n",
    "    upper_bound = q3 + 1.5 * iqr\n",
    "    print(upper_bound)\n",
    "    outlier_indices = np.where((data > upper_bound)|(data < lower_bound))\n",
    "    outlier_values = data.iloc[outlier_indices]\n",
    "    return outlier_indices[0], outlier_values\n",
    "\n",
    "# indices, values = detect_outliers_iqr(fraud3['balanceOrigDiff'])\n",
    "# print(\"IQR Outliers (Index, Value):\")\n",
    "# for idx, val in zip(indices, values):\n",
    "    # print(f\"Index: {idx}, Value: {val}\")\n",
    "    \n",
    "# Pros: Robust to skewed data and outliers in non-normal distributions\n",
    "# Cons: Assumes 1.5×IQR as a threshold, which may not always be the right thing to do"
   ]
  },
  {
   "cell_type": "code",
   "execution_count": 25,
   "id": "0411cda8",
   "metadata": {
    "scrolled": true
   },
   "outputs": [],
   "source": [
    "# len(indices)"
   ]
  },
  {
   "cell_type": "markdown",
   "id": "c1f4d783",
   "metadata": {},
   "source": [
    "the above function created a very large print statement that was too big and made the file too big, long story short the data had somewhere around 2 million outliers from this function and it was a bit too much to drop them all in favor of removing outliers"
   ]
  },
  {
   "cell_type": "markdown",
   "id": "23241177",
   "metadata": {},
   "source": [
    "there are about 2m outliers in 6m rows, is that too much to remove or edit for the sake of outliers? will run the model as is then without to find differences"
   ]
  },
  {
   "cell_type": "code",
   "execution_count": 26,
   "id": "0b18d484",
   "metadata": {},
   "outputs": [],
   "source": [
    "# the data is too big to test models on, so creating a sample of the data to train on and see if that helps with compute\n",
    "\n",
    "fraud4 = fraud3.sample(n=8000)"
   ]
  },
  {
   "cell_type": "code",
   "execution_count": 27,
   "id": "f61fc9a0",
   "metadata": {},
   "outputs": [],
   "source": [
    "from sklearn.model_selection import train_test_split\n",
    "# split data into training and test sets\n",
    "# set 4 variables, features train/test, target train/test. make sure the features are in a matrix. Test size is 20%, and random state just sets a seed for reproductability\n",
    "\n",
    "feat = fraud4.drop(columns = 'isFraud')\n",
    "feat_train, feat_test, target_train, target_test = train_test_split(feat, fraud4['isFraud'], test_size=0.2, random_state = 33)"
   ]
  },
  {
   "cell_type": "code",
   "execution_count": 28,
   "id": "8b59c2ed",
   "metadata": {},
   "outputs": [],
   "source": [
    "# scaler using robust scaler instead of standard scaler to handle the skewness of the data and the outliers\n",
    "\n",
    "from sklearn.preprocessing import RobustScaler\n",
    "\n",
    "# standardize the feature matrix\n",
    "\n",
    "scaler = RobustScaler()\n",
    "\n",
    "standfeat_train = scaler.fit_transform(feat_train)\n",
    "standfeat_test = scaler.transform(feat_test)"
   ]
  },
  {
   "cell_type": "code",
   "execution_count": 30,
   "id": "dd9755d0",
   "metadata": {},
   "outputs": [
    {
     "name": "stdout",
     "output_type": "stream",
     "text": [
      "original features: 15\n",
      "reduced features: 3\n"
     ]
    }
   ],
   "source": [
    "from sklearn.decomposition import PCA\n",
    "\n",
    "# make PCA retain 98% of the variance of the original\n",
    "pca = PCA(n_components = 0.98, whiten=True)\n",
    "\n",
    "pcafeat_train = pca.fit_transform(standfeat_train)\n",
    "pcafeat_test = pca.transform(standfeat_test)\n",
    "\n",
    "print('original features:', standfeat_train.shape[1])\n",
    "print('reduced features:', pcafeat_train.shape[1])"
   ]
  },
  {
   "cell_type": "code",
   "execution_count": 31,
   "id": "b8187e52",
   "metadata": {},
   "outputs": [],
   "source": [
    "from sklearn.model_selection import GridSearchCV\n",
    "# flip through models to select one (if it doesnt take too long)\n",
    "\n",
    "from sklearn.svm import SVC\n",
    "from sklearn.ensemble import RandomForestClassifier\n",
    "from sklearn.linear_model import LogisticRegression\n",
    "from sklearn.neighbors import KNeighborsClassifier\n",
    "# standard classification models"
   ]
  },
  {
   "cell_type": "code",
   "execution_count": 43,
   "id": "95d677b1",
   "metadata": {},
   "outputs": [],
   "source": [
    "model_param1 = {\n",
    "    'svc':{\n",
    "        'model': SVC(),\n",
    "        'params':{\n",
    "            'C':[1,2,4],\n",
    "            'kernel':['linear','poly','sigmoid']\n",
    "        }\n",
    "    },\n",
    "    'randfor':{\n",
    "        'model': RandomForestClassifier(),\n",
    "        'params':{\n",
    "            'n_estimators':[10,50,100,200]\n",
    "        }\n",
    "    },\n",
    "    'knn':{\n",
    "        'model': KNeighborsClassifier(),\n",
    "        'params':{\n",
    "            'n_neighbors':[2,5,8,10],\n",
    "            'algorithm':['ball_tree','kd_tree','auto']\n",
    "        }\n",
    "    },\n",
    "    'logreg':{\n",
    "        'model': LogisticRegression(),\n",
    "        'params':{\n",
    "            'penalty':['l1','l2']\n",
    "        }\n",
    "    }\n",
    "}\n",
    "model_param2 = {\n",
    "    'randfor':{\n",
    "        'model': RandomForestClassifier(),\n",
    "        'params':{\n",
    "            'n_estimators':[10,50]\n",
    "        }\n",
    "    },\n",
    "    'knn':{\n",
    "        'model': KNeighborsClassifier(),\n",
    "        'params':{\n",
    "            'n_neighbors':[2,5,8,10],\n",
    "            'algorithm':['ball_tree','kd_tree','auto']\n",
    "        }\n",
    "    },\n",
    "    'logreg':{\n",
    "        'model': LogisticRegression(),\n",
    "        'params':{\n",
    "            'penalty':['l1','l2']\n",
    "        }\n",
    "    }\n",
    "}"
   ]
  },
  {
   "cell_type": "code",
   "execution_count": 44,
   "id": "b8a736e7",
   "metadata": {},
   "outputs": [
    {
     "name": "stderr",
     "output_type": "stream",
     "text": [
      "F:\\data science\\Anaconda\\lib\\site-packages\\sklearn\\model_selection\\_validation.py:378: FitFailedWarning: \n",
      "5 fits failed out of a total of 10.\n",
      "The score on these train-test partitions for these parameters will be set to nan.\n",
      "If these failures are not expected, you can try to debug them by setting error_score='raise'.\n",
      "\n",
      "Below are more details about the failures:\n",
      "--------------------------------------------------------------------------------\n",
      "5 fits failed with the following error:\n",
      "Traceback (most recent call last):\n",
      "  File \"F:\\data science\\Anaconda\\lib\\site-packages\\sklearn\\model_selection\\_validation.py\", line 686, in _fit_and_score\n",
      "    estimator.fit(X_train, y_train, **fit_params)\n",
      "  File \"F:\\data science\\Anaconda\\lib\\site-packages\\sklearn\\linear_model\\_logistic.py\", line 1162, in fit\n",
      "    solver = _check_solver(self.solver, self.penalty, self.dual)\n",
      "  File \"F:\\data science\\Anaconda\\lib\\site-packages\\sklearn\\linear_model\\_logistic.py\", line 54, in _check_solver\n",
      "    raise ValueError(\n",
      "ValueError: Solver lbfgs supports only 'l2' or 'none' penalties, got l1 penalty.\n",
      "\n",
      "  warnings.warn(some_fits_failed_message, FitFailedWarning)\n",
      "F:\\data science\\Anaconda\\lib\\site-packages\\sklearn\\model_selection\\_search.py:952: UserWarning: One or more of the test scores are non-finite: [    nan 0.99875]\n",
      "  warnings.warn(\n"
     ]
    }
   ],
   "source": [
    "# this code is built to loop through the dictionary built previously and try different models and parameters to see which performs best\n",
    "\n",
    "scores = []\n",
    "\n",
    "for model_name, mp in model_param1.items():\n",
    "    search = GridSearchCV(mp['model'],mp['params'], cv=5)\n",
    "    search.fit(pcafeat_train, target_train)\n",
    "    scores.append({\n",
    "        'model': model_name,\n",
    "        'best_score': search.best_score_,\n",
    "        'best_params': search.best_params_\n",
    "    })"
   ]
  },
  {
   "cell_type": "code",
   "execution_count": 46,
   "id": "18cf010d",
   "metadata": {},
   "outputs": [
    {
     "data": {
      "text/plain": [
       "[{'model': 'svc',\n",
       "  'best_score': 0.9990625,\n",
       "  'best_params': {'C': 1, 'kernel': 'linear'}},\n",
       " {'model': 'randfor',\n",
       "  'best_score': 0.9989062499999999,\n",
       "  'best_params': {'n_estimators': 10}},\n",
       " {'model': 'knn',\n",
       "  'best_score': 0.99875,\n",
       "  'best_params': {'algorithm': 'ball_tree', 'n_neighbors': 8}},\n",
       " {'model': 'logreg',\n",
       "  'best_score': 0.9987499999999999,\n",
       "  'best_params': {'penalty': 'l2'}}]"
      ]
     },
     "execution_count": 46,
     "metadata": {},
     "output_type": "execute_result"
    }
   ],
   "source": [
    "scores"
   ]
  },
  {
   "cell_type": "markdown",
   "id": "b4ffba19",
   "metadata": {},
   "source": [
    "svc is the best model, by a small margin, so going with that for the training"
   ]
  },
  {
   "cell_type": "code",
   "execution_count": 48,
   "id": "a1a69045",
   "metadata": {},
   "outputs": [],
   "source": [
    "svc = SVC(C=1,kernel='linear')\n",
    "model = svc.fit(pcafeat_train,target_train)"
   ]
  },
  {
   "cell_type": "code",
   "execution_count": 50,
   "id": "8e0d7110",
   "metadata": {},
   "outputs": [],
   "source": [
    "target_pred = svc.predict(pcafeat_test)"
   ]
  },
  {
   "cell_type": "code",
   "execution_count": 52,
   "id": "a585a638",
   "metadata": {},
   "outputs": [
    {
     "data": {
      "text/plain": [
       "0.99875"
      ]
     },
     "execution_count": 52,
     "metadata": {},
     "output_type": "execute_result"
    }
   ],
   "source": [
    "from sklearn import metrics\n",
    "\n",
    "accuracy = metrics.accuracy_score(target_test,target_pred)\n",
    "accuracy"
   ]
  },
  {
   "cell_type": "markdown",
   "id": "dc141f84",
   "metadata": {},
   "source": [
    "Apply model on full dataset"
   ]
  },
  {
   "cell_type": "code",
   "execution_count": 60,
   "id": "3685fbf4",
   "metadata": {},
   "outputs": [],
   "source": [
    "feat2 = fraud3.drop(columns = 'isFraud')\n",
    "feat_train2, feat_test2, target_train2, target_test2 = train_test_split(feat2, fraud3['isFraud'], test_size=0.2, random_state = 33)"
   ]
  },
  {
   "cell_type": "code",
   "execution_count": null,
   "id": "ce2eac32",
   "metadata": {},
   "outputs": [],
   "source": [
    "standfeat_train2 = scaler.fit_transform(feat_train2)\n",
    "standfeat_test2 = scaler.transform(feat_test2)\n",
    "\n",
    "pcafeat_train2 = pca.fit_transform(standfeat_train2)\n",
    "pcafeat_test2 = pca.transform(standfeat_test2)\n",
    "\n",
    "model2 = svc.fit(pcafeat_train2,target_train2)"
   ]
  },
  {
   "cell_type": "code",
   "execution_count": null,
   "id": "4cc7ec77",
   "metadata": {},
   "outputs": [],
   "source": [
    "target_pred = svc.predict(pcafeat_test2)\n",
    "\n",
    "accuracy = metrics.accuracy_score(target_test,target_pred)\n",
    "accuracy"
   ]
  },
  {
   "cell_type": "code",
   "execution_count": null,
   "id": "1d97d3fa",
   "metadata": {},
   "outputs": [],
   "source": []
  },
  {
   "cell_type": "code",
   "execution_count": null,
   "id": "8087a9f6",
   "metadata": {},
   "outputs": [],
   "source": []
  },
  {
   "cell_type": "code",
   "execution_count": null,
   "id": "97bbdcbb",
   "metadata": {},
   "outputs": [],
   "source": []
  }
 ],
 "metadata": {
  "kernelspec": {
   "display_name": "Python 3 (ipykernel)",
   "language": "python",
   "name": "python3"
  },
  "language_info": {
   "codemirror_mode": {
    "name": "ipython",
    "version": 3
   },
   "file_extension": ".py",
   "mimetype": "text/x-python",
   "name": "python",
   "nbconvert_exporter": "python",
   "pygments_lexer": "ipython3",
   "version": "3.10.9"
  }
 },
 "nbformat": 4,
 "nbformat_minor": 5
}
